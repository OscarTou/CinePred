{
 "cells": [
  {
   "cell_type": "code",
   "execution_count": 5,
   "id": "68efd097",
   "metadata": {},
   "outputs": [
    {
     "name": "stdout",
     "output_type": "stream",
     "text": [
      "The autoreload extension is already loaded. To reload it, use:\n",
      "  %reload_ext autoreload\n"
     ]
    }
   ],
   "source": [
    "%load_ext autoreload\n",
    "%autoreload 2"
   ]
  },
  {
   "cell_type": "code",
   "execution_count": 81,
   "id": "54b5c140",
   "metadata": {},
   "outputs": [],
   "source": [
    "from CinePred.new_model import *\n",
    "from CinePred.data.preprocessing import *\n",
    "from CinePred.data.importing import import_data\n",
    "from CinePred.data.featuring import add_inflation"
   ]
  },
  {
   "cell_type": "code",
   "execution_count": 82,
   "id": "5da79903",
   "metadata": {},
   "outputs": [],
   "source": [
    "df = import_data('../raw_data/IMDb movies.csv')"
   ]
  },
  {
   "cell_type": "code",
   "execution_count": 83,
   "id": "1e0f3b9d",
   "metadata": {},
   "outputs": [],
   "source": [
    "df = keep_columns(df,\n",
    "                      column_names=[\n",
    "                          'year', 'date_published', 'genre', 'duration',\n",
    "                          'budget', 'worlwide_gross_income'\n",
    "                      ])\n",
    "df = remove_na_rows(df)"
   ]
  },
  {
   "cell_type": "code",
   "execution_count": 84,
   "id": "692609ee",
   "metadata": {},
   "outputs": [],
   "source": [
    "# date_published\n",
    "df['date_published'] = convert_to_date(df[['date_published']])\n",
    "\n",
    "# day of the year\n",
    "df['date_sin'] = add_sin_features(df[['date_published']])\n",
    "df['date_cos'] = add_cos_features(df[['date_published']])\n",
    "df.drop(columns='date_published', inplace=True)\n",
    "\n",
    "# year, duration\n",
    "df['year'] = convert_to_int(df[['year']])\n",
    "df['duration'] = convert_to_int(df[['duration']])\n",
    "\n",
    "# genre\n",
    "ohe = GenreOHE()\n",
    "ohe.fit(df) # la colonne 'genre' est spécifié dans la classe\n",
    "df = ohe.transform(df)\n",
    "\n",
    "# budget\n",
    "df['budget'] = convert_budget_column(df[['budget']])\n",
    "df = df[df['budget'] != 0]\n",
    "df = add_inflation(df, 'budget')\n",
    "df['budget'] = log_transformation(df[['budget']])"
   ]
  },
  {
   "cell_type": "code",
   "execution_count": 77,
   "id": "a85f93ef",
   "metadata": {},
   "outputs": [],
   "source": [
    "pd.set_option('display.max_rows', None)"
   ]
  },
  {
   "cell_type": "code",
   "execution_count": 79,
   "id": "d05a43f8",
   "metadata": {},
   "outputs": [],
   "source": [
    "df['worlwide_gross_income'] = convert_income(df[['worlwide_gross_income']])\n",
    "\n",
    "df = add_inflation(df, 'worlwide_gross_income')\n",
    "\n",
    "df['worlwide_gross_income'] = log_transformation(df[['worlwide_gross_income']])"
   ]
  }
 ],
 "metadata": {
  "kernelspec": {
   "display_name": "Python 3 (ipykernel)",
   "language": "python",
   "name": "python3"
  },
  "language_info": {
   "codemirror_mode": {
    "name": "ipython",
    "version": 3
   },
   "file_extension": ".py",
   "mimetype": "text/x-python",
   "name": "python",
   "nbconvert_exporter": "python",
   "pygments_lexer": "ipython3",
   "version": "3.8.12"
  },
  "toc": {
   "base_numbering": 1,
   "nav_menu": {},
   "number_sections": true,
   "sideBar": true,
   "skip_h1_title": false,
   "title_cell": "Table of Contents",
   "title_sidebar": "Contents",
   "toc_cell": false,
   "toc_position": {},
   "toc_section_display": true,
   "toc_window_display": false
  }
 },
 "nbformat": 4,
 "nbformat_minor": 5
}
