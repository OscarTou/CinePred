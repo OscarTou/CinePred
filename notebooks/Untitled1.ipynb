{
 "cells": [
  {
   "cell_type": "code",
   "execution_count": 68,
   "id": "68efd097",
   "metadata": {},
   "outputs": [
    {
     "name": "stdout",
     "output_type": "stream",
     "text": [
      "The autoreload extension is already loaded. To reload it, use:\n",
      "  %reload_ext autoreload\n"
     ]
    }
   ],
   "source": [
    "%load_ext autoreload\n",
    "%autoreload 2"
   ]
  },
  {
   "cell_type": "code",
   "execution_count": 69,
   "id": "54b5c140",
   "metadata": {},
   "outputs": [],
   "source": [
    "from CinePred.new_model import *"
   ]
  },
  {
   "cell_type": "code",
   "execution_count": 70,
   "id": "5da79903",
   "metadata": {},
   "outputs": [
    {
     "name": "stdout",
     "output_type": "stream",
     "text": [
      "Index(['year', 'duration', 'production_company', 'budget',\n",
      "       'worlwide_gross_income', 'date_sin', 'date_cos', 'Adventure', 'Fantasy',\n",
      "       'Drama', 'Comedy', 'Animation', 'Sport', 'Mystery', 'Film-Noir',\n",
      "       'Documentary', 'War', 'Romance', 'Musical', 'Horror', 'Biography',\n",
      "       'Music', 'Sci-Fi', 'Family', 'Thriller', 'Crime', 'Action', 'Western',\n",
      "       'History'],\n",
      "      dtype='object')\n",
      "(12626, 29)\n"
     ]
    }
   ],
   "source": [
    "df = import_data('../raw_data/IMDb movies.csv')\n",
    "ohe = GenreOHE()\n",
    "df = preproc(df)\n",
    "ohe.fit(df)\n",
    "df = ohe.transform(df)\n",
    "print(df.columns)\n",
    "print(df.shape)\n",
    "df.sort_values('budget', inplace=True)"
   ]
  },
  {
   "cell_type": "code",
   "execution_count": 71,
   "id": "71a0efb7",
   "metadata": {},
   "outputs": [
    {
     "name": "stdout",
     "output_type": "stream",
     "text": [
      "<class 'float'>\n",
      "6313\n"
     ]
    }
   ],
   "source": [
    "print(type(df.shape[0] / 2))\n",
    "mid = int(df.shape[0] / 2)\n",
    "print(mid)"
   ]
  },
  {
   "cell_type": "code",
   "execution_count": 72,
   "id": "dda9506d",
   "metadata": {},
   "outputs": [],
   "source": [
    "df.sort_values(by='budget', inplace=True)\n",
    "df.reset_index(inplace=True)\n",
    "\n",
    "df.drop(columns='index', inplace=True)"
   ]
  },
  {
   "cell_type": "code",
   "execution_count": 73,
   "id": "c2be8a3b",
   "metadata": {},
   "outputs": [],
   "source": [
    "df1 = df.iloc[:mid]\n",
    "df2 = df.iloc[mid:]"
   ]
  },
  {
   "cell_type": "code",
   "execution_count": 74,
   "id": "cea95b4e",
   "metadata": {},
   "outputs": [
    {
     "name": "stdout",
     "output_type": "stream",
     "text": [
      "(6313, 29)\n",
      "(6313, 29)\n"
     ]
    }
   ],
   "source": [
    "print(df1.shape)\n",
    "print(df2.shape)"
   ]
  },
  {
   "cell_type": "code",
   "execution_count": 75,
   "id": "ca373a0e",
   "metadata": {},
   "outputs": [],
   "source": [
    "from sklearn.model_selection import cross_val_score"
   ]
  },
  {
   "cell_type": "code",
   "execution_count": 87,
   "id": "8301da42",
   "metadata": {},
   "outputs": [],
   "source": [
    "def get_mae2(df):\n",
    "    X = df.drop(columns=['worlwide_gross_income', 'production_company'])\n",
    "    y = df['worlwide_gross_income']\n",
    "    model = XGBRegressor()\n",
    "    print(cross_val_score(model, X, y, cv=5))"
   ]
  },
  {
   "cell_type": "code",
   "execution_count": 88,
   "id": "29a4f88f",
   "metadata": {},
   "outputs": [
    {
     "name": "stdout",
     "output_type": "stream",
     "text": [
      "[-0.27422002 -0.07679976 -0.00332693 -0.0861038  -0.14843084]\n"
     ]
    }
   ],
   "source": [
    "get_mae2(df1)"
   ]
  },
  {
   "cell_type": "code",
   "execution_count": 89,
   "id": "8bc80382",
   "metadata": {},
   "outputs": [
    {
     "name": "stdout",
     "output_type": "stream",
     "text": [
      "[-0.25543116 -0.10661263  0.01003476 -0.04617106 -1.26070395]\n"
     ]
    }
   ],
   "source": [
    "get_mae2(df2)"
   ]
  },
  {
   "cell_type": "code",
   "execution_count": null,
   "id": "38d4e1db",
   "metadata": {},
   "outputs": [],
   "source": []
  }
 ],
 "metadata": {
  "kernelspec": {
   "display_name": "Python 3 (ipykernel)",
   "language": "python",
   "name": "python3"
  },
  "language_info": {
   "codemirror_mode": {
    "name": "ipython",
    "version": 3
   },
   "file_extension": ".py",
   "mimetype": "text/x-python",
   "name": "python",
   "nbconvert_exporter": "python",
   "pygments_lexer": "ipython3",
   "version": "3.8.12"
  },
  "toc": {
   "base_numbering": 1,
   "nav_menu": {},
   "number_sections": true,
   "sideBar": true,
   "skip_h1_title": false,
   "title_cell": "Table of Contents",
   "title_sidebar": "Contents",
   "toc_cell": false,
   "toc_position": {},
   "toc_section_display": true,
   "toc_window_display": false
  }
 },
 "nbformat": 4,
 "nbformat_minor": 5
}
