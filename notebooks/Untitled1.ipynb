{
 "cells": [
  {
   "cell_type": "code",
   "execution_count": 1,
   "id": "68efd097",
   "metadata": {},
   "outputs": [],
   "source": [
    "%load_ext autoreload\n",
    "%autoreload 2"
   ]
  },
  {
   "cell_type": "code",
   "execution_count": 19,
   "id": "54b5c140",
   "metadata": {},
   "outputs": [],
   "source": [
    "from CinePred.new_model import *\n",
    "from CinePred.data.preprocessing import *\n",
    "from CinePred.data.importing import import_data\n",
    "from CinePred.data.featuring import add_inflation\n",
    "\n",
    "from sklearn.model_selection import cross_val_score, GridSearchCV\n",
    "from xgboost import XGBRegressor, plot_importance\n",
    "from matplotlib import pyplot\n",
    "import numpy as np"
   ]
  },
  {
   "cell_type": "code",
   "execution_count": 20,
   "id": "5da79903",
   "metadata": {},
   "outputs": [],
   "source": [
    "df = import_data('../raw_data/IMDb movies.csv')"
   ]
  },
  {
   "cell_type": "code",
   "execution_count": 21,
   "id": "ef42bee1",
   "metadata": {},
   "outputs": [],
   "source": [
    "df = keep_columns(df,\n",
    "                      column_names=[\n",
    "                          'year', 'date_published', 'genre', 'duration',\n",
    "                          'budget', 'worlwide_gross_income',\n",
    "                          'production_company', 'director', 'writer'\n",
    "                      ])\n",
    "df = remove_na_rows(df)"
   ]
  },
  {
   "cell_type": "code",
   "execution_count": 22,
   "id": "61755ad7",
   "metadata": {},
   "outputs": [],
   "source": [
    "# date_published\n",
    "df['date_published'] = convert_to_date(df[['date_published']])\n",
    "\n",
    "# day of the year\n",
    "df['date_sin'] = add_sin_features(df[['date_published']])\n",
    "df['date_cos'] = add_cos_features(df[['date_published']])\n",
    "df.drop(columns='date_published', inplace=True)\n",
    "\n",
    "# year, duration\n",
    "df['year'] = convert_to_int(df[['year']])\n",
    "df['duration'] = convert_to_int(df[['duration']])\n",
    "\n",
    "# genre\n",
    "ohe = GenreOHE()\n",
    "ohe.fit(df) # la colonne 'genre' est spécifié dans la classe\n",
    "df = ohe.transform(df)\n",
    "\n",
    "# budget\n",
    "df['budget'] = convert_budget_column(df[['budget']])\n",
    "df = df[df['budget'] != 0]\n",
    "df = add_inflation(df, 'budget')\n",
    "df['budget'] = log_transformation(df[['budget']])\n",
    "\n",
    "# income\n",
    "df['worlwide_gross_income'] = convert_income(df[['worlwide_gross_income']])\n",
    "df = add_inflation(df, 'worlwide_gross_income')\n",
    "df['worlwide_gross_income'] = log_transformation(df[['worlwide_gross_income']])\n",
    "\n",
    "# cumsum\n",
    "df = Add_Ones(df)\n",
    "df = Add_number_of_movies_per_prod_company_in_Timeline(df)\n",
    "df = Add_number_of_movies_per_directors_in_Timeline(df)\n",
    "df = Add_number_of_movies_per_writer_in_Timeline(df)\n",
    "df = Remove_Ones(df)\n",
    "\n",
    "# sort & index:\n",
    "df.sort_values('budget', inplace=True)\n",
    "df.reset_index(inplace=True)\n",
    "df.drop(columns=['index', 'production_company', 'director', 'writer'],\n",
    "        inplace=True)"
   ]
  },
  {
   "cell_type": "code",
   "execution_count": 23,
   "id": "70ff554c",
   "metadata": {},
   "outputs": [],
   "source": [
    "pd.set_option('display.max_rows', None)\n",
    "pd.set_option('display.max_columns', None)"
   ]
  },
  {
   "cell_type": "code",
   "execution_count": 24,
   "id": "c421a463",
   "metadata": {},
   "outputs": [],
   "source": [
    "X = df.drop(columns=['worlwide_gross_income'])\n",
    "y = df['worlwide_gross_income']\n",
    "model = XGBRegressor(learning_rate=0.1, max_depth=2)"
   ]
  },
  {
   "cell_type": "code",
   "execution_count": 25,
   "id": "c580f12f",
   "metadata": {},
   "outputs": [
    {
     "data": {
      "text/plain": [
       "XGBRegressor(base_score=0.5, booster='gbtree', colsample_bylevel=1,\n",
       "             colsample_bynode=1, colsample_bytree=1, enable_categorical=False,\n",
       "             gamma=0, gpu_id=-1, importance_type=None,\n",
       "             interaction_constraints='', learning_rate=0.1, max_delta_step=0,\n",
       "             max_depth=2, min_child_weight=1, missing=nan,\n",
       "             monotone_constraints='()', n_estimators=100, n_jobs=8,\n",
       "             num_parallel_tree=1, predictor='auto', random_state=0, reg_alpha=0,\n",
       "             reg_lambda=1, scale_pos_weight=1, subsample=1, tree_method='exact',\n",
       "             validate_parameters=1, verbosity=None)"
      ]
     },
     "execution_count": 25,
     "metadata": {},
     "output_type": "execute_result"
    }
   ],
   "source": [
    "model.fit(X, y)"
   ]
  },
  {
   "cell_type": "code",
   "execution_count": 26,
   "id": "fe240750",
   "metadata": {},
   "outputs": [
    {
     "name": "stdout",
     "output_type": "stream",
     "text": [
      "[0.02331384 0.02332367 0.57340395 0.         0.00531874 0.\n",
      " 0.         0.         0.         0.         0.00480092 0.01578425\n",
      " 0.01357207 0.         0.         0.         0.00731817 0.01374423\n",
      " 0.00981499 0.00786122 0.         0.03150735 0.01205394 0.\n",
      " 0.00508916 0.         0.06126088 0.1611686  0.02320979 0.00745424]\n"
     ]
    },
    {
     "data": {
      "image/png": "[encoded data removed]",
      "text/plain": [
       "<Figure size 432x288 with 1 Axes>"
      ]
     },
     "metadata": {
      "needs_background": "light"
     },
     "output_type": "display_data"
    },
    {
     "name": "stdout",
     "output_type": "stream",
     "text": [
      "Index(['year', 'duration', 'budget', 'worlwide_gross_income', 'date_sin',\n",
      "       'date_cos', 'History', 'Fantasy', 'Film-Noir', 'Romance', 'Documentary',\n",
      "       'War', 'Horror', 'Adventure', 'Musical', 'Western', 'Crime', 'Sci-Fi',\n",
      "       'Mystery', 'Family', 'Thriller', 'Music', 'Comedy', 'Animation',\n",
      "       'Action', 'Biography', 'Sport', 'Drama',\n",
      "       'Nb_actuals_movie_directors_company', 'Nb_actuals_movie_directors',\n",
      "       'Nb_actuals_movie_directors_writer'],\n",
      "      dtype='object')\n"
     ]
    }
   ],
   "source": [
    "print(model.feature_importances_)\n",
    "plot_importance(model)\n",
    "pyplot.show()\n",
    "print(df.columns)"
   ]
  },
  {
   "cell_type": "code",
   "execution_count": null,
   "id": "e9fcf3ee",
   "metadata": {},
   "outputs": [],
   "source": []
  },
  {
   "cell_type": "code",
   "execution_count": null,
   "id": "a4ef54c0",
   "metadata": {},
   "outputs": [],
   "source": []
  }
 ],
 "metadata": {
  "kernelspec": {
   "display_name": "Python 3 (ipykernel)",
   "language": "python",
   "name": "python3"
  },
  "language_info": {
   "codemirror_mode": {
    "name": "ipython",
    "version": 3
   },
   "file_extension": ".py",
   "mimetype": "text/x-python",
   "name": "python",
   "nbconvert_exporter": "python",
   "pygments_lexer": "ipython3",
   "version": "3.8.12"
  },
  "toc": {
   "base_numbering": 1,
   "nav_menu": {},
   "number_sections": true,
   "sideBar": true,
   "skip_h1_title": false,
   "title_cell": "Table of Contents",
   "title_sidebar": "Contents",
   "toc_cell": false,
   "toc_position": {},
   "toc_section_display": true,
   "toc_window_display": false
  }
 },
 "nbformat": 4,
 "nbformat_minor": 5
}
