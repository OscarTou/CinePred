{
 "cells": [
  {
   "cell_type": "code",
   "execution_count": 15,
   "id": "68efd097",
   "metadata": {},
   "outputs": [
    {
     "name": "stdout",
     "output_type": "stream",
     "text": [
      "The autoreload extension is already loaded. To reload it, use:\n",
      "  %reload_ext autoreload\n"
     ]
    }
   ],
   "source": [
    "%load_ext autoreload\n",
    "%autoreload 2"
   ]
  },
  {
   "cell_type": "code",
   "execution_count": 16,
   "id": "54b5c140",
   "metadata": {},
   "outputs": [],
   "source": [
    "from CinePred.new_model import *"
   ]
  },
  {
   "cell_type": "code",
   "execution_count": 17,
   "id": "5da79903",
   "metadata": {},
   "outputs": [
    {
     "name": "stdout",
     "output_type": "stream",
     "text": [
      "Index(['year', 'duration', 'budget', 'worlwide_gross_income', 'date_sin',\n",
      "       'date_cos', 'History', 'Thriller', 'Western', 'Film-Noir', 'Drama',\n",
      "       'Horror', 'Biography', 'Family', 'Music', 'Sci-Fi', 'Adventure',\n",
      "       'Action', 'Musical', 'Documentary', 'War', 'Crime', 'Romance', 'Sport',\n",
      "       'Mystery', 'Comedy', 'Fantasy', 'Animation'],\n",
      "      dtype='object')\n",
      "(12762, 28)\n"
     ]
    }
   ],
   "source": [
    "df = import_data('../raw_data/IMDb movies.csv')\n",
    "ohe = GenreOHE()\n",
    "df = preproc(df)\n",
    "ohe.fit(df)\n",
    "df = ohe.transform(df)\n",
    "print(df.columns)\n",
    "print(df.shape)\n",
    "df.sort_values('budget', inplace=True)"
   ]
  },
  {
   "cell_type": "code",
   "execution_count": 18,
   "id": "71a0efb7",
   "metadata": {},
   "outputs": [
    {
     "name": "stdout",
     "output_type": "stream",
     "text": [
      "<class 'float'>\n",
      "6381\n"
     ]
    }
   ],
   "source": [
    "print(type(df.shape[0] / 2))\n",
    "mid = int(df.shape[0] / 2)\n",
    "print(mid)"
   ]
  },
  {
   "cell_type": "code",
   "execution_count": 19,
   "id": "dda9506d",
   "metadata": {},
   "outputs": [],
   "source": [
    "df.sort_values(by='budget', inplace=True)\n",
    "df.reset_index(inplace=True)\n",
    "\n",
    "df.drop(columns='index', inplace=True)"
   ]
  },
  {
   "cell_type": "code",
   "execution_count": 20,
   "id": "c2be8a3b",
   "metadata": {},
   "outputs": [],
   "source": [
    "df1 = df.iloc[:mid]\n",
    "df2 = df.iloc[mid:]"
   ]
  },
  {
   "cell_type": "code",
   "execution_count": 21,
   "id": "cea95b4e",
   "metadata": {},
   "outputs": [
    {
     "name": "stdout",
     "output_type": "stream",
     "text": [
      "(6381, 28)\n",
      "(6381, 28)\n"
     ]
    }
   ],
   "source": [
    "print(df1.shape)\n",
    "print(df2.shape)"
   ]
  },
  {
   "cell_type": "code",
   "execution_count": 22,
   "id": "ca373a0e",
   "metadata": {},
   "outputs": [],
   "source": [
    "from sklearn.model_selection import cross_val_score"
   ]
  },
  {
   "cell_type": "code",
   "execution_count": 26,
   "id": "8301da42",
   "metadata": {},
   "outputs": [],
   "source": [
    "def get_mae2(df):\n",
    "    X = df.drop(columns=['worlwide_gross_income'])\n",
    "    y = df['worlwide_gross_income']\n",
    "    model = XGBRegressor()\n",
    "    print(cross_val_score(model, X, y, cv=5))"
   ]
  },
  {
   "cell_type": "code",
   "execution_count": 27,
   "id": "29a4f88f",
   "metadata": {},
   "outputs": [
    {
     "name": "stdout",
     "output_type": "stream",
     "text": [
      "[-0.31820655  0.01651192 -0.05121392  0.01898145 -0.23328855]\n"
     ]
    }
   ],
   "source": [
    "get_mae2(df1)"
   ]
  },
  {
   "cell_type": "code",
   "execution_count": 28,
   "id": "8bc80382",
   "metadata": {},
   "outputs": [
    {
     "name": "stdout",
     "output_type": "stream",
     "text": [
      "[-0.18335718 -0.08749438  0.01314635 -0.05189867 -1.07857028]\n"
     ]
    }
   ],
   "source": [
    "get_mae2(df2)"
   ]
  },
  {
   "cell_type": "code",
   "execution_count": null,
   "id": "38d4e1db",
   "metadata": {},
   "outputs": [],
   "source": []
  },
  {
   "cell_type": "code",
   "execution_count": null,
   "id": "af34e695",
   "metadata": {},
   "outputs": [],
   "source": []
  }
 ],
 "metadata": {
  "kernelspec": {
   "display_name": "Python 3 (ipykernel)",
   "language": "python",
   "name": "python3"
  },
  "language_info": {
   "codemirror_mode": {
    "name": "ipython",
    "version": 3
   },
   "file_extension": ".py",
   "mimetype": "text/x-python",
   "name": "python",
   "nbconvert_exporter": "python",
   "pygments_lexer": "ipython3",
   "version": "3.8.12"
  },
  "toc": {
   "base_numbering": 1,
   "nav_menu": {},
   "number_sections": true,
   "sideBar": true,
   "skip_h1_title": false,
   "title_cell": "Table of Contents",
   "title_sidebar": "Contents",
   "toc_cell": false,
   "toc_position": {},
   "toc_section_display": true,
   "toc_window_display": false
  }
 },
 "nbformat": 4,
 "nbformat_minor": 5
}
