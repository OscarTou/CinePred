{
 "cells": [
  {
   "cell_type": "code",
   "execution_count": 1,
   "id": "23f86ae1",
   "metadata": {},
   "outputs": [],
   "source": [
    "import pandas as pd\n",
    "import numpy as np\n",
    "import matplotlib.pyplot as plt\n",
    "import seaborn as sns\n",
    "\n",
    "from sklearn.linear_model import LinearRegression\n",
    "from sklearn.ensemble import GradientBoostingRegressor\n",
    "from sklearn.preprocessing import RobustScaler, OneHotEncoder\n",
    "from sklearn.model_selection import cross_val_score\n",
    "from sklearn.model_selection import TimeSeriesSplit\n",
    "from sklearn.metrics import r2_score\n",
    "\n",
    "from sklearn import set_config; set_config(display='diagram') # decoration for the pipeline\n",
    "from sklearn.pipeline import make_pipeline\n",
    "from sklearn.compose import make_column_transformer\n",
    "from sklearn.pipeline import make_union\n",
    "from sklearn.preprocessing import FunctionTransformer\n",
    "\n",
    "\n",
    "from currency_converter import CurrencyConverter\n",
    "from CinePred.data.utils import convert, convert_budget_column, convert_to_int, convert_to_date\n",
    "from CinePred.data.data import Data\n",
    "\n",
    "%load_ext autoreload\n",
    "%autoreload 2"
   ]
  },
  {
   "cell_type": "markdown",
   "id": "3f9930fc",
   "metadata": {},
   "source": [
    "### Baseline"
   ]
  },
  {
   "cell_type": "markdown",
   "id": "d4008c4c",
   "metadata": {},
   "source": [
    "#### Baseline (linear regression)"
   ]
  },
  {
   "cell_type": "code",
   "execution_count": 9,
   "id": "7e63a6f9",
   "metadata": {},
   "outputs": [
    {
     "data": {
      "text/plain": [
       "((9025, 4), (9025,))"
      ]
     },
     "execution_count": 9,
     "metadata": {},
     "output_type": "execute_result"
    }
   ],
   "source": [
    "# Declaring X and y\n",
    "reg_df = df[df.currency == '$'].copy()\n",
    "reg_df['year'] = reg_df['year'].astype('int64')\n",
    "reg_df.sort_values(by=['year'], inplace=True)\n",
    "reg_df.reset_index(inplace=True)\n",
    "\n",
    "X = reg_df[['budget', 'avg_vote', 'duration', 'year']]\n",
    "y = reg_df['worlwide_gross_income']\n",
    "# X.avg_vote.hist()\n",
    "X.shape, y.shape"
   ]
  },
  {
   "cell_type": "code",
   "execution_count": 10,
   "id": "8c089dc3",
   "metadata": {},
   "outputs": [
    {
     "name": "stdout",
     "output_type": "stream",
     "text": [
      "TimeSeriesSplit(gap=0, max_train_size=None, n_splits=5, test_size=None)\n"
     ]
    }
   ],
   "source": [
    "n_splits = 5\n",
    "tscv = TimeSeriesSplit(n_splits)\n",
    "print(tscv)"
   ]
  },
  {
   "cell_type": "code",
   "execution_count": 11,
   "id": "fff12df9",
   "metadata": {},
   "outputs": [
    {
     "name": "stderr",
     "output_type": "stream",
     "text": [
      "/tmp/ipykernel_24875/3973795352.py:3: SettingWithCopyWarning: \n",
      "A value is trying to be set on a copy of a slice from a DataFrame.\n",
      "Try using .loc[row_indexer,col_indexer] = value instead\n",
      "\n",
      "See the caveats in the documentation: https://pandas.pydata.org/pandas-docs/stable/user_guide/indexing.html#returning-a-view-versus-a-copy\n",
      "  X['avg_vote'] = scaler.fit_transform(X[['avg_vote']])\n"
     ]
    }
   ],
   "source": [
    "# Scaling avg_vote\n",
    "scaler = RobustScaler()\n",
    "X['avg_vote'] = scaler.fit_transform(X[['avg_vote']])"
   ]
  },
  {
   "cell_type": "code",
   "execution_count": 12,
   "id": "9c51a74d",
   "metadata": {},
   "outputs": [
    {
     "data": {
      "text/html": [
       "<div>\n",
       "<style scoped>\n",
       "    .dataframe tbody tr th:only-of-type {\n",
       "        vertical-align: middle;\n",
       "    }\n",
       "\n",
       "    .dataframe tbody tr th {\n",
       "        vertical-align: top;\n",
       "    }\n",
       "\n",
       "    .dataframe thead th {\n",
       "        text-align: right;\n",
       "    }\n",
       "</style>\n",
       "<table border=\"1\" class=\"dataframe\">\n",
       "  <thead>\n",
       "    <tr style=\"text-align: right;\">\n",
       "      <th></th>\n",
       "      <th>budget</th>\n",
       "      <th>avg_vote</th>\n",
       "      <th>duration</th>\n",
       "      <th>year</th>\n",
       "    </tr>\n",
       "  </thead>\n",
       "  <tbody>\n",
       "    <tr>\n",
       "      <th>0</th>\n",
       "      <td>18000</td>\n",
       "      <td>1.285714</td>\n",
       "      <td>76</td>\n",
       "      <td>1920</td>\n",
       "    </tr>\n",
       "    <tr>\n",
       "      <th>1</th>\n",
       "      <td>800000</td>\n",
       "      <td>0.642857</td>\n",
       "      <td>150</td>\n",
       "      <td>1921</td>\n",
       "    </tr>\n",
       "    <tr>\n",
       "      <th>2</th>\n",
       "      <td>250000</td>\n",
       "      <td>1.428571</td>\n",
       "      <td>68</td>\n",
       "      <td>1921</td>\n",
       "    </tr>\n",
       "    <tr>\n",
       "      <th>3</th>\n",
       "      <td>351000</td>\n",
       "      <td>0.500000</td>\n",
       "      <td>82</td>\n",
       "      <td>1923</td>\n",
       "    </tr>\n",
       "    <tr>\n",
       "      <th>4</th>\n",
       "      <td>923000</td>\n",
       "      <td>1.357143</td>\n",
       "      <td>95</td>\n",
       "      <td>1925</td>\n",
       "    </tr>\n",
       "    <tr>\n",
       "      <th>...</th>\n",
       "      <td>...</td>\n",
       "      <td>...</td>\n",
       "      <td>...</td>\n",
       "      <td>...</td>\n",
       "    </tr>\n",
       "    <tr>\n",
       "      <th>9020</th>\n",
       "      <td>18000000</td>\n",
       "      <td>0.285714</td>\n",
       "      <td>123</td>\n",
       "      <td>2020</td>\n",
       "    </tr>\n",
       "    <tr>\n",
       "      <th>9021</th>\n",
       "      <td>85000000</td>\n",
       "      <td>0.142857</td>\n",
       "      <td>99</td>\n",
       "      <td>2020</td>\n",
       "    </tr>\n",
       "    <tr>\n",
       "      <th>9022</th>\n",
       "      <td>8000000</td>\n",
       "      <td>-0.428571</td>\n",
       "      <td>88</td>\n",
       "      <td>2020</td>\n",
       "    </tr>\n",
       "    <tr>\n",
       "      <th>9023</th>\n",
       "      <td>1000000</td>\n",
       "      <td>0.571429</td>\n",
       "      <td>76</td>\n",
       "      <td>2020</td>\n",
       "    </tr>\n",
       "    <tr>\n",
       "      <th>9024</th>\n",
       "      <td>67000000</td>\n",
       "      <td>-0.500000</td>\n",
       "      <td>94</td>\n",
       "      <td>2020</td>\n",
       "    </tr>\n",
       "  </tbody>\n",
       "</table>\n",
       "<p>9025 rows × 4 columns</p>\n",
       "</div>"
      ],
      "text/plain": [
       "        budget  avg_vote  duration  year\n",
       "0        18000  1.285714        76  1920\n",
       "1       800000  0.642857       150  1921\n",
       "2       250000  1.428571        68  1921\n",
       "3       351000  0.500000        82  1923\n",
       "4       923000  1.357143        95  1925\n",
       "...        ...       ...       ...   ...\n",
       "9020  18000000  0.285714       123  2020\n",
       "9021  85000000  0.142857        99  2020\n",
       "9022   8000000 -0.428571        88  2020\n",
       "9023   1000000  0.571429        76  2020\n",
       "9024  67000000 -0.500000        94  2020\n",
       "\n",
       "[9025 rows x 4 columns]"
      ]
     },
     "execution_count": 12,
     "metadata": {},
     "output_type": "execute_result"
    }
   ],
   "source": [
    "X"
   ]
  },
  {
   "cell_type": "code",
   "execution_count": 13,
   "id": "e1609ba5",
   "metadata": {},
   "outputs": [
    {
     "name": "stdout",
     "output_type": "stream",
     "text": [
      "TRAIN: [   0    1    2 ... 1502 1503 1504] TEST: [1505 1506 1507 ... 3006 3007 3008]\n",
      "TRAIN: [   0    1    2 ... 3006 3007 3008] TEST: [3009 3010 3011 ... 4510 4511 4512]\n",
      "TRAIN: [   0    1    2 ... 4510 4511 4512] TEST: [4513 4514 4515 ... 6014 6015 6016]\n",
      "TRAIN: [   0    1    2 ... 6014 6015 6016] TEST: [6017 6018 6019 ... 7518 7519 7520]\n",
      "TRAIN: [   0    1    2 ... 7518 7519 7520] TEST: [7521 7522 7523 ... 9022 9023 9024]\n",
      "[0.3513339173194543, 0.5435098614324834, 0.5882116752439108, 0.6643727664645329, 0.6012721203225608]\n"
     ]
    }
   ],
   "source": [
    "def baseline(model, X, y):\n",
    "    \"\"\" Returns a list of 5 r2 scores\"\"\"\n",
    "    r2 = []\n",
    "    tscv = TimeSeriesSplit(n_splits=5)\n",
    "    for train_index, test_index in tscv.split(X):\n",
    "        print(\"TRAIN:\", train_index, \"TEST:\", test_index)\n",
    "        X_train, X_test = X.iloc[train_index], X.iloc[test_index]\n",
    "        y_train, y_test = y.iloc[train_index], y.iloc[test_index]\n",
    "        \n",
    "        model.fit(X_train, y_train)\n",
    "        y_pred = model.predict(X_test)\n",
    "        r2.append(r2_score(y_test, y_pred))\n",
    "    return r2\n",
    "\n",
    "print(baseline(LinearRegression(), X, y))"
   ]
  },
  {
   "cell_type": "markdown",
   "id": "25343806",
   "metadata": {},
   "source": [
    "#### Baseline (GradientBoostingRegressor)"
   ]
  },
  {
   "cell_type": "code",
   "execution_count": 14,
   "id": "fc2ed10c",
   "metadata": {},
   "outputs": [
    {
     "name": "stdout",
     "output_type": "stream",
     "text": [
      "TRAIN: [   0    1    2 ... 1502 1503 1504] TEST: [1505 1506 1507 ... 3006 3007 3008]\n",
      "TRAIN: [   0    1    2 ... 3006 3007 3008] TEST: [3009 3010 3011 ... 4510 4511 4512]\n",
      "TRAIN: [   0    1    2 ... 4510 4511 4512] TEST: [4513 4514 4515 ... 6014 6015 6016]\n",
      "TRAIN: [   0    1    2 ... 6014 6015 6016] TEST: [6017 6018 6019 ... 7518 7519 7520]\n",
      "TRAIN: [   0    1    2 ... 7518 7519 7520] TEST: [7521 7522 7523 ... 9022 9023 9024]\n"
     ]
    },
    {
     "data": {
      "text/plain": [
       "[0.27786931255389513,\n",
       " 0.3487515161996345,\n",
       " 0.664575538082975,\n",
       " 0.6565889689490769,\n",
       " 0.6566061866124366]"
      ]
     },
     "execution_count": 14,
     "metadata": {},
     "output_type": "execute_result"
    }
   ],
   "source": [
    "from sklearn.ensemble import GradientBoostingRegressor\n",
    "model = GradientBoostingRegressor(\n",
    "    n_estimators=100, \n",
    "    learning_rate=0.1,\n",
    "    max_depth=3\n",
    ")\n",
    "baseline(model, X, y)"
   ]
  },
  {
   "cell_type": "markdown",
   "id": "2c4bcbf7",
   "metadata": {},
   "source": [
    "### Pipeline"
   ]
  },
  {
   "cell_type": "code",
   "execution_count": 17,
   "id": "73b73374",
   "metadata": {},
   "outputs": [
    {
     "name": "stdout",
     "output_type": "stream",
     "text": [
      "----- init Data -----\n",
      "----- import Data -----\n",
      "----- remove na rows -----\n",
      "----- convert to date -----\n",
      "----- convert income column -----\n",
      "----- keep columns -----\n",
      "----- seasonality Sin/Cos -----\n",
      "----- reset index -----\n"
     ]
    },
    {
     "data": {
      "text/html": [
       "<div>\n",
       "<style scoped>\n",
       "    .dataframe tbody tr th:only-of-type {\n",
       "        vertical-align: middle;\n",
       "    }\n",
       "\n",
       "    .dataframe tbody tr th {\n",
       "        vertical-align: top;\n",
       "    }\n",
       "\n",
       "    .dataframe thead th {\n",
       "        text-align: right;\n",
       "    }\n",
       "</style>\n",
       "<table border=\"1\" class=\"dataframe\">\n",
       "  <thead>\n",
       "    <tr style=\"text-align: right;\">\n",
       "      <th></th>\n",
       "      <th>imdb_title_id</th>\n",
       "      <th>title</th>\n",
       "      <th>year</th>\n",
       "      <th>date_published</th>\n",
       "      <th>genre</th>\n",
       "      <th>duration</th>\n",
       "      <th>production_company</th>\n",
       "      <th>budget</th>\n",
       "      <th>Month_published</th>\n",
       "      <th>sin_MoPub</th>\n",
       "      <th>cos_MoPub</th>\n",
       "    </tr>\n",
       "  </thead>\n",
       "  <tbody>\n",
       "    <tr>\n",
       "      <th>0</th>\n",
       "      <td>tt0017136</td>\n",
       "      <td>Metropolis</td>\n",
       "      <td>1927</td>\n",
       "      <td>1928-10-01</td>\n",
       "      <td>Drama, Sci-Fi</td>\n",
       "      <td>153</td>\n",
       "      <td>Universum Film (UFA)</td>\n",
       "      <td>DEM 6000000</td>\n",
       "      <td>10</td>\n",
       "      <td>-0.866025</td>\n",
       "      <td>5.000000e-01</td>\n",
       "    </tr>\n",
       "    <tr>\n",
       "      <th>1</th>\n",
       "      <td>tt0021749</td>\n",
       "      <td>Luci della città</td>\n",
       "      <td>1931</td>\n",
       "      <td>1931-04-02</td>\n",
       "      <td>Comedy, Drama, Romance</td>\n",
       "      <td>87</td>\n",
       "      <td>Charles Chaplin Productions</td>\n",
       "      <td>$ 1500000</td>\n",
       "      <td>4</td>\n",
       "      <td>0.866025</td>\n",
       "      <td>-5.000000e-01</td>\n",
       "    </tr>\n",
       "    <tr>\n",
       "      <th>2</th>\n",
       "      <td>tt0027977</td>\n",
       "      <td>Tempi moderni</td>\n",
       "      <td>1936</td>\n",
       "      <td>1937-03-12</td>\n",
       "      <td>Comedy, Drama, Family</td>\n",
       "      <td>87</td>\n",
       "      <td>Charles Chaplin Productions</td>\n",
       "      <td>$ 1500000</td>\n",
       "      <td>3</td>\n",
       "      <td>1.000000</td>\n",
       "      <td>6.123234e-17</td>\n",
       "    </tr>\n",
       "    <tr>\n",
       "      <th>3</th>\n",
       "      <td>tt0029453</td>\n",
       "      <td>Il bandito della Casbah</td>\n",
       "      <td>1937</td>\n",
       "      <td>1937-10-22</td>\n",
       "      <td>Crime, Drama, Romance</td>\n",
       "      <td>94</td>\n",
       "      <td>Paris Film</td>\n",
       "      <td>$ 60000</td>\n",
       "      <td>10</td>\n",
       "      <td>-0.866025</td>\n",
       "      <td>5.000000e-01</td>\n",
       "    </tr>\n",
       "    <tr>\n",
       "      <th>4</th>\n",
       "      <td>tt0029583</td>\n",
       "      <td>Biancaneve e i sette nani</td>\n",
       "      <td>1937</td>\n",
       "      <td>1938-11-30</td>\n",
       "      <td>Animation, Family, Fantasy</td>\n",
       "      <td>83</td>\n",
       "      <td>Walt Disney Productions</td>\n",
       "      <td>$ 1499000</td>\n",
       "      <td>11</td>\n",
       "      <td>-0.500000</td>\n",
       "      <td>8.660254e-01</td>\n",
       "    </tr>\n",
       "  </tbody>\n",
       "</table>\n",
       "</div>"
      ],
      "text/plain": [
       "  imdb_title_id                      title  year date_published  \\\n",
       "0     tt0017136                 Metropolis  1927     1928-10-01   \n",
       "1     tt0021749           Luci della città  1931     1931-04-02   \n",
       "2     tt0027977              Tempi moderni  1936     1937-03-12   \n",
       "3     tt0029453    Il bandito della Casbah  1937     1937-10-22   \n",
       "4     tt0029583  Biancaneve e i sette nani  1937     1938-11-30   \n",
       "\n",
       "                        genre  duration           production_company  \\\n",
       "0               Drama, Sci-Fi       153         Universum Film (UFA)   \n",
       "1      Comedy, Drama, Romance        87  Charles Chaplin Productions   \n",
       "2       Comedy, Drama, Family        87  Charles Chaplin Productions   \n",
       "3       Crime, Drama, Romance        94                   Paris Film   \n",
       "4  Animation, Family, Fantasy        83      Walt Disney Productions   \n",
       "\n",
       "        budget  Month_published  sin_MoPub     cos_MoPub  \n",
       "0  DEM 6000000               10  -0.866025  5.000000e-01  \n",
       "1    $ 1500000                4   0.866025 -5.000000e-01  \n",
       "2    $ 1500000                3   1.000000  6.123234e-17  \n",
       "3      $ 60000               10  -0.866025  5.000000e-01  \n",
       "4    $ 1499000               11  -0.500000  8.660254e-01  "
      ]
     },
     "execution_count": 17,
     "metadata": {},
     "output_type": "execute_result"
    }
   ],
   "source": [
    "print('----- init Data -----')\n",
    "data = Data('../raw_data/IMDb movies.csv')\n",
    "\n",
    "print('----- import Data -----')\n",
    "data.import_data()\n",
    "\n",
    "print('----- remove na rows -----')\n",
    "data.remove_na_rows()\n",
    "\n",
    "# print('----- convert to int -----')\n",
    "# data.convert_to_int('year')\n",
    "# data.convert_to_int('duration')\n",
    "\n",
    "#print('----- convert budget -----')\n",
    "#data.convert_budget_column(column_name='budget',min_rows=45, out_currency='USD')\n",
    "\n",
    "print('----- convert to date -----')\n",
    "data.convert_to_date('date_published')\n",
    "    \n",
    "print('----- convert income column -----')\n",
    "data.convert_income(column_name='worlwide_gross_income')\n",
    "\n",
    "print('----- keep columns -----')\n",
    "# data.keep_columns(columns_names=[\n",
    "#     'imdb_title_id', 'title', 'year', 'date_published', 'genre',\n",
    "#     'duration', 'country', 'director', 'writer', 'production_company',\n",
    "#     'actors', 'budget', 'worlwide_gross_income'\n",
    "# ])\n",
    "data.keep_columns(columns_names=[\n",
    "    'imdb_title_id', 'title', 'year', 'date_published', 'genre',\n",
    "    'duration', 'production_company',\n",
    "    'budget', 'worlwide_gross_income'\n",
    "])\n",
    "\n",
    "print('----- seasonality Sin/Cos -----')\n",
    "data.add_sin_cos_features('Month_published')\n",
    "    \n",
    "print('----- reset index -----')\n",
    "data.reset_index()\n",
    "\n",
    "X = data.dataframe.drop(columns='worlwide_gross_income')\n",
    "y = data.dataframe['worlwide_gross_income']\n",
    "\n",
    "X.head()"
   ]
  },
  {
   "cell_type": "code",
   "execution_count": 11,
   "id": "8bbb788f",
   "metadata": {},
   "outputs": [],
   "source": [
    "int_transformer = FunctionTransformer(convert_to_int)\n",
    "time_pipeline = make_pipeline(int_transformer, RobustScaler())\n",
    "\n",
    "budget_transformer = FunctionTransformer(convert_budget_column)\n",
    "ohe_transformer = make_pipeline(OneHotEncoder(sparse=False))\n",
    "\n",
    "preproc_basic = make_column_transformer((time_pipeline, ['year', 'duration']),\n",
    "                                        (ohe_transformer, ['genre']),\n",
    "                                        (budget_transformer, ['budget']))\n",
    "\n",
    "pipeline = make_pipeline(preproc_basic, GradientBoostingRegressor(n_estimators=100, learning_rate=0.1, max_depth=3))"
   ]
  },
  {
   "cell_type": "code",
   "execution_count": 12,
   "id": "e653a468",
   "metadata": {
    "collapsed": true
   },
   "outputs": [
    {
     "data": {
      "text/html": [
       "<style>#sk-cc4af0e4-821d-4502-8208-e9b891b1579d {color: black;background-color: white;}#sk-cc4af0e4-821d-4502-8208-e9b891b1579d pre{padding: 0;}#sk-cc4af0e4-821d-4502-8208-e9b891b1579d div.sk-toggleable {background-color: white;}#sk-cc4af0e4-821d-4502-8208-e9b891b1579d label.sk-toggleable__label {cursor: pointer;display: block;width: 100%;margin-bottom: 0;padding: 0.3em;box-sizing: border-box;text-align: center;}#sk-cc4af0e4-821d-4502-8208-e9b891b1579d div.sk-toggleable__content {max-height: 0;max-width: 0;overflow: hidden;text-align: left;background-color: #f0f8ff;}#sk-cc4af0e4-821d-4502-8208-e9b891b1579d div.sk-toggleable__content pre {margin: 0.2em;color: black;border-radius: 0.25em;background-color: #f0f8ff;}#sk-cc4af0e4-821d-4502-8208-e9b891b1579d input.sk-toggleable__control:checked~div.sk-toggleable__content {max-height: 200px;max-width: 100%;overflow: auto;}#sk-cc4af0e4-821d-4502-8208-e9b891b1579d div.sk-estimator input.sk-toggleable__control:checked~label.sk-toggleable__label {background-color: #d4ebff;}#sk-cc4af0e4-821d-4502-8208-e9b891b1579d div.sk-label input.sk-toggleable__control:checked~label.sk-toggleable__label {background-color: #d4ebff;}#sk-cc4af0e4-821d-4502-8208-e9b891b1579d input.sk-hidden--visually {border: 0;clip: rect(1px 1px 1px 1px);clip: rect(1px, 1px, 1px, 1px);height: 1px;margin: -1px;overflow: hidden;padding: 0;position: absolute;width: 1px;}#sk-cc4af0e4-821d-4502-8208-e9b891b1579d div.sk-estimator {font-family: monospace;background-color: #f0f8ff;border: 1px dotted black;border-radius: 0.25em;box-sizing: border-box;margin-bottom: 0.5em;}#sk-cc4af0e4-821d-4502-8208-e9b891b1579d div.sk-estimator:hover {background-color: #d4ebff;}#sk-cc4af0e4-821d-4502-8208-e9b891b1579d div.sk-parallel-item::after {content: \"\";width: 100%;border-bottom: 1px solid gray;flex-grow: 1;}#sk-cc4af0e4-821d-4502-8208-e9b891b1579d div.sk-label:hover label.sk-toggleable__label {background-color: #d4ebff;}#sk-cc4af0e4-821d-4502-8208-e9b891b1579d div.sk-serial::before {content: \"\";position: absolute;border-left: 1px solid gray;box-sizing: border-box;top: 2em;bottom: 0;left: 50%;}#sk-cc4af0e4-821d-4502-8208-e9b891b1579d div.sk-serial {display: flex;flex-direction: column;align-items: center;background-color: white;padding-right: 0.2em;padding-left: 0.2em;}#sk-cc4af0e4-821d-4502-8208-e9b891b1579d div.sk-item {z-index: 1;}#sk-cc4af0e4-821d-4502-8208-e9b891b1579d div.sk-parallel {display: flex;align-items: stretch;justify-content: center;background-color: white;}#sk-cc4af0e4-821d-4502-8208-e9b891b1579d div.sk-parallel::before {content: \"\";position: absolute;border-left: 1px solid gray;box-sizing: border-box;top: 2em;bottom: 0;left: 50%;}#sk-cc4af0e4-821d-4502-8208-e9b891b1579d div.sk-parallel-item {display: flex;flex-direction: column;position: relative;background-color: white;}#sk-cc4af0e4-821d-4502-8208-e9b891b1579d div.sk-parallel-item:first-child::after {align-self: flex-end;width: 50%;}#sk-cc4af0e4-821d-4502-8208-e9b891b1579d div.sk-parallel-item:last-child::after {align-self: flex-start;width: 50%;}#sk-cc4af0e4-821d-4502-8208-e9b891b1579d div.sk-parallel-item:only-child::after {width: 0;}#sk-cc4af0e4-821d-4502-8208-e9b891b1579d div.sk-dashed-wrapped {border: 1px dashed gray;margin: 0 0.4em 0.5em 0.4em;box-sizing: border-box;padding-bottom: 0.4em;background-color: white;position: relative;}#sk-cc4af0e4-821d-4502-8208-e9b891b1579d div.sk-label label {font-family: monospace;font-weight: bold;background-color: white;display: inline-block;line-height: 1.2em;}#sk-cc4af0e4-821d-4502-8208-e9b891b1579d div.sk-label-container {position: relative;z-index: 2;text-align: center;}#sk-cc4af0e4-821d-4502-8208-e9b891b1579d div.sk-container {display: inline-block;position: relative;}</style><div id=\"sk-cc4af0e4-821d-4502-8208-e9b891b1579d\" class\"sk-top-container\"><div class=\"sk-container\"><div class=\"sk-item sk-dashed-wrapped\"><div class=\"sk-label-container\"><div class=\"sk-label sk-toggleable\"><input class=\"sk-toggleable__control sk-hidden--visually\" id=\"84c5d9df-5265-4177-ad3a-02aaa8be8d76\" type=\"checkbox\" ><label class=\"sk-toggleable__label\" for=\"84c5d9df-5265-4177-ad3a-02aaa8be8d76\">Pipeline</label><div class=\"sk-toggleable__content\"><pre>Pipeline(steps=[('columntransformer',\n",
       "                 ColumnTransformer(transformers=[('pipeline-1',\n",
       "                                                  Pipeline(steps=[('functiontransformer',\n",
       "                                                                   FunctionTransformer(func=<function convert_to_int at 0x7f0243f69b80>)),\n",
       "                                                                  ('robustscaler',\n",
       "                                                                   RobustScaler())]),\n",
       "                                                  ['year', 'duration']),\n",
       "                                                 ('pipeline-2',\n",
       "                                                  Pipeline(steps=[('onehotencoder',\n",
       "                                                                   OneHotEncoder(sparse=False))]),\n",
       "                                                  ['genre']),\n",
       "                                                 ('functiontransformer',\n",
       "                                                  FunctionTransformer(func=<function convert_budget_column at 0x7f0243f69280>),\n",
       "                                                  ['budget'])])),\n",
       "                ('gradientboostingregressor', GradientBoostingRegressor())])</pre></div></div></div><div class=\"sk-serial\"><div class=\"sk-item sk-dashed-wrapped\"><div class=\"sk-label-container\"><div class=\"sk-label sk-toggleable\"><input class=\"sk-toggleable__control sk-hidden--visually\" id=\"9b04c813-3e7b-4ca0-8dec-bfa96da98f3d\" type=\"checkbox\" ><label class=\"sk-toggleable__label\" for=\"9b04c813-3e7b-4ca0-8dec-bfa96da98f3d\">columntransformer: ColumnTransformer</label><div class=\"sk-toggleable__content\"><pre>ColumnTransformer(transformers=[('pipeline-1',\n",
       "                                 Pipeline(steps=[('functiontransformer',\n",
       "                                                  FunctionTransformer(func=<function convert_to_int at 0x7f0243f69b80>)),\n",
       "                                                 ('robustscaler',\n",
       "                                                  RobustScaler())]),\n",
       "                                 ['year', 'duration']),\n",
       "                                ('pipeline-2',\n",
       "                                 Pipeline(steps=[('onehotencoder',\n",
       "                                                  OneHotEncoder(sparse=False))]),\n",
       "                                 ['genre']),\n",
       "                                ('functiontransformer',\n",
       "                                 FunctionTransformer(func=<function convert_budget_column at 0x7f0243f69280>),\n",
       "                                 ['budget'])])</pre></div></div></div><div class=\"sk-parallel\"><div class=\"sk-parallel-item\"><div class=\"sk-item\"><div class=\"sk-label-container\"><div class=\"sk-label sk-toggleable\"><input class=\"sk-toggleable__control sk-hidden--visually\" id=\"6fbfb081-48d3-4489-aac1-984f873e1279\" type=\"checkbox\" ><label class=\"sk-toggleable__label\" for=\"6fbfb081-48d3-4489-aac1-984f873e1279\">pipeline-1</label><div class=\"sk-toggleable__content\"><pre>['year', 'duration']</pre></div></div></div><div class=\"sk-serial\"><div class=\"sk-item\"><div class=\"sk-serial\"><div class=\"sk-item\"><div class=\"sk-estimator sk-toggleable\"><input class=\"sk-toggleable__control sk-hidden--visually\" id=\"03279edf-760a-4bad-a848-780c1af62440\" type=\"checkbox\" ><label class=\"sk-toggleable__label\" for=\"03279edf-760a-4bad-a848-780c1af62440\">FunctionTransformer</label><div class=\"sk-toggleable__content\"><pre>FunctionTransformer(func=<function convert_to_int at 0x7f0243f69b80>)</pre></div></div></div><div class=\"sk-item\"><div class=\"sk-estimator sk-toggleable\"><input class=\"sk-toggleable__control sk-hidden--visually\" id=\"336548dd-cba3-4a11-8f21-3b87c51bc9e5\" type=\"checkbox\" ><label class=\"sk-toggleable__label\" for=\"336548dd-cba3-4a11-8f21-3b87c51bc9e5\">RobustScaler</label><div class=\"sk-toggleable__content\"><pre>RobustScaler()</pre></div></div></div></div></div></div></div></div><div class=\"sk-parallel-item\"><div class=\"sk-item\"><div class=\"sk-label-container\"><div class=\"sk-label sk-toggleable\"><input class=\"sk-toggleable__control sk-hidden--visually\" id=\"03cb0340-1076-43ef-a418-3beb1ef4eedf\" type=\"checkbox\" ><label class=\"sk-toggleable__label\" for=\"03cb0340-1076-43ef-a418-3beb1ef4eedf\">pipeline-2</label><div class=\"sk-toggleable__content\"><pre>['genre']</pre></div></div></div><div class=\"sk-serial\"><div class=\"sk-item\"><div class=\"sk-serial\"><div class=\"sk-item\"><div class=\"sk-estimator sk-toggleable\"><input class=\"sk-toggleable__control sk-hidden--visually\" id=\"7f4d96cf-6f88-47c3-b731-27140a2f391f\" type=\"checkbox\" ><label class=\"sk-toggleable__label\" for=\"7f4d96cf-6f88-47c3-b731-27140a2f391f\">OneHotEncoder</label><div class=\"sk-toggleable__content\"><pre>OneHotEncoder(sparse=False)</pre></div></div></div></div></div></div></div></div><div class=\"sk-parallel-item\"><div class=\"sk-item\"><div class=\"sk-label-container\"><div class=\"sk-label sk-toggleable\"><input class=\"sk-toggleable__control sk-hidden--visually\" id=\"039d9267-41a7-4568-8039-9ea137b9d852\" type=\"checkbox\" ><label class=\"sk-toggleable__label\" for=\"039d9267-41a7-4568-8039-9ea137b9d852\">functiontransformer</label><div class=\"sk-toggleable__content\"><pre>['budget']</pre></div></div></div><div class=\"sk-serial\"><div class=\"sk-item\"><div class=\"sk-estimator sk-toggleable\"><input class=\"sk-toggleable__control sk-hidden--visually\" id=\"40db01ab-3a2e-467e-b62b-514d23c24098\" type=\"checkbox\" ><label class=\"sk-toggleable__label\" for=\"40db01ab-3a2e-467e-b62b-514d23c24098\">FunctionTransformer</label><div class=\"sk-toggleable__content\"><pre>FunctionTransformer(func=<function convert_budget_column at 0x7f0243f69280>)</pre></div></div></div></div></div></div></div></div><div class=\"sk-item\"><div class=\"sk-estimator sk-toggleable\"><input class=\"sk-toggleable__control sk-hidden--visually\" id=\"9b180a6e-b1a2-4a67-a674-01ec93f219f3\" type=\"checkbox\" ><label class=\"sk-toggleable__label\" for=\"9b180a6e-b1a2-4a67-a674-01ec93f219f3\">GradientBoostingRegressor</label><div class=\"sk-toggleable__content\"><pre>GradientBoostingRegressor()</pre></div></div></div></div></div></div></div>"
      ],
      "text/plain": [
       "Pipeline(steps=[('columntransformer',\n",
       "                 ColumnTransformer(transformers=[('pipeline-1',\n",
       "                                                  Pipeline(steps=[('functiontransformer',\n",
       "                                                                   FunctionTransformer(func=<function convert_to_int at 0x7f0243f69b80>)),\n",
       "                                                                  ('robustscaler',\n",
       "                                                                   RobustScaler())]),\n",
       "                                                  ['year', 'duration']),\n",
       "                                                 ('pipeline-2',\n",
       "                                                  Pipeline(steps=[('onehotencoder',\n",
       "                                                                   OneHotEncoder(sparse=False))]),\n",
       "                                                  ['genre']),\n",
       "                                                 ('functiontransformer',\n",
       "                                                  FunctionTransformer(func=<function convert_budget_column at 0x7f0243f69280>),\n",
       "                                                  ['budget'])])),\n",
       "                ('gradientboostingregressor', GradientBoostingRegressor())])"
      ]
     },
     "execution_count": 12,
     "metadata": {},
     "output_type": "execute_result"
    }
   ],
   "source": [
    "pipeline.fit(X, y)"
   ]
  },
  {
   "cell_type": "code",
   "execution_count": 126,
   "id": "49b284f2",
   "metadata": {},
   "outputs": [
    {
     "data": {
      "text/html": [
       "<div>\n",
       "<style scoped>\n",
       "    .dataframe tbody tr th:only-of-type {\n",
       "        vertical-align: middle;\n",
       "    }\n",
       "\n",
       "    .dataframe tbody tr th {\n",
       "        vertical-align: top;\n",
       "    }\n",
       "\n",
       "    .dataframe thead th {\n",
       "        text-align: right;\n",
       "    }\n",
       "</style>\n",
       "<table border=\"1\" class=\"dataframe\">\n",
       "  <thead>\n",
       "    <tr style=\"text-align: right;\">\n",
       "      <th></th>\n",
       "      <th>year</th>\n",
       "      <th>genre</th>\n",
       "      <th>duration</th>\n",
       "      <th>budget</th>\n",
       "    </tr>\n",
       "  </thead>\n",
       "  <tbody>\n",
       "    <tr>\n",
       "      <th>0</th>\n",
       "      <td>2000</td>\n",
       "      <td>Comedy, Drama</td>\n",
       "      <td>90</td>\n",
       "      <td>$ 1500000</td>\n",
       "    </tr>\n",
       "  </tbody>\n",
       "</table>\n",
       "</div>"
      ],
      "text/plain": [
       "   year          genre  duration     budget\n",
       "0  2000  Comedy, Drama        90  $ 1500000"
      ]
     },
     "execution_count": 126,
     "metadata": {},
     "output_type": "execute_result"
    }
   ],
   "source": [
    "X_test = pd.DataFrame({'year': [2000],\n",
    "              'genre': ['Comedy, Drama'],\n",
    "              'duration': [90],\n",
    "              'budget': ['$ 1500000']\n",
    "             })\n",
    "X_test"
   ]
  },
  {
   "cell_type": "code",
   "execution_count": 127,
   "id": "1cc4dfb4",
   "metadata": {},
   "outputs": [
    {
     "name": "stdout",
     "output_type": "stream",
     "text": [
      "5388785 $\n"
     ]
    }
   ],
   "source": [
    "y_pred = pipeline.predict(X_test)\n",
    "print(round(y_pred[0]), \"$\")"
   ]
  },
  {
   "cell_type": "code",
   "execution_count": null,
   "id": "7cd55884",
   "metadata": {},
   "outputs": [],
   "source": []
  }
 ],
 "metadata": {
  "kernelspec": {
   "display_name": "Python 3 (ipykernel)",
   "language": "python",
   "name": "python3"
  },
  "language_info": {
   "codemirror_mode": {
    "name": "ipython",
    "version": 3
   },
   "file_extension": ".py",
   "mimetype": "text/x-python",
   "name": "python",
   "nbconvert_exporter": "python",
   "pygments_lexer": "ipython3",
   "version": "3.8.12"
  },
  "toc": {
   "base_numbering": 1,
   "nav_menu": {},
   "number_sections": true,
   "sideBar": true,
   "skip_h1_title": false,
   "title_cell": "Table of Contents",
   "title_sidebar": "Contents",
   "toc_cell": false,
   "toc_position": {},
   "toc_section_display": true,
   "toc_window_display": false
  }
 },
 "nbformat": 4,
 "nbformat_minor": 5
}
