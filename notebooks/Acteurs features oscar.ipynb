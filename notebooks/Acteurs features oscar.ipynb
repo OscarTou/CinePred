{
 "cells": [
  {
   "cell_type": "markdown",
   "id": "4396579a",
   "metadata": {},
   "source": [
    "# Features acteurs oscar"
   ]
  },
  {
   "cell_type": "code",
   "execution_count": 2,
   "id": "3fc4a3af",
   "metadata": {
    "ExecuteTime": {
     "end_time": "2021-11-30T09:14:19.432451Z",
     "start_time": "2021-11-30T09:14:19.154730Z"
    }
   },
   "outputs": [
    {
     "ename": "NameError",
     "evalue": "name 'μ' is not defined",
     "output_type": "error",
     "traceback": [
      "\u001b[0;31m---------------------------------------------------------------------------\u001b[0m",
      "\u001b[0;31mNameError\u001b[0m                                 Traceback (most recent call last)",
      "\u001b[0;32m/tmp/ipykernel_23195/65875794.py\u001b[0m in \u001b[0;36m<module>\u001b[0;34m\u001b[0m\n\u001b[1;32m      3\u001b[0m \u001b[0;32mimport\u001b[0m \u001b[0mseaborn\u001b[0m \u001b[0;32mas\u001b[0m \u001b[0msns\u001b[0m\u001b[0;34m\u001b[0m\u001b[0;34m\u001b[0m\u001b[0m\n\u001b[1;32m      4\u001b[0m \u001b[0;32mimport\u001b[0m \u001b[0mnumpy\u001b[0m \u001b[0;32mas\u001b[0m \u001b[0mnp\u001b[0m\u001b[0;34m\u001b[0m\u001b[0;34m\u001b[0m\u001b[0m\n\u001b[0;32m----> 5\u001b[0;31m \u001b[0mµ\u001b[0m\u001b[0;34m\u001b[0m\u001b[0;34m\u001b[0m\u001b[0m\n\u001b[0m\u001b[1;32m      6\u001b[0m \u001b[0;32mfrom\u001b[0m \u001b[0mCinePred\u001b[0m\u001b[0;34m.\u001b[0m\u001b[0mdata\u001b[0m\u001b[0;34m.\u001b[0m\u001b[0mfeaturing\u001b[0m \u001b[0;32mimport\u001b[0m \u001b[0;34m*\u001b[0m\u001b[0;34m\u001b[0m\u001b[0;34m\u001b[0m\u001b[0m\n\u001b[1;32m      7\u001b[0m \u001b[0;32mfrom\u001b[0m \u001b[0mCinePred\u001b[0m\u001b[0;34m.\u001b[0m\u001b[0mdata\u001b[0m\u001b[0;34m.\u001b[0m\u001b[0mpreprocessing\u001b[0m \u001b[0;32mimport\u001b[0m \u001b[0;34m*\u001b[0m\u001b[0;34m\u001b[0m\u001b[0;34m\u001b[0m\u001b[0m\n",
      "\u001b[0;31mNameError\u001b[0m: name 'μ' is not defined"
     ]
    }
   ],
   "source": [
    "import pandas as pd\n",
    "import matplotlib.pyplot as plt\n",
    "import seaborn as sns\n",
    "import numpy as np\n",
    "µ\n",
    "from CinePred.data.featuring import *\n",
    "from CinePred.data.preprocessing import *\n",
    "from CinePred.data.importing import *"
   ]
  },
  {
   "cell_type": "markdown",
   "id": "b200b895",
   "metadata": {},
   "source": [
    "# Aller on taff"
   ]
  },
  {
   "cell_type": "code",
   "execution_count": null,
   "id": "4c07b74b",
   "metadata": {
    "ExecuteTime": {
     "end_time": "2021-11-30T09:13:56.520310Z",
     "start_time": "2021-11-30T09:13:56.520219Z"
    }
   },
   "outputs": [],
   "source": [
    "acteurs_df = pd.read_csv('../raw_data/cat_acteur.csv')\n"
   ]
  },
  {
   "cell_type": "code",
   "execution_count": null,
   "id": "48583330",
   "metadata": {
    "ExecuteTime": {
     "end_time": "2021-11-30T09:13:56.525909Z",
     "start_time": "2021-11-30T09:13:56.525795Z"
    }
   },
   "outputs": [],
   "source": [
    "acteurs_df"
   ]
  },
  {
   "cell_type": "code",
   "execution_count": null,
   "id": "33ad176b",
   "metadata": {
    "ExecuteTime": {
     "end_time": "2021-11-30T09:13:56.535224Z",
     "start_time": "2021-11-30T09:13:56.535157Z"
    }
   },
   "outputs": [],
   "source": [
    "df = preprocess_example(path = \"../raw_data/IMDb_movies.csv\")"
   ]
  },
  {
   "cell_type": "code",
   "execution_count": null,
   "id": "2a1f5926",
   "metadata": {
    "ExecuteTime": {
     "end_time": "2021-11-30T09:13:56.539410Z",
     "start_time": "2021-11-30T09:13:56.539312Z"
    }
   },
   "outputs": [],
   "source": [
    "df = add_success_movies_per_actors(df, path = \"../raw_data/cat_acteur.csv\")"
   ]
  },
  {
   "cell_type": "code",
   "execution_count": null,
   "id": "e4126c1a",
   "metadata": {
    "ExecuteTime": {
     "end_time": "2021-11-30T09:13:56.545594Z",
     "start_time": "2021-11-30T09:13:56.545528Z"
    }
   },
   "outputs": [],
   "source": [
    "df = pd.read_csv('../raw_data/cat_acteur.csv')"
   ]
  },
  {
   "cell_type": "code",
   "execution_count": null,
   "id": "1626e085",
   "metadata": {
    "ExecuteTime": {
     "end_time": "2021-11-30T09:13:56.552101Z",
     "start_time": "2021-11-30T09:13:56.552018Z"
    }
   },
   "outputs": [],
   "source": [
    "df"
   ]
  },
  {
   "cell_type": "markdown",
   "id": "3f4a1876",
   "metadata": {},
   "source": [
    "## On définit le ratio de chaque films"
   ]
  },
  {
   "cell_type": "code",
   "execution_count": null,
   "id": "6f4215ef",
   "metadata": {
    "ExecuteTime": {
     "end_time": "2021-11-30T09:13:56.562220Z",
     "start_time": "2021-11-30T09:13:56.562170Z"
    }
   },
   "outputs": [],
   "source": [
    "acteurs_df['ratio'] = acteurs_df['income']/acteurs_df['budget']"
   ]
  },
  {
   "cell_type": "markdown",
   "id": "7d123cf3",
   "metadata": {},
   "source": [
    "### Détermination des catégories des acteurs"
   ]
  },
  {
   "cell_type": "code",
   "execution_count": null,
   "id": "f025e0cb",
   "metadata": {
    "ExecuteTime": {
     "end_time": "2021-11-30T09:13:56.566746Z",
     "start_time": "2021-11-30T09:13:56.566688Z"
    }
   },
   "outputs": [],
   "source": [
    "acteurs_df_cat = acteurs_df.loc[(acteurs_df['ratio']>=5) & (acteurs_df['budget'] >= 100_000_000)]"
   ]
  },
  {
   "cell_type": "code",
   "execution_count": null,
   "id": "e8689e8c",
   "metadata": {
    "ExecuteTime": {
     "end_time": "2021-11-30T09:13:56.571037Z",
     "start_time": "2021-11-30T09:13:56.570996Z"
    }
   },
   "outputs": [],
   "source": [
    "len(acteurs_df_cat['acteur_name'].unique())"
   ]
  },
  {
   "cell_type": "code",
   "execution_count": null,
   "id": "05216445",
   "metadata": {
    "ExecuteTime": {
     "end_time": "2021-11-30T09:13:56.580384Z",
     "start_time": "2021-11-30T09:13:56.580281Z"
    }
   },
   "outputs": [],
   "source": [
    "acteurs_df_cat[['acteur_name','budget']].groupby(by='acteur_name').sum().sort_values(by=\"budget\", ascending=False).head(159)"
   ]
  },
  {
   "cell_type": "markdown",
   "id": "517e4e90",
   "metadata": {},
   "source": [
    "### Catégorisation"
   ]
  },
  {
   "cell_type": "code",
   "execution_count": null,
   "id": "9761a4e3",
   "metadata": {
    "ExecuteTime": {
     "end_time": "2021-11-30T09:13:56.585295Z",
     "start_time": "2021-11-30T09:13:56.585185Z"
    }
   },
   "outputs": [],
   "source": [
    "top_tier_actor_df = acteurs_df.groupby(by=\"acteur_name\").sum()[['budget']].sort_values(\"budget\", ascending=False)"
   ]
  },
  {
   "cell_type": "code",
   "execution_count": null,
   "id": "184f29d5",
   "metadata": {
    "ExecuteTime": {
     "end_time": "2021-11-30T09:13:56.590669Z",
     "start_time": "2021-11-30T09:13:56.590629Z"
    }
   },
   "outputs": [],
   "source": [
    "top_tier_actor_df.head(50)"
   ]
  },
  {
   "cell_type": "code",
   "execution_count": null,
   "id": "ddc7f58a",
   "metadata": {
    "ExecuteTime": {
     "end_time": "2021-11-30T09:13:56.598331Z",
     "start_time": "2021-11-30T09:13:56.598259Z"
    }
   },
   "outputs": [],
   "source": [
    "def connupaconnu(X, ratio = 3):\n",
    "    if (X['budget'] >= 100_000_000) & (X['ratio'] >= 3):\n",
    "        return 1\n",
    "    return 0"
   ]
  },
  {
   "cell_type": "code",
   "execution_count": null,
   "id": "f3f47e50",
   "metadata": {
    "ExecuteTime": {
     "end_time": "2021-11-30T09:13:56.603632Z",
     "start_time": "2021-11-30T09:13:56.603576Z"
    }
   },
   "outputs": [],
   "source": [
    "acteurs_df.sort_values('year', ascending=True, inplace= True)"
   ]
  },
  {
   "cell_type": "code",
   "execution_count": null,
   "id": "2dc820c5",
   "metadata": {
    "ExecuteTime": {
     "end_time": "2021-11-30T09:13:56.609471Z",
     "start_time": "2021-11-30T09:13:56.608965Z"
    },
    "scrolled": true
   },
   "outputs": [],
   "source": [
    "acteurs_df['connu'] = acteurs_df.apply(connupaconnu, axis = 1)"
   ]
  },
  {
   "cell_type": "code",
   "execution_count": null,
   "id": "2c50fe78",
   "metadata": {
    "ExecuteTime": {
     "end_time": "2021-11-30T09:13:56.616985Z",
     "start_time": "2021-11-30T09:13:56.616920Z"
    }
   },
   "outputs": [],
   "source": [
    "acteurs_df['nbsucces'] = acteurs_df['connu']"
   ]
  },
  {
   "cell_type": "code",
   "execution_count": null,
   "id": "32d9f73b",
   "metadata": {
    "ExecuteTime": {
     "end_time": "2021-11-30T09:13:56.621537Z",
     "start_time": "2021-11-30T09:13:56.621454Z"
    }
   },
   "outputs": [],
   "source": [
    "new_df = acteurs_df"
   ]
  },
  {
   "cell_type": "code",
   "execution_count": null,
   "id": "d2de1385",
   "metadata": {
    "ExecuteTime": {
     "end_time": "2021-11-30T09:13:56.629344Z",
     "start_time": "2021-11-30T09:13:56.629282Z"
    }
   },
   "outputs": [],
   "source": [
    "new_df['nbsuccess'] = acteurs_df.groupby(by  ='acteur_name')['connu'].cumsum(axis = 0)"
   ]
  },
  {
   "cell_type": "code",
   "execution_count": null,
   "id": "540abada",
   "metadata": {
    "ExecuteTime": {
     "end_time": "2021-11-30T09:13:56.633666Z",
     "start_time": "2021-11-30T09:13:56.633619Z"
    },
    "scrolled": false
   },
   "outputs": [],
   "source": [
    "new_df = new_df.sort_values('year', ascending=True)"
   ]
  },
  {
   "cell_type": "code",
   "execution_count": null,
   "id": "f59f1394",
   "metadata": {
    "ExecuteTime": {
     "end_time": "2021-11-30T09:13:56.638785Z",
     "start_time": "2021-11-30T09:13:56.638644Z"
    }
   },
   "outputs": [],
   "source": [
    "new_df.drop(columns='nbsucces', inplace = True)"
   ]
  },
  {
   "cell_type": "code",
   "execution_count": null,
   "id": "c8ffa712",
   "metadata": {
    "ExecuteTime": {
     "end_time": "2021-11-30T09:13:56.644171Z",
     "start_time": "2021-11-30T09:13:56.644122Z"
    }
   },
   "outputs": [],
   "source": [
    "new_df['connu2'] = new_df['nbsuccess'].apply(lambda x : 1 if x >=1 else 0)"
   ]
  },
  {
   "cell_type": "code",
   "execution_count": null,
   "id": "2218efb8",
   "metadata": {
    "ExecuteTime": {
     "end_time": "2021-11-30T09:13:56.659325Z",
     "start_time": "2021-11-30T09:13:56.659238Z"
    }
   },
   "outputs": [],
   "source": [
    "new_df.drop(columns=\"connu\", inplace = True)"
   ]
  },
  {
   "cell_type": "code",
   "execution_count": null,
   "id": "88ce807e",
   "metadata": {
    "ExecuteTime": {
     "end_time": "2021-11-30T09:13:56.666388Z",
     "start_time": "2021-11-30T09:13:56.666341Z"
    }
   },
   "outputs": [],
   "source": [
    "new_df.rename(columns={\"connu2\" : \"connu\"}, inplace=True)"
   ]
  },
  {
   "cell_type": "code",
   "execution_count": null,
   "id": "e56510e0",
   "metadata": {
    "ExecuteTime": {
     "end_time": "2021-11-30T09:13:56.672422Z",
     "start_time": "2021-11-30T09:13:56.672365Z"
    }
   },
   "outputs": [],
   "source": [
    "new_df[new_df['title'].str.contains('Star Trek')]"
   ]
  },
  {
   "cell_type": "code",
   "execution_count": null,
   "id": "361b70df",
   "metadata": {
    "ExecuteTime": {
     "end_time": "2021-11-30T09:13:56.677782Z",
     "start_time": "2021-11-30T09:13:56.677727Z"
    }
   },
   "outputs": [],
   "source": [
    "new_df.drop(index=new_df[new_df['acteur_name'] == \"Leon\" ].index)"
   ]
  },
  {
   "cell_type": "code",
   "execution_count": null,
   "id": "46ae8d86",
   "metadata": {
    "ExecuteTime": {
     "end_time": "2021-11-30T09:13:56.683416Z",
     "start_time": "2021-11-30T09:13:56.683356Z"
    }
   },
   "outputs": [],
   "source": [
    "liste_fi = new_df[['acteur_name','title','year','nbsuccess','connu']].values.tolist()"
   ]
  },
  {
   "cell_type": "code",
   "execution_count": null,
   "id": "b8cef81f",
   "metadata": {
    "ExecuteTime": {
     "end_time": "2021-11-30T09:13:56.696149Z",
     "start_time": "2021-11-30T09:13:56.695992Z"
    }
   },
   "outputs": [],
   "source": [
    "new_df['totalsuccess'] = new_df.groupby(by = 'title').cumsum()['nbsuccess']"
   ]
  },
  {
   "cell_type": "code",
   "execution_count": null,
   "id": "d8ca5806",
   "metadata": {
    "ExecuteTime": {
     "end_time": "2021-11-30T09:13:56.701701Z",
     "start_time": "2021-11-30T09:13:56.701619Z"
    }
   },
   "outputs": [],
   "source": [
    "# new_df['totalsuccess2'] = new_df.groupby(by = 'title')['totalsuccess']\n",
    "\n",
    "\n",
    "# df.groupby(['Mt'], sort=False)['count'].max()"
   ]
  },
  {
   "cell_type": "code",
   "execution_count": null,
   "id": "b245830d",
   "metadata": {
    "ExecuteTime": {
     "end_time": "2021-11-30T09:13:56.707027Z",
     "start_time": "2021-11-30T09:13:56.706948Z"
    }
   },
   "outputs": [],
   "source": [
    "total_success = pd.DataFrame(new_df.groupby(['title'], sort = False)['totalsuccess'].max())"
   ]
  },
  {
   "cell_type": "code",
   "execution_count": null,
   "id": "d0daab7d",
   "metadata": {
    "ExecuteTime": {
     "end_time": "2021-11-30T09:13:56.711406Z",
     "start_time": "2021-11-30T09:13:56.711345Z"
    }
   },
   "outputs": [],
   "source": [
    "total_success.reset_index(inplace=True)"
   ]
  },
  {
   "cell_type": "code",
   "execution_count": null,
   "id": "152a3264",
   "metadata": {
    "ExecuteTime": {
     "end_time": "2021-11-30T09:13:56.714603Z",
     "start_time": "2021-11-30T09:13:56.714552Z"
    }
   },
   "outputs": [],
   "source": [
    "total_success[total_success['title'].str.contains('Harry')]"
   ]
  },
  {
   "cell_type": "code",
   "execution_count": null,
   "id": "3ca26e26",
   "metadata": {
    "ExecuteTime": {
     "end_time": "2021-11-30T09:13:56.719342Z",
     "start_time": "2021-11-30T09:13:56.719289Z"
    }
   },
   "outputs": [],
   "source": [
    "total_success.sort_values('totalsuccess', ascending=False).head(50)"
   ]
  },
  {
   "cell_type": "markdown",
   "id": "cd7ed0bc",
   "metadata": {},
   "source": [
    "# Chercher l'acteur qu'on veut (optionnel)"
   ]
  },
  {
   "cell_type": "code",
   "execution_count": null,
   "id": "f0892aba",
   "metadata": {
    "ExecuteTime": {
     "end_time": "2021-11-30T09:13:56.722211Z",
     "start_time": "2021-11-30T09:13:56.722162Z"
    }
   },
   "outputs": [],
   "source": [
    "acteurs_df[acteurs_df['title'].str.contains(\"La maschera di ferro\")].sort_values('budget', ascending=False).sort_values('year')"
   ]
  },
  {
   "cell_type": "code",
   "execution_count": null,
   "id": "7fc7b669",
   "metadata": {
    "ExecuteTime": {
     "end_time": "2021-11-30T09:13:56.726813Z",
     "start_time": "2021-11-30T09:13:56.726752Z"
    }
   },
   "outputs": [],
   "source": [
    "acteurs_df.drop(columns='nbsucces', inplace = True)"
   ]
  },
  {
   "cell_type": "code",
   "execution_count": null,
   "id": "e694ac1e",
   "metadata": {
    "ExecuteTime": {
     "end_time": "2021-11-30T09:13:56.729819Z",
     "start_time": "2021-11-30T09:13:56.729738Z"
    }
   },
   "outputs": [],
   "source": [
    "acteurs_df[acteurs_df['acteur_name'].str.contains(\"Leonardo DiCaprio\")]\n",
    "acteurs_df['shifted'] = acteurs_df['nbsuccess'] - acteurs_df['connu']"
   ]
  },
  {
   "cell_type": "code",
   "execution_count": null,
   "id": "7bc6d78b",
   "metadata": {
    "ExecuteTime": {
     "end_time": "2021-11-30T09:13:56.736814Z",
     "start_time": "2021-11-30T09:13:56.736737Z"
    }
   },
   "outputs": [],
   "source": [
    "acteurs_df[['acteur_name','title','shifted']].groupby(by=\"title\")"
   ]
  },
  {
   "cell_type": "code",
   "execution_count": null,
   "id": "9bcf4386",
   "metadata": {
    "ExecuteTime": {
     "end_time": "2021-11-30T09:13:56.741810Z",
     "start_time": "2021-11-30T09:13:56.741733Z"
    }
   },
   "outputs": [],
   "source": [
    "acteurs_df"
   ]
  },
  {
   "cell_type": "code",
   "execution_count": null,
   "id": "d97ba5ed",
   "metadata": {
    "ExecuteTime": {
     "end_time": "2021-11-30T09:13:56.746683Z",
     "start_time": "2021-11-30T09:13:56.746607Z"
    }
   },
   "outputs": [],
   "source": [
    "total_success = pd.DataFrame(acteurs_df.groupby(['title'], sort = False)[['acteur_name','shifted']].max())\n",
    "total_success.reset_index(inplace = True)"
   ]
  },
  {
   "cell_type": "code",
   "execution_count": null,
   "id": "7a2324f5",
   "metadata": {
    "ExecuteTime": {
     "end_time": "2021-11-30T09:13:56.751370Z",
     "start_time": "2021-11-30T09:13:56.751309Z"
    }
   },
   "outputs": [],
   "source": [
    "total_success[total_success['acteur_name'].str.contains('Leonardo DiCaprio')]"
   ]
  },
  {
   "cell_type": "code",
   "execution_count": null,
   "id": "3bad426e",
   "metadata": {
    "ExecuteTime": {
     "end_time": "2021-11-30T09:13:56.754804Z",
     "start_time": "2021-11-30T09:13:56.754749Z"
    }
   },
   "outputs": [],
   "source": [
    "acteurs_df[acteurs_df['acteur_name'].str.contains('Margot Robbie')]"
   ]
  },
  {
   "cell_type": "code",
   "execution_count": null,
   "id": "36534659",
   "metadata": {
    "ExecuteTime": {
     "end_time": "2021-11-30T09:13:56.758756Z",
     "start_time": "2021-11-30T09:13:56.758659Z"
    }
   },
   "outputs": [],
   "source": [
    "last_df = pd.DataFrame(acteurs_df.groupby('title').sum()[\"shifted\"])"
   ]
  },
  {
   "cell_type": "code",
   "execution_count": null,
   "id": "876bbf8e",
   "metadata": {
    "ExecuteTime": {
     "end_time": "2021-11-30T09:13:56.764280Z",
     "start_time": "2021-11-30T09:13:56.764194Z"
    }
   },
   "outputs": [],
   "source": [
    "last_df.reset_index(inplace = True)"
   ]
  },
  {
   "cell_type": "code",
   "execution_count": null,
   "id": "f26c27fc",
   "metadata": {
    "ExecuteTime": {
     "end_time": "2021-11-30T09:13:56.769452Z",
     "start_time": "2021-11-30T09:13:56.769337Z"
    }
   },
   "outputs": [],
   "source": [
    "last_df[last_df['title'].str.contains('Avengers')]"
   ]
  },
  {
   "cell_type": "code",
   "execution_count": null,
   "id": "66175304",
   "metadata": {
    "ExecuteTime": {
     "end_time": "2021-11-30T09:13:56.773805Z",
     "start_time": "2021-11-30T09:13:56.773750Z"
    }
   },
   "outputs": [],
   "source": [
    "acteurs_df"
   ]
  },
  {
   "cell_type": "code",
   "execution_count": null,
   "id": "82e395c3",
   "metadata": {
    "ExecuteTime": {
     "end_time": "2021-11-30T09:13:56.777787Z",
     "start_time": "2021-11-30T09:13:56.777504Z"
    }
   },
   "outputs": [],
   "source": [
    "laaast = pd.DataFrame(last_df.merge(acteurs_df, on='title').drop(columns=[\"connu\",\"nbsuccess\",\"shifted_y\",\"Unnamed: 0\"])).drop_duplicates()"
   ]
  },
  {
   "cell_type": "code",
   "execution_count": null,
   "id": "1f2d6614",
   "metadata": {
    "ExecuteTime": {
     "end_time": "2021-11-30T09:13:56.781106Z",
     "start_time": "2021-11-30T09:13:56.781064Z"
    }
   },
   "outputs": [],
   "source": [
    "# last_df.to_csv('../raw_data/cat_acteur.csv')"
   ]
  },
  {
   "cell_type": "code",
   "execution_count": null,
   "id": "14847d40",
   "metadata": {
    "ExecuteTime": {
     "end_time": "2021-11-30T09:13:56.784686Z",
     "start_time": "2021-11-30T09:13:56.784632Z"
    }
   },
   "outputs": [],
   "source": [
    "laaast[laaast['title'].str.contains('Avengers: Endgame')]"
   ]
  },
  {
   "cell_type": "code",
   "execution_count": null,
   "id": "a8570b2e",
   "metadata": {
    "ExecuteTime": {
     "end_time": "2021-11-30T09:13:56.788484Z",
     "start_time": "2021-11-30T09:13:56.788431Z"
    }
   },
   "outputs": [],
   "source": [
    "laaast.rename(columns={\"shifted_x\":'shifted'}, inplace=True)"
   ]
  },
  {
   "cell_type": "code",
   "execution_count": null,
   "id": "8bd7c8b0",
   "metadata": {
    "ExecuteTime": {
     "end_time": "2021-11-30T09:13:56.792256Z",
     "start_time": "2021-11-30T09:13:56.792144Z"
    }
   },
   "outputs": [],
   "source": [
    "# laaast.to_csv('../raw_data/cat_acteur.csv')"
   ]
  },
  {
   "cell_type": "code",
   "execution_count": null,
   "id": "82d766f4",
   "metadata": {},
   "outputs": [],
   "source": []
  },
  {
   "cell_type": "code",
   "execution_count": null,
   "id": "afd6697b",
   "metadata": {},
   "outputs": [],
   "source": []
  },
  {
   "cell_type": "code",
   "execution_count": null,
   "id": "94866eed",
   "metadata": {},
   "outputs": [],
   "source": []
  },
  {
   "cell_type": "code",
   "execution_count": null,
   "id": "e61c1133",
   "metadata": {
    "ExecuteTime": {
     "end_time": "2021-11-30T09:13:56.796327Z",
     "start_time": "2021-11-30T09:13:56.796243Z"
    }
   },
   "outputs": [],
   "source": [
    "print('----- import Data -----')\n",
    "df = import_data(\"../raw_data/IMDb movies.csv\")\n",
    "\n",
    "print('----- keep columns -----')\n",
    "df = keep_columns(df,\n",
    "                  column_names=[\n",
    "                      'imdb_title_id', 'title', 'year', 'date_published',\n",
    "                      'genre', 'duration', 'country', 'director', 'writer',\n",
    "                      'production_company', 'actors', 'budget',\n",
    "                      'worlwide_gross_income'\n",
    "                  ])\n",
    "\n",
    "print('----- remove na rows -----')\n",
    "df = remove_na_rows(df)\n",
    "\n",
    "print('----- convert budget -----')\n",
    "df['budget'] = convert_budget_column(df[['budget']])\n",
    "\n",
    "# print('----- reduce column type -----')\n",
    "# df['actors'] = reduce_column_type(df[['actors']], nb_max=3)\n",
    "\n",
    "print('----- convert income column -----')\n",
    "df['worlwide_gross_income'] = convert_income(df[['worlwide_gross_income']])\n",
    "\n",
    "print('----- convert to int -----')\n",
    "df['year'] = convert_to_int(df[['year']])\n",
    "df['duration'] = convert_to_int(df[['duration']])\n",
    "\n",
    "print('----- convert to date -----')\n",
    "df['date_published'] = convert_to_date(df[['date_published']])\n",
    "\n",
    "print('----- reset index -----')\n",
    "df = reset_index(df)\n",
    "\n",
    "# print('----- log transform -----')\n",
    "# df['worlwide_gross_income'] = log_transformation(\n",
    "#     df[['worlwide_gross_income']])\n",
    "\n",
    "# print('----- data_shape -----')"
   ]
  },
  {
   "cell_type": "code",
   "execution_count": null,
   "id": "90bbf9ad",
   "metadata": {
    "ExecuteTime": {
     "end_time": "2021-11-30T09:13:56.799136Z",
     "start_time": "2021-11-30T09:13:56.799097Z"
    }
   },
   "outputs": [],
   "source": [
    "df"
   ]
  },
  {
   "cell_type": "code",
   "execution_count": null,
   "id": "ce3aeaa6",
   "metadata": {
    "ExecuteTime": {
     "end_time": "2021-11-30T09:13:56.802040Z",
     "start_time": "2021-11-30T09:13:56.802002Z"
    }
   },
   "outputs": [],
   "source": [
    "df = add_success_movies_per_actors(df)"
   ]
  },
  {
   "cell_type": "code",
   "execution_count": null,
   "id": "d3a1bc84",
   "metadata": {
    "ExecuteTime": {
     "end_time": "2021-11-30T09:13:56.805123Z",
     "start_time": "2021-11-30T09:13:56.805086Z"
    },
    "scrolled": true
   },
   "outputs": [],
   "source": [
    "df"
   ]
  },
  {
   "cell_type": "code",
   "execution_count": null,
   "id": "23a90a0c",
   "metadata": {
    "ExecuteTime": {
     "end_time": "2021-11-30T09:13:56.808340Z",
     "start_time": "2021-11-30T09:13:56.808303Z"
    },
    "scrolled": true
   },
   "outputs": [],
   "source": [
    "df[df['actors'].str.contains('Leonardo DiCaprio')]"
   ]
  },
  {
   "cell_type": "code",
   "execution_count": null,
   "id": "6e447449",
   "metadata": {
    "ExecuteTime": {
     "end_time": "2021-11-30T09:13:56.812751Z",
     "start_time": "2021-11-30T09:13:56.812709Z"
    }
   },
   "outputs": [],
   "source": [
    "df['DirectorsOnes'] = 1"
   ]
  },
  {
   "cell_type": "code",
   "execution_count": null,
   "id": "432ac191",
   "metadata": {
    "ExecuteTime": {
     "end_time": "2021-11-30T09:13:56.815367Z",
     "start_time": "2021-11-30T09:13:56.815328Z"
    }
   },
   "outputs": [],
   "source": [
    "df['nbsuccessDirectors'] = df.groupby(by  ='director').cumsum()['DirectorsOnes']"
   ]
  },
  {
   "cell_type": "code",
   "execution_count": null,
   "id": "4e602fb4",
   "metadata": {
    "ExecuteTime": {
     "end_time": "2021-11-30T09:13:56.819437Z",
     "start_time": "2021-11-30T09:13:56.819377Z"
    }
   },
   "outputs": [],
   "source": [
    "df['nbsuccessProdCompa'] = df.groupby(by  ='production_company').cumsum()['DirectorsOnes']"
   ]
  },
  {
   "cell_type": "code",
   "execution_count": null,
   "id": "6b085799",
   "metadata": {
    "ExecuteTime": {
     "end_time": "2021-11-30T09:13:56.823696Z",
     "start_time": "2021-11-30T09:13:56.823635Z"
    }
   },
   "outputs": [],
   "source": [
    "df['nbsuccessWriter'] = df.groupby(by  ='writer').cumsum()['DirectorsOnes']"
   ]
  },
  {
   "cell_type": "code",
   "execution_count": null,
   "id": "7a2de460",
   "metadata": {
    "ExecuteTime": {
     "end_time": "2021-11-30T09:13:56.828969Z",
     "start_time": "2021-11-30T09:13:56.828858Z"
    }
   },
   "outputs": [],
   "source": [
    "df.sort_values('nbsuccessWriter', ascending=False)"
   ]
  },
  {
   "cell_type": "code",
   "execution_count": null,
   "id": "e75509bf",
   "metadata": {},
   "outputs": [],
   "source": []
  }
 ],
 "metadata": {
  "kernelspec": {
   "display_name": "Python 3 (ipykernel)",
   "language": "python",
   "name": "python3"
  },
  "language_info": {
   "codemirror_mode": {
    "name": "ipython",
    "version": 3
   },
   "file_extension": ".py",
   "mimetype": "text/x-python",
   "name": "python",
   "nbconvert_exporter": "python",
   "pygments_lexer": "ipython3",
   "version": "3.8.12"
  },
  "toc": {
   "base_numbering": 1,
   "nav_menu": {},
   "number_sections": true,
   "sideBar": true,
   "skip_h1_title": false,
   "title_cell": "Table of Contents",
   "title_sidebar": "Contents",
   "toc_cell": false,
   "toc_position": {},
   "toc_section_display": true,
   "toc_window_display": true
  },
  "varInspector": {
   "cols": {
    "lenName": 16,
    "lenType": 16,
    "lenVar": 40
   },
   "kernels_config": {
    "python": {
     "delete_cmd_postfix": "",
     "delete_cmd_prefix": "del ",
     "library": "var_list.py",
     "varRefreshCmd": "print(var_dic_list())"
    },
    "r": {
     "delete_cmd_postfix": ") ",
     "delete_cmd_prefix": "rm(",
     "library": "var_list.r",
     "varRefreshCmd": "cat(var_dic_list()) "
    }
   },
   "types_to_exclude": [
    "module",
    "function",
    "builtin_function_or_method",
    "instance",
    "_Feature"
   ],
   "window_display": false
  }
 },
 "nbformat": 4,
 "nbformat_minor": 5
}
