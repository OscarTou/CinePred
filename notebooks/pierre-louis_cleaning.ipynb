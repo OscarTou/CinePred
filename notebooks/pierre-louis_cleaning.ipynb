{
 "cells": [
  {
   "cell_type": "code",
   "execution_count": 3,
   "id": "23f86ae1",
   "metadata": {},
   "outputs": [],
   "source": [
    "import pandas as pd\n",
    "import numpy as np\n",
    "import matplotlib.pyplot as plt\n",
    "import seaborn as sns"
   ]
  },
  {
   "cell_type": "markdown",
   "id": "433e3184",
   "metadata": {
    "heading_collapsed": true
   },
   "source": [
    "### Import"
   ]
  },
  {
   "cell_type": "code",
   "execution_count": 65,
   "id": "dd8f0789",
   "metadata": {
    "hidden": true
   },
   "outputs": [
    {
     "name": "stderr",
     "output_type": "stream",
     "text": [
      "/home/pierre/.pyenv/versions/3.8.12/envs/lewagon/lib/python3.8/site-packages/IPython/core/interactiveshell.py:3444: DtypeWarning: Columns (3) have mixed types.Specify dtype option on import or set low_memory=False.\n",
      "  exec(code_obj, self.user_global_ns, self.user_ns)\n"
     ]
    }
   ],
   "source": [
    "movies_df = pd.read_csv('../raw_data/IMDb movies.csv')\n",
    "names = pd.read_csv('../raw_data/IMDb names.csv')\n",
    "titles = pd.read_csv('../raw_data/IMDb title_principals.csv')"
   ]
  },
  {
   "cell_type": "code",
   "execution_count": 5,
   "id": "51cb7c13",
   "metadata": {
    "hidden": true
   },
   "outputs": [
    {
     "data": {
      "text/html": [
       "<div>\n",
       "<style scoped>\n",
       "    .dataframe tbody tr th:only-of-type {\n",
       "        vertical-align: middle;\n",
       "    }\n",
       "\n",
       "    .dataframe tbody tr th {\n",
       "        vertical-align: top;\n",
       "    }\n",
       "\n",
       "    .dataframe thead th {\n",
       "        text-align: right;\n",
       "    }\n",
       "</style>\n",
       "<table border=\"1\" class=\"dataframe\">\n",
       "  <thead>\n",
       "    <tr style=\"text-align: right;\">\n",
       "      <th></th>\n",
       "      <th>imdb_title_id</th>\n",
       "      <th>title</th>\n",
       "      <th>original_title</th>\n",
       "      <th>year</th>\n",
       "      <th>date_published</th>\n",
       "      <th>genre</th>\n",
       "      <th>duration</th>\n",
       "      <th>country</th>\n",
       "      <th>language</th>\n",
       "      <th>director</th>\n",
       "      <th>...</th>\n",
       "      <th>actors</th>\n",
       "      <th>description</th>\n",
       "      <th>avg_vote</th>\n",
       "      <th>votes</th>\n",
       "      <th>budget</th>\n",
       "      <th>usa_gross_income</th>\n",
       "      <th>worlwide_gross_income</th>\n",
       "      <th>metascore</th>\n",
       "      <th>reviews_from_users</th>\n",
       "      <th>reviews_from_critics</th>\n",
       "    </tr>\n",
       "  </thead>\n",
       "  <tbody>\n",
       "    <tr>\n",
       "      <th>165</th>\n",
       "      <td>tt0010323</td>\n",
       "      <td>Il gabinetto del dottor Caligari</td>\n",
       "      <td>Das Cabinet des Dr. Caligari</td>\n",
       "      <td>1920</td>\n",
       "      <td>1920-02-27</td>\n",
       "      <td>Fantasy, Horror, Mystery</td>\n",
       "      <td>76</td>\n",
       "      <td>Germany</td>\n",
       "      <td>German</td>\n",
       "      <td>Robert Wiene</td>\n",
       "      <td>...</td>\n",
       "      <td>Werner Krauss, Conrad Veidt, Friedrich Feher, ...</td>\n",
       "      <td>Hypnotist Dr. Caligari uses a somnambulist, Ce...</td>\n",
       "      <td>8.1</td>\n",
       "      <td>55601</td>\n",
       "      <td>$ 18000</td>\n",
       "      <td>$ 8811</td>\n",
       "      <td>$ 8811</td>\n",
       "      <td>NaN</td>\n",
       "      <td>237.0</td>\n",
       "      <td>160.0</td>\n",
       "    </tr>\n",
       "    <tr>\n",
       "      <th>210</th>\n",
       "      <td>tt0011440</td>\n",
       "      <td>Markens grøde</td>\n",
       "      <td>Markens grøde</td>\n",
       "      <td>1921</td>\n",
       "      <td>1921-12-02</td>\n",
       "      <td>Drama</td>\n",
       "      <td>107</td>\n",
       "      <td>Norway</td>\n",
       "      <td>NaN</td>\n",
       "      <td>Gunnar Sommerfeldt</td>\n",
       "      <td>...</td>\n",
       "      <td>Amund Rydland, Karen Poulsen, Ragna Wettergree...</td>\n",
       "      <td>After the Nobel prize winning Knut Hamsun-nove...</td>\n",
       "      <td>6.6</td>\n",
       "      <td>195</td>\n",
       "      <td>NOK 250000</td>\n",
       "      <td>NaN</td>\n",
       "      <td>$ 4272</td>\n",
       "      <td>NaN</td>\n",
       "      <td>3.0</td>\n",
       "      <td>3.0</td>\n",
       "    </tr>\n",
       "    <tr>\n",
       "      <th>245</th>\n",
       "      <td>tt0012190</td>\n",
       "      <td>I quattro cavalieri dell'Apocalisse</td>\n",
       "      <td>The Four Horsemen of the Apocalypse</td>\n",
       "      <td>1921</td>\n",
       "      <td>1923-04-16</td>\n",
       "      <td>Drama, Romance, War</td>\n",
       "      <td>150</td>\n",
       "      <td>USA</td>\n",
       "      <td>None</td>\n",
       "      <td>Rex Ingram</td>\n",
       "      <td>...</td>\n",
       "      <td>Pomeroy Cannon, Josef Swickard, Bridgetta Clar...</td>\n",
       "      <td>An extended family split up in France and Germ...</td>\n",
       "      <td>7.2</td>\n",
       "      <td>3058</td>\n",
       "      <td>$ 800000</td>\n",
       "      <td>$ 9183673</td>\n",
       "      <td>$ 9183673</td>\n",
       "      <td>NaN</td>\n",
       "      <td>45.0</td>\n",
       "      <td>16.0</td>\n",
       "    </tr>\n",
       "    <tr>\n",
       "      <th>251</th>\n",
       "      <td>tt0012349</td>\n",
       "      <td>Il monello</td>\n",
       "      <td>The Kid</td>\n",
       "      <td>1921</td>\n",
       "      <td>1923-11-26</td>\n",
       "      <td>Comedy, Drama, Family</td>\n",
       "      <td>68</td>\n",
       "      <td>USA</td>\n",
       "      <td>English, None</td>\n",
       "      <td>Charles Chaplin</td>\n",
       "      <td>...</td>\n",
       "      <td>Carl Miller, Edna Purviance, Jackie Coogan, Ch...</td>\n",
       "      <td>The Tramp cares for an abandoned child, but ev...</td>\n",
       "      <td>8.3</td>\n",
       "      <td>109038</td>\n",
       "      <td>$ 250000</td>\n",
       "      <td>NaN</td>\n",
       "      <td>$ 26916</td>\n",
       "      <td>NaN</td>\n",
       "      <td>173.0</td>\n",
       "      <td>105.0</td>\n",
       "    </tr>\n",
       "    <tr>\n",
       "      <th>348</th>\n",
       "      <td>tt0014624</td>\n",
       "      <td>La donna di Parigi</td>\n",
       "      <td>A Woman of Paris: A Drama of Fate</td>\n",
       "      <td>1923</td>\n",
       "      <td>1927-06-06</td>\n",
       "      <td>Drama, Romance</td>\n",
       "      <td>82</td>\n",
       "      <td>USA</td>\n",
       "      <td>None, English</td>\n",
       "      <td>Charles Chaplin</td>\n",
       "      <td>...</td>\n",
       "      <td>Edna Purviance, Clarence Geldart, Carl Miller,...</td>\n",
       "      <td>A kept woman runs into her former fiancé and f...</td>\n",
       "      <td>7.0</td>\n",
       "      <td>4735</td>\n",
       "      <td>$ 351000</td>\n",
       "      <td>NaN</td>\n",
       "      <td>$ 11233</td>\n",
       "      <td>NaN</td>\n",
       "      <td>37.0</td>\n",
       "      <td>24.0</td>\n",
       "    </tr>\n",
       "  </tbody>\n",
       "</table>\n",
       "<p>5 rows × 22 columns</p>\n",
       "</div>"
      ],
      "text/plain": [
       "    imdb_title_id                                title  \\\n",
       "165     tt0010323     Il gabinetto del dottor Caligari   \n",
       "210     tt0011440                        Markens grøde   \n",
       "245     tt0012190  I quattro cavalieri dell'Apocalisse   \n",
       "251     tt0012349                           Il monello   \n",
       "348     tt0014624                   La donna di Parigi   \n",
       "\n",
       "                          original_title  year date_published  \\\n",
       "165         Das Cabinet des Dr. Caligari  1920     1920-02-27   \n",
       "210                        Markens grøde  1921     1921-12-02   \n",
       "245  The Four Horsemen of the Apocalypse  1921     1923-04-16   \n",
       "251                              The Kid  1921     1923-11-26   \n",
       "348    A Woman of Paris: A Drama of Fate  1923     1927-06-06   \n",
       "\n",
       "                        genre  duration  country       language  \\\n",
       "165  Fantasy, Horror, Mystery        76  Germany         German   \n",
       "210                     Drama       107   Norway            NaN   \n",
       "245       Drama, Romance, War       150      USA           None   \n",
       "251     Comedy, Drama, Family        68      USA  English, None   \n",
       "348            Drama, Romance        82      USA  None, English   \n",
       "\n",
       "               director  ...  \\\n",
       "165        Robert Wiene  ...   \n",
       "210  Gunnar Sommerfeldt  ...   \n",
       "245          Rex Ingram  ...   \n",
       "251     Charles Chaplin  ...   \n",
       "348     Charles Chaplin  ...   \n",
       "\n",
       "                                                actors  \\\n",
       "165  Werner Krauss, Conrad Veidt, Friedrich Feher, ...   \n",
       "210  Amund Rydland, Karen Poulsen, Ragna Wettergree...   \n",
       "245  Pomeroy Cannon, Josef Swickard, Bridgetta Clar...   \n",
       "251  Carl Miller, Edna Purviance, Jackie Coogan, Ch...   \n",
       "348  Edna Purviance, Clarence Geldart, Carl Miller,...   \n",
       "\n",
       "                                           description avg_vote   votes  \\\n",
       "165  Hypnotist Dr. Caligari uses a somnambulist, Ce...      8.1   55601   \n",
       "210  After the Nobel prize winning Knut Hamsun-nove...      6.6     195   \n",
       "245  An extended family split up in France and Germ...      7.2    3058   \n",
       "251  The Tramp cares for an abandoned child, but ev...      8.3  109038   \n",
       "348  A kept woman runs into her former fiancé and f...      7.0    4735   \n",
       "\n",
       "         budget  usa_gross_income worlwide_gross_income metascore  \\\n",
       "165     $ 18000            $ 8811                $ 8811       NaN   \n",
       "210  NOK 250000               NaN                $ 4272       NaN   \n",
       "245    $ 800000         $ 9183673             $ 9183673       NaN   \n",
       "251    $ 250000               NaN               $ 26916       NaN   \n",
       "348    $ 351000               NaN               $ 11233       NaN   \n",
       "\n",
       "    reviews_from_users  reviews_from_critics  \n",
       "165              237.0                 160.0  \n",
       "210                3.0                   3.0  \n",
       "245               45.0                  16.0  \n",
       "251              173.0                 105.0  \n",
       "348               37.0                  24.0  \n",
       "\n",
       "[5 rows x 22 columns]"
      ]
     },
     "execution_count": 5,
     "metadata": {},
     "output_type": "execute_result"
    }
   ],
   "source": [
    "df = movies_df.loc[(movies_df['budget'].isna()==False) & (movies_df['worlwide_gross_income'].isna()==False)].copy()\n",
    "df.head()"
   ]
  },
  {
   "cell_type": "code",
   "execution_count": 6,
   "id": "41dbe8d4",
   "metadata": {
    "hidden": true
   },
   "outputs": [],
   "source": [
    "df.reset_index(inplace=True)"
   ]
  },
  {
   "cell_type": "code",
   "execution_count": 7,
   "id": "9c4ce745",
   "metadata": {
    "hidden": true
   },
   "outputs": [],
   "source": [
    "# df.budget.replace(value='', regex=\"\\$\")"
   ]
  },
  {
   "cell_type": "markdown",
   "id": "d3f764bf",
   "metadata": {},
   "source": [
    "### Cleaning"
   ]
  },
  {
   "cell_type": "markdown",
   "id": "588709c8",
   "metadata": {
    "heading_collapsed": true
   },
   "source": [
    "#### Budget"
   ]
  },
  {
   "cell_type": "code",
   "execution_count": 8,
   "id": "63a390fb",
   "metadata": {
    "hidden": true
   },
   "outputs": [],
   "source": [
    "df['budget'] = df['budget'].str.strip() # supprime les espaces à la fin et au début\n",
    "df['budget'] = df['budget'].str.split() # split la string en mots\n",
    "\n",
    "df['currency'] = df['budget'].apply(lambda x: x[0])\n",
    "df['budget'] = df['budget'].apply(lambda x: x[1]).astype('int64')"
   ]
  },
  {
   "cell_type": "code",
   "execution_count": 9,
   "id": "7fe73458",
   "metadata": {
    "hidden": true
   },
   "outputs": [
    {
     "data": {
      "text/plain": [
       "array(['$', 'NOK', 'GBP', 'DEM', 'FRF', 'SEK', 'ITL', 'JPY', 'RUR', 'AUD',\n",
       "       'HKD', 'CAD', 'ESP', 'IEP', 'DKK', 'BEF', 'INR', 'EUR', 'ISK',\n",
       "       'PHP', 'FIM', 'BRL', 'CZK', 'NLG', 'ATS', 'CNY', 'BND', 'HUF',\n",
       "       'THB', 'ZAR', 'SGD', 'KRW', 'PLN', 'EGP', 'MXN', 'NZD', 'CHF',\n",
       "       'SKK', 'BGL', 'EEK', 'TWD', 'LVL', 'TRL', 'YUM', 'ARS', 'MYR',\n",
       "       'IDR', 'UAH', 'RON', 'VEB', 'LTL', 'CLP', 'PKR', 'NGN', 'COP',\n",
       "       'HRK', 'IRR', 'DOP', 'ILS', 'AMD', 'BDT', 'AED'], dtype=object)"
      ]
     },
     "execution_count": 9,
     "metadata": {},
     "output_type": "execute_result"
    }
   ],
   "source": [
    "df.currency.unique()"
   ]
  },
  {
   "cell_type": "markdown",
   "id": "60133e09",
   "metadata": {
    "heading_collapsed": true
   },
   "source": [
    "#### Income "
   ]
  },
  {
   "cell_type": "code",
   "execution_count": 10,
   "id": "f8f692bc",
   "metadata": {
    "hidden": true
   },
   "outputs": [
    {
     "data": {
      "text/plain": [
       "0           8811\n",
       "1           4272\n",
       "2        9183673\n",
       "3          26916\n",
       "4          11233\n",
       "          ...   \n",
       "12757       9306\n",
       "12758       2568\n",
       "12759      83857\n",
       "12760     524061\n",
       "12761       4791\n",
       "Name: worlwide_gross_income, Length: 12762, dtype: int64"
      ]
     },
     "execution_count": 10,
     "metadata": {},
     "output_type": "execute_result"
    }
   ],
   "source": [
    "df['worlwide_gross_income'] = df['worlwide_gross_income'].str.strip() # supprime les espaces à la fin et au début\n",
    "df['worlwide_gross_income'] = df['worlwide_gross_income'].str.split() # split la string en mots\n",
    "\n",
    "df['worlwide_gross_income'] = df['worlwide_gross_income'].apply(lambda x: x[1]).astype('int64')\n",
    "df['worlwide_gross_income']"
   ]
  },
  {
   "cell_type": "markdown",
   "id": "d4008c4c",
   "metadata": {},
   "source": [
    "#### Baseline"
   ]
  },
  {
   "cell_type": "code",
   "execution_count": 49,
   "id": "4baa8ee9",
   "metadata": {},
   "outputs": [],
   "source": [
    "from sklearn.linear_model import LinearRegression\n",
    "from sklearn.preprocessing import RobustScaler\n",
    "from sklearn.model_selection import cross_val_score"
   ]
  },
  {
   "cell_type": "code",
   "execution_count": 69,
   "id": "b1c4bf1e",
   "metadata": {},
   "outputs": [
    {
     "data": {
      "text/plain": [
       "((9025, 3), (9025,))"
      ]
     },
     "execution_count": 69,
     "metadata": {},
     "output_type": "execute_result"
    }
   ],
   "source": [
    "# Declaring X and y\n",
    "reg_df = df[df.currency == '$'].copy()\n",
    "X = reg_df[['budget', 'avg_vote', 'duration']]\n",
    "y = reg_df['worlwide_gross_income']\n",
    "# X.avg_vote.hist()\n",
    "X.shape, y.shape"
   ]
  },
  {
   "cell_type": "code",
   "execution_count": 71,
   "id": "fff12df9",
   "metadata": {
    "collapsed": true
   },
   "outputs": [
    {
     "name": "stderr",
     "output_type": "stream",
     "text": [
      "/tmp/ipykernel_1112/3973795352.py:3: SettingWithCopyWarning: \n",
      "A value is trying to be set on a copy of a slice from a DataFrame.\n",
      "Try using .loc[row_indexer,col_indexer] = value instead\n",
      "\n",
      "See the caveats in the documentation: https://pandas.pydata.org/pandas-docs/stable/user_guide/indexing.html#returning-a-view-versus-a-copy\n",
      "  X['avg_vote'] = scaler.fit_transform(X[['avg_vote']])\n"
     ]
    }
   ],
   "source": [
    "# Scaling avg_vote\n",
    "scaler = RobustScaler()\n",
    "X['avg_vote'] = scaler.fit_transform(X[['avg_vote']])"
   ]
  },
  {
   "cell_type": "code",
   "execution_count": 72,
   "id": "5df46513",
   "metadata": {},
   "outputs": [
    {
     "data": {
      "text/plain": [
       "LinearRegression()"
      ]
     },
     "execution_count": 72,
     "metadata": {},
     "output_type": "execute_result"
    }
   ],
   "source": [
    "# Model\n",
    "reg = LinearRegression()\n",
    "reg.fit(X, y)"
   ]
  },
  {
   "cell_type": "code",
   "execution_count": 74,
   "id": "f67b5ca0",
   "metadata": {},
   "outputs": [
    {
     "data": {
      "text/plain": [
       "0.4893042518334457"
      ]
     },
     "execution_count": 74,
     "metadata": {},
     "output_type": "execute_result"
    }
   ],
   "source": [
    "# Baseline score\n",
    "results = cross_val_score(reg, X, y, cv=10, scoring='r2')\n",
    "results.mean()"
   ]
  },
  {
   "cell_type": "markdown",
   "id": "52786742",
   "metadata": {
    "heading_collapsed": true
   },
   "source": [
    "#### Plots"
   ]
  },
  {
   "cell_type": "code",
   "execution_count": 18,
   "id": "1fa7d91e",
   "metadata": {
    "hidden": true
   },
   "outputs": [
    {
     "data": {
      "text/plain": [
       "(0.0, 1000000000.0)"
      ]
     },
     "execution_count": 18,
     "metadata": {},
     "output_type": "execute_result"
    },
    {
     "data": {
      "image/png": "[encoded data removed]",
      "text/plain": [
       "<Figure size 432x288 with 1 Axes>"
      ]
     },
     "metadata": {
      "needs_background": "light"
     },
     "output_type": "display_data"
    }
   ],
   "source": [
    "# Income vs Budget\n",
    "sns.scatterplot(x=df.worlwide_gross_income, y=df.budget)\n",
    "plt.xlim(left=0, right=500000)\n",
    "plt.ylim(bottom=0, top=1000000000)"
   ]
  },
  {
   "cell_type": "code",
   "execution_count": 19,
   "id": "cfda5b56",
   "metadata": {
    "hidden": true
   },
   "outputs": [
    {
     "data": {
      "text/plain": [
       "<AxesSubplot:xlabel='year', ylabel='worlwide_gross_income'>"
      ]
     },
     "execution_count": 19,
     "metadata": {},
     "output_type": "execute_result"
    },
    {
     "data": {
      "image/png": "[encoded data removed]",
      "text/plain": [
       "<Figure size 432x288 with 1 Axes>"
      ]
     },
     "metadata": {
      "needs_background": "light"
     },
     "output_type": "display_data"
    }
   ],
   "source": [
    "# Income vs year\n",
    "sns.scatterplot(y=df.worlwide_gross_income, x=df.year)"
   ]
  },
  {
   "cell_type": "code",
   "execution_count": 20,
   "id": "e74e06c5",
   "metadata": {
    "hidden": true
   },
   "outputs": [],
   "source": [
    "df.year = df.year.astype('int64')"
   ]
  },
  {
   "cell_type": "code",
   "execution_count": 26,
   "id": "abb5845c",
   "metadata": {
    "hidden": true
   },
   "outputs": [],
   "source": [
    "df.date_published = pd.to_datetime(df.date_published)"
   ]
  },
  {
   "cell_type": "code",
   "execution_count": 27,
   "id": "0d2a0bd5",
   "metadata": {
    "hidden": true
   },
   "outputs": [
    {
     "data": {
      "text/plain": [
       "(70, 24)"
      ]
     },
     "execution_count": 27,
     "metadata": {},
     "output_type": "execute_result"
    }
   ],
   "source": [
    "df[df.year==2020].shape"
   ]
  },
  {
   "cell_type": "code",
   "execution_count": 28,
   "id": "e2b511f9",
   "metadata": {
    "hidden": true
   },
   "outputs": [
    {
     "data": {
      "text/plain": [
       "<AxesSubplot:xlabel='date_published', ylabel='worlwide_gross_income'>"
      ]
     },
     "execution_count": 28,
     "metadata": {},
     "output_type": "execute_result"
    },
    {
     "data": {
      "image/png": "[encoded data removed]",
      "text/plain": [
       "<Figure size 432x288 with 1 Axes>"
      ]
     },
     "metadata": {
      "needs_background": "light"
     },
     "output_type": "display_data"
    }
   ],
   "source": [
    "sns.scatterplot(y=df.worlwide_gross_income, x=df[df.year>1980].date_published)"
   ]
  },
  {
   "cell_type": "code",
   "execution_count": 29,
   "id": "8b0a32a9",
   "metadata": {
    "hidden": true
   },
   "outputs": [
    {
     "data": {
      "text/plain": [
       "(18, 24)"
      ]
     },
     "execution_count": 29,
     "metadata": {},
     "output_type": "execute_result"
    }
   ],
   "source": [
    "df[df.worlwide_gross_income < 100].shape"
   ]
  },
  {
   "cell_type": "code",
   "execution_count": null,
   "id": "61d194ca",
   "metadata": {
    "hidden": true
   },
   "outputs": [],
   "source": []
  },
  {
   "cell_type": "code",
   "execution_count": null,
   "id": "243635f8",
   "metadata": {
    "hidden": true
   },
   "outputs": [],
   "source": []
  }
 ],
 "metadata": {
  "kernelspec": {
   "display_name": "Python 3 (ipykernel)",
   "language": "python",
   "name": "python3"
  },
  "language_info": {
   "codemirror_mode": {
    "name": "ipython",
    "version": 3
   },
   "file_extension": ".py",
   "mimetype": "text/x-python",
   "name": "python",
   "nbconvert_exporter": "python",
   "pygments_lexer": "ipython3",
   "version": "3.8.12"
  },
  "toc": {
   "base_numbering": 1,
   "nav_menu": {},
   "number_sections": true,
   "sideBar": true,
   "skip_h1_title": false,
   "title_cell": "Table of Contents",
   "title_sidebar": "Contents",
   "toc_cell": false,
   "toc_position": {},
   "toc_section_display": true,
   "toc_window_display": false
  }
 },
 "nbformat": 4,
 "nbformat_minor": 5
}
