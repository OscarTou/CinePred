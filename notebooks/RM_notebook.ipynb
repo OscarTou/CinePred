{
 "cells": [
  {
   "cell_type": "markdown",
   "id": "aecdbc34-ec5e-4493-a44d-5bc53926583c",
   "metadata": {},
   "source": [
    "## Import"
   ]
  },
  {
   "cell_type": "code",
   "execution_count": 20,
   "id": "4830b6df-ab46-4689-a4bd-47b30f9f1256",
   "metadata": {},
   "outputs": [
    {
     "name": "stdout",
     "output_type": "stream",
     "text": [
      "The autoreload extension is already loaded. To reload it, use:\n",
      "  %reload_ext autoreload\n"
     ]
    }
   ],
   "source": [
    "import pandas as pd\n",
    "import numpy as np\n",
    "import seaborn as sns\n",
    "\n",
    "from CinePred.data.importing import import_data\n",
    "from CinePred.data.preprocessing import *\n",
    "from CinePred.data.featuring import *\n",
    "\n",
    "from cpi import *\n",
    "import datetime\n",
    "\n",
    "%load_ext autoreload\n",
    "%autoreload 2"
   ]
  },
  {
   "cell_type": "code",
   "execution_count": 23,
   "id": "3e64c376-08ff-46d7-be4f-bc45917a76bc",
   "metadata": {},
   "outputs": [
    {
     "name": "stdout",
     "output_type": "stream",
     "text": [
      "----- keep columns -----\n",
      "----- remove na rows -----\n",
      "----- convert budget -----\n",
      "----- convert income column -----\n"
     ]
    },
    {
     "ename": "TypeError",
     "evalue": "'NoneType' object is not subscriptable",
     "output_type": "error",
     "traceback": [
      "\u001b[0;31m---------------------------------------------------------------------------\u001b[0m",
      "\u001b[0;31mTypeError\u001b[0m                                 Traceback (most recent call last)",
      "\u001b[0;32m/var/folders/j3/90rb5n3n7k1c462291bx08dm0000gn/T/ipykernel_61185/3494439970.py\u001b[0m in \u001b[0;36m<module>\u001b[0;34m\u001b[0m\n\u001b[1;32m     18\u001b[0m \u001b[0;34m\u001b[0m\u001b[0m\n\u001b[1;32m     19\u001b[0m \u001b[0mprint\u001b[0m\u001b[0;34m(\u001b[0m\u001b[0;34m'----- convert income column -----'\u001b[0m\u001b[0;34m)\u001b[0m\u001b[0;34m\u001b[0m\u001b[0;34m\u001b[0m\u001b[0m\n\u001b[0;32m---> 20\u001b[0;31m \u001b[0mdf\u001b[0m\u001b[0;34m[\u001b[0m\u001b[0;34m'worlwide_gross_income'\u001b[0m\u001b[0;34m]\u001b[0m \u001b[0;34m=\u001b[0m \u001b[0mconvert_income\u001b[0m\u001b[0;34m(\u001b[0m\u001b[0mdf\u001b[0m\u001b[0;34m[\u001b[0m\u001b[0;34m[\u001b[0m\u001b[0;34m'worlwide_gross_income'\u001b[0m\u001b[0;34m]\u001b[0m\u001b[0;34m]\u001b[0m\u001b[0;34m)\u001b[0m\u001b[0;34m\u001b[0m\u001b[0;34m\u001b[0m\u001b[0m\n\u001b[0m\u001b[1;32m     21\u001b[0m \u001b[0;34m\u001b[0m\u001b[0m\n\u001b[1;32m     22\u001b[0m \u001b[0mprint\u001b[0m\u001b[0;34m(\u001b[0m\u001b[0;34m'----- convert to int -----'\u001b[0m\u001b[0;34m)\u001b[0m\u001b[0;34m\u001b[0m\u001b[0;34m\u001b[0m\u001b[0m\n",
      "\u001b[0;31mTypeError\u001b[0m: 'NoneType' object is not subscriptable"
     ]
    }
   ],
   "source": [
    "df = import_data('../raw_data/IMDb movies.csv')\n",
    "\n",
    "\n",
    "print('----- keep columns -----')\n",
    "df = keep_columns(df,\n",
    "                  column_names=[\n",
    "                      'imdb_title_id', 'title', 'year', 'date_published',\n",
    "                      'genre', 'duration', 'country', 'director', 'writer',\n",
    "                      'production_company', 'actors', 'budget',\n",
    "                      'worlwide_gross_income'\n",
    "                  ])\n",
    "\n",
    "print('----- remove na rows -----')\n",
    "df = remove_na_rows(df)\n",
    "\n",
    "print('----- convert budget -----')\n",
    "df['budget'] = convert_budget_column(df[['budget']], path=\"../raw_data/currencies.csv\")\n",
    "\n",
    "print('----- convert income column -----')\n",
    "df['worlwide_gross_income'] = convert_income(df[['worlwide_gross_income']])\n",
    "\n",
    "print('----- convert to int -----')\n",
    "df['year'] = convert_to_int(df[['year']])\n",
    "df['duration'] = convert_to_int(df[['duration']])\n",
    "\n",
    "print('----- convert to date -----')\n",
    "df['date_published'] = convert_to_date(df[['date_published']])\n",
    "\n",
    "print('----- reduce column type -----')\n",
    "df['actors_reduced'] = reduce_column_type(df[['actors']], nb_max=2)\n",
    "\n",
    "\n",
    "\n",
    "\n",
    "print('----- log transform -----')\n",
    "df['worlwide_gross_income'] = log_transformation(\n",
    "    df[['worlwide_gross_income']])\n",
    "\n",
    "\n",
    "\n",
    "#print('----- add_success_movies_per_actors -----')\n",
    "#df = add_success_movies_per_actors(df)\n",
    "\n",
    "print('----- data_shape -----')\n",
    "df.head(2)"
   ]
  },
  {
   "cell_type": "code",
   "execution_count": 11,
   "id": "864ee7b5-adc9-4a47-9c6a-ab6af3fa0678",
   "metadata": {},
   "outputs": [],
   "source": [
    "def reduce_column_type2(df, nb_max=5):\n",
    "    # separate all types into list\n",
    "    df_copy = df.copy()\n",
    "    types_list = df_copy.iloc[:, 0].str.split(',')\n",
    "    df_copy = [', '.join(types[:nb_max]) for types in types_list]\n",
    "    return pd.DataFrame(df_copy)"
   ]
  },
  {
   "cell_type": "code",
   "execution_count": 14,
   "id": "b4725e71-1d79-4baf-899f-4d6e379a2a89",
   "metadata": {},
   "outputs": [
    {
     "data": {
      "text/html": [
       "<div>\n",
       "<style scoped>\n",
       "    .dataframe tbody tr th:only-of-type {\n",
       "        vertical-align: middle;\n",
       "    }\n",
       "\n",
       "    .dataframe tbody tr th {\n",
       "        vertical-align: top;\n",
       "    }\n",
       "\n",
       "    .dataframe thead th {\n",
       "        text-align: right;\n",
       "    }\n",
       "</style>\n",
       "<table border=\"1\" class=\"dataframe\">\n",
       "  <thead>\n",
       "    <tr style=\"text-align: right;\">\n",
       "      <th></th>\n",
       "      <th>reduced_actors</th>\n",
       "      <th>actors</th>\n",
       "    </tr>\n",
       "  </thead>\n",
       "  <tbody>\n",
       "    <tr>\n",
       "      <th>0</th>\n",
       "      <td>Werner Krauss,  Conrad Veidt</td>\n",
       "      <td>Werner Krauss, Conrad Veidt, Friedrich Feher, ...</td>\n",
       "    </tr>\n",
       "    <tr>\n",
       "      <th>1</th>\n",
       "      <td>Amund Rydland,  Karen Poulsen</td>\n",
       "      <td>Amund Rydland, Karen Poulsen, Ragna Wettergree...</td>\n",
       "    </tr>\n",
       "    <tr>\n",
       "      <th>2</th>\n",
       "      <td>Pomeroy Cannon,  Josef Swickard</td>\n",
       "      <td>Pomeroy Cannon, Josef Swickard, Bridgetta Clar...</td>\n",
       "    </tr>\n",
       "    <tr>\n",
       "      <th>3</th>\n",
       "      <td>Carl Miller,  Edna Purviance</td>\n",
       "      <td>Carl Miller, Edna Purviance, Jackie Coogan, Ch...</td>\n",
       "    </tr>\n",
       "    <tr>\n",
       "      <th>4</th>\n",
       "      <td>Edna Purviance,  Clarence Geldart</td>\n",
       "      <td>Edna Purviance, Clarence Geldart, Carl Miller,...</td>\n",
       "    </tr>\n",
       "    <tr>\n",
       "      <th>...</th>\n",
       "      <td>...</td>\n",
       "      <td>...</td>\n",
       "    </tr>\n",
       "    <tr>\n",
       "      <th>12565</th>\n",
       "      <td>Dileep,  Anu Sithara</td>\n",
       "      <td>Dileep, Anu Sithara, Siddique, Suraj Venjaramo...</td>\n",
       "    </tr>\n",
       "    <tr>\n",
       "      <th>12566</th>\n",
       "      <td>Manesh Krishnan,  Gopika Anil</td>\n",
       "      <td>Manesh Krishnan, Gopika Anil, Salim Kumar, Dev...</td>\n",
       "    </tr>\n",
       "    <tr>\n",
       "      <th>12567</th>\n",
       "      <td>Asyiela Putri Bt Azhar,  Mohd Amir Asyraf Bin ...</td>\n",
       "      <td>Asyiela Putri Bt Azhar, Mohd Amir Asyraf Bin M...</td>\n",
       "    </tr>\n",
       "    <tr>\n",
       "      <th>12568</th>\n",
       "      <td>Karthi,  Narain</td>\n",
       "      <td>Karthi, Narain, Ramana, George Maryan, Harish ...</td>\n",
       "    </tr>\n",
       "    <tr>\n",
       "      <th>12569</th>\n",
       "      <td>Nandu Anand,  Roshan Ullas</td>\n",
       "      <td>Nandu Anand, Roshan Ullas, Manikandan R. Achar...</td>\n",
       "    </tr>\n",
       "  </tbody>\n",
       "</table>\n",
       "<p>12570 rows × 2 columns</p>\n",
       "</div>"
      ],
      "text/plain": [
       "                                          reduced_actors  \\\n",
       "0                           Werner Krauss,  Conrad Veidt   \n",
       "1                          Amund Rydland,  Karen Poulsen   \n",
       "2                        Pomeroy Cannon,  Josef Swickard   \n",
       "3                           Carl Miller,  Edna Purviance   \n",
       "4                      Edna Purviance,  Clarence Geldart   \n",
       "...                                                  ...   \n",
       "12565                               Dileep,  Anu Sithara   \n",
       "12566                      Manesh Krishnan,  Gopika Anil   \n",
       "12567  Asyiela Putri Bt Azhar,  Mohd Amir Asyraf Bin ...   \n",
       "12568                                    Karthi,  Narain   \n",
       "12569                         Nandu Anand,  Roshan Ullas   \n",
       "\n",
       "                                                  actors  \n",
       "0      Werner Krauss, Conrad Veidt, Friedrich Feher, ...  \n",
       "1      Amund Rydland, Karen Poulsen, Ragna Wettergree...  \n",
       "2      Pomeroy Cannon, Josef Swickard, Bridgetta Clar...  \n",
       "3      Carl Miller, Edna Purviance, Jackie Coogan, Ch...  \n",
       "4      Edna Purviance, Clarence Geldart, Carl Miller,...  \n",
       "...                                                  ...  \n",
       "12565  Dileep, Anu Sithara, Siddique, Suraj Venjaramo...  \n",
       "12566  Manesh Krishnan, Gopika Anil, Salim Kumar, Dev...  \n",
       "12567  Asyiela Putri Bt Azhar, Mohd Amir Asyraf Bin M...  \n",
       "12568  Karthi, Narain, Ramana, George Maryan, Harish ...  \n",
       "12569  Nandu Anand, Roshan Ullas, Manikandan R. Achar...  \n",
       "\n",
       "[12570 rows x 2 columns]"
      ]
     },
     "execution_count": 14,
     "metadata": {},
     "output_type": "execute_result"
    }
   ],
   "source": [
    "df['reduced_actors'] = reduce_column_type2(df[['actors']], nb_max=2)\n",
    "df[['reduced_actors','actors']]\n"
   ]
  },
  {
   "cell_type": "code",
   "execution_count": null,
   "id": "b03d225b-431c-4316-9f21-1133b875e064",
   "metadata": {},
   "outputs": [],
   "source": []
  }
 ],
 "metadata": {
  "kernelspec": {
   "display_name": "Python 3 (ipykernel)",
   "language": "python",
   "name": "python3"
  },
  "language_info": {
   "codemirror_mode": {
    "name": "ipython",
    "version": 3
   },
   "file_extension": ".py",
   "mimetype": "text/x-python",
   "name": "python",
   "nbconvert_exporter": "python",
   "pygments_lexer": "ipython3",
   "version": "3.8.12"
  }
 },
 "nbformat": 4,
 "nbformat_minor": 5
}
