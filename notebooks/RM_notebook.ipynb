{
 "cells": [
  {
   "cell_type": "markdown",
   "id": "aecdbc34-ec5e-4493-a44d-5bc53926583c",
   "metadata": {},
   "source": [
    "## Import"
   ]
  },
  {
   "cell_type": "code",
   "execution_count": 7,
   "id": "4830b6df-ab46-4689-a4bd-47b30f9f1256",
   "metadata": {},
   "outputs": [
    {
     "name": "stdout",
     "output_type": "stream",
     "text": [
      "The autoreload extension is already loaded. To reload it, use:\n",
      "  %reload_ext autoreload\n"
     ]
    }
   ],
   "source": [
    "import pandas as pd\n",
    "import numpy as np\n",
    "import seaborn as sns\n",
    "\n",
    "from CinePred.data.importing import import_data\n",
    "from CinePred.data.preprocessing import *\n",
    "from CinePred.data.featuring import *\n",
    "\n",
    "from cpi import *\n",
    "import datetime\n",
    "\n",
    "%load_ext autoreload\n",
    "%autoreload 2"
   ]
  },
  {
   "cell_type": "code",
   "execution_count": 19,
   "id": "3e64c376-08ff-46d7-be4f-bc45917a76bc",
   "metadata": {},
   "outputs": [
    {
     "name": "stdout",
     "output_type": "stream",
     "text": [
      "----- keep columns -----\n",
      "----- remove na rows -----\n",
      "----- convert budget -----\n",
      "----- convert income column -----\n",
      "----- convert to int -----\n",
      "----- convert to date -----\n",
      "----- reset index -----\n",
      "----- log transform -----\n",
      "----- add_success_movies_per_actors -----\n",
      "----- data_shape -----\n"
     ]
    },
    {
     "data": {
      "text/html": [
       "<div>\n",
       "<style scoped>\n",
       "    .dataframe tbody tr th:only-of-type {\n",
       "        vertical-align: middle;\n",
       "    }\n",
       "\n",
       "    .dataframe tbody tr th {\n",
       "        vertical-align: top;\n",
       "    }\n",
       "\n",
       "    .dataframe thead th {\n",
       "        text-align: right;\n",
       "    }\n",
       "</style>\n",
       "<table border=\"1\" class=\"dataframe\">\n",
       "  <thead>\n",
       "    <tr style=\"text-align: right;\">\n",
       "      <th></th>\n",
       "      <th>imdb_title_id</th>\n",
       "      <th>title</th>\n",
       "      <th>year</th>\n",
       "      <th>date_published</th>\n",
       "      <th>genre</th>\n",
       "      <th>duration</th>\n",
       "      <th>country</th>\n",
       "      <th>director</th>\n",
       "      <th>writer</th>\n",
       "      <th>production_company</th>\n",
       "      <th>actors</th>\n",
       "      <th>budget</th>\n",
       "      <th>worlwide_gross_income</th>\n",
       "      <th>totalsuccess</th>\n",
       "    </tr>\n",
       "  </thead>\n",
       "  <tbody>\n",
       "    <tr>\n",
       "      <th>0</th>\n",
       "      <td>tt0010323</td>\n",
       "      <td>Il gabinetto del dottor Caligari</td>\n",
       "      <td>1920</td>\n",
       "      <td>1920-02-27</td>\n",
       "      <td>Fantasy, Horror, Mystery</td>\n",
       "      <td>76</td>\n",
       "      <td>Germany</td>\n",
       "      <td>Robert Wiene</td>\n",
       "      <td>Carl Mayer, Hans Janowitz</td>\n",
       "      <td>Decla-Bioscop AG</td>\n",
       "      <td>Werner Krauss, Conrad Veidt, Friedrich Feher, ...</td>\n",
       "      <td>18000</td>\n",
       "      <td>3.945025</td>\n",
       "      <td>0</td>\n",
       "    </tr>\n",
       "    <tr>\n",
       "      <th>1</th>\n",
       "      <td>tt0011440</td>\n",
       "      <td>Markens grøde</td>\n",
       "      <td>1921</td>\n",
       "      <td>1921-12-02</td>\n",
       "      <td>Drama</td>\n",
       "      <td>107</td>\n",
       "      <td>Norway</td>\n",
       "      <td>Gunnar Sommerfeldt</td>\n",
       "      <td>Knut Hamsun, Gunnar Sommerfeldt</td>\n",
       "      <td>Christiana Film</td>\n",
       "      <td>Amund Rydland, Karen Poulsen, Ragna Wettergree...</td>\n",
       "      <td>27887</td>\n",
       "      <td>3.630631</td>\n",
       "      <td>0</td>\n",
       "    </tr>\n",
       "    <tr>\n",
       "      <th>2</th>\n",
       "      <td>tt0012190</td>\n",
       "      <td>I quattro cavalieri dell'Apocalisse</td>\n",
       "      <td>1921</td>\n",
       "      <td>1923-04-16</td>\n",
       "      <td>Drama, Romance, War</td>\n",
       "      <td>150</td>\n",
       "      <td>USA</td>\n",
       "      <td>Rex Ingram</td>\n",
       "      <td>Vicente Blasco Ibáñez, June Mathis</td>\n",
       "      <td>Metro Pictures Corporation</td>\n",
       "      <td>Pomeroy Cannon, Josef Swickard, Bridgetta Clar...</td>\n",
       "      <td>800000</td>\n",
       "      <td>6.963016</td>\n",
       "      <td>0</td>\n",
       "    </tr>\n",
       "    <tr>\n",
       "      <th>3</th>\n",
       "      <td>tt0012349</td>\n",
       "      <td>Il monello</td>\n",
       "      <td>1921</td>\n",
       "      <td>1923-11-26</td>\n",
       "      <td>Comedy, Drama, Family</td>\n",
       "      <td>68</td>\n",
       "      <td>USA</td>\n",
       "      <td>Charles Chaplin</td>\n",
       "      <td>Charles Chaplin</td>\n",
       "      <td>Charles Chaplin Productions</td>\n",
       "      <td>Carl Miller, Edna Purviance, Jackie Coogan, Ch...</td>\n",
       "      <td>250000</td>\n",
       "      <td>4.430011</td>\n",
       "      <td>0</td>\n",
       "    </tr>\n",
       "    <tr>\n",
       "      <th>4</th>\n",
       "      <td>tt0014624</td>\n",
       "      <td>La donna di Parigi</td>\n",
       "      <td>1923</td>\n",
       "      <td>1927-06-06</td>\n",
       "      <td>Drama, Romance</td>\n",
       "      <td>82</td>\n",
       "      <td>USA</td>\n",
       "      <td>Charles Chaplin</td>\n",
       "      <td>Charles Chaplin</td>\n",
       "      <td>Charles Chaplin Productions</td>\n",
       "      <td>Edna Purviance, Clarence Geldart, Carl Miller,...</td>\n",
       "      <td>351000</td>\n",
       "      <td>4.050496</td>\n",
       "      <td>0</td>\n",
       "    </tr>\n",
       "  </tbody>\n",
       "</table>\n",
       "</div>"
      ],
      "text/plain": [
       "  imdb_title_id                                title  year date_published  \\\n",
       "0     tt0010323     Il gabinetto del dottor Caligari  1920     1920-02-27   \n",
       "1     tt0011440                        Markens grøde  1921     1921-12-02   \n",
       "2     tt0012190  I quattro cavalieri dell'Apocalisse  1921     1923-04-16   \n",
       "3     tt0012349                           Il monello  1921     1923-11-26   \n",
       "4     tt0014624                   La donna di Parigi  1923     1927-06-06   \n",
       "\n",
       "                      genre  duration  country            director  \\\n",
       "0  Fantasy, Horror, Mystery        76  Germany        Robert Wiene   \n",
       "1                     Drama       107   Norway  Gunnar Sommerfeldt   \n",
       "2       Drama, Romance, War       150      USA          Rex Ingram   \n",
       "3     Comedy, Drama, Family        68      USA     Charles Chaplin   \n",
       "4            Drama, Romance        82      USA     Charles Chaplin   \n",
       "\n",
       "                               writer           production_company  \\\n",
       "0           Carl Mayer, Hans Janowitz             Decla-Bioscop AG   \n",
       "1     Knut Hamsun, Gunnar Sommerfeldt              Christiana Film   \n",
       "2  Vicente Blasco Ibáñez, June Mathis   Metro Pictures Corporation   \n",
       "3                     Charles Chaplin  Charles Chaplin Productions   \n",
       "4                     Charles Chaplin  Charles Chaplin Productions   \n",
       "\n",
       "                                              actors  budget  \\\n",
       "0  Werner Krauss, Conrad Veidt, Friedrich Feher, ...   18000   \n",
       "1  Amund Rydland, Karen Poulsen, Ragna Wettergree...   27887   \n",
       "2  Pomeroy Cannon, Josef Swickard, Bridgetta Clar...  800000   \n",
       "3  Carl Miller, Edna Purviance, Jackie Coogan, Ch...  250000   \n",
       "4  Edna Purviance, Clarence Geldart, Carl Miller,...  351000   \n",
       "\n",
       "   worlwide_gross_income  totalsuccess  \n",
       "0               3.945025             0  \n",
       "1               3.630631             0  \n",
       "2               6.963016             0  \n",
       "3               4.430011             0  \n",
       "4               4.050496             0  "
      ]
     },
     "execution_count": 19,
     "metadata": {},
     "output_type": "execute_result"
    }
   ],
   "source": [
    "df = import_data('../raw_data/IMDb movies.csv')\n",
    "\n",
    "\n",
    "print('----- keep columns -----')\n",
    "df = keep_columns(df,\n",
    "                  column_names=[\n",
    "                      'imdb_title_id', 'title', 'year', 'date_published',\n",
    "                      'genre', 'duration', 'country', 'director', 'writer',\n",
    "                      'production_company', 'actors', 'budget',\n",
    "                      'worlwide_gross_income'\n",
    "                  ])\n",
    "\n",
    "print('----- remove na rows -----')\n",
    "df = remove_na_rows(df)\n",
    "\n",
    "print('----- convert budget -----')\n",
    "df['budget'] = convert_budget_column(df[['budget']], path=\"../raw_data/currencies.csv\")\n",
    "\n",
    "#print('----- reduce column type -----')\n",
    "#df['actors'] = reduce_column_type(df[['actors']], nb_max=2)\n",
    "\n",
    "print('----- convert income column -----')\n",
    "df['worlwide_gross_income'] = convert_income(df[['worlwide_gross_income']])\n",
    "\n",
    "print('----- convert to int -----')\n",
    "df['year'] = convert_to_int(df[['year']])\n",
    "df['duration'] = convert_to_int(df[['duration']])\n",
    "\n",
    "print('----- convert to date -----')\n",
    "df['date_published'] = convert_to_date(df[['date_published']])\n",
    "\n",
    "print('----- reset index -----')\n",
    "df = reset_index(df)\n",
    "\n",
    "print('----- log transform -----')\n",
    "df['worlwide_gross_income'] = log_transformation(\n",
    "    df[['worlwide_gross_income']])\n",
    "\n",
    "print('----- add_success_movies_per_actors -----')\n",
    "df = add_success_movies_per_actors(df)\n",
    "\n",
    "print('----- data_shape -----')\n",
    "df.head()"
   ]
  },
  {
   "cell_type": "code",
   "execution_count": null,
   "id": "30e922c7-b5f7-4ab5-ae2e-a312daee145f",
   "metadata": {},
   "outputs": [],
   "source": []
  },
  {
   "cell_type": "code",
   "execution_count": 31,
   "id": "933c1902-0f1f-4e80-8cd8-7802973029a3",
   "metadata": {},
   "outputs": [],
   "source": [
    "def reduce_column_type2(df, nb_max=5):\n",
    "    # separate all types into list\n",
    "    types_list = df.iloc[:, 0].str.split(',')\n",
    "    df = [', '.join(types[:nb_max]) for types in types_list]\n",
    "    return pd.DataFrame(df)"
   ]
  },
  {
   "cell_type": "code",
   "execution_count": 34,
   "id": "864ee7b5-adc9-4a47-9c6a-ab6af3fa0678",
   "metadata": {},
   "outputs": [
    {
     "data": {
      "text/html": [
       "<div>\n",
       "<style scoped>\n",
       "    .dataframe tbody tr th:only-of-type {\n",
       "        vertical-align: middle;\n",
       "    }\n",
       "\n",
       "    .dataframe tbody tr th {\n",
       "        vertical-align: top;\n",
       "    }\n",
       "\n",
       "    .dataframe thead th {\n",
       "        text-align: right;\n",
       "    }\n",
       "</style>\n",
       "<table border=\"1\" class=\"dataframe\">\n",
       "  <thead>\n",
       "    <tr style=\"text-align: right;\">\n",
       "      <th></th>\n",
       "      <th>actors</th>\n",
       "      <th>result</th>\n",
       "    </tr>\n",
       "  </thead>\n",
       "  <tbody>\n",
       "    <tr>\n",
       "      <th>0</th>\n",
       "      <td>Werner Krauss, Conrad Veidt, Friedrich Feher, ...</td>\n",
       "      <td>Werner Krauss</td>\n",
       "    </tr>\n",
       "    <tr>\n",
       "      <th>1</th>\n",
       "      <td>Amund Rydland, Karen Poulsen, Ragna Wettergree...</td>\n",
       "      <td>Amund Rydland</td>\n",
       "    </tr>\n",
       "  </tbody>\n",
       "</table>\n",
       "</div>"
      ],
      "text/plain": [
       "                                              actors         result\n",
       "0  Werner Krauss, Conrad Veidt, Friedrich Feher, ...  Werner Krauss\n",
       "1  Amund Rydland, Karen Poulsen, Ragna Wettergree...  Amund Rydland"
      ]
     },
     "execution_count": 34,
     "metadata": {},
     "output_type": "execute_result"
    }
   ],
   "source": [
    "df[['result']] = reduce_column_type2(df[['actors']], nb_max=1)\n",
    "df[['actors','result']].head(2)\n"
   ]
  },
  {
   "cell_type": "code",
   "execution_count": null,
   "id": "2b036bbd-29d2-4b8a-8530-f7216a0c64e8",
   "metadata": {},
   "outputs": [],
   "source": [
    "{"
   ]
  },
  {
   "cell_type": "code",
   "execution_count": null,
   "id": "88e8390f-92e6-4ab9-bce4-26e2fb0c85ab",
   "metadata": {
    "tags": []
   },
   "outputs": [],
   "source": [
    "print(\"\\n----  FEATURING -----\\n\")\n",
    "df = feature_example(df)\n"
   ]
  },
  {
   "cell_type": "code",
   "execution_count": 6,
   "id": "15a1f0a0-c4d0-42b2-ae18-aa0847b35565",
   "metadata": {
    "tags": []
   },
   "outputs": [
    {
     "ename": "NameError",
     "evalue": "name 'cpi' is not defined",
     "output_type": "error",
     "traceback": [
      "\u001b[0;31m---------------------------------------------------------------------------\u001b[0m",
      "\u001b[0;31mNameError\u001b[0m                                 Traceback (most recent call last)",
      "\u001b[0;32m/var/folders/j3/90rb5n3n7k1c462291bx08dm0000gn/T/ipykernel_38100/1528550677.py\u001b[0m in \u001b[0;36m<module>\u001b[0;34m\u001b[0m\n\u001b[1;32m      1\u001b[0m \u001b[0mdf\u001b[0m\u001b[0;34m[\u001b[0m\u001b[0;34m[\u001b[0m\u001b[0;34m\"year\"\u001b[0m\u001b[0;34m,\u001b[0m\u001b[0;34m\"budget\"\u001b[0m\u001b[0;34m]\u001b[0m\u001b[0;34m]\u001b[0m\u001b[0;34m.\u001b[0m\u001b[0miloc\u001b[0m\u001b[0;34m[\u001b[0m\u001b[0;34m:\u001b[0m\u001b[0;34m,\u001b[0m\u001b[0;36m0\u001b[0m\u001b[0;34m]\u001b[0m\u001b[0;34m\u001b[0m\u001b[0;34m\u001b[0m\u001b[0m\n\u001b[1;32m      2\u001b[0m \u001b[0;32mfrom\u001b[0m \u001b[0mcpi\u001b[0m \u001b[0;32mimport\u001b[0m \u001b[0minflate\u001b[0m\u001b[0;34m\u001b[0m\u001b[0;34m\u001b[0m\u001b[0m\n\u001b[0;32m----> 3\u001b[0;31m \u001b[0mcpi\u001b[0m\u001b[0;34m.\u001b[0m\u001b[0minflate\u001b[0m\u001b[0;34m\u001b[0m\u001b[0;34m\u001b[0m\u001b[0m\n\u001b[0m",
      "\u001b[0;31mNameError\u001b[0m: name 'cpi' is not defined"
     ]
    }
   ],
   "source": [
    "df[[\"year\",\"budget\"]].iloc[:,0]\n",
    "from cpi import inflate\n",
    "cpi.inflate"
   ]
  },
  {
   "cell_type": "code",
   "execution_count": null,
   "id": "5463df33-2d7b-430b-b21c-25c1e053d28a",
   "metadata": {
    "tags": []
   },
   "outputs": [],
   "source": [
    "def add_inflation_budget(df):\n",
    "    df[\"year_2\"] = df.iloc[:,0].apply(lambda x: 2018 if x > 2018 else x)\n",
    "    return df.apply(\n",
    "        lambda x: cpi.inflate(x[column_money], x[\"year_2\"], axis=1))\n",
    "\n",
    "add_inflation_budget(df[[\"year\",\"budget\"]])"
   ]
  },
  {
   "cell_type": "code",
   "execution_count": null,
   "id": "568287c7-e03d-460c-9eb4-bde656d830f1",
   "metadata": {},
   "outputs": [],
   "source": []
  },
  {
   "cell_type": "code",
   "execution_count": null,
   "id": "b6f9043a-7f6c-44be-b58a-fb4ef26cac4f",
   "metadata": {},
   "outputs": [],
   "source": []
  }
 ],
 "metadata": {
  "kernelspec": {
   "display_name": "Python 3 (ipykernel)",
   "language": "python",
   "name": "python3"
  },
  "language_info": {
   "codemirror_mode": {
    "name": "ipython",
    "version": 3
   },
   "file_extension": ".py",
   "mimetype": "text/x-python",
   "name": "python",
   "nbconvert_exporter": "python",
   "pygments_lexer": "ipython3",
   "version": "3.8.12"
  }
 },
 "nbformat": 4,
 "nbformat_minor": 5
}
