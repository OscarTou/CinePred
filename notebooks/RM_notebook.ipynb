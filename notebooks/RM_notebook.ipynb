{
 "cells": [
  {
   "cell_type": "markdown",
   "id": "aecdbc34-ec5e-4493-a44d-5bc53926583c",
   "metadata": {},
   "source": [
    "## Import libraries"
   ]
  },
  {
   "cell_type": "code",
   "execution_count": 1,
   "id": "4830b6df-ab46-4689-a4bd-47b30f9f1256",
   "metadata": {},
   "outputs": [],
   "source": [
    "import pandas as pd\n",
    "import numpy as np\n",
    "import seaborn as sns\n",
    "\n",
    "from CinePred.data.importing import import_data\n",
    "from CinePred.data.preprocessing import *\n",
    "from CinePred.data.featuring import *\n",
    "from CinePred.pipeline import *\n",
    "from CinePred.baseline import *\n",
    "\n",
    "from CinePred import pipeline\n",
    "from CinePred import baseline\n",
    "from CinePred import new_model\n",
    "from CinePred.new_model import *\n",
    "\n",
    "\n",
    "\n",
    "from sklearn.model_selection import TimeSeriesSplit, GridSearchCV, cross_validate\n",
    "from sklearn.metrics import mean_absolute_error, r2_score\n",
    "from sklearn.pipeline import make_pipeline\n",
    "from sklearn.compose import make_column_transformer\n",
    "from sklearn.preprocessing import FunctionTransformer, RobustScaler, OneHotEncoder\n",
    "from sklearn.ensemble import GradientBoostingRegressor\n",
    "from sklearn.linear_model import LinearRegression\n",
    "\n",
    "from sklearn import set_config; set_config(display='diagram')\n",
    "\n",
    "import datetime\n",
    "sns.set(rc={'figure.figsize':(16,8)})\n",
    "pd.set_option('display.max_columns', None)\n",
    "\n",
    "%load_ext autoreload\n",
    "%autoreload 2"
   ]
  },
  {
   "cell_type": "markdown",
   "id": "c520f7ef-496e-48c3-9177-b2ec88d622d7",
   "metadata": {},
   "source": [
    "## Import Data"
   ]
  },
  {
   "cell_type": "code",
   "execution_count": 73,
   "id": "140c3fc8-0594-4b30-b26b-12356a4ec8fb",
   "metadata": {},
   "outputs": [
    {
     "data": {
      "text/html": [
       "<div>\n",
       "<style scoped>\n",
       "    .dataframe tbody tr th:only-of-type {\n",
       "        vertical-align: middle;\n",
       "    }\n",
       "\n",
       "    .dataframe tbody tr th {\n",
       "        vertical-align: top;\n",
       "    }\n",
       "\n",
       "    .dataframe thead th {\n",
       "        text-align: right;\n",
       "    }\n",
       "</style>\n",
       "<table border=\"1\" class=\"dataframe\">\n",
       "  <thead>\n",
       "    <tr style=\"text-align: right;\">\n",
       "      <th></th>\n",
       "      <th>worlwide_gross_income</th>\n",
       "      <th>year</th>\n",
       "      <th>duration</th>\n",
       "      <th>budget</th>\n",
       "      <th>production_company</th>\n",
       "      <th>director</th>\n",
       "      <th>writer</th>\n",
       "      <th>shifted</th>\n",
       "      <th>nb_movies_actor1</th>\n",
       "      <th>nb_movies_actor2</th>\n",
       "      <th>nb_movies_actor3</th>\n",
       "      <th>last income</th>\n",
       "      <th>imdb_title_id</th>\n",
       "      <th>actors</th>\n",
       "      <th>description</th>\n",
       "      <th>avg_vote</th>\n",
       "      <th>country</th>\n",
       "      <th>date_sin</th>\n",
       "      <th>date_cos</th>\n",
       "      <th>Action</th>\n",
       "      <th>Biography</th>\n",
       "      <th>Thriller</th>\n",
       "      <th>Crime</th>\n",
       "      <th>Drama</th>\n",
       "      <th>Adventure</th>\n",
       "      <th>Romance</th>\n",
       "      <th>Western</th>\n",
       "      <th>Documentary</th>\n",
       "      <th>Musical</th>\n",
       "      <th>Film-Noir</th>\n",
       "      <th>Fantasy</th>\n",
       "      <th>Mystery</th>\n",
       "      <th>Sport</th>\n",
       "      <th>History</th>\n",
       "      <th>War</th>\n",
       "      <th>Horror</th>\n",
       "      <th>Family</th>\n",
       "      <th>Music</th>\n",
       "      <th>Sci-Fi</th>\n",
       "      <th>Animation</th>\n",
       "      <th>Comedy</th>\n",
       "      <th>Nb_actuals_movie_production_company</th>\n",
       "      <th>Nb_actuals_movie_directors</th>\n",
       "      <th>Nb_actuals_movie_writers</th>\n",
       "      <th>title</th>\n",
       "    </tr>\n",
       "  </thead>\n",
       "  <tbody>\n",
       "    <tr>\n",
       "      <th>0</th>\n",
       "      <td>4.476463</td>\n",
       "      <td>2012</td>\n",
       "      <td>95</td>\n",
       "      <td>2.304875</td>\n",
       "      <td>Elixir Entretenimento</td>\n",
       "      <td>Lúcia Murat</td>\n",
       "      <td>Tatiana Salem Levy, Lúcia Murat</td>\n",
       "      <td>0</td>\n",
       "      <td>1</td>\n",
       "      <td>1.0</td>\n",
       "      <td>1.0</td>\n",
       "      <td>0.0</td>\n",
       "      <td>tt2476186</td>\n",
       "      <td>Clarisse Abujamra, Otávio Augusto, Eduardo Cra...</td>\n",
       "      <td>A group of friends who resisted Brazilian dict...</td>\n",
       "      <td>6.2</td>\n",
       "      <td>Brazil, Argentina</td>\n",
       "      <td>-0.5</td>\n",
       "      <td>0.866025</td>\n",
       "      <td>0</td>\n",
       "      <td>0</td>\n",
       "      <td>0</td>\n",
       "      <td>0</td>\n",
       "      <td>1</td>\n",
       "      <td>0</td>\n",
       "      <td>0</td>\n",
       "      <td>0</td>\n",
       "      <td>0</td>\n",
       "      <td>0</td>\n",
       "      <td>0</td>\n",
       "      <td>0</td>\n",
       "      <td>0</td>\n",
       "      <td>0</td>\n",
       "      <td>0</td>\n",
       "      <td>0</td>\n",
       "      <td>0</td>\n",
       "      <td>0</td>\n",
       "      <td>0</td>\n",
       "      <td>0</td>\n",
       "      <td>0</td>\n",
       "      <td>0</td>\n",
       "      <td>1</td>\n",
       "      <td>2</td>\n",
       "      <td>1</td>\n",
       "      <td>Memories They Told Me</td>\n",
       "    </tr>\n",
       "    <tr>\n",
       "      <th>1</th>\n",
       "      <td>4.908817</td>\n",
       "      <td>2018</td>\n",
       "      <td>132</td>\n",
       "      <td>2.761312</td>\n",
       "      <td>Caos Calmo Filmes</td>\n",
       "      <td>Sérgio Graciano, Manuel Pureza</td>\n",
       "      <td>Ricardo Oliveira, Manuel Pureza</td>\n",
       "      <td>0</td>\n",
       "      <td>1</td>\n",
       "      <td>1.0</td>\n",
       "      <td>1.0</td>\n",
       "      <td>0.0</td>\n",
       "      <td>tt8128618</td>\n",
       "      <td>Samuel Alves, Tomás Alves, Álvaro Aragonez, Ke...</td>\n",
       "      <td>Threatened by a fascist plot, the Portuguese g...</td>\n",
       "      <td>3.3</td>\n",
       "      <td>Portugal</td>\n",
       "      <td>-0.5</td>\n",
       "      <td>-0.866025</td>\n",
       "      <td>1</td>\n",
       "      <td>0</td>\n",
       "      <td>1</td>\n",
       "      <td>0</td>\n",
       "      <td>0</td>\n",
       "      <td>0</td>\n",
       "      <td>0</td>\n",
       "      <td>0</td>\n",
       "      <td>0</td>\n",
       "      <td>0</td>\n",
       "      <td>0</td>\n",
       "      <td>0</td>\n",
       "      <td>0</td>\n",
       "      <td>0</td>\n",
       "      <td>0</td>\n",
       "      <td>0</td>\n",
       "      <td>0</td>\n",
       "      <td>0</td>\n",
       "      <td>0</td>\n",
       "      <td>0</td>\n",
       "      <td>0</td>\n",
       "      <td>1</td>\n",
       "      <td>1</td>\n",
       "      <td>1</td>\n",
       "      <td>1</td>\n",
       "      <td>Blood Lines</td>\n",
       "    </tr>\n",
       "  </tbody>\n",
       "</table>\n",
       "</div>"
      ],
      "text/plain": [
       "   worlwide_gross_income  year  duration    budget     production_company  \\\n",
       "0               4.476463  2012        95  2.304875  Elixir Entretenimento   \n",
       "1               4.908817  2018       132  2.761312      Caos Calmo Filmes   \n",
       "\n",
       "                         director                           writer  shifted  \\\n",
       "0                     Lúcia Murat  Tatiana Salem Levy, Lúcia Murat        0   \n",
       "1  Sérgio Graciano, Manuel Pureza  Ricardo Oliveira, Manuel Pureza        0   \n",
       "\n",
       "   nb_movies_actor1  nb_movies_actor2  nb_movies_actor3  last income  \\\n",
       "0                 1               1.0               1.0          0.0   \n",
       "1                 1               1.0               1.0          0.0   \n",
       "\n",
       "  imdb_title_id                                             actors  \\\n",
       "0     tt2476186  Clarisse Abujamra, Otávio Augusto, Eduardo Cra...   \n",
       "1     tt8128618  Samuel Alves, Tomás Alves, Álvaro Aragonez, Ke...   \n",
       "\n",
       "                                         description  avg_vote  \\\n",
       "0  A group of friends who resisted Brazilian dict...       6.2   \n",
       "1  Threatened by a fascist plot, the Portuguese g...       3.3   \n",
       "\n",
       "             country  date_sin  date_cos  Action  Biography  Thriller  Crime  \\\n",
       "0  Brazil, Argentina      -0.5  0.866025       0          0         0      0   \n",
       "1           Portugal      -0.5 -0.866025       1          0         1      0   \n",
       "\n",
       "   Drama  Adventure  Romance  Western  Documentary  Musical  Film-Noir  \\\n",
       "0      1          0        0        0            0        0          0   \n",
       "1      0          0        0        0            0        0          0   \n",
       "\n",
       "   Fantasy  Mystery  Sport  History  War  Horror  Family  Music  Sci-Fi  \\\n",
       "0        0        0      0        0    0       0       0      0       0   \n",
       "1        0        0      0        0    0       0       0      0       0   \n",
       "\n",
       "   Animation  Comedy  Nb_actuals_movie_production_company  \\\n",
       "0          0       0                                    1   \n",
       "1          0       1                                    1   \n",
       "\n",
       "   Nb_actuals_movie_directors  Nb_actuals_movie_writers                  title  \n",
       "0                           2                         1  Memories They Told Me  \n",
       "1                           1                         1            Blood Lines  "
      ]
     },
     "execution_count": 73,
     "metadata": {},
     "output_type": "execute_result"
    }
   ],
   "source": [
    "df_preproc = import_data(link = '../raw_data/preprocessed.csv')\n",
    "df_preproc.head(2)"
   ]
  },
  {
   "cell_type": "code",
   "execution_count": 167,
   "id": "5c2291c1-7cb4-4eeb-b7ff-592d56aa42e5",
   "metadata": {},
   "outputs": [
    {
     "data": {
      "text/plain": [
       "17"
      ]
     },
     "execution_count": 167,
     "metadata": {},
     "output_type": "execute_result"
    }
   ],
   "source": [
    "#df_preproc[df_preproc['actors'].apply(lambda x: x.split(', ')[0]).str.contains('Will Smith')][['year','last income']].sort_values(by='year')\n",
    "#income_actor1 = df_preproc[df_preproc['actors'].str.contains('Will Smith')][['year','last income']].sort_values(by='year').iloc[-1]['last income']\n",
    "#income_actor2 = df_preproc[df_preproc['actors'].str.contains('Will Smith')][['year','last income']].sort_values(by='year').iloc[-1]['last income']\n",
    "#income_actor3 = df_preproc[df_preproc['actors'].str.contains('Will Smith')][['year','last income']].sort_values(by='year').iloc[-1]['last income']\n",
    "#np.mean([income_actor1,income_actor2,income_actor3])\n",
    "\n",
    "int(df_preproc[df_preproc['actors'].str.contains('Will Smith')][['year','nb_movies_actor1']].sort_values(by='year').iloc[-5:]['nb_movies_actor1'].mean())\n"
   ]
  },
  {
   "cell_type": "code",
   "execution_count": 168,
   "id": "a5cc2574-3990-4e41-9d4e-fb7c972a97cd",
   "metadata": {},
   "outputs": [],
   "source": [
    "def test(director,year,main_actor,second_actor,third_actor,writer,production_company,date_published,genre,duration,budget,title =''):\n",
    "\n",
    "    #----   Init Dataframe ----#\n",
    "    df=pd.DataFrame({'year':[year]})\n",
    "    df['year'] = year\n",
    "    df['duration'] = duration\n",
    "    df['budget'] = budget*1000000\n",
    "    df['genre'] = genre\n",
    "    df['director'] = director\n",
    "    df['writer'] = writer\n",
    "    df['production_company'] = production_company\n",
    "    df['actors'] = f'{main_actor}, {second_actor}, {third_actor}'\n",
    "    df['date_published'] = date_published\n",
    "    \n",
    "    #----   preproc   ----#\n",
    "    df['year'] = convert_to_int(df[['year']])\n",
    "    df['duration'] = convert_to_int(df[['duration']])\n",
    "    df['budget'] = log_transformation(df[['budget']])\n",
    "\n",
    "    actors_1 = df_preproc[['shifted','actors']][df_preproc[['shifted','actors']]['actors'].str.contains(main_actor)].max()['shifted']\n",
    "    actors_2 = df_preproc[['shifted','actors']][df_preproc[['shifted','actors']]['actors'].str.contains(second_actor)].max()['shifted']\n",
    "    actors_3 = df_preproc[['shifted','actors']][df_preproc[['shifted','actors']]['actors'].str.contains(third_actor)].max()['shifted']\n",
    "    shifted = actors_1 + actors_2 + actors_3\n",
    "    df['shifted'] = shifted\n",
    "    print(shifted)\n",
    "    \n",
    "    \n",
    "    df['nb_movies_actor1'] = int(df_preproc[df_preproc['actors'].str.contains(main_actor)][['year','nb_movies_actor1']].sort_values(by='year').iloc[-5:]['nb_movies_actor1'].mean())\n",
    "    df['nb_movies_actor2'] = int(df_preproc[df_preproc['actors'].str.contains(second_actor)][['year','nb_movies_actor1']].sort_values(by='year').iloc[-5:]['nb_movies_actor1'].mean())\n",
    "    df['nb_movies_actor3'] = int(df_preproc[df_preproc['actors'].str.contains(third_actor)][['year','nb_movies_actor1']].sort_values(by='year').iloc[-5:]['nb_movies_actor1'].mean())\n",
    "\n",
    "    \n",
    "    last_income_actor1 = df_preproc[df_preproc['actors'].str.contains(main_actor)][['year','last income']].sort_values(by='year').iloc[-1]['last income']\n",
    "    last_income_actor2 = df_preproc[df_preproc['actors'].str.contains(second_actor)][['year','last income']].sort_values(by='year').iloc[-1]['last income']\n",
    "    last_income_actor3 = df_preproc[df_preproc['actors'].str.contains(third_actor)][['year','last income']].sort_values(by='year').iloc[-1]['last income']\n",
    "    df['last income'] =  np.mean([last_income_actor1,last_income_actor2,last_income_actor3])\n",
    "    \n",
    "    df['date_published'] = convert_to_date(df[['date_published']])\n",
    "    df['date_sin'] = add_sin_features(df[['date_published']])\n",
    "    df['date_cos'] = add_cos_features(df[['date_published']])\n",
    "    df.drop(columns='date_published', inplace=True)\n",
    "\n",
    "    ohe = GenreOHE()\n",
    "    ohe.fit(df) # la colonne 'genre' est spécifié dans la classe\n",
    "    df = ohe.transform(df)\n",
    "    \n",
    "    df['Nb_actuals_movie_production_company'] = df_preproc[['Nb_actuals_movie_production_company','production_company']][df_preproc[['Nb_actuals_movie_production_company','production_company']]['production_company'].str.contains(production_company)].max()['Nb_actuals_movie_production_company']\n",
    "    df['Nb_actuals_movie_directors'] = df_preproc[['Nb_actuals_movie_directors','director']][df_preproc[['Nb_actuals_movie_directors','director']]['director'].str.contains(director)].max()['Nb_actuals_movie_directors']\n",
    "    df['Nb_actuals_movie_writers'] = df_preproc[['Nb_actuals_movie_writers','writer']][df_preproc[['Nb_actuals_movie_writers','writer']]['writer'].str.contains(writer)].max()['Nb_actuals_movie_writers']\n",
    "\n",
    "    \n",
    "    df = df.drop(columns=['actors'])\n",
    "    \n",
    "    df = df.drop(columns=['production_company','director','writer'])\n",
    "    \n",
    "    #----   Prediction   ----#\n",
    "    model = load_model(\"model.joblib\")\n",
    "    result = predict_fromX(model,df)\n",
    "    \n",
    "    return result\n"
   ]
  },
  {
   "cell_type": "code",
   "execution_count": 169,
   "id": "00c10fd9-c692-4962-8c8b-4c5c23811b96",
   "metadata": {},
   "outputs": [
    {
     "name": "stdout",
     "output_type": "stream",
     "text": [
      "20\n"
     ]
    },
    {
     "data": {
      "text/plain": [
       "419511244.9825506"
      ]
     },
     "execution_count": 169,
     "metadata": {},
     "output_type": "execute_result"
    }
   ],
   "source": [
    "test(\n",
    "    director='Martin Scorcese',\n",
    "    year=2022,\n",
    "    main_actor='Will Smith',#Brad Pitt',\n",
    "    second_actor='Johnny Depp',\n",
    "    third_actor='Will Smith',\n",
    "    writer='Woody Allen',\n",
    "    production_company='Walt Disney Pictures',\n",
    "    date_published='2022-01-01',\n",
    "    genre='Drama',\n",
    "    duration=100,\n",
    "    budget=272.70\n",
    ")\n",
    "\n",
    "#252 013 849.34471068\n",
    "#252 013 849.34471068"
   ]
  },
  {
   "cell_type": "code",
   "execution_count": 14,
   "id": "14995eed-7a89-4fe9-ab52-78a97e06b8bf",
   "metadata": {},
   "outputs": [
    {
     "data": {
      "text/html": [
       "<div>\n",
       "<style scoped>\n",
       "    .dataframe tbody tr th:only-of-type {\n",
       "        vertical-align: middle;\n",
       "    }\n",
       "\n",
       "    .dataframe tbody tr th {\n",
       "        vertical-align: top;\n",
       "    }\n",
       "\n",
       "    .dataframe thead th {\n",
       "        text-align: right;\n",
       "    }\n",
       "</style>\n",
       "<table border=\"1\" class=\"dataframe\">\n",
       "  <thead>\n",
       "    <tr style=\"text-align: right;\">\n",
       "      <th></th>\n",
       "      <th>year</th>\n",
       "      <th>duration</th>\n",
       "      <th>budget</th>\n",
       "      <th>shifted</th>\n",
       "      <th>nb_movies_actor1</th>\n",
       "      <th>nb_movies_actor2</th>\n",
       "      <th>nb_movies_actor3</th>\n",
       "      <th>last income</th>\n",
       "      <th>imdb_title_id</th>\n",
       "      <th>actors</th>\n",
       "      <th>description</th>\n",
       "      <th>avg_vote</th>\n",
       "      <th>country</th>\n",
       "      <th>date_sin</th>\n",
       "      <th>date_cos</th>\n",
       "      <th>Action</th>\n",
       "      <th>Biography</th>\n",
       "      <th>Thriller</th>\n",
       "      <th>Crime</th>\n",
       "      <th>Drama</th>\n",
       "      <th>Adventure</th>\n",
       "      <th>Romance</th>\n",
       "      <th>Western</th>\n",
       "      <th>Documentary</th>\n",
       "      <th>Musical</th>\n",
       "      <th>Film-Noir</th>\n",
       "      <th>Fantasy</th>\n",
       "      <th>Mystery</th>\n",
       "      <th>Sport</th>\n",
       "      <th>History</th>\n",
       "      <th>War</th>\n",
       "      <th>Horror</th>\n",
       "      <th>Family</th>\n",
       "      <th>Music</th>\n",
       "      <th>Sci-Fi</th>\n",
       "      <th>Animation</th>\n",
       "      <th>Comedy</th>\n",
       "      <th>Nb_actuals_movie_production_company</th>\n",
       "      <th>Nb_actuals_movie_directors</th>\n",
       "      <th>Nb_actuals_movie_writers</th>\n",
       "      <th>title</th>\n",
       "    </tr>\n",
       "  </thead>\n",
       "  <tbody>\n",
       "    <tr>\n",
       "      <th>0</th>\n",
       "      <td>2012</td>\n",
       "      <td>95</td>\n",
       "      <td>2.304875</td>\n",
       "      <td>0</td>\n",
       "      <td>1</td>\n",
       "      <td>1.0</td>\n",
       "      <td>1.0</td>\n",
       "      <td>0.0</td>\n",
       "      <td>tt2476186</td>\n",
       "      <td>Clarisse Abujamra, Otávio Augusto, Eduardo Cra...</td>\n",
       "      <td>A group of friends who resisted Brazilian dict...</td>\n",
       "      <td>6.2</td>\n",
       "      <td>Brazil, Argentina</td>\n",
       "      <td>-0.5</td>\n",
       "      <td>0.866025</td>\n",
       "      <td>0</td>\n",
       "      <td>0</td>\n",
       "      <td>0</td>\n",
       "      <td>0</td>\n",
       "      <td>1</td>\n",
       "      <td>0</td>\n",
       "      <td>0</td>\n",
       "      <td>0</td>\n",
       "      <td>0</td>\n",
       "      <td>0</td>\n",
       "      <td>0</td>\n",
       "      <td>0</td>\n",
       "      <td>0</td>\n",
       "      <td>0</td>\n",
       "      <td>0</td>\n",
       "      <td>0</td>\n",
       "      <td>0</td>\n",
       "      <td>0</td>\n",
       "      <td>0</td>\n",
       "      <td>0</td>\n",
       "      <td>0</td>\n",
       "      <td>0</td>\n",
       "      <td>1</td>\n",
       "      <td>2</td>\n",
       "      <td>1</td>\n",
       "      <td>Memories They Told Me</td>\n",
       "    </tr>\n",
       "  </tbody>\n",
       "</table>\n",
       "</div>"
      ],
      "text/plain": [
       "   year  duration    budget  shifted  nb_movies_actor1  nb_movies_actor2  \\\n",
       "0  2012        95  2.304875        0                 1               1.0   \n",
       "\n",
       "   nb_movies_actor3  last income imdb_title_id  \\\n",
       "0               1.0          0.0     tt2476186   \n",
       "\n",
       "                                              actors  \\\n",
       "0  Clarisse Abujamra, Otávio Augusto, Eduardo Cra...   \n",
       "\n",
       "                                         description  avg_vote  \\\n",
       "0  A group of friends who resisted Brazilian dict...       6.2   \n",
       "\n",
       "             country  date_sin  date_cos  Action  Biography  Thriller  Crime  \\\n",
       "0  Brazil, Argentina      -0.5  0.866025       0          0         0      0   \n",
       "\n",
       "   Drama  Adventure  Romance  Western  Documentary  Musical  Film-Noir  \\\n",
       "0      1          0        0        0            0        0          0   \n",
       "\n",
       "   Fantasy  Mystery  Sport  History  War  Horror  Family  Music  Sci-Fi  \\\n",
       "0        0        0      0        0    0       0       0      0       0   \n",
       "\n",
       "   Animation  Comedy  Nb_actuals_movie_production_company  \\\n",
       "0          0       0                                    1   \n",
       "\n",
       "   Nb_actuals_movie_directors  Nb_actuals_movie_writers                  title  \n",
       "0                           2                         1  Memories They Told Me  "
      ]
     },
     "execution_count": 14,
     "metadata": {},
     "output_type": "execute_result"
    }
   ],
   "source": [
    "df_preproc.head(1).drop(columns=['worlwide_gross_income','production_company','director','writer'])"
   ]
  },
  {
   "cell_type": "code",
   "execution_count": null,
   "id": "882c1e33-53f6-4d17-86e1-61ec732e4e6b",
   "metadata": {},
   "outputs": [],
   "source": [
    "df = import_data(link = '../raw_data/IMDb_movies.csv')\n",
    "\n",
    "# Prepare\n",
    "print(\"----- CLEAN DATA ------\")\n",
    "df_preproc = preproc(df, path = '../raw_data/cat_acteur.csv')\n",
    "df_preproc = df_preproc.drop(columns=['production_company', 'director', 'writer'])\n",
    "df_preproc = df_preproc.drop(columns=['imdb_title_id','actors','description','avg_vote','country','title'])\n",
    "\n",
    "print(\"----- GET FITTED MODEL ------\")\n",
    "model = get_fitted_model(df_preproc)\n",
    "\n",
    "print(\"----- SAVE MODEL ------\")\n",
    "save_model(model, \"model.joblib\")\n",
    "len(df_preproc)"
   ]
  },
  {
   "cell_type": "code",
   "execution_count": null,
   "id": "14899607-6ba4-4731-9026-09c5584ed637",
   "metadata": {},
   "outputs": [],
   "source": [
    "from xgboost import plot_importance\n",
    "\n",
    "plot_importance(model)"
   ]
  },
  {
   "cell_type": "code",
   "execution_count": null,
   "id": "4f5d647e-1bdd-442f-b4a0-ed2080dca466",
   "metadata": {},
   "outputs": [],
   "source": [
    "X_test_1 = df_preproc.head(1).drop(columns=['worlwide_gross_income'])\n",
    "X_test_1"
   ]
  },
  {
   "cell_type": "code",
   "execution_count": null,
   "id": "18494a3f-7d22-417b-b54d-dd2d71c1c45d",
   "metadata": {},
   "outputs": [],
   "source": [
    "X_test_2 = X_test_1.copy()\n",
    "X_test_2['duration'] = 120\n",
    "X_test_2"
   ]
  },
  {
   "cell_type": "code",
   "execution_count": null,
   "id": "3da8139d-ab8e-4355-a905-fafaac42643b",
   "metadata": {},
   "outputs": [],
   "source": [
    "print(\"----- LOAD MODEL ------\")\n",
    "model = load_model(\"model.joblib\")\n",
    "\n",
    "print(\"----- PREDICT MODEL ------\")\n",
    "prediction1 = predict_fromX(model, X_test_1)\n",
    "prediction2 = predict_fromX(model, X_test_2)\n",
    "\n",
    "print(prediction1)\n",
    "print(prediction2)"
   ]
  },
  {
   "cell_type": "code",
   "execution_count": null,
   "id": "7391f5e5-e275-4348-9694-1d12401c70bd",
   "metadata": {},
   "outputs": [],
   "source": [
    "df_preproc = df_preproc.drop(columns=['production_company', 'director', 'writer'])\n",
    "df_preproc = df_preproc.drop(columns=['imdb_title_id','actors','description','avg_vote','country','title'])\n",
    "df_preproc.head(1)\n",
    "  "
   ]
  },
  {
   "cell_type": "markdown",
   "id": "6f34e457-879b-4459-8780-8c2f0c2dd854",
   "metadata": {},
   "source": [
    "## Cleaning and creating X and y"
   ]
  },
  {
   "cell_type": "code",
   "execution_count": null,
   "id": "9216e8ac-c2b0-4d36-96fa-6f5b6b7072e9",
   "metadata": {},
   "outputs": [],
   "source": [
    "df = import_data(path = 'raw_data/IMDb movies.csv')\n",
    "\n",
    "# Prepare\n",
    "print(\"----- CLEAN DATA ------\")\n",
    "df_preproc = preproc(df)\n",
    "\n",
    "print(\"----- GET FITTED MODEL ------\")\n",
    "model = get_fitted_model(df_preproc)\n",
    "\n",
    "print(\"----- SAVE MODEL ------\")\n",
    "save_model(model, \"model.joblib\")\n",
    "\n",
    "print(\"----- LOAD MODEL ------\")\n",
    "model = load_model(\"model.joblib\")\n",
    "\n",
    "print(\"----- PREDICT MODEL ------\")\n",
    "prediction = predict_fromX(\n",
    "model,df_preproc.head(1).drop(columns='worlwide_gross_income'))\n",
    "print(prediction)"
   ]
  },
  {
   "cell_type": "code",
   "execution_count": null,
   "id": "e2398185-a7ba-459b-9e0e-9a543555ed71",
   "metadata": {},
   "outputs": [],
   "source": [
    "# Plot Y distribution\n",
    "\n",
    "sns.set(rc={'figure.figsize':(16,8)})\n",
    "sns.histplot(df_sample['worlwide_gross_income'], kde=True, edgecolor='w')"
   ]
  },
  {
   "cell_type": "code",
   "execution_count": null,
   "id": "8ad3e90d-6059-48a8-8665-451abbbdd0af",
   "metadata": {},
   "outputs": [],
   "source": [
    "df_sample['worlwide_gross_income'] = log_transformation(df_sample[['worlwide_gross_income']])\n",
    "sns.histplot(df_sample['worlwide_gross_income'], kde=True, edgecolor='w')"
   ]
  },
  {
   "cell_type": "code",
   "execution_count": null,
   "id": "c2988a24-abdb-434a-93c8-f57336a646c8",
   "metadata": {},
   "outputs": [],
   "source": [
    "ax = sns.scatterplot(x=df_sample['budget_log'],y=df_sample['worlwide_gross_income'])"
   ]
  },
  {
   "cell_type": "markdown",
   "id": "9d497ca5-6c90-4e2b-b50f-c7d59412dc52",
   "metadata": {},
   "source": [
    "## Baseline"
   ]
  },
  {
   "cell_type": "code",
   "execution_count": null,
   "id": "0dfd8b63-3cfa-47cd-b4d3-9c8bf0817424",
   "metadata": {},
   "outputs": [],
   "source": [
    "X_baseline = df_sample[[\n",
    "        'budget',\n",
    "        'duration',\n",
    "        'year',\n",
    "        'date_published',\n",
    "    ]]\n",
    "y_baseline = df_sample['worlwide_gross_income']\n",
    "model_baseline = baseline.create_pipeline()"
   ]
  },
  {
   "cell_type": "code",
   "execution_count": null,
   "id": "8145d889-9339-4a00-9649-69a56de1f65b",
   "metadata": {},
   "outputs": [],
   "source": [
    "model_baseline = model_baseline.fit(X_baseline,y_baseline)"
   ]
  },
  {
   "cell_type": "code",
   "execution_count": null,
   "id": "f5a06ab6-4fc0-48c8-b565-36e5e618bdae",
   "metadata": {},
   "outputs": [],
   "source": [
    "predict_y_baseline = model_baseline.predict(X_baseline)\n",
    "residuals_baseline = predict_y_baseline - y_baseline"
   ]
  },
  {
   "cell_type": "code",
   "execution_count": null,
   "id": "ead2b2d5-3eeb-465d-8528-e92a967bf01a",
   "metadata": {},
   "outputs": [],
   "source": [
    "ax = sns.scatterplot(x=y_baseline,y=residuals_baseline, hue=df_sample['budget'])\n",
    "ax.set(xlabel='income', ylabel='residuals')"
   ]
  },
  {
   "cell_type": "markdown",
   "id": "3b70ef7f-f7d9-445f-b19e-653b1197ae72",
   "metadata": {},
   "source": [
    "## Pipeline v1"
   ]
  },
  {
   "cell_type": "code",
   "execution_count": null,
   "id": "b03d225b-431c-4316-9f21-1133b875e064",
   "metadata": {},
   "outputs": [],
   "source": [
    "# Creating X and y\n",
    "X_pipeline_v1 = df_sample[[\n",
    "    'budget',\n",
    "    'genre', \n",
    "    'duration', \n",
    "    'year', \n",
    "    'date_published',\n",
    "    'production_company', \n",
    "    'writer', \n",
    "    'director'\n",
    "    ]]\n",
    "y_pipeline_v1 = df_sample['worlwide_gross_income']\n",
    "\n"
   ]
  },
  {
   "cell_type": "code",
   "execution_count": null,
   "id": "62bda7ff-33d8-4f54-b2d5-9b01d01b3b2b",
   "metadata": {},
   "outputs": [],
   "source": [
    "model_pipeline_v1 = pipeline.create_pipeline()\n",
    "model_pipeline_v1 = model_pipeline_v1.fit(X_pipeline_v1,y_pipeline_v1)\n",
    "predict_y_pipeline_v1 = model_pipeline_v1.predict(X_pipeline_v1)"
   ]
  },
  {
   "cell_type": "code",
   "execution_count": null,
   "id": "70762290-77ed-41ef-8e6f-20cb9fc60884",
   "metadata": {},
   "outputs": [],
   "source": [
    "residuals_pipeline_v1 = predict_y_pipeline_v1 - y_pipeline_v1\n",
    "ax = sns.scatterplot(x=X_pipeline_v1['budget'],y=residuals_pipeline_v1, hue=df_sample['budget'])\n",
    "ax.set(xlabel='budget', ylabel='residuals pipeline v1')"
   ]
  },
  {
   "cell_type": "code",
   "execution_count": null,
   "id": "238e2d87-f79f-4c93-b743-5254050dc3f7",
   "metadata": {},
   "outputs": [],
   "source": [
    "ax = sns.histplot(x=X_pipeline_v1['budget'])\n",
    "ax.set(xlabel='budget', ylabel='residuals pipeline v1')"
   ]
  },
  {
   "cell_type": "markdown",
   "id": "70839748-4a2a-4379-9c2a-43baf61c03a6",
   "metadata": {},
   "source": [
    "## Pipeline v2"
   ]
  },
  {
   "cell_type": "code",
   "execution_count": null,
   "id": "be02b561-5eaf-49ae-a9f0-725a203b0a29",
   "metadata": {},
   "outputs": [],
   "source": [
    "df_sample = import_data('../raw_data/IMDb movies.csv')\n",
    "#df_sample = new_model.preproc(df_sample)"
   ]
  },
  {
   "cell_type": "code",
   "execution_count": null,
   "id": "19bcd0af-9334-4457-ab19-df5d6675339d",
   "metadata": {},
   "outputs": [],
   "source": [
    "df_sample.head(1)"
   ]
  },
  {
   "cell_type": "code",
   "execution_count": null,
   "id": "bdda0aa2-ff4a-462e-91c7-2eae76363f88",
   "metadata": {},
   "outputs": [],
   "source": [
    "print(\"----- IMPORT DATA ------\")\n",
    "df = import_data('../raw_data/IMDb movies.csv')"
   ]
  },
  {
   "cell_type": "code",
   "execution_count": null,
   "id": "42b326d5-aaaa-42e6-aa02-1ced4600e501",
   "metadata": {},
   "outputs": [],
   "source": [
    "# Prepare\n",
    "print(\"----- CLEAN DATA ------\")\n",
    "df_proc = preproc(df)"
   ]
  },
  {
   "cell_type": "code",
   "execution_count": null,
   "id": "babb0179-b681-4e58-8a0b-88109a232482",
   "metadata": {},
   "outputs": [],
   "source": [
    "print(\"----- GET FITTED MODEL ------\")\n",
    "model = get_fitted_model(df_proc)"
   ]
  },
  {
   "cell_type": "code",
   "execution_count": null,
   "id": "fa5a3539-acaa-407a-bcdc-d84afa3ed3f1",
   "metadata": {},
   "outputs": [],
   "source": [
    "print(\"----- SAVE MODEL ------\")\n",
    "save_model(model, \"model.joblib\")"
   ]
  },
  {
   "cell_type": "code",
   "execution_count": null,
   "id": "c1dc19af-2968-4da8-a9c4-db73e909aabf",
   "metadata": {},
   "outputs": [],
   "source": [
    "print(\"----- LOAD MODEL ------\")\n",
    "model = load_model(\"model.joblib\")"
   ]
  },
  {
   "cell_type": "code",
   "execution_count": null,
   "id": "e26c66ab-6862-4575-bdcf-2411af6534c9",
   "metadata": {},
   "outputs": [],
   "source": [
    "print(\"----- PREDICT MODEL ------\")\n",
    "prediction = predict_fromX(model, df_proc.head(1).drop(columns='worlwide_gross_income'))\n",
    "print(prediction[0])"
   ]
  },
  {
   "cell_type": "code",
   "execution_count": null,
   "id": "6b9edd5b-f5a3-447f-881e-77377b40811b",
   "metadata": {},
   "outputs": [],
   "source": []
  }
 ],
 "metadata": {
  "kernelspec": {
   "display_name": "Python 3 (ipykernel)",
   "language": "python",
   "name": "python3"
  },
  "language_info": {
   "codemirror_mode": {
    "name": "ipython",
    "version": 3
   },
   "file_extension": ".py",
   "mimetype": "text/x-python",
   "name": "python",
   "nbconvert_exporter": "python",
   "pygments_lexer": "ipython3",
   "version": "3.8.12"
  }
 },
 "nbformat": 4,
 "nbformat_minor": 5
}
