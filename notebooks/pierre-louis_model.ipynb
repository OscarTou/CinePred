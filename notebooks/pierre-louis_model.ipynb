{
 "cells": [
  {
   "cell_type": "code",
   "execution_count": null,
   "id": "047a5d1a",
   "metadata": {},
   "outputs": [],
   "source": [
    "# IMPORT\n",
    "import numpy as np\n",
    "\n",
    "from sklearn.model_selection import TimeSeriesSplit\n",
    "from sklearn.metrics import mean_absolute_error\n",
    "\n",
    "from sklearn.ensemble import GradientBoostingRegressor\n",
    "from sklearn.preprocessing import RobustScaler, OneHotEncoder\n",
    "\n",
    "from currency_converter import CurrencyConverter\n",
    "from CinePred.data.utils import convert, convert_budget_column, convert_to_int, add_director_category, add_sin_features,\\\n",
    "add_cos_features, convert_to_date\n",
    "from CinePred.data.data import Data\n",
    "from CinePred.data.genre_ohe import GenreOHE\n",
    "from CinePred.data.production_company_ohe import ProdCompOHE\n",
    "\n",
    "from sklearn import set_config; set_config(display='diagram') # decoration for the pipeline\n",
    "from sklearn.pipeline import make_pipeline\n",
    "from sklearn.compose import make_column_transformer\n",
    "from sklearn.pipeline import make_union\n",
    "from sklearn.preprocessing import FunctionTransformer\n",
    "\n",
    "%load_ext autoreload\n",
    "%autosave 120\n",
    "%autoreload 2"
   ]
  },
  {
   "cell_type": "code",
   "execution_count": null,
   "id": "1755921a",
   "metadata": {},
   "outputs": [],
   "source": [
    "# IMPORT DF\n",
    "data = Data('../raw_data/IMDb movies.csv')\n",
    "data.import_data()"
   ]
  },
  {
   "cell_type": "code",
   "execution_count": null,
   "id": "5b9dc67b",
   "metadata": {},
   "outputs": [],
   "source": [
    "# CLEANING\n",
    "data.remove_na_rows()\n",
    "data.convert_income(column_name='worlwide_gross_income')\n",
    "data.convert_to_date(column_name='date_published')\n",
    "data.dataframe.sort_values(by='date_published', inplace=True)\n",
    "data.dataframe.reset_index(inplace=True)"
   ]
  },
  {
   "cell_type": "code",
   "execution_count": null,
   "id": "0479ca94",
   "metadata": {},
   "outputs": [],
   "source": [
    "data.dataframe['production_company']"
   ]
  },
  {
   "cell_type": "code",
   "execution_count": null,
   "id": "735d5651",
   "metadata": {
    "scrolled": true
   },
   "outputs": [],
   "source": [
    "# DECLARE X & Y\n",
    "X = data.dataframe[['budget', 'genre', 'duration', 'year', 'date_published', 'production_company']]\n",
    "y = data.dataframe['worlwide_gross_income']\n",
    "y = np.log(y)/np.log(10)\n",
    "X.shape, y.shape"
   ]
  },
  {
   "cell_type": "code",
   "execution_count": null,
   "id": "d507c3c0",
   "metadata": {},
   "outputs": [],
   "source": [
    "sin_transformer = FunctionTransformer(add_sin_features)\n",
    "cos_transformer = FunctionTransformer(add_cos_features)"
   ]
  },
  {
   "cell_type": "code",
   "execution_count": null,
   "id": "1757d392",
   "metadata": {},
   "outputs": [],
   "source": [
    "# PIPELINE\n",
    "int_transformer = FunctionTransformer(convert_to_int)\n",
    "time_pipeline = make_pipeline(int_transformer, RobustScaler())\n",
    "\n",
    "budget_transformer = FunctionTransformer(convert_budget_column)\n",
    "genre_transformer = make_pipeline(GenreOHE())\n",
    "comp_transformer = FunctionTransformer(lambda x: # ma fonction qui recoit une serie\n",
    "                                       x.apply(lambda y: x))\n",
    "\n",
    "preproc_basic = make_column_transformer((time_pipeline, ['year', 'duration']),\n",
    "                                        (budget_transformer, ['budget']),\n",
    "                                        (sin_transformer, ['date_published']),\n",
    "                                        (cos_transformer, ['date_published']),\n",
    "                                        (genre_transformer, ['genre']),\n",
    "                                        (comp_transformer, ['production_company']))\n",
    "\n",
    "pipeline = make_pipeline(preproc_basic, GradientBoostingRegressor())\n",
    "pipeline"
   ]
  },
  {
   "cell_type": "code",
   "execution_count": null,
   "id": "5e3d03e6",
   "metadata": {},
   "outputs": [],
   "source": [
    "# FIT & PREDICT\n",
    "def baseline(pipeline, X, y):\n",
    "    \"\"\" Returns a list of 5 mae scores\"\"\"\n",
    "    mae = []\n",
    "    tscv = TimeSeriesSplit(n_splits=5)\n",
    "    for train_index, test_index in tscv.split(X):\n",
    "        print(\"TRAIN:\", train_index, \"TEST:\", test_index)\n",
    "        X_train, X_test = X.iloc[train_index], X.iloc[test_index]\n",
    "        y_train, y_test = y.iloc[train_index], y.iloc[test_index]\n",
    "        \n",
    "        pipeline.fit(X_train, y_train)\n",
    "        y_pred = pipeline.predict(X_test)\n",
    "        mae.append(mean_absolute_error(y_test, y_pred))\n",
    "    return mae"
   ]
  },
  {
   "cell_type": "code",
   "execution_count": null,
   "id": "81701388",
   "metadata": {},
   "outputs": [],
   "source": [
    "baseline(pipeline, X, y)"
   ]
  },
  {
   "cell_type": "code",
   "execution_count": null,
   "id": "854e0126",
   "metadata": {},
   "outputs": [],
   "source": [
    "pipeline.get_params()"
   ]
  },
  {
   "cell_type": "code",
   "execution_count": null,
   "id": "4f9d40ba",
   "metadata": {},
   "outputs": [],
   "source": [
    "from sklearn.model_selection import GridSearchCV\n",
    "\n",
    "# Inspect all pipe components parameters to find the one you want to gridsearch\n",
    "\n",
    "\n",
    "# Instanciate grid search\n",
    "grid_search = GridSearchCV(\n",
    "    pipeline, \n",
    "    param_grid={\n",
    "        # Access any component of the pipeline, as far back as you want\n",
    "        'gradientboostingregressor__learning_rate': [0.001, 0.01, 0.1],\n",
    "        'gradientboostingregressor__n_estimators': [10,100,200,500],\n",
    "        'gradientboostingregressor__max_depth': [2,3,4]},\n",
    "    cv=TimeSeriesSplit(n_splits=5),\n",
    "    scoring=\"neg_mean_absolute_error\")\n",
    "\n",
    "grid_search.fit(X, y)\n",
    "grid_search.best_params_"
   ]
  },
  {
   "cell_type": "code",
   "execution_count": null,
   "id": "7703a02e",
   "metadata": {},
   "outputs": [],
   "source": []
  }
 ],
 "metadata": {
  "kernelspec": {
   "display_name": "Python 3 (ipykernel)",
   "language": "python",
   "name": "python3"
  },
  "language_info": {
   "codemirror_mode": {
    "name": "ipython",
    "version": 3
   },
   "file_extension": ".py",
   "mimetype": "text/x-python",
   "name": "python",
   "nbconvert_exporter": "python",
   "pygments_lexer": "ipython3",
   "version": "3.8.12"
  },
  "toc": {
   "base_numbering": 1,
   "nav_menu": {},
   "number_sections": true,
   "sideBar": true,
   "skip_h1_title": false,
   "title_cell": "Table of Contents",
   "title_sidebar": "Contents",
   "toc_cell": false,
   "toc_position": {},
   "toc_section_display": true,
   "toc_window_display": false
  }
 },
 "nbformat": 4,
 "nbformat_minor": 5
}
