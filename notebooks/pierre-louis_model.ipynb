{
 "cells": [
  {
   "cell_type": "code",
   "execution_count": 1,
   "id": "047a5d1a",
   "metadata": {},
   "outputs": [],
   "source": [
    "# IMPORT\n",
    "import numpy as np\n",
    "\n",
    "from sklearn.model_selection import TimeSeriesSplit\n",
    "from sklearn.metrics import mean_absolute_error\n",
    "\n",
    "from sklearn.ensemble import GradientBoostingRegressor\n",
    "from sklearn.preprocessing import RobustScaler, OneHotEncoder\n",
    "\n",
    "from currency_converter import CurrencyConverter\n",
    "from CinePred.data.utils import convert, convert_budget_column, convert_to_int, add_director_category, add_sin_features,\\\n",
    "add_cos_features, convert_to_date\n",
    "from CinePred.data.data import Data\n",
    "\n",
    "from sklearn import set_config; set_config(display='diagram') # decoration for the pipeline\n",
    "from sklearn.pipeline import make_pipeline\n",
    "from sklearn.compose import make_column_transformer\n",
    "from sklearn.pipeline import make_union\n",
    "from sklearn.preprocessing import FunctionTransformer\n",
    "\n",
    "%load_ext autoreload\n",
    "%autoreload 2"
   ]
  },
  {
   "cell_type": "code",
   "execution_count": 14,
   "id": "1755921a",
   "metadata": {},
   "outputs": [
    {
     "data": {
      "text/plain": [
       "<CinePred.data.data.Data at 0x7effa83c04f0>"
      ]
     },
     "execution_count": 14,
     "metadata": {},
     "output_type": "execute_result"
    }
   ],
   "source": [
    "# IMPORT DF\n",
    "data = Data('../raw_data/IMDb movies.csv')\n",
    "data.import_data()"
   ]
  },
  {
   "cell_type": "code",
   "execution_count": 15,
   "id": "5b9dc67b",
   "metadata": {},
   "outputs": [],
   "source": [
    "# CLEANING\n",
    "data.remove_na_rows()\n",
    "data.convert_income(column_name='worlwide_gross_income')\n",
    "data.convert_to_date(column_name='date_published')\n",
    "data.dataframe.sort_values(by='date_published', inplace=True)"
   ]
  },
  {
   "cell_type": "code",
   "execution_count": 16,
   "id": "735d5651",
   "metadata": {
    "scrolled": true
   },
   "outputs": [
    {
     "data": {
      "text/plain": [
       "((6616, 5), (6616,))"
      ]
     },
     "execution_count": 16,
     "metadata": {},
     "output_type": "execute_result"
    }
   ],
   "source": [
    "# DECLARE X & Y\n",
    "X = data.dataframe[['budget', 'genre', 'duration', 'year', 'date_published']]\n",
    "y = data.dataframe['worlwide_gross_income']\n",
    "y = np.log(y)/np.log(10)\n",
    "X.shape, y.shape"
   ]
  },
  {
   "cell_type": "code",
   "execution_count": 17,
   "id": "d507c3c0",
   "metadata": {},
   "outputs": [],
   "source": [
    "# to_date_transformer = FunctionTransformer(convert_to_date)\n",
    "\n",
    "sin_transformer = FunctionTransformer(add_sin_features)\n",
    "cos_transformer = FunctionTransformer(add_cos_features)"
   ]
  },
  {
   "cell_type": "code",
   "execution_count": 18,
   "id": "1757d392",
   "metadata": {},
   "outputs": [
    {
     "data": {
      "text/html": [
       "<style>#sk-fcd08812-22f2-4578-9379-68b83ccfe05f {color: black;background-color: white;}#sk-fcd08812-22f2-4578-9379-68b83ccfe05f pre{padding: 0;}#sk-fcd08812-22f2-4578-9379-68b83ccfe05f div.sk-toggleable {background-color: white;}#sk-fcd08812-22f2-4578-9379-68b83ccfe05f label.sk-toggleable__label {cursor: pointer;display: block;width: 100%;margin-bottom: 0;padding: 0.3em;box-sizing: border-box;text-align: center;}#sk-fcd08812-22f2-4578-9379-68b83ccfe05f div.sk-toggleable__content {max-height: 0;max-width: 0;overflow: hidden;text-align: left;background-color: #f0f8ff;}#sk-fcd08812-22f2-4578-9379-68b83ccfe05f div.sk-toggleable__content pre {margin: 0.2em;color: black;border-radius: 0.25em;background-color: #f0f8ff;}#sk-fcd08812-22f2-4578-9379-68b83ccfe05f input.sk-toggleable__control:checked~div.sk-toggleable__content {max-height: 200px;max-width: 100%;overflow: auto;}#sk-fcd08812-22f2-4578-9379-68b83ccfe05f div.sk-estimator input.sk-toggleable__control:checked~label.sk-toggleable__label {background-color: #d4ebff;}#sk-fcd08812-22f2-4578-9379-68b83ccfe05f div.sk-label input.sk-toggleable__control:checked~label.sk-toggleable__label {background-color: #d4ebff;}#sk-fcd08812-22f2-4578-9379-68b83ccfe05f input.sk-hidden--visually {border: 0;clip: rect(1px 1px 1px 1px);clip: rect(1px, 1px, 1px, 1px);height: 1px;margin: -1px;overflow: hidden;padding: 0;position: absolute;width: 1px;}#sk-fcd08812-22f2-4578-9379-68b83ccfe05f div.sk-estimator {font-family: monospace;background-color: #f0f8ff;border: 1px dotted black;border-radius: 0.25em;box-sizing: border-box;margin-bottom: 0.5em;}#sk-fcd08812-22f2-4578-9379-68b83ccfe05f div.sk-estimator:hover {background-color: #d4ebff;}#sk-fcd08812-22f2-4578-9379-68b83ccfe05f div.sk-parallel-item::after {content: \"\";width: 100%;border-bottom: 1px solid gray;flex-grow: 1;}#sk-fcd08812-22f2-4578-9379-68b83ccfe05f div.sk-label:hover label.sk-toggleable__label {background-color: #d4ebff;}#sk-fcd08812-22f2-4578-9379-68b83ccfe05f div.sk-serial::before {content: \"\";position: absolute;border-left: 1px solid gray;box-sizing: border-box;top: 2em;bottom: 0;left: 50%;}#sk-fcd08812-22f2-4578-9379-68b83ccfe05f div.sk-serial {display: flex;flex-direction: column;align-items: center;background-color: white;padding-right: 0.2em;padding-left: 0.2em;}#sk-fcd08812-22f2-4578-9379-68b83ccfe05f div.sk-item {z-index: 1;}#sk-fcd08812-22f2-4578-9379-68b83ccfe05f div.sk-parallel {display: flex;align-items: stretch;justify-content: center;background-color: white;}#sk-fcd08812-22f2-4578-9379-68b83ccfe05f div.sk-parallel::before {content: \"\";position: absolute;border-left: 1px solid gray;box-sizing: border-box;top: 2em;bottom: 0;left: 50%;}#sk-fcd08812-22f2-4578-9379-68b83ccfe05f div.sk-parallel-item {display: flex;flex-direction: column;position: relative;background-color: white;}#sk-fcd08812-22f2-4578-9379-68b83ccfe05f div.sk-parallel-item:first-child::after {align-self: flex-end;width: 50%;}#sk-fcd08812-22f2-4578-9379-68b83ccfe05f div.sk-parallel-item:last-child::after {align-self: flex-start;width: 50%;}#sk-fcd08812-22f2-4578-9379-68b83ccfe05f div.sk-parallel-item:only-child::after {width: 0;}#sk-fcd08812-22f2-4578-9379-68b83ccfe05f div.sk-dashed-wrapped {border: 1px dashed gray;margin: 0 0.4em 0.5em 0.4em;box-sizing: border-box;padding-bottom: 0.4em;background-color: white;position: relative;}#sk-fcd08812-22f2-4578-9379-68b83ccfe05f div.sk-label label {font-family: monospace;font-weight: bold;background-color: white;display: inline-block;line-height: 1.2em;}#sk-fcd08812-22f2-4578-9379-68b83ccfe05f div.sk-label-container {position: relative;z-index: 2;text-align: center;}#sk-fcd08812-22f2-4578-9379-68b83ccfe05f div.sk-container {display: inline-block;position: relative;}</style><div id=\"sk-fcd08812-22f2-4578-9379-68b83ccfe05f\" class\"sk-top-container\"><div class=\"sk-container\"><div class=\"sk-item sk-dashed-wrapped\"><div class=\"sk-label-container\"><div class=\"sk-label sk-toggleable\"><input class=\"sk-toggleable__control sk-hidden--visually\" id=\"d8d9859a-6acc-4b10-8fd3-8098a4f93fa3\" type=\"checkbox\" ><label class=\"sk-toggleable__label\" for=\"d8d9859a-6acc-4b10-8fd3-8098a4f93fa3\">Pipeline</label><div class=\"sk-toggleable__content\"><pre>Pipeline(steps=[('columntransformer',\n",
       "                 ColumnTransformer(transformers=[('pipeline',\n",
       "                                                  Pipeline(steps=[('functiontransformer',\n",
       "                                                                   FunctionTransformer(func=<function convert_to_int at 0x7effb06d8670>)),\n",
       "                                                                  ('robustscaler',\n",
       "                                                                   RobustScaler())]),\n",
       "                                                  ['year', 'duration']),\n",
       "                                                 ('functiontransformer-1',\n",
       "                                                  FunctionTransformer(func=<function convert_budget_column at 0x7effb06d8700>),\n",
       "                                                  ['budget']),\n",
       "                                                 ('functiontransformer-2',\n",
       "                                                  FunctionTransformer(func=<function add_sin_features at 0x7effb06d8820>),\n",
       "                                                  ['date_published']),\n",
       "                                                 ('functiontransformer-3',\n",
       "                                                  FunctionTransformer(func=<function add_cos_features at 0x7effb06d88b0>),\n",
       "                                                  ['date_published'])])),\n",
       "                ('gradientboostingregressor', GradientBoostingRegressor())])</pre></div></div></div><div class=\"sk-serial\"><div class=\"sk-item sk-dashed-wrapped\"><div class=\"sk-label-container\"><div class=\"sk-label sk-toggleable\"><input class=\"sk-toggleable__control sk-hidden--visually\" id=\"2d338123-991f-4a4f-b011-1174d63e98bd\" type=\"checkbox\" ><label class=\"sk-toggleable__label\" for=\"2d338123-991f-4a4f-b011-1174d63e98bd\">columntransformer: ColumnTransformer</label><div class=\"sk-toggleable__content\"><pre>ColumnTransformer(transformers=[('pipeline',\n",
       "                                 Pipeline(steps=[('functiontransformer',\n",
       "                                                  FunctionTransformer(func=<function convert_to_int at 0x7effb06d8670>)),\n",
       "                                                 ('robustscaler',\n",
       "                                                  RobustScaler())]),\n",
       "                                 ['year', 'duration']),\n",
       "                                ('functiontransformer-1',\n",
       "                                 FunctionTransformer(func=<function convert_budget_column at 0x7effb06d8700>),\n",
       "                                 ['budget']),\n",
       "                                ('functiontransformer-2',\n",
       "                                 FunctionTransformer(func=<function add_sin_features at 0x7effb06d8820>),\n",
       "                                 ['date_published']),\n",
       "                                ('functiontransformer-3',\n",
       "                                 FunctionTransformer(func=<function add_cos_features at 0x7effb06d88b0>),\n",
       "                                 ['date_published'])])</pre></div></div></div><div class=\"sk-parallel\"><div class=\"sk-parallel-item\"><div class=\"sk-item\"><div class=\"sk-label-container\"><div class=\"sk-label sk-toggleable\"><input class=\"sk-toggleable__control sk-hidden--visually\" id=\"5128350b-eed8-4308-98d9-92e61fbb0add\" type=\"checkbox\" ><label class=\"sk-toggleable__label\" for=\"5128350b-eed8-4308-98d9-92e61fbb0add\">pipeline</label><div class=\"sk-toggleable__content\"><pre>['year', 'duration']</pre></div></div></div><div class=\"sk-serial\"><div class=\"sk-item\"><div class=\"sk-serial\"><div class=\"sk-item\"><div class=\"sk-estimator sk-toggleable\"><input class=\"sk-toggleable__control sk-hidden--visually\" id=\"273f012a-8aa4-4f96-bc54-fde7ab806a5a\" type=\"checkbox\" ><label class=\"sk-toggleable__label\" for=\"273f012a-8aa4-4f96-bc54-fde7ab806a5a\">FunctionTransformer</label><div class=\"sk-toggleable__content\"><pre>FunctionTransformer(func=<function convert_to_int at 0x7effb06d8670>)</pre></div></div></div><div class=\"sk-item\"><div class=\"sk-estimator sk-toggleable\"><input class=\"sk-toggleable__control sk-hidden--visually\" id=\"a0c453bb-ffc4-4caa-8968-07c6f2d5b393\" type=\"checkbox\" ><label class=\"sk-toggleable__label\" for=\"a0c453bb-ffc4-4caa-8968-07c6f2d5b393\">RobustScaler</label><div class=\"sk-toggleable__content\"><pre>RobustScaler()</pre></div></div></div></div></div></div></div></div><div class=\"sk-parallel-item\"><div class=\"sk-item\"><div class=\"sk-label-container\"><div class=\"sk-label sk-toggleable\"><input class=\"sk-toggleable__control sk-hidden--visually\" id=\"6e549da8-cf31-4702-9a17-59e7d297bc7f\" type=\"checkbox\" ><label class=\"sk-toggleable__label\" for=\"6e549da8-cf31-4702-9a17-59e7d297bc7f\">functiontransformer-1</label><div class=\"sk-toggleable__content\"><pre>['budget']</pre></div></div></div><div class=\"sk-serial\"><div class=\"sk-item\"><div class=\"sk-estimator sk-toggleable\"><input class=\"sk-toggleable__control sk-hidden--visually\" id=\"8760a884-278c-44bd-8b04-4b080c4d85e1\" type=\"checkbox\" ><label class=\"sk-toggleable__label\" for=\"8760a884-278c-44bd-8b04-4b080c4d85e1\">FunctionTransformer</label><div class=\"sk-toggleable__content\"><pre>FunctionTransformer(func=<function convert_budget_column at 0x7effb06d8700>)</pre></div></div></div></div></div></div><div class=\"sk-parallel-item\"><div class=\"sk-item\"><div class=\"sk-label-container\"><div class=\"sk-label sk-toggleable\"><input class=\"sk-toggleable__control sk-hidden--visually\" id=\"5a7ad541-3464-42b1-986d-e6cfdc464fb6\" type=\"checkbox\" ><label class=\"sk-toggleable__label\" for=\"5a7ad541-3464-42b1-986d-e6cfdc464fb6\">functiontransformer-2</label><div class=\"sk-toggleable__content\"><pre>['date_published']</pre></div></div></div><div class=\"sk-serial\"><div class=\"sk-item\"><div class=\"sk-estimator sk-toggleable\"><input class=\"sk-toggleable__control sk-hidden--visually\" id=\"4a060059-e27c-4e61-a5af-db44a56ab4cd\" type=\"checkbox\" ><label class=\"sk-toggleable__label\" for=\"4a060059-e27c-4e61-a5af-db44a56ab4cd\">FunctionTransformer</label><div class=\"sk-toggleable__content\"><pre>FunctionTransformer(func=<function add_sin_features at 0x7effb06d8820>)</pre></div></div></div></div></div></div><div class=\"sk-parallel-item\"><div class=\"sk-item\"><div class=\"sk-label-container\"><div class=\"sk-label sk-toggleable\"><input class=\"sk-toggleable__control sk-hidden--visually\" id=\"aaf0b6ca-a617-40cc-bf24-d430d88fdacc\" type=\"checkbox\" ><label class=\"sk-toggleable__label\" for=\"aaf0b6ca-a617-40cc-bf24-d430d88fdacc\">functiontransformer-3</label><div class=\"sk-toggleable__content\"><pre>['date_published']</pre></div></div></div><div class=\"sk-serial\"><div class=\"sk-item\"><div class=\"sk-estimator sk-toggleable\"><input class=\"sk-toggleable__control sk-hidden--visually\" id=\"895a11c4-82e0-4e47-81f3-e2db664483b7\" type=\"checkbox\" ><label class=\"sk-toggleable__label\" for=\"895a11c4-82e0-4e47-81f3-e2db664483b7\">FunctionTransformer</label><div class=\"sk-toggleable__content\"><pre>FunctionTransformer(func=<function add_cos_features at 0x7effb06d88b0>)</pre></div></div></div></div></div></div></div></div><div class=\"sk-item\"><div class=\"sk-estimator sk-toggleable\"><input class=\"sk-toggleable__control sk-hidden--visually\" id=\"360ce771-2c9d-4a26-988a-a8ce8faabe04\" type=\"checkbox\" ><label class=\"sk-toggleable__label\" for=\"360ce771-2c9d-4a26-988a-a8ce8faabe04\">GradientBoostingRegressor</label><div class=\"sk-toggleable__content\"><pre>GradientBoostingRegressor()</pre></div></div></div></div></div></div></div>"
      ],
      "text/plain": [
       "Pipeline(steps=[('columntransformer',\n",
       "                 ColumnTransformer(transformers=[('pipeline',\n",
       "                                                  Pipeline(steps=[('functiontransformer',\n",
       "                                                                   FunctionTransformer(func=<function convert_to_int at 0x7effb06d8670>)),\n",
       "                                                                  ('robustscaler',\n",
       "                                                                   RobustScaler())]),\n",
       "                                                  ['year', 'duration']),\n",
       "                                                 ('functiontransformer-1',\n",
       "                                                  FunctionTransformer(func=<function convert_budget_column at 0x7effb06d8700>),\n",
       "                                                  ['budget']),\n",
       "                                                 ('functiontransformer-2',\n",
       "                                                  FunctionTransformer(func=<function add_sin_features at 0x7effb06d8820>),\n",
       "                                                  ['date_published']),\n",
       "                                                 ('functiontransformer-3',\n",
       "                                                  FunctionTransformer(func=<function add_cos_features at 0x7effb06d88b0>),\n",
       "                                                  ['date_published'])])),\n",
       "                ('gradientboostingregressor', GradientBoostingRegressor())])"
      ]
     },
     "execution_count": 18,
     "metadata": {},
     "output_type": "execute_result"
    }
   ],
   "source": [
    "# PIPELINE\n",
    "int_transformer = FunctionTransformer(convert_to_int)\n",
    "time_pipeline = make_pipeline(int_transformer, RobustScaler())\n",
    "\n",
    "budget_transformer = FunctionTransformer(convert_budget_column)\n",
    "# ohe_transformer = make_pipeline(OneHotEncoder(sparse=False))\n",
    "\n",
    "preproc_basic = make_column_transformer((time_pipeline, ['year', 'duration']),\n",
    "                                        (budget_transformer, ['budget']),\n",
    "                                        (sin_transformer, ['date_published']),\n",
    "                                        (cos_transformer, ['date_published']))\n",
    "\n",
    "pipeline = make_pipeline(preproc_basic, GradientBoostingRegressor())\n",
    "pipeline"
   ]
  },
  {
   "cell_type": "code",
   "execution_count": 19,
   "id": "5e3d03e6",
   "metadata": {},
   "outputs": [],
   "source": [
    "# FIT & PREDICT\n",
    "def baseline(pipeline, X, y):\n",
    "    \"\"\" Returns a list of 5 mae scores\"\"\"\n",
    "    mae = []\n",
    "    tscv = TimeSeriesSplit(n_splits=5)\n",
    "    for train_index, test_index in tscv.split(X):\n",
    "        print(\"TRAIN:\", train_index, \"TEST:\", test_index)\n",
    "        X_train, X_test = X.iloc[train_index], X.iloc[test_index]\n",
    "        y_train, y_test = y.iloc[train_index], y.iloc[test_index]\n",
    "        \n",
    "        pipeline.fit(X_train, y_train)\n",
    "        y_pred = pipeline.predict(X_test)\n",
    "        mae.append(mean_absolute_error(y_test, y_pred))\n",
    "    return mae"
   ]
  },
  {
   "cell_type": "code",
   "execution_count": 20,
   "id": "81701388",
   "metadata": {},
   "outputs": [
    {
     "name": "stdout",
     "output_type": "stream",
     "text": [
      "TRAIN: [   0    1    2 ... 1103 1104 1105] TEST: [1106 1107 1108 ... 2205 2206 2207]\n",
      "TRAIN: [   0    1    2 ... 2205 2206 2207] TEST: [2208 2209 2210 ... 3307 3308 3309]\n",
      "TRAIN: [   0    1    2 ... 3307 3308 3309] TEST: [3310 3311 3312 ... 4409 4410 4411]\n",
      "TRAIN: [   0    1    2 ... 4409 4410 4411] TEST: [4412 4413 4414 ... 5511 5512 5513]\n",
      "TRAIN: [   0    1    2 ... 5511 5512 5513] TEST: [5514 5515 5516 ... 6613 6614 6615]\n"
     ]
    },
    {
     "data": {
      "text/plain": [
       "[0.5704839278300105,\n",
       " 0.6024063814270646,\n",
       " 0.5408998631178251,\n",
       " 0.599131090239667,\n",
       " 0.5653026738207635]"
      ]
     },
     "execution_count": 20,
     "metadata": {},
     "output_type": "execute_result"
    }
   ],
   "source": [
    "baseline(pipeline, X, y)"
   ]
  },
  {
   "cell_type": "code",
   "execution_count": 21,
   "id": "857ce42b",
   "metadata": {
    "collapsed": true
   },
   "outputs": [
    {
     "data": {
      "text/plain": [
       "{'memory': None,\n",
       " 'steps': [('columntransformer',\n",
       "   ColumnTransformer(transformers=[('pipeline',\n",
       "                                    Pipeline(steps=[('functiontransformer',\n",
       "                                                     FunctionTransformer(func=<function convert_to_int at 0x7effb06d8670>)),\n",
       "                                                    ('robustscaler',\n",
       "                                                     RobustScaler())]),\n",
       "                                    ['year', 'duration']),\n",
       "                                   ('functiontransformer-1',\n",
       "                                    FunctionTransformer(func=<function convert_budget_column at 0x7effb06d8700>),\n",
       "                                    ['budget']),\n",
       "                                   ('functiontransformer-2',\n",
       "                                    FunctionTransformer(func=<function add_sin_features at 0x7effb06d8820>),\n",
       "                                    ['date_published']),\n",
       "                                   ('functiontransformer-3',\n",
       "                                    FunctionTransformer(func=<function add_cos_features at 0x7effb06d88b0>),\n",
       "                                    ['date_published'])])),\n",
       "  ('gradientboostingregressor', GradientBoostingRegressor())],\n",
       " 'verbose': False,\n",
       " 'columntransformer': ColumnTransformer(transformers=[('pipeline',\n",
       "                                  Pipeline(steps=[('functiontransformer',\n",
       "                                                   FunctionTransformer(func=<function convert_to_int at 0x7effb06d8670>)),\n",
       "                                                  ('robustscaler',\n",
       "                                                   RobustScaler())]),\n",
       "                                  ['year', 'duration']),\n",
       "                                 ('functiontransformer-1',\n",
       "                                  FunctionTransformer(func=<function convert_budget_column at 0x7effb06d8700>),\n",
       "                                  ['budget']),\n",
       "                                 ('functiontransformer-2',\n",
       "                                  FunctionTransformer(func=<function add_sin_features at 0x7effb06d8820>),\n",
       "                                  ['date_published']),\n",
       "                                 ('functiontransformer-3',\n",
       "                                  FunctionTransformer(func=<function add_cos_features at 0x7effb06d88b0>),\n",
       "                                  ['date_published'])]),\n",
       " 'gradientboostingregressor': GradientBoostingRegressor(),\n",
       " 'columntransformer__n_jobs': None,\n",
       " 'columntransformer__remainder': 'drop',\n",
       " 'columntransformer__sparse_threshold': 0.3,\n",
       " 'columntransformer__transformer_weights': None,\n",
       " 'columntransformer__transformers': [('pipeline',\n",
       "   Pipeline(steps=[('functiontransformer',\n",
       "                    FunctionTransformer(func=<function convert_to_int at 0x7effb06d8670>)),\n",
       "                   ('robustscaler', RobustScaler())]),\n",
       "   ['year', 'duration']),\n",
       "  ('functiontransformer-1',\n",
       "   FunctionTransformer(func=<function convert_budget_column at 0x7effb06d8700>),\n",
       "   ['budget']),\n",
       "  ('functiontransformer-2',\n",
       "   FunctionTransformer(func=<function add_sin_features at 0x7effb06d8820>),\n",
       "   ['date_published']),\n",
       "  ('functiontransformer-3',\n",
       "   FunctionTransformer(func=<function add_cos_features at 0x7effb06d88b0>),\n",
       "   ['date_published'])],\n",
       " 'columntransformer__verbose': False,\n",
       " 'columntransformer__verbose_feature_names_out': True,\n",
       " 'columntransformer__pipeline': Pipeline(steps=[('functiontransformer',\n",
       "                  FunctionTransformer(func=<function convert_to_int at 0x7effb06d8670>)),\n",
       "                 ('robustscaler', RobustScaler())]),\n",
       " 'columntransformer__functiontransformer-1': FunctionTransformer(func=<function convert_budget_column at 0x7effb06d8700>),\n",
       " 'columntransformer__functiontransformer-2': FunctionTransformer(func=<function add_sin_features at 0x7effb06d8820>),\n",
       " 'columntransformer__functiontransformer-3': FunctionTransformer(func=<function add_cos_features at 0x7effb06d88b0>),\n",
       " 'columntransformer__pipeline__memory': None,\n",
       " 'columntransformer__pipeline__steps': [('functiontransformer',\n",
       "   FunctionTransformer(func=<function convert_to_int at 0x7effb06d8670>)),\n",
       "  ('robustscaler', RobustScaler())],\n",
       " 'columntransformer__pipeline__verbose': False,\n",
       " 'columntransformer__pipeline__functiontransformer': FunctionTransformer(func=<function convert_to_int at 0x7effb06d8670>),\n",
       " 'columntransformer__pipeline__robustscaler': RobustScaler(),\n",
       " 'columntransformer__pipeline__functiontransformer__accept_sparse': False,\n",
       " 'columntransformer__pipeline__functiontransformer__check_inverse': True,\n",
       " 'columntransformer__pipeline__functiontransformer__func': <function CinePred.data.utils.convert_to_int(df)>,\n",
       " 'columntransformer__pipeline__functiontransformer__inv_kw_args': None,\n",
       " 'columntransformer__pipeline__functiontransformer__inverse_func': None,\n",
       " 'columntransformer__pipeline__functiontransformer__kw_args': None,\n",
       " 'columntransformer__pipeline__functiontransformer__validate': False,\n",
       " 'columntransformer__pipeline__robustscaler__copy': True,\n",
       " 'columntransformer__pipeline__robustscaler__quantile_range': (25.0, 75.0),\n",
       " 'columntransformer__pipeline__robustscaler__unit_variance': False,\n",
       " 'columntransformer__pipeline__robustscaler__with_centering': True,\n",
       " 'columntransformer__pipeline__robustscaler__with_scaling': True,\n",
       " 'columntransformer__functiontransformer-1__accept_sparse': False,\n",
       " 'columntransformer__functiontransformer-1__check_inverse': True,\n",
       " 'columntransformer__functiontransformer-1__func': <function CinePred.data.utils.convert_budget_column(df, column_name='budget', out_currency='USD')>,\n",
       " 'columntransformer__functiontransformer-1__inv_kw_args': None,\n",
       " 'columntransformer__functiontransformer-1__inverse_func': None,\n",
       " 'columntransformer__functiontransformer-1__kw_args': None,\n",
       " 'columntransformer__functiontransformer-1__validate': False,\n",
       " 'columntransformer__functiontransformer-2__accept_sparse': False,\n",
       " 'columntransformer__functiontransformer-2__check_inverse': True,\n",
       " 'columntransformer__functiontransformer-2__func': <function CinePred.data.utils.add_sin_features(df)>,\n",
       " 'columntransformer__functiontransformer-2__inv_kw_args': None,\n",
       " 'columntransformer__functiontransformer-2__inverse_func': None,\n",
       " 'columntransformer__functiontransformer-2__kw_args': None,\n",
       " 'columntransformer__functiontransformer-2__validate': False,\n",
       " 'columntransformer__functiontransformer-3__accept_sparse': False,\n",
       " 'columntransformer__functiontransformer-3__check_inverse': True,\n",
       " 'columntransformer__functiontransformer-3__func': <function CinePred.data.utils.add_cos_features(df)>,\n",
       " 'columntransformer__functiontransformer-3__inv_kw_args': None,\n",
       " 'columntransformer__functiontransformer-3__inverse_func': None,\n",
       " 'columntransformer__functiontransformer-3__kw_args': None,\n",
       " 'columntransformer__functiontransformer-3__validate': False,\n",
       " 'gradientboostingregressor__alpha': 0.9,\n",
       " 'gradientboostingregressor__ccp_alpha': 0.0,\n",
       " 'gradientboostingregressor__criterion': 'friedman_mse',\n",
       " 'gradientboostingregressor__init': None,\n",
       " 'gradientboostingregressor__learning_rate': 0.1,\n",
       " 'gradientboostingregressor__loss': 'squared_error',\n",
       " 'gradientboostingregressor__max_depth': 3,\n",
       " 'gradientboostingregressor__max_features': None,\n",
       " 'gradientboostingregressor__max_leaf_nodes': None,\n",
       " 'gradientboostingregressor__min_impurity_decrease': 0.0,\n",
       " 'gradientboostingregressor__min_samples_leaf': 1,\n",
       " 'gradientboostingregressor__min_samples_split': 2,\n",
       " 'gradientboostingregressor__min_weight_fraction_leaf': 0.0,\n",
       " 'gradientboostingregressor__n_estimators': 100,\n",
       " 'gradientboostingregressor__n_iter_no_change': None,\n",
       " 'gradientboostingregressor__random_state': None,\n",
       " 'gradientboostingregressor__subsample': 1.0,\n",
       " 'gradientboostingregressor__tol': 0.0001,\n",
       " 'gradientboostingregressor__validation_fraction': 0.1,\n",
       " 'gradientboostingregressor__verbose': 0,\n",
       " 'gradientboostingregressor__warm_start': False}"
      ]
     },
     "execution_count": 21,
     "metadata": {},
     "output_type": "execute_result"
    }
   ],
   "source": [
    "pipeline.get_params()"
   ]
  },
  {
   "cell_type": "code",
   "execution_count": 22,
   "id": "f5234072",
   "metadata": {},
   "outputs": [
    {
     "data": {
      "text/plain": [
       "{'gradientboostingregressor__learning_rate': 0.1,\n",
       " 'gradientboostingregressor__max_depth': 2,\n",
       " 'gradientboostingregressor__n_estimators': 100}"
      ]
     },
     "execution_count": 22,
     "metadata": {},
     "output_type": "execute_result"
    }
   ],
   "source": [
    "from sklearn.model_selection import GridSearchCV\n",
    "\n",
    "# Inspect all pipe components parameters to find the one you want to gridsearch\n",
    "\n",
    "\n",
    "# Instanciate grid search\n",
    "grid_search = GridSearchCV(\n",
    "    pipeline, \n",
    "    param_grid={\n",
    "        # Access any component of the pipeline, as far back as you want\n",
    "        'gradientboostingregressor__learning_rate': [0.001, 0.01, 0.1],\n",
    "        'gradientboostingregressor__n_estimators': [10,100,200,500],\n",
    "        'gradientboostingregressor__max_depth': [2,3,4]},\n",
    "    cv=TimeSeriesSplit(n_splits=5),\n",
    "    scoring=\"neg_mean_absolute_error\")\n",
    "\n",
    "grid_search.fit(X, y)\n",
    "grid_search.best_params_"
   ]
  },
  {
   "cell_type": "code",
   "execution_count": null,
   "id": "9148fc67",
   "metadata": {},
   "outputs": [],
   "source": []
  }
 ],
 "metadata": {
  "kernelspec": {
   "display_name": "Python 3 (ipykernel)",
   "language": "python",
   "name": "python3"
  },
  "language_info": {
   "codemirror_mode": {
    "name": "ipython",
    "version": 3
   },
   "file_extension": ".py",
   "mimetype": "text/x-python",
   "name": "python",
   "nbconvert_exporter": "python",
   "pygments_lexer": "ipython3",
   "version": "3.8.12"
  },
  "toc": {
   "base_numbering": 1,
   "nav_menu": {},
   "number_sections": true,
   "sideBar": true,
   "skip_h1_title": false,
   "title_cell": "Table of Contents",
   "title_sidebar": "Contents",
   "toc_cell": false,
   "toc_position": {},
   "toc_section_display": true,
   "toc_window_display": false
  }
 },
 "nbformat": 4,
 "nbformat_minor": 5
}
