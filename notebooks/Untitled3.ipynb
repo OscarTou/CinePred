{
 "cells": [
  {
   "cell_type": "code",
   "execution_count": 1,
   "id": "2b747ad7",
   "metadata": {
    "ExecuteTime": {
     "end_time": "2021-11-30T16:29:20.542376Z",
     "start_time": "2021-11-30T16:29:20.515368Z"
    }
   },
   "outputs": [],
   "source": [
    "%load_ext autoreload\n",
    "%autoreload 2"
   ]
  },
  {
   "cell_type": "code",
   "execution_count": 4,
   "id": "b2d39311",
   "metadata": {
    "ExecuteTime": {
     "end_time": "2021-11-30T16:30:56.651408Z",
     "start_time": "2021-11-30T16:30:56.614358Z"
    }
   },
   "outputs": [],
   "source": [
    "import pandas as pd\n",
    "import matplotlib.pyplot as plt\n",
    "import seaborn as sns\n",
    "import numpy as np\n",
    "\n",
    "from CinePred.data.importing import import_data"
   ]
  },
  {
   "cell_type": "code",
   "execution_count": 5,
   "id": "ce832448",
   "metadata": {
    "ExecuteTime": {
     "end_time": "2021-11-30T16:30:57.490323Z",
     "start_time": "2021-11-30T16:30:57.457023Z"
    }
   },
   "outputs": [],
   "source": [
    "from CinePred.new_model import preproc"
   ]
  },
  {
   "cell_type": "code",
   "execution_count": 8,
   "id": "4127906a",
   "metadata": {
    "ExecuteTime": {
     "end_time": "2021-11-30T16:31:24.633720Z",
     "start_time": "2021-11-30T16:31:22.712809Z"
    }
   },
   "outputs": [],
   "source": [
    "df_imp = import_data(link=\"../raw_data/IMDb_movies.csv\")"
   ]
  },
  {
   "cell_type": "code",
   "execution_count": 9,
   "id": "cd64070f",
   "metadata": {
    "ExecuteTime": {
     "end_time": "2021-11-30T16:32:01.456477Z",
     "start_time": "2021-11-30T16:31:40.040906Z"
    }
   },
   "outputs": [],
   "source": [
    "df = preproc(df_imp,path=\"../raw_data/cat_acteur.csv\")"
   ]
  },
  {
   "cell_type": "code",
   "execution_count": 14,
   "id": "7364fdd4",
   "metadata": {
    "ExecuteTime": {
     "end_time": "2021-11-30T16:33:14.647756Z",
     "start_time": "2021-11-30T16:33:14.603564Z"
    }
   },
   "outputs": [],
   "source": [
    "shifted = df[['shifted','actors']]"
   ]
  },
  {
   "cell_type": "code",
   "execution_count": 20,
   "id": "a5e3d664",
   "metadata": {
    "ExecuteTime": {
     "end_time": "2021-11-30T16:35:04.562135Z",
     "start_time": "2021-11-30T16:35:04.486116Z"
    }
   },
   "outputs": [],
   "source": [
    "actors_1 = shifted[shifted['actors'].str.contains('Leonardo DiCaprio')].max()['shifted']\n",
    "actors_2 = shifted[shifted['actors'].str.contains('Brad Pitt')].max()['shifted']"
   ]
  },
  {
   "cell_type": "code",
   "execution_count": 21,
   "id": "6d167a01",
   "metadata": {
    "ExecuteTime": {
     "end_time": "2021-11-30T16:35:19.090703Z",
     "start_time": "2021-11-30T16:35:19.042604Z"
    }
   },
   "outputs": [
    {
     "data": {
      "text/plain": [
       "26"
      ]
     },
     "execution_count": 21,
     "metadata": {},
     "output_type": "execute_result"
    }
   ],
   "source": [
    "actors_1 + actors_2 + actors_3"
   ]
  },
  {
   "cell_type": "code",
   "execution_count": 38,
   "id": "1ae61da2",
   "metadata": {
    "ExecuteTime": {
     "end_time": "2021-11-30T16:45:39.101724Z",
     "start_time": "2021-11-30T16:45:39.050921Z"
    }
   },
   "outputs": [],
   "source": [
    "X = pd.DataFrame(np.array([[1, 2, 3]]),columns=['a', 'b', 'c'])"
   ]
  },
  {
   "cell_type": "code",
   "execution_count": 39,
   "id": "4aa6a6e2",
   "metadata": {
    "ExecuteTime": {
     "end_time": "2021-11-30T16:45:39.890944Z",
     "start_time": "2021-11-30T16:45:39.851149Z"
    }
   },
   "outputs": [
    {
     "data": {
      "text/html": [
       "<div>\n",
       "<style scoped>\n",
       "    .dataframe tbody tr th:only-of-type {\n",
       "        vertical-align: middle;\n",
       "    }\n",
       "\n",
       "    .dataframe tbody tr th {\n",
       "        vertical-align: top;\n",
       "    }\n",
       "\n",
       "    .dataframe thead th {\n",
       "        text-align: right;\n",
       "    }\n",
       "</style>\n",
       "<table border=\"1\" class=\"dataframe\">\n",
       "  <thead>\n",
       "    <tr style=\"text-align: right;\">\n",
       "      <th></th>\n",
       "      <th>a</th>\n",
       "      <th>b</th>\n",
       "      <th>c</th>\n",
       "    </tr>\n",
       "  </thead>\n",
       "  <tbody>\n",
       "    <tr>\n",
       "      <th>0</th>\n",
       "      <td>1</td>\n",
       "      <td>2</td>\n",
       "      <td>3</td>\n",
       "    </tr>\n",
       "  </tbody>\n",
       "</table>\n",
       "</div>"
      ],
      "text/plain": [
       "   a  b  c\n",
       "0  1  2  3"
      ]
     },
     "execution_count": 39,
     "metadata": {},
     "output_type": "execute_result"
    }
   ],
   "source": [
    "X"
   ]
  },
  {
   "cell_type": "code",
   "execution_count": null,
   "id": "a355294c",
   "metadata": {},
   "outputs": [],
   "source": []
  }
 ],
 "metadata": {
  "kernelspec": {
   "display_name": "Python 3 (ipykernel)",
   "language": "python",
   "name": "python3"
  },
  "language_info": {
   "codemirror_mode": {
    "name": "ipython",
    "version": 3
   },
   "file_extension": ".py",
   "mimetype": "text/x-python",
   "name": "python",
   "nbconvert_exporter": "python",
   "pygments_lexer": "ipython3",
   "version": "3.8.12"
  },
  "toc": {
   "base_numbering": 1,
   "nav_menu": {},
   "number_sections": true,
   "sideBar": true,
   "skip_h1_title": false,
   "title_cell": "Table of Contents",
   "title_sidebar": "Contents",
   "toc_cell": false,
   "toc_position": {},
   "toc_section_display": true,
   "toc_window_display": false
  },
  "varInspector": {
   "cols": {
    "lenName": 16,
    "lenType": 16,
    "lenVar": 40
   },
   "kernels_config": {
    "python": {
     "delete_cmd_postfix": "",
     "delete_cmd_prefix": "del ",
     "library": "var_list.py",
     "varRefreshCmd": "print(var_dic_list())"
    },
    "r": {
     "delete_cmd_postfix": ") ",
     "delete_cmd_prefix": "rm(",
     "library": "var_list.r",
     "varRefreshCmd": "cat(var_dic_list()) "
    }
   },
   "types_to_exclude": [
    "module",
    "function",
    "builtin_function_or_method",
    "instance",
    "_Feature"
   ],
   "window_display": false
  }
 },
 "nbformat": 4,
 "nbformat_minor": 5
}
