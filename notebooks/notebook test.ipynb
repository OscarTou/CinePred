{
 "cells": [
  {
   "cell_type": "code",
   "execution_count": 1,
   "id": "3a2d6e83",
   "metadata": {
    "ExecuteTime": {
     "end_time": "2021-11-29T15:30:08.360954Z",
     "start_time": "2021-11-29T15:30:08.316214Z"
    }
   },
   "outputs": [],
   "source": [
    "%load_ext autoreload\n",
    "%autoreload 2"
   ]
  },
  {
   "cell_type": "code",
   "execution_count": 2,
   "id": "c3060df9",
   "metadata": {
    "ExecuteTime": {
     "end_time": "2021-11-29T15:32:06.204508Z",
     "start_time": "2021-11-29T15:30:09.245485Z"
    }
   },
   "outputs": [],
   "source": [
    "import pandas as pd\n",
    "import matplotlib.pyplot as plt\n",
    "import seaborn as sns\n",
    "import numpy as np\n",
    "\n",
    "from CinePred.pipeline import import_clean_df\n",
    "from CinePred.data.featuring import *\n"
   ]
  },
  {
   "cell_type": "code",
   "execution_count": 3,
   "id": "b6918bef",
   "metadata": {
    "ExecuteTime": {
     "end_time": "2021-11-29T15:32:06.284515Z",
     "start_time": "2021-11-29T15:32:06.250136Z"
    }
   },
   "outputs": [],
   "source": [
    "from CinePred.new_model import preproc"
   ]
  },
  {
   "cell_type": "code",
   "execution_count": 4,
   "id": "4e6a42c5",
   "metadata": {
    "ExecuteTime": {
     "end_time": "2021-11-29T15:32:11.944639Z",
     "start_time": "2021-11-29T15:32:10.318600Z"
    }
   },
   "outputs": [],
   "source": [
    "df = import_data(link=\"../raw_data/IMDb_movies.csv\")"
   ]
  },
  {
   "cell_type": "code",
   "execution_count": 5,
   "id": "53b833b4",
   "metadata": {
    "ExecuteTime": {
     "end_time": "2021-11-29T15:32:34.737316Z",
     "start_time": "2021-11-29T15:32:12.568953Z"
    }
   },
   "outputs": [],
   "source": [
    "df = preproc(df,path=\"../raw_data/cat_acteur.csv\")"
   ]
  },
  {
   "cell_type": "code",
   "execution_count": 8,
   "id": "3e740558",
   "metadata": {
    "ExecuteTime": {
     "end_time": "2021-11-29T15:33:10.991399Z",
     "start_time": "2021-11-29T15:33:10.905371Z"
    }
   },
   "outputs": [
    {
     "data": {
      "text/html": [
       "<div>\n",
       "<style scoped>\n",
       "    .dataframe tbody tr th:only-of-type {\n",
       "        vertical-align: middle;\n",
       "    }\n",
       "\n",
       "    .dataframe tbody tr th {\n",
       "        vertical-align: top;\n",
       "    }\n",
       "\n",
       "    .dataframe thead th {\n",
       "        text-align: right;\n",
       "    }\n",
       "</style>\n",
       "<table border=\"1\" class=\"dataframe\">\n",
       "  <thead>\n",
       "    <tr style=\"text-align: right;\">\n",
       "      <th></th>\n",
       "      <th>year</th>\n",
       "      <th>duration</th>\n",
       "      <th>budget</th>\n",
       "      <th>worlwide_gross_income</th>\n",
       "      <th>shifted</th>\n",
       "      <th>date_sin</th>\n",
       "      <th>date_cos</th>\n",
       "      <th>Music</th>\n",
       "      <th>Sport</th>\n",
       "      <th>Film-Noir</th>\n",
       "      <th>...</th>\n",
       "      <th>Drama</th>\n",
       "      <th>Biography</th>\n",
       "      <th>Sci-Fi</th>\n",
       "      <th>Comedy</th>\n",
       "      <th>Western</th>\n",
       "      <th>Family</th>\n",
       "      <th>Musical</th>\n",
       "      <th>Nb_actuals_movie_directors_company</th>\n",
       "      <th>Nb_actuals_movie_directors</th>\n",
       "      <th>Nb_actuals_movie_directors_writer</th>\n",
       "    </tr>\n",
       "  </thead>\n",
       "  <tbody>\n",
       "    <tr>\n",
       "      <th>10696</th>\n",
       "      <td>2020</td>\n",
       "      <td>94</td>\n",
       "      <td>7.839199</td>\n",
       "      <td>7.016503</td>\n",
       "      <td>0</td>\n",
       "      <td>-1.000000e+00</td>\n",
       "      <td>-1.836970e-16</td>\n",
       "      <td>0</td>\n",
       "      <td>0</td>\n",
       "      <td>0</td>\n",
       "      <td>...</td>\n",
       "      <td>0</td>\n",
       "      <td>0</td>\n",
       "      <td>1</td>\n",
       "      <td>0</td>\n",
       "      <td>0</td>\n",
       "      <td>0</td>\n",
       "      <td>0</td>\n",
       "      <td>2</td>\n",
       "      <td>2</td>\n",
       "      <td>1</td>\n",
       "    </tr>\n",
       "    <tr>\n",
       "      <th>8700</th>\n",
       "      <td>2020</td>\n",
       "      <td>95</td>\n",
       "      <td>7.490245</td>\n",
       "      <td>5.974358</td>\n",
       "      <td>3</td>\n",
       "      <td>-8.660254e-01</td>\n",
       "      <td>-5.000000e-01</td>\n",
       "      <td>0</td>\n",
       "      <td>0</td>\n",
       "      <td>0</td>\n",
       "      <td>...</td>\n",
       "      <td>1</td>\n",
       "      <td>0</td>\n",
       "      <td>0</td>\n",
       "      <td>0</td>\n",
       "      <td>0</td>\n",
       "      <td>0</td>\n",
       "      <td>0</td>\n",
       "      <td>1</td>\n",
       "      <td>7</td>\n",
       "      <td>6</td>\n",
       "    </tr>\n",
       "    <tr>\n",
       "      <th>6175</th>\n",
       "      <td>2020</td>\n",
       "      <td>116</td>\n",
       "      <td>7.092305</td>\n",
       "      <td>7.136134</td>\n",
       "      <td>0</td>\n",
       "      <td>1.000000e+00</td>\n",
       "      <td>6.123234e-17</td>\n",
       "      <td>1</td>\n",
       "      <td>0</td>\n",
       "      <td>0</td>\n",
       "      <td>...</td>\n",
       "      <td>1</td>\n",
       "      <td>1</td>\n",
       "      <td>0</td>\n",
       "      <td>0</td>\n",
       "      <td>0</td>\n",
       "      <td>0</td>\n",
       "      <td>0</td>\n",
       "      <td>3</td>\n",
       "      <td>4</td>\n",
       "      <td>1</td>\n",
       "    </tr>\n",
       "    <tr>\n",
       "      <th>1512</th>\n",
       "      <td>2020</td>\n",
       "      <td>93</td>\n",
       "      <td>6.141828</td>\n",
       "      <td>3.574841</td>\n",
       "      <td>0</td>\n",
       "      <td>8.660254e-01</td>\n",
       "      <td>-5.000000e-01</td>\n",
       "      <td>0</td>\n",
       "      <td>0</td>\n",
       "      <td>0</td>\n",
       "      <td>...</td>\n",
       "      <td>0</td>\n",
       "      <td>0</td>\n",
       "      <td>0</td>\n",
       "      <td>1</td>\n",
       "      <td>0</td>\n",
       "      <td>0</td>\n",
       "      <td>0</td>\n",
       "      <td>9</td>\n",
       "      <td>1</td>\n",
       "      <td>1</td>\n",
       "    </tr>\n",
       "    <tr>\n",
       "      <th>11080</th>\n",
       "      <td>2020</td>\n",
       "      <td>109</td>\n",
       "      <td>7.939981</td>\n",
       "      <td>8.305047</td>\n",
       "      <td>1</td>\n",
       "      <td>8.660254e-01</td>\n",
       "      <td>5.000000e-01</td>\n",
       "      <td>0</td>\n",
       "      <td>0</td>\n",
       "      <td>0</td>\n",
       "      <td>...</td>\n",
       "      <td>0</td>\n",
       "      <td>0</td>\n",
       "      <td>0</td>\n",
       "      <td>0</td>\n",
       "      <td>0</td>\n",
       "      <td>0</td>\n",
       "      <td>0</td>\n",
       "      <td>1</td>\n",
       "      <td>1</td>\n",
       "      <td>1</td>\n",
       "    </tr>\n",
       "    <tr>\n",
       "      <th>...</th>\n",
       "      <td>...</td>\n",
       "      <td>...</td>\n",
       "      <td>...</td>\n",
       "      <td>...</td>\n",
       "      <td>...</td>\n",
       "      <td>...</td>\n",
       "      <td>...</td>\n",
       "      <td>...</td>\n",
       "      <td>...</td>\n",
       "      <td>...</td>\n",
       "      <td>...</td>\n",
       "      <td>...</td>\n",
       "      <td>...</td>\n",
       "      <td>...</td>\n",
       "      <td>...</td>\n",
       "      <td>...</td>\n",
       "      <td>...</td>\n",
       "      <td>...</td>\n",
       "      <td>...</td>\n",
       "      <td>...</td>\n",
       "      <td>...</td>\n",
       "    </tr>\n",
       "    <tr>\n",
       "      <th>4091</th>\n",
       "      <td>1923</td>\n",
       "      <td>82</td>\n",
       "      <td>6.725294</td>\n",
       "      <td>4.050496</td>\n",
       "      <td>0</td>\n",
       "      <td>1.224647e-16</td>\n",
       "      <td>-1.000000e+00</td>\n",
       "      <td>0</td>\n",
       "      <td>0</td>\n",
       "      <td>0</td>\n",
       "      <td>...</td>\n",
       "      <td>1</td>\n",
       "      <td>0</td>\n",
       "      <td>0</td>\n",
       "      <td>0</td>\n",
       "      <td>0</td>\n",
       "      <td>0</td>\n",
       "      <td>0</td>\n",
       "      <td>2</td>\n",
       "      <td>2</td>\n",
       "      <td>2</td>\n",
       "    </tr>\n",
       "    <tr>\n",
       "      <th>497</th>\n",
       "      <td>1921</td>\n",
       "      <td>107</td>\n",
       "      <td>5.605531</td>\n",
       "      <td>3.630631</td>\n",
       "      <td>0</td>\n",
       "      <td>-2.449294e-16</td>\n",
       "      <td>1.000000e+00</td>\n",
       "      <td>0</td>\n",
       "      <td>0</td>\n",
       "      <td>0</td>\n",
       "      <td>...</td>\n",
       "      <td>1</td>\n",
       "      <td>0</td>\n",
       "      <td>0</td>\n",
       "      <td>0</td>\n",
       "      <td>0</td>\n",
       "      <td>0</td>\n",
       "      <td>0</td>\n",
       "      <td>1</td>\n",
       "      <td>1</td>\n",
       "      <td>1</td>\n",
       "    </tr>\n",
       "    <tr>\n",
       "      <th>6009</th>\n",
       "      <td>1921</td>\n",
       "      <td>150</td>\n",
       "      <td>7.063220</td>\n",
       "      <td>6.963016</td>\n",
       "      <td>0</td>\n",
       "      <td>8.660254e-01</td>\n",
       "      <td>-5.000000e-01</td>\n",
       "      <td>0</td>\n",
       "      <td>0</td>\n",
       "      <td>0</td>\n",
       "      <td>...</td>\n",
       "      <td>1</td>\n",
       "      <td>0</td>\n",
       "      <td>0</td>\n",
       "      <td>0</td>\n",
       "      <td>0</td>\n",
       "      <td>0</td>\n",
       "      <td>0</td>\n",
       "      <td>1</td>\n",
       "      <td>1</td>\n",
       "      <td>1</td>\n",
       "    </tr>\n",
       "    <tr>\n",
       "      <th>3287</th>\n",
       "      <td>1921</td>\n",
       "      <td>68</td>\n",
       "      <td>6.558070</td>\n",
       "      <td>4.430011</td>\n",
       "      <td>0</td>\n",
       "      <td>-5.000000e-01</td>\n",
       "      <td>8.660254e-01</td>\n",
       "      <td>0</td>\n",
       "      <td>0</td>\n",
       "      <td>0</td>\n",
       "      <td>...</td>\n",
       "      <td>1</td>\n",
       "      <td>0</td>\n",
       "      <td>0</td>\n",
       "      <td>1</td>\n",
       "      <td>0</td>\n",
       "      <td>1</td>\n",
       "      <td>0</td>\n",
       "      <td>1</td>\n",
       "      <td>1</td>\n",
       "      <td>1</td>\n",
       "    </tr>\n",
       "    <tr>\n",
       "      <th>313</th>\n",
       "      <td>1920</td>\n",
       "      <td>76</td>\n",
       "      <td>5.367225</td>\n",
       "      <td>3.945025</td>\n",
       "      <td>0</td>\n",
       "      <td>8.660254e-01</td>\n",
       "      <td>5.000000e-01</td>\n",
       "      <td>0</td>\n",
       "      <td>0</td>\n",
       "      <td>0</td>\n",
       "      <td>...</td>\n",
       "      <td>0</td>\n",
       "      <td>0</td>\n",
       "      <td>0</td>\n",
       "      <td>0</td>\n",
       "      <td>0</td>\n",
       "      <td>0</td>\n",
       "      <td>0</td>\n",
       "      <td>1</td>\n",
       "      <td>1</td>\n",
       "      <td>1</td>\n",
       "    </tr>\n",
       "  </tbody>\n",
       "</table>\n",
       "<p>12024 rows × 32 columns</p>\n",
       "</div>"
      ],
      "text/plain": [
       "       year  duration    budget  worlwide_gross_income  shifted      date_sin  \\\n",
       "10696  2020        94  7.839199               7.016503        0 -1.000000e+00   \n",
       "8700   2020        95  7.490245               5.974358        3 -8.660254e-01   \n",
       "6175   2020       116  7.092305               7.136134        0  1.000000e+00   \n",
       "1512   2020        93  6.141828               3.574841        0  8.660254e-01   \n",
       "11080  2020       109  7.939981               8.305047        1  8.660254e-01   \n",
       "...     ...       ...       ...                    ...      ...           ...   \n",
       "4091   1923        82  6.725294               4.050496        0  1.224647e-16   \n",
       "497    1921       107  5.605531               3.630631        0 -2.449294e-16   \n",
       "6009   1921       150  7.063220               6.963016        0  8.660254e-01   \n",
       "3287   1921        68  6.558070               4.430011        0 -5.000000e-01   \n",
       "313    1920        76  5.367225               3.945025        0  8.660254e-01   \n",
       "\n",
       "           date_cos  Music  Sport  Film-Noir  ...  Drama  Biography  Sci-Fi  \\\n",
       "10696 -1.836970e-16      0      0          0  ...      0          0       1   \n",
       "8700  -5.000000e-01      0      0          0  ...      1          0       0   \n",
       "6175   6.123234e-17      1      0          0  ...      1          1       0   \n",
       "1512  -5.000000e-01      0      0          0  ...      0          0       0   \n",
       "11080  5.000000e-01      0      0          0  ...      0          0       0   \n",
       "...             ...    ...    ...        ...  ...    ...        ...     ...   \n",
       "4091  -1.000000e+00      0      0          0  ...      1          0       0   \n",
       "497    1.000000e+00      0      0          0  ...      1          0       0   \n",
       "6009  -5.000000e-01      0      0          0  ...      1          0       0   \n",
       "3287   8.660254e-01      0      0          0  ...      1          0       0   \n",
       "313    5.000000e-01      0      0          0  ...      0          0       0   \n",
       "\n",
       "       Comedy  Western  Family  Musical  Nb_actuals_movie_directors_company  \\\n",
       "10696       0        0       0        0                                   2   \n",
       "8700        0        0       0        0                                   1   \n",
       "6175        0        0       0        0                                   3   \n",
       "1512        1        0       0        0                                   9   \n",
       "11080       0        0       0        0                                   1   \n",
       "...       ...      ...     ...      ...                                 ...   \n",
       "4091        0        0       0        0                                   2   \n",
       "497         0        0       0        0                                   1   \n",
       "6009        0        0       0        0                                   1   \n",
       "3287        1        0       1        0                                   1   \n",
       "313         0        0       0        0                                   1   \n",
       "\n",
       "       Nb_actuals_movie_directors  Nb_actuals_movie_directors_writer  \n",
       "10696                           2                                  1  \n",
       "8700                            7                                  6  \n",
       "6175                            4                                  1  \n",
       "1512                            1                                  1  \n",
       "11080                           1                                  1  \n",
       "...                           ...                                ...  \n",
       "4091                            2                                  2  \n",
       "497                             1                                  1  \n",
       "6009                            1                                  1  \n",
       "3287                            1                                  1  \n",
       "313                             1                                  1  \n",
       "\n",
       "[12024 rows x 32 columns]"
      ]
     },
     "execution_count": 8,
     "metadata": {},
     "output_type": "execute_result"
    }
   ],
   "source": [
    "df.sort_values('year', ascending = False)"
   ]
  },
  {
   "cell_type": "code",
   "execution_count": null,
   "id": "1d45e182",
   "metadata": {
    "ExecuteTime": {
     "end_time": "2021-11-29T14:41:39.815809Z",
     "start_time": "2021-11-29T14:41:39.815795Z"
    }
   },
   "outputs": [],
   "source": [
    "import requests"
   ]
  },
  {
   "cell_type": "code",
   "execution_count": null,
   "id": "e65f1736",
   "metadata": {
    "ExecuteTime": {
     "end_time": "2021-11-29T14:41:39.817606Z",
     "start_time": "2021-11-29T14:41:39.817592Z"
    }
   },
   "outputs": [],
   "source": [
    "req = requests.get(f\"https://www.myapifilms.com/imdb/idIMDB?idIMDB=tt4154796&token=0d909bb9-91e5-4d5a-b74d-5b0f1872a2ff\").json()"
   ]
  },
  {
   "cell_type": "code",
   "execution_count": null,
   "id": "3fe602d8",
   "metadata": {
    "ExecuteTime": {
     "end_time": "2021-11-29T14:41:39.819228Z",
     "start_time": "2021-11-29T14:41:39.819213Z"
    }
   },
   "outputs": [],
   "source": [
    "req = requests.get(f\"https://www.myapifilms.com/imdb/idIMDB?idIMDB=tt4154796&token=0d909bb9-91e5-4d5a-b74d-5b0f1872a2ff\").json()"
   ]
  },
  {
   "cell_type": "code",
   "execution_count": null,
   "id": "db2342ad",
   "metadata": {
    "ExecuteTime": {
     "end_time": "2021-11-29T14:41:39.820870Z",
     "start_time": "2021-11-29T14:41:39.820827Z"
    },
    "scrolled": true
   },
   "outputs": [],
   "source": [
    "list_url = []\n",
    "for i in range(1000):\n",
    "    print(i)\n",
    "    imd = df['imdb_title_id'].iloc[i]\n",
    "    try :\n",
    "        req = requests.get(f\"https://www.myapifilms.com/imdb/idIMDB?idIMDB={imd}&token=0d909bb9-91e5-4d5a-b74d-5b0f1872a2ff\").json()\n",
    "        list_url.append((imd,req['data']['movies'][0]['urlPoster']))\n",
    "    except : \n",
    "        continue"
   ]
  },
  {
   "cell_type": "code",
   "execution_count": null,
   "id": "935c4f29",
   "metadata": {
    "ExecuteTime": {
     "end_time": "2021-11-29T14:41:39.822568Z",
     "start_time": "2021-11-29T14:41:39.822551Z"
    }
   },
   "outputs": [],
   "source": [
    "poster_df = pd.DataFrame(list_url, columns=['imdb_title_id','poster url'])"
   ]
  },
  {
   "cell_type": "code",
   "execution_count": null,
   "id": "aed1a80b",
   "metadata": {
    "ExecuteTime": {
     "end_time": "2021-11-29T14:41:39.824170Z",
     "start_time": "2021-11-29T14:41:39.824144Z"
    }
   },
   "outputs": [],
   "source": [
    "# poster_df.to_csv('../raw_data/url_poster.csv')"
   ]
  },
  {
   "cell_type": "code",
   "execution_count": null,
   "id": "76db1eb7",
   "metadata": {
    "ExecuteTime": {
     "end_time": "2021-11-29T14:41:39.826217Z",
     "start_time": "2021-11-29T14:41:39.826196Z"
    }
   },
   "outputs": [],
   "source": [
    "poster_df.iloc[1]['poster url']"
   ]
  },
  {
   "cell_type": "code",
   "execution_count": null,
   "id": "7caae55c",
   "metadata": {},
   "outputs": [],
   "source": []
  },
  {
   "cell_type": "code",
   "execution_count": null,
   "id": "d4864b6a",
   "metadata": {},
   "outputs": [],
   "source": []
  },
  {
   "cell_type": "code",
   "execution_count": null,
   "id": "7ec0cb48",
   "metadata": {},
   "outputs": [],
   "source": []
  },
  {
   "cell_type": "code",
   "execution_count": null,
   "id": "fd2c8310",
   "metadata": {},
   "outputs": [],
   "source": []
  },
  {
   "cell_type": "code",
   "execution_count": null,
   "id": "34c8d286",
   "metadata": {},
   "outputs": [],
   "source": []
  },
  {
   "cell_type": "code",
   "execution_count": null,
   "id": "3ae3580d",
   "metadata": {},
   "outputs": [],
   "source": []
  },
  {
   "cell_type": "code",
   "execution_count": null,
   "id": "064d066a",
   "metadata": {},
   "outputs": [],
   "source": []
  },
  {
   "cell_type": "code",
   "execution_count": null,
   "id": "f6c98ee0",
   "metadata": {},
   "outputs": [],
   "source": []
  },
  {
   "cell_type": "code",
   "execution_count": null,
   "id": "c531b3c9",
   "metadata": {},
   "outputs": [],
   "source": []
  },
  {
   "cell_type": "code",
   "execution_count": null,
   "id": "eaa734a8",
   "metadata": {},
   "outputs": [],
   "source": []
  },
  {
   "cell_type": "code",
   "execution_count": null,
   "id": "ec2ac1aa",
   "metadata": {},
   "outputs": [],
   "source": []
  },
  {
   "cell_type": "code",
   "execution_count": null,
   "id": "2abba8cb",
   "metadata": {},
   "outputs": [],
   "source": []
  },
  {
   "cell_type": "code",
   "execution_count": null,
   "id": "63842f67",
   "metadata": {
    "ExecuteTime": {
     "end_time": "2021-11-29T14:41:39.828520Z",
     "start_time": "2021-11-29T14:41:39.828504Z"
    }
   },
   "outputs": [],
   "source": [
    "movie_dic = {}\n",
    "for i in range(5000):\n",
    "\n",
    "    movie_dic[df['title'].iloc[0:df.shape[0]][i]] = {'Actors' : df['actors'].iloc[0:df.shape[0]][i],\n",
    "                                                        'Country' : df['country'].iloc[0:df.shape[0]][i],\n",
    "                                                        'imdb_title_id' : df['imdb_title_id'].iloc[0:df.shape[0]][i],\n",
    "#                                                      'Income' : np.round(10**(df['worlwide_gross_income'].iloc[0:df.shape[0]][i]),2)\n",
    "                                                    #  'Numbers of blockbuster' : df['shifted'].iloc[0:df.shape[0]][i]\n",
    "                                                     }\n",
    "\n",
    "    # en dehors du form movie_dic['title'] = movie_dic.keys\n"
   ]
  },
  {
   "cell_type": "code",
   "execution_count": null,
   "id": "699bc39d",
   "metadata": {
    "ExecuteTime": {
     "end_time": "2021-11-29T14:41:39.830363Z",
     "start_time": "2021-11-29T14:41:39.830342Z"
    }
   },
   "outputs": [],
   "source": [
    "movie_dic['Name_of_movies'] = movie_dic"
   ]
  },
  {
   "cell_type": "code",
   "execution_count": null,
   "id": "56410ecf",
   "metadata": {
    "ExecuteTime": {
     "end_time": "2021-11-29T14:41:39.832381Z",
     "start_time": "2021-11-29T14:41:39.832365Z"
    },
    "scrolled": false
   },
   "outputs": [],
   "source": [
    "actors_dic = {\"Movies\" : df[df['actors'].str.contains('Leonardo DiCaprio')]['title'].values}"
   ]
  },
  {
   "cell_type": "code",
   "execution_count": null,
   "id": "48b93e89",
   "metadata": {
    "ExecuteTime": {
     "end_time": "2021-11-29T14:41:39.834329Z",
     "start_time": "2021-11-29T14:41:39.834313Z"
    }
   },
   "outputs": [],
   "source": [
    " movie_list = df[df['actors'].str.contains('Leonardo DiCaprio')]['title'].values"
   ]
  },
  {
   "cell_type": "code",
   "execution_count": null,
   "id": "b6dbbac6",
   "metadata": {
    "ExecuteTime": {
     "end_time": "2021-11-29T14:41:39.835781Z",
     "start_time": "2021-11-29T14:41:39.835764Z"
    }
   },
   "outputs": [],
   "source": [
    "actor_dic2 =  {}\n",
    "index = np.arange(0,len(movie_list))\n",
    "\n",
    "for movie,indexs in zip(movie_list,index):\n",
    "    \n",
    "    tmpy_dic = {}\n",
    "    tmpy_dic = {indexs : movie}\n",
    "    actor_dic2.update(tmpy_dic)\n",
    "    "
   ]
  },
  {
   "cell_type": "code",
   "execution_count": null,
   "id": "db182b2c",
   "metadata": {
    "ExecuteTime": {
     "end_time": "2021-11-29T14:41:39.837285Z",
     "start_time": "2021-11-29T14:41:39.837270Z"
    }
   },
   "outputs": [],
   "source": [
    "actor_dic2\n"
   ]
  },
  {
   "cell_type": "code",
   "execution_count": null,
   "id": "50bd9f3d",
   "metadata": {
    "ExecuteTime": {
     "end_time": "2021-11-29T14:41:39.839284Z",
     "start_time": "2021-11-29T14:41:39.839269Z"
    }
   },
   "outputs": [],
   "source": [
    "df[df['actors'].str.contains('Leonardo DiCaprio')]['title'].values.tolist()"
   ]
  },
  {
   "cell_type": "code",
   "execution_count": null,
   "id": "858e48bd",
   "metadata": {
    "ExecuteTime": {
     "end_time": "2021-11-29T14:41:39.841013Z",
     "start_time": "2021-11-29T14:41:39.840995Z"
    }
   },
   "outputs": [],
   "source": [
    "np.arange(0,len(movie_list)).tolist()"
   ]
  },
  {
   "cell_type": "code",
   "execution_count": null,
   "id": "81a4b4b1",
   "metadata": {
    "ExecuteTime": {
     "end_time": "2021-11-29T09:19:12.155626Z",
     "start_time": "2021-11-29T09:19:12.137493Z"
    }
   },
   "outputs": [],
   "source": []
  },
  {
   "cell_type": "code",
   "execution_count": null,
   "id": "9b13e4e2",
   "metadata": {
    "ExecuteTime": {
     "end_time": "2021-11-29T14:41:39.843265Z",
     "start_time": "2021-11-29T14:41:39.843241Z"
    }
   },
   "outputs": [],
   "source": [
    "search_actors('Brad Pitt')"
   ]
  },
  {
   "cell_type": "code",
   "execution_count": null,
   "id": "c2255594",
   "metadata": {
    "ExecuteTime": {
     "end_time": "2021-11-29T14:41:39.845210Z",
     "start_time": "2021-11-29T14:41:39.845186Z"
    }
   },
   "outputs": [],
   "source": [
    "from translate import Translator"
   ]
  },
  {
   "cell_type": "code",
   "execution_count": null,
   "id": "e4d485e0",
   "metadata": {
    "ExecuteTime": {
     "end_time": "2021-11-29T14:41:39.847645Z",
     "start_time": "2021-11-29T14:41:39.847616Z"
    }
   },
   "outputs": [],
   "source": [
    "translator= Translator(to_lang=\"en\", from_lang=\"ita\")\n",
    "translation = translator.translate(\"C'era una volta a... Hollywood\")\n",
    "translation"
   ]
  },
  {
   "cell_type": "code",
   "execution_count": null,
   "id": "2964b593",
   "metadata": {
    "ExecuteTime": {
     "end_time": "2021-11-29T14:41:39.850117Z",
     "start_time": "2021-11-29T14:41:39.850099Z"
    }
   },
   "outputs": [],
   "source": [
    "!pip install deep-translator"
   ]
  },
  {
   "cell_type": "code",
   "execution_count": null,
   "id": "2228958f",
   "metadata": {
    "ExecuteTime": {
     "end_time": "2021-11-29T14:41:39.851821Z",
     "start_time": "2021-11-29T14:41:39.851796Z"
    }
   },
   "outputs": [],
   "source": [
    "from deep_translator import GoogleTranslator\n"
   ]
  },
  {
   "cell_type": "code",
   "execution_count": null,
   "id": "5ba15fdb",
   "metadata": {
    "ExecuteTime": {
     "end_time": "2021-11-29T14:41:39.853526Z",
     "start_time": "2021-11-29T14:41:39.853510Z"
    }
   },
   "outputs": [],
   "source": [
    "translated = GoogleTranslator(source='auto', target='en').translate(\"\") \n",
    "translated "
   ]
  },
  {
   "cell_type": "code",
   "execution_count": null,
   "id": "7894ed4b",
   "metadata": {
    "ExecuteTime": {
     "end_time": "2021-11-29T14:41:39.855477Z",
     "start_time": "2021-11-29T14:41:39.855460Z"
    }
   },
   "outputs": [],
   "source": [
    "def search_actors(name):\n",
    "    movie_list = df[df['actors'].str.contains(name)]['title'].values\n",
    "    actor_dic2 =  {}\n",
    "    index = np.arange(0,len(movie_list))\n",
    "\n",
    "    for movie,indexs in zip(movie_list,index):\n",
    "        tmpy_dic = {}\n",
    "        tmpy_dic = {indexs : GoogleTranslator(source='auto', target='en').translate(movie)}\n",
    "        actor_dic2.update(tmpy_dic)\n",
    "    return actor_dic2"
   ]
  },
  {
   "cell_type": "code",
   "execution_count": null,
   "id": "5a3be6aa",
   "metadata": {
    "ExecuteTime": {
     "end_time": "2021-11-29T14:41:39.857151Z",
     "start_time": "2021-11-29T14:41:39.857135Z"
    }
   },
   "outputs": [],
   "source": [
    "search_actors('Brad Pitt')"
   ]
  },
  {
   "cell_type": "code",
   "execution_count": null,
   "id": "33f565d4",
   "metadata": {},
   "outputs": [],
   "source": []
  }
 ],
 "metadata": {
  "kernelspec": {
   "display_name": "Python 3 (ipykernel)",
   "language": "python",
   "name": "python3"
  },
  "language_info": {
   "codemirror_mode": {
    "name": "ipython",
    "version": 3
   },
   "file_extension": ".py",
   "mimetype": "text/x-python",
   "name": "python",
   "nbconvert_exporter": "python",
   "pygments_lexer": "ipython3",
   "version": "3.8.12"
  },
  "toc": {
   "base_numbering": 1,
   "nav_menu": {},
   "number_sections": true,
   "sideBar": true,
   "skip_h1_title": false,
   "title_cell": "Table of Contents",
   "title_sidebar": "Contents",
   "toc_cell": false,
   "toc_position": {},
   "toc_section_display": true,
   "toc_window_display": false
  },
  "varInspector": {
   "cols": {
    "lenName": 16,
    "lenType": 16,
    "lenVar": 40
   },
   "kernels_config": {
    "python": {
     "delete_cmd_postfix": "",
     "delete_cmd_prefix": "del ",
     "library": "var_list.py",
     "varRefreshCmd": "print(var_dic_list())"
    },
    "r": {
     "delete_cmd_postfix": ") ",
     "delete_cmd_prefix": "rm(",
     "library": "var_list.r",
     "varRefreshCmd": "cat(var_dic_list()) "
    }
   },
   "types_to_exclude": [
    "module",
    "function",
    "builtin_function_or_method",
    "instance",
    "_Feature"
   ],
   "window_display": false
  }
 },
 "nbformat": 4,
 "nbformat_minor": 5
}
