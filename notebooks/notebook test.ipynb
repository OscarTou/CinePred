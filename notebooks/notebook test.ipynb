{
 "cells": [
  {
   "cell_type": "code",
   "execution_count": 1,
   "id": "d8225592",
   "metadata": {
    "ExecuteTime": {
     "end_time": "2021-11-26T13:52:44.734132Z",
     "start_time": "2021-11-26T13:52:44.716549Z"
    }
   },
   "outputs": [],
   "source": [
    "%load_ext autoreload\n",
    "%autoreload 2"
   ]
  },
  {
   "cell_type": "code",
   "execution_count": 2,
   "id": "877fcf4b",
   "metadata": {
    "ExecuteTime": {
     "end_time": "2021-11-26T13:53:08.687407Z",
     "start_time": "2021-11-26T13:52:44.735814Z"
    }
   },
   "outputs": [
    {
     "name": "stderr",
     "output_type": "stream",
     "text": [
      "/home/oscartouze/.pyenv/versions/3.8.12/envs/cinepred/lib/python3.8/site-packages/cpi/__init__.py:46: StaleDataWarning: CPI data is out of date. To accurately inflate to today's dollars, you must run `cpi.update()`.\n",
      "  warnings.warn(StaleDataWarning())\n"
     ]
    }
   ],
   "source": [
    "import pandas as pd\n",
    "import matplotlib.pyplot as plt\n",
    "import seaborn as sns\n",
    "import numpy as np\n",
    "\n",
    "from CinePred.data.featuring import *\n",
    "from CinePred.data.preprocessing import *\n",
    "from CinePred.data.importing import *"
   ]
  },
  {
   "cell_type": "code",
   "execution_count": 3,
   "id": "6c4c587f",
   "metadata": {
    "ExecuteTime": {
     "end_time": "2021-11-26T13:53:13.224993Z",
     "start_time": "2021-11-26T13:53:08.690796Z"
    }
   },
   "outputs": [
    {
     "name": "stdout",
     "output_type": "stream",
     "text": [
      "----- import Data -----\n"
     ]
    },
    {
     "name": "stderr",
     "output_type": "stream",
     "text": [
      "/tmp/ipykernel_2785/3978816577.py:2: DtypeWarning: Columns (3) have mixed types.Specify dtype option on import or set low_memory=False.\n",
      "  df = import_data(\"../raw_data/IMDb movies.csv\")\n"
     ]
    },
    {
     "name": "stdout",
     "output_type": "stream",
     "text": [
      "----- keep columns -----\n",
      "----- remove na rows -----\n",
      "----- convert budget -----\n",
      "----- convert income column -----\n",
      "----- convert to int -----\n",
      "----- convert to date -----\n",
      "----- reset index -----\n"
     ]
    }
   ],
   "source": [
    "print('----- import Data -----')\n",
    "df = import_data(\"../raw_data/IMDb movies.csv\")\n",
    "\n",
    "print('----- keep columns -----')\n",
    "df = keep_columns(df,\n",
    "                  column_names=[\n",
    "                      'imdb_title_id', 'title', 'year', 'date_published',\n",
    "                      'genre', 'duration', 'country', 'director', 'writer',\n",
    "                      'production_company', 'actors', 'budget',\n",
    "                      'worlwide_gross_income'\n",
    "                  ])\n",
    "\n",
    "print('----- remove na rows -----')\n",
    "df = remove_na_rows(df)\n",
    "\n",
    "print('----- convert budget -----')\n",
    "df['budget'] = convert_budget_column(df[['budget']])\n",
    "\n",
    "# print('----- reduce column type -----')\n",
    "# df['actors'] = reduce_column_type(df[['actors']], nb_max=3)\n",
    "\n",
    "print('----- convert income column -----')\n",
    "df['worlwide_gross_income'] = convert_income(df[['worlwide_gross_income']])\n",
    "\n",
    "print('----- convert to int -----')\n",
    "df['year'] = convert_to_int(df[['year']])\n",
    "df['duration'] = convert_to_int(df[['duration']])\n",
    "\n",
    "print('----- convert to date -----')\n",
    "df['date_published'] = convert_to_date(df[['date_published']])\n",
    "\n",
    "print('----- reset index -----')\n",
    "df = reset_index(df)\n",
    "\n",
    "# print('----- log transform -----')\n",
    "# df['worlwide_gross_income'] = log_transformation(\n",
    "#     df[['worlwide_gross_income']])\n",
    "\n",
    "# print('----- data_shape -----')"
   ]
  },
  {
   "cell_type": "code",
   "execution_count": 8,
   "id": "8fe7dd7e",
   "metadata": {
    "ExecuteTime": {
     "end_time": "2021-11-26T13:56:08.405243Z",
     "start_time": "2021-11-26T13:56:07.792452Z"
    }
   },
   "outputs": [],
   "source": [
    "add_success_movies_per_actors(df)"
   ]
  },
  {
   "cell_type": "code",
   "execution_count": 10,
   "id": "9c6cf67c",
   "metadata": {
    "ExecuteTime": {
     "end_time": "2021-11-26T13:56:21.175476Z",
     "start_time": "2021-11-26T13:56:21.155840Z"
    }
   },
   "outputs": [],
   "source": [
    "Add_Ones(df)"
   ]
  },
  {
   "cell_type": "code",
   "execution_count": 12,
   "id": "8cb2c62c",
   "metadata": {
    "ExecuteTime": {
     "end_time": "2021-11-26T13:56:49.105583Z",
     "start_time": "2021-11-26T13:56:49.062707Z"
    }
   },
   "outputs": [],
   "source": [
    "Add_number_of_movies_per_directors_in_Timeline(df)"
   ]
  },
  {
   "cell_type": "code",
   "execution_count": 13,
   "id": "74a1bddd",
   "metadata": {
    "ExecuteTime": {
     "end_time": "2021-11-26T13:56:54.301708Z",
     "start_time": "2021-11-26T13:56:54.269151Z"
    }
   },
   "outputs": [],
   "source": [
    " Add_number_of_movies_per_prod_company_in_Timeline(df)"
   ]
  },
  {
   "cell_type": "code",
   "execution_count": 14,
   "id": "49b43b2c",
   "metadata": {
    "ExecuteTime": {
     "end_time": "2021-11-26T13:56:59.356850Z",
     "start_time": "2021-11-26T13:56:59.317416Z"
    }
   },
   "outputs": [],
   "source": [
    "Add_number_of_movies_per_writer_in_Timeline(df)"
   ]
  },
  {
   "cell_type": "code",
   "execution_count": 15,
   "id": "621d58aa",
   "metadata": {
    "ExecuteTime": {
     "end_time": "2021-11-26T13:57:07.924465Z",
     "start_time": "2021-11-26T13:57:07.891583Z"
    }
   },
   "outputs": [],
   "source": [
    "Remove_Ones(df)"
   ]
  },
  {
   "cell_type": "code",
   "execution_count": 17,
   "id": "c2f89096",
   "metadata": {
    "ExecuteTime": {
     "end_time": "2021-11-26T14:08:54.368092Z",
     "start_time": "2021-11-26T14:08:54.335798Z"
    }
   },
   "outputs": [],
   "source": [
    "df = df.sort_values(['year','budget'])"
   ]
  },
  {
   "cell_type": "code",
   "execution_count": 18,
   "id": "808b0cd8",
   "metadata": {
    "ExecuteTime": {
     "end_time": "2021-11-26T14:08:56.107454Z",
     "start_time": "2021-11-26T14:08:56.071728Z"
    }
   },
   "outputs": [
    {
     "data": {
      "text/html": [
       "<div>\n",
       "<style scoped>\n",
       "    .dataframe tbody tr th:only-of-type {\n",
       "        vertical-align: middle;\n",
       "    }\n",
       "\n",
       "    .dataframe tbody tr th {\n",
       "        vertical-align: top;\n",
       "    }\n",
       "\n",
       "    .dataframe thead th {\n",
       "        text-align: right;\n",
       "    }\n",
       "</style>\n",
       "<table border=\"1\" class=\"dataframe\">\n",
       "  <thead>\n",
       "    <tr style=\"text-align: right;\">\n",
       "      <th></th>\n",
       "      <th>imdb_title_id</th>\n",
       "      <th>title</th>\n",
       "      <th>year</th>\n",
       "      <th>date_published</th>\n",
       "      <th>genre</th>\n",
       "      <th>duration</th>\n",
       "      <th>country</th>\n",
       "      <th>director</th>\n",
       "      <th>writer</th>\n",
       "      <th>production_company</th>\n",
       "      <th>actors</th>\n",
       "      <th>budget</th>\n",
       "      <th>worlwide_gross_income</th>\n",
       "      <th>shifted</th>\n",
       "      <th>Nb_actuals_movie_directors</th>\n",
       "      <th>Nb_actuals_movie_directors_company</th>\n",
       "      <th>Nb_actuals_movie_directors_writer</th>\n",
       "    </tr>\n",
       "  </thead>\n",
       "  <tbody>\n",
       "    <tr>\n",
       "      <th>0</th>\n",
       "      <td>tt0010323</td>\n",
       "      <td>Il gabinetto del dottor Caligari</td>\n",
       "      <td>1920</td>\n",
       "      <td>1920-02-27</td>\n",
       "      <td>Fantasy, Horror, Mystery</td>\n",
       "      <td>76</td>\n",
       "      <td>Germany</td>\n",
       "      <td>Robert Wiene</td>\n",
       "      <td>Carl Mayer, Hans Janowitz</td>\n",
       "      <td>Decla-Bioscop AG</td>\n",
       "      <td>Werner Krauss, Conrad Veidt, Friedrich Feher, ...</td>\n",
       "      <td>18000</td>\n",
       "      <td>8811</td>\n",
       "      <td>0</td>\n",
       "      <td>1</td>\n",
       "      <td>1</td>\n",
       "      <td>1</td>\n",
       "    </tr>\n",
       "    <tr>\n",
       "      <th>1</th>\n",
       "      <td>tt0011440</td>\n",
       "      <td>Markens grøde</td>\n",
       "      <td>1921</td>\n",
       "      <td>1921-12-02</td>\n",
       "      <td>Drama</td>\n",
       "      <td>107</td>\n",
       "      <td>Norway</td>\n",
       "      <td>Gunnar Sommerfeldt</td>\n",
       "      <td>Knut Hamsun, Gunnar Sommerfeldt</td>\n",
       "      <td>Christiana Film</td>\n",
       "      <td>Amund Rydland, Karen Poulsen, Ragna Wettergree...</td>\n",
       "      <td>27887</td>\n",
       "      <td>4272</td>\n",
       "      <td>0</td>\n",
       "      <td>1</td>\n",
       "      <td>1</td>\n",
       "      <td>1</td>\n",
       "    </tr>\n",
       "    <tr>\n",
       "      <th>3</th>\n",
       "      <td>tt0012349</td>\n",
       "      <td>Il monello</td>\n",
       "      <td>1921</td>\n",
       "      <td>1923-11-26</td>\n",
       "      <td>Comedy, Drama, Family</td>\n",
       "      <td>68</td>\n",
       "      <td>USA</td>\n",
       "      <td>Charles Chaplin</td>\n",
       "      <td>Charles Chaplin</td>\n",
       "      <td>Charles Chaplin Productions</td>\n",
       "      <td>Carl Miller, Edna Purviance, Jackie Coogan, Ch...</td>\n",
       "      <td>250000</td>\n",
       "      <td>26916</td>\n",
       "      <td>0</td>\n",
       "      <td>1</td>\n",
       "      <td>1</td>\n",
       "      <td>1</td>\n",
       "    </tr>\n",
       "    <tr>\n",
       "      <th>2</th>\n",
       "      <td>tt0012190</td>\n",
       "      <td>I quattro cavalieri dell'Apocalisse</td>\n",
       "      <td>1921</td>\n",
       "      <td>1923-04-16</td>\n",
       "      <td>Drama, Romance, War</td>\n",
       "      <td>150</td>\n",
       "      <td>USA</td>\n",
       "      <td>Rex Ingram</td>\n",
       "      <td>Vicente Blasco Ibáñez, June Mathis</td>\n",
       "      <td>Metro Pictures Corporation</td>\n",
       "      <td>Pomeroy Cannon, Josef Swickard, Bridgetta Clar...</td>\n",
       "      <td>800000</td>\n",
       "      <td>9183673</td>\n",
       "      <td>0</td>\n",
       "      <td>1</td>\n",
       "      <td>1</td>\n",
       "      <td>1</td>\n",
       "    </tr>\n",
       "    <tr>\n",
       "      <th>4</th>\n",
       "      <td>tt0014624</td>\n",
       "      <td>La donna di Parigi</td>\n",
       "      <td>1923</td>\n",
       "      <td>1927-06-06</td>\n",
       "      <td>Drama, Romance</td>\n",
       "      <td>82</td>\n",
       "      <td>USA</td>\n",
       "      <td>Charles Chaplin</td>\n",
       "      <td>Charles Chaplin</td>\n",
       "      <td>Charles Chaplin Productions</td>\n",
       "      <td>Edna Purviance, Clarence Geldart, Carl Miller,...</td>\n",
       "      <td>351000</td>\n",
       "      <td>11233</td>\n",
       "      <td>0</td>\n",
       "      <td>2</td>\n",
       "      <td>2</td>\n",
       "      <td>2</td>\n",
       "    </tr>\n",
       "    <tr>\n",
       "      <th>...</th>\n",
       "      <td>...</td>\n",
       "      <td>...</td>\n",
       "      <td>...</td>\n",
       "      <td>...</td>\n",
       "      <td>...</td>\n",
       "      <td>...</td>\n",
       "      <td>...</td>\n",
       "      <td>...</td>\n",
       "      <td>...</td>\n",
       "      <td>...</td>\n",
       "      <td>...</td>\n",
       "      <td>...</td>\n",
       "      <td>...</td>\n",
       "      <td>...</td>\n",
       "      <td>...</td>\n",
       "      <td>...</td>\n",
       "      <td>...</td>\n",
       "    </tr>\n",
       "    <tr>\n",
       "      <th>11980</th>\n",
       "      <td>tt1502397</td>\n",
       "      <td>Bad Boys for Life</td>\n",
       "      <td>2020</td>\n",
       "      <td>2020-02-20</td>\n",
       "      <td>Action, Comedy, Crime</td>\n",
       "      <td>124</td>\n",
       "      <td>USA, Mexico</td>\n",
       "      <td>Adil El Arbi, Bilall Fallah</td>\n",
       "      <td>Peter Craig, Joe Carnahan</td>\n",
       "      <td>Columbia Pictures</td>\n",
       "      <td>Will Smith, Martin Lawrence, Vanessa Hudgens, ...</td>\n",
       "      <td>90000000</td>\n",
       "      <td>424617855</td>\n",
       "      <td>5</td>\n",
       "      <td>2</td>\n",
       "      <td>331</td>\n",
       "      <td>1</td>\n",
       "    </tr>\n",
       "    <tr>\n",
       "      <th>12014</th>\n",
       "      <td>tt6587640</td>\n",
       "      <td>Trolls World Tour</td>\n",
       "      <td>2020</td>\n",
       "      <td>2020-04-10</td>\n",
       "      <td>Animation, Adventure, Comedy</td>\n",
       "      <td>90</td>\n",
       "      <td>USA</td>\n",
       "      <td>Walt Dohrn, David P. Smith</td>\n",
       "      <td>Jonathan Aibel, Glenn Berger</td>\n",
       "      <td>DreamWorks Animation</td>\n",
       "      <td>Anna Kendrick, Justin Timberlake, Rachel Bloom...</td>\n",
       "      <td>90000000</td>\n",
       "      <td>14078268</td>\n",
       "      <td>0</td>\n",
       "      <td>1</td>\n",
       "      <td>29</td>\n",
       "      <td>7</td>\n",
       "    </tr>\n",
       "    <tr>\n",
       "      <th>11982</th>\n",
       "      <td>tt7504726</td>\n",
       "      <td>Il richiamo della foresta</td>\n",
       "      <td>2020</td>\n",
       "      <td>2020-02-20</td>\n",
       "      <td>Adventure, Drama, Family</td>\n",
       "      <td>100</td>\n",
       "      <td>Canada, USA</td>\n",
       "      <td>Chris Sanders</td>\n",
       "      <td>Michael Green, Jack London</td>\n",
       "      <td>20th Century Studios</td>\n",
       "      <td>Harrison Ford, Omar Sy, Cara Gee, Dan Stevens,...</td>\n",
       "      <td>135000000</td>\n",
       "      <td>107604626</td>\n",
       "      <td>2</td>\n",
       "      <td>1</td>\n",
       "      <td>1</td>\n",
       "      <td>1</td>\n",
       "    </tr>\n",
       "    <tr>\n",
       "      <th>11968</th>\n",
       "      <td>tt6673612</td>\n",
       "      <td>Dolittle</td>\n",
       "      <td>2020</td>\n",
       "      <td>2020-01-30</td>\n",
       "      <td>Adventure, Comedy, Family</td>\n",
       "      <td>101</td>\n",
       "      <td>USA, China, UK, Japan</td>\n",
       "      <td>Stephen Gaghan</td>\n",
       "      <td>Stephen Gaghan, Dan Gregor</td>\n",
       "      <td>Universal Pictures</td>\n",
       "      <td>Robert Downey Jr., Antonio Banderas, Michael S...</td>\n",
       "      <td>175000000</td>\n",
       "      <td>245891166</td>\n",
       "      <td>11</td>\n",
       "      <td>4</td>\n",
       "      <td>352</td>\n",
       "      <td>1</td>\n",
       "    </tr>\n",
       "    <tr>\n",
       "      <th>11979</th>\n",
       "      <td>tt6723592</td>\n",
       "      <td>Tenet</td>\n",
       "      <td>2020</td>\n",
       "      <td>2020-08-26</td>\n",
       "      <td>Action, Sci-Fi</td>\n",
       "      <td>150</td>\n",
       "      <td>UK, USA</td>\n",
       "      <td>Christopher Nolan</td>\n",
       "      <td>Christopher Nolan</td>\n",
       "      <td>Syncopy</td>\n",
       "      <td>Elizabeth Debicki, Robert Pattinson, John Davi...</td>\n",
       "      <td>205000000</td>\n",
       "      <td>53600000</td>\n",
       "      <td>1</td>\n",
       "      <td>11</td>\n",
       "      <td>2</td>\n",
       "      <td>4</td>\n",
       "    </tr>\n",
       "  </tbody>\n",
       "</table>\n",
       "<p>12026 rows × 17 columns</p>\n",
       "</div>"
      ],
      "text/plain": [
       "      imdb_title_id                                title  year date_published  \\\n",
       "0         tt0010323     Il gabinetto del dottor Caligari  1920     1920-02-27   \n",
       "1         tt0011440                        Markens grøde  1921     1921-12-02   \n",
       "3         tt0012349                           Il monello  1921     1923-11-26   \n",
       "2         tt0012190  I quattro cavalieri dell'Apocalisse  1921     1923-04-16   \n",
       "4         tt0014624                   La donna di Parigi  1923     1927-06-06   \n",
       "...             ...                                  ...   ...            ...   \n",
       "11980     tt1502397                    Bad Boys for Life  2020     2020-02-20   \n",
       "12014     tt6587640                    Trolls World Tour  2020     2020-04-10   \n",
       "11982     tt7504726            Il richiamo della foresta  2020     2020-02-20   \n",
       "11968     tt6673612                             Dolittle  2020     2020-01-30   \n",
       "11979     tt6723592                                Tenet  2020     2020-08-26   \n",
       "\n",
       "                              genre  duration                country  \\\n",
       "0          Fantasy, Horror, Mystery        76                Germany   \n",
       "1                             Drama       107                 Norway   \n",
       "3             Comedy, Drama, Family        68                    USA   \n",
       "2               Drama, Romance, War       150                    USA   \n",
       "4                    Drama, Romance        82                    USA   \n",
       "...                             ...       ...                    ...   \n",
       "11980         Action, Comedy, Crime       124            USA, Mexico   \n",
       "12014  Animation, Adventure, Comedy        90                    USA   \n",
       "11982      Adventure, Drama, Family       100            Canada, USA   \n",
       "11968     Adventure, Comedy, Family       101  USA, China, UK, Japan   \n",
       "11979                Action, Sci-Fi       150                UK, USA   \n",
       "\n",
       "                          director                              writer  \\\n",
       "0                     Robert Wiene           Carl Mayer, Hans Janowitz   \n",
       "1               Gunnar Sommerfeldt     Knut Hamsun, Gunnar Sommerfeldt   \n",
       "3                  Charles Chaplin                     Charles Chaplin   \n",
       "2                       Rex Ingram  Vicente Blasco Ibáñez, June Mathis   \n",
       "4                  Charles Chaplin                     Charles Chaplin   \n",
       "...                            ...                                 ...   \n",
       "11980  Adil El Arbi, Bilall Fallah           Peter Craig, Joe Carnahan   \n",
       "12014   Walt Dohrn, David P. Smith        Jonathan Aibel, Glenn Berger   \n",
       "11982                Chris Sanders          Michael Green, Jack London   \n",
       "11968               Stephen Gaghan          Stephen Gaghan, Dan Gregor   \n",
       "11979            Christopher Nolan                   Christopher Nolan   \n",
       "\n",
       "                production_company  \\\n",
       "0                 Decla-Bioscop AG   \n",
       "1                  Christiana Film   \n",
       "3      Charles Chaplin Productions   \n",
       "2       Metro Pictures Corporation   \n",
       "4      Charles Chaplin Productions   \n",
       "...                            ...   \n",
       "11980            Columbia Pictures   \n",
       "12014         DreamWorks Animation   \n",
       "11982         20th Century Studios   \n",
       "11968           Universal Pictures   \n",
       "11979                      Syncopy   \n",
       "\n",
       "                                                  actors     budget  \\\n",
       "0      Werner Krauss, Conrad Veidt, Friedrich Feher, ...      18000   \n",
       "1      Amund Rydland, Karen Poulsen, Ragna Wettergree...      27887   \n",
       "3      Carl Miller, Edna Purviance, Jackie Coogan, Ch...     250000   \n",
       "2      Pomeroy Cannon, Josef Swickard, Bridgetta Clar...     800000   \n",
       "4      Edna Purviance, Clarence Geldart, Carl Miller,...     351000   \n",
       "...                                                  ...        ...   \n",
       "11980  Will Smith, Martin Lawrence, Vanessa Hudgens, ...   90000000   \n",
       "12014  Anna Kendrick, Justin Timberlake, Rachel Bloom...   90000000   \n",
       "11982  Harrison Ford, Omar Sy, Cara Gee, Dan Stevens,...  135000000   \n",
       "11968  Robert Downey Jr., Antonio Banderas, Michael S...  175000000   \n",
       "11979  Elizabeth Debicki, Robert Pattinson, John Davi...  205000000   \n",
       "\n",
       "       worlwide_gross_income  shifted  Nb_actuals_movie_directors  \\\n",
       "0                       8811        0                           1   \n",
       "1                       4272        0                           1   \n",
       "3                      26916        0                           1   \n",
       "2                    9183673        0                           1   \n",
       "4                      11233        0                           2   \n",
       "...                      ...      ...                         ...   \n",
       "11980              424617855        5                           2   \n",
       "12014               14078268        0                           1   \n",
       "11982              107604626        2                           1   \n",
       "11968              245891166       11                           4   \n",
       "11979               53600000        1                          11   \n",
       "\n",
       "       Nb_actuals_movie_directors_company  Nb_actuals_movie_directors_writer  \n",
       "0                                       1                                  1  \n",
       "1                                       1                                  1  \n",
       "3                                       1                                  1  \n",
       "2                                       1                                  1  \n",
       "4                                       2                                  2  \n",
       "...                                   ...                                ...  \n",
       "11980                                 331                                  1  \n",
       "12014                                  29                                  7  \n",
       "11982                                   1                                  1  \n",
       "11968                                 352                                  1  \n",
       "11979                                   2                                  4  \n",
       "\n",
       "[12026 rows x 17 columns]"
      ]
     },
     "execution_count": 18,
     "metadata": {},
     "output_type": "execute_result"
    }
   ],
   "source": [
    "df"
   ]
  },
  {
   "cell_type": "code",
   "execution_count": null,
   "id": "a85151c8",
   "metadata": {},
   "outputs": [],
   "source": []
  }
 ],
 "metadata": {
  "kernelspec": {
   "display_name": "Python 3 (ipykernel)",
   "language": "python",
   "name": "python3"
  },
  "language_info": {
   "codemirror_mode": {
    "name": "ipython",
    "version": 3
   },
   "file_extension": ".py",
   "mimetype": "text/x-python",
   "name": "python",
   "nbconvert_exporter": "python",
   "pygments_lexer": "ipython3",
   "version": "3.8.12"
  },
  "toc": {
   "base_numbering": 1,
   "nav_menu": {},
   "number_sections": true,
   "sideBar": true,
   "skip_h1_title": false,
   "title_cell": "Table of Contents",
   "title_sidebar": "Contents",
   "toc_cell": false,
   "toc_position": {},
   "toc_section_display": true,
   "toc_window_display": false
  },
  "varInspector": {
   "cols": {
    "lenName": 16,
    "lenType": 16,
    "lenVar": 40
   },
   "kernels_config": {
    "python": {
     "delete_cmd_postfix": "",
     "delete_cmd_prefix": "del ",
     "library": "var_list.py",
     "varRefreshCmd": "print(var_dic_list())"
    },
    "r": {
     "delete_cmd_postfix": ") ",
     "delete_cmd_prefix": "rm(",
     "library": "var_list.r",
     "varRefreshCmd": "cat(var_dic_list()) "
    }
   },
   "types_to_exclude": [
    "module",
    "function",
    "builtin_function_or_method",
    "instance",
    "_Feature"
   ],
   "window_display": false
  }
 },
 "nbformat": 4,
 "nbformat_minor": 5
}
