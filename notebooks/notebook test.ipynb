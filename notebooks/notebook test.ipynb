{
 "cells": [
  {
   "cell_type": "code",
   "execution_count": 1,
   "id": "3a2d6e83",
   "metadata": {
    "ExecuteTime": {
     "end_time": "2021-11-30T14:12:18.846037Z",
     "start_time": "2021-11-30T14:12:18.809862Z"
    }
   },
   "outputs": [],
   "source": [
    "%load_ext autoreload\n",
    "%autoreload 2"
   ]
  },
  {
   "cell_type": "code",
   "execution_count": 2,
   "id": "c3060df9",
   "metadata": {
    "ExecuteTime": {
     "end_time": "2021-11-30T14:12:54.257960Z",
     "start_time": "2021-11-30T14:12:19.401092Z"
    }
   },
   "outputs": [],
   "source": [
    "import pandas as pd\n",
    "import matplotlib.pyplot as plt\n",
    "import seaborn as sns\n",
    "import numpy as np\n",
    "\n",
    "from CinePred.pipeline import import_clean_df\n",
    "from CinePred.data.featuring import *\n"
   ]
  },
  {
   "cell_type": "code",
   "execution_count": 8,
   "id": "b6918bef",
   "metadata": {
    "ExecuteTime": {
     "end_time": "2021-11-30T14:13:51.393536Z",
     "start_time": "2021-11-30T14:13:51.368111Z"
    }
   },
   "outputs": [],
   "source": [
    "from CinePred.new_model import *"
   ]
  },
  {
   "cell_type": "code",
   "execution_count": 44,
   "id": "4e6a42c5",
   "metadata": {
    "ExecuteTime": {
     "end_time": "2021-11-30T14:20:52.806023Z",
     "start_time": "2021-11-30T14:20:51.655677Z"
    }
   },
   "outputs": [],
   "source": [
    "df_imp = import_data(link=\"../raw_data/IMDb_movies.csv\")"
   ]
  },
  {
   "cell_type": "code",
   "execution_count": 45,
   "id": "53b833b4",
   "metadata": {
    "ExecuteTime": {
     "end_time": "2021-11-30T14:21:12.388228Z",
     "start_time": "2021-11-30T14:20:52.963233Z"
    }
   },
   "outputs": [],
   "source": [
    "df = preproc(df_imp,path=\"../raw_data/cat_acteur.csv\")"
   ]
  },
  {
   "cell_type": "code",
   "execution_count": 46,
   "id": "dc638cff",
   "metadata": {
    "ExecuteTime": {
     "end_time": "2021-11-30T14:21:13.437456Z",
     "start_time": "2021-11-30T14:21:12.563307Z"
    }
   },
   "outputs": [
    {
     "name": "stdout",
     "output_type": "stream",
     "text": [
      "----- GET FITTED MODEL ------\n",
      "----- SAVE MODEL ------\n",
      "----- PREDICT MODEL ------\n",
      "117253.19854218219\n"
     ]
    }
   ],
   "source": [
    "print(\"----- GET FITTED MODEL ------\")\n",
    "model = get_fitted_model(df.drop(columns=['imdb_title_id','actors','description','avg_vote','country','title']))\n",
    "\n",
    "print(\"----- SAVE MODEL ------\")\n",
    "save_model(model, \"model.joblib\")\n",
    "model = load_model(\"model.joblib\")\n",
    "\n",
    "print(\"----- PREDICT MODEL ------\")\n",
    "prediction = predict_fromX(\n",
    "    model,df.head(1).drop(columns=['imdb_title_id','actors','description','avg_vote','country','title','worlwide_gross_income']))\n",
    "print(prediction)"
   ]
  },
  {
   "cell_type": "code",
   "execution_count": 36,
   "id": "70d11b98",
   "metadata": {
    "ExecuteTime": {
     "end_time": "2021-11-30T14:19:46.942028Z",
     "start_time": "2021-11-30T14:19:46.903660Z"
    }
   },
   "outputs": [
    {
     "data": {
      "text/plain": [
       "[2018.0,\n",
       " 76.0,\n",
       " 0.013123911278995103,\n",
       " 0.0,\n",
       " 0.8660254037844386,\n",
       " 0.5000000000000001,\n",
       " 0.0,\n",
       " 0.0,\n",
       " 0.0,\n",
       " 0.0,\n",
       " 0.0,\n",
       " 0.0,\n",
       " 0.0,\n",
       " 0.0,\n",
       " 0.0,\n",
       " 0.0,\n",
       " 0.0,\n",
       " 0.0,\n",
       " 1.0,\n",
       " 0.0,\n",
       " 0.0,\n",
       " 0.0,\n",
       " 0.0,\n",
       " 0.0,\n",
       " 0.0,\n",
       " 0.0,\n",
       " 0.0,\n",
       " 0.0,\n",
       " 1.0,\n",
       " 1.0,\n",
       " 1.0]"
      ]
     },
     "execution_count": 36,
     "metadata": {},
     "output_type": "execute_result"
    }
   ],
   "source": [
    "df.head(1).drop(columns=['imdb_title_id','actors','description','avg_vote','country','title','worlwide_gross_income']).iloc[0].tolist()"
   ]
  },
  {
   "cell_type": "code",
   "execution_count": null,
   "id": "81c981aa",
   "metadata": {},
   "outputs": [],
   "source": []
  },
  {
   "cell_type": "code",
   "execution_count": null,
   "id": "105be3b4",
   "metadata": {},
   "outputs": [],
   "source": []
  },
  {
   "cell_type": "code",
   "execution_count": null,
   "id": "0dc1d543",
   "metadata": {},
   "outputs": [],
   "source": []
  },
  {
   "cell_type": "code",
   "execution_count": null,
   "id": "cf3fa4e9",
   "metadata": {},
   "outputs": [],
   "source": []
  },
  {
   "cell_type": "code",
   "execution_count": null,
   "id": "1d45e182",
   "metadata": {
    "ExecuteTime": {
     "end_time": "2021-11-29T14:41:39.815809Z",
     "start_time": "2021-11-29T14:41:39.815795Z"
    }
   },
   "outputs": [],
   "source": [
    "import requests"
   ]
  },
  {
   "cell_type": "code",
   "execution_count": null,
   "id": "e65f1736",
   "metadata": {
    "ExecuteTime": {
     "end_time": "2021-11-29T14:41:39.817606Z",
     "start_time": "2021-11-29T14:41:39.817592Z"
    }
   },
   "outputs": [],
   "source": [
    "req = requests.get(f\"https://www.myapifilms.com/imdb/idIMDB?idIMDB=tt4154796&token=0d909bb9-91e5-4d5a-b74d-5b0f1872a2ff\").json()"
   ]
  },
  {
   "cell_type": "code",
   "execution_count": null,
   "id": "3fe602d8",
   "metadata": {
    "ExecuteTime": {
     "end_time": "2021-11-29T14:41:39.819228Z",
     "start_time": "2021-11-29T14:41:39.819213Z"
    }
   },
   "outputs": [],
   "source": [
    "req = requests.get(f\"https://www.myapifilms.com/imdb/idIMDB?idIMDB=tt4154796&token=0d909bb9-91e5-4d5a-b74d-5b0f1872a2ff\").json()"
   ]
  },
  {
   "cell_type": "code",
   "execution_count": null,
   "id": "db2342ad",
   "metadata": {
    "ExecuteTime": {
     "end_time": "2021-11-29T14:41:39.820870Z",
     "start_time": "2021-11-29T14:41:39.820827Z"
    },
    "scrolled": true
   },
   "outputs": [],
   "source": [
    "list_url = []\n",
    "for i in range(1000):\n",
    "    print(i)\n",
    "    imd = df['imdb_title_id'].iloc[i]\n",
    "    try :\n",
    "        req = requests.get(f\"https://www.myapifilms.com/imdb/idIMDB?idIMDB={imd}&token=0d909bb9-91e5-4d5a-b74d-5b0f1872a2ff\").json()\n",
    "        list_url.append((imd,req['data']['movies'][0]['urlPoster']))\n",
    "    except : \n",
    "        continue"
   ]
  },
  {
   "cell_type": "code",
   "execution_count": null,
   "id": "935c4f29",
   "metadata": {
    "ExecuteTime": {
     "end_time": "2021-11-29T14:41:39.822568Z",
     "start_time": "2021-11-29T14:41:39.822551Z"
    }
   },
   "outputs": [],
   "source": [
    "poster_df = pd.DataFrame(list_url, columns=['imdb_title_id','poster url'])"
   ]
  },
  {
   "cell_type": "code",
   "execution_count": null,
   "id": "aed1a80b",
   "metadata": {
    "ExecuteTime": {
     "end_time": "2021-11-29T14:41:39.824170Z",
     "start_time": "2021-11-29T14:41:39.824144Z"
    }
   },
   "outputs": [],
   "source": [
    "# poster_df.to_csv('../raw_data/url_poster.csv')"
   ]
  },
  {
   "cell_type": "code",
   "execution_count": null,
   "id": "76db1eb7",
   "metadata": {
    "ExecuteTime": {
     "end_time": "2021-11-29T14:41:39.826217Z",
     "start_time": "2021-11-29T14:41:39.826196Z"
    }
   },
   "outputs": [],
   "source": [
    "poster_df.iloc[1]['poster url']"
   ]
  },
  {
   "cell_type": "code",
   "execution_count": null,
   "id": "7caae55c",
   "metadata": {},
   "outputs": [],
   "source": []
  },
  {
   "cell_type": "code",
   "execution_count": null,
   "id": "d4864b6a",
   "metadata": {},
   "outputs": [],
   "source": []
  },
  {
   "cell_type": "code",
   "execution_count": null,
   "id": "7ec0cb48",
   "metadata": {},
   "outputs": [],
   "source": []
  },
  {
   "cell_type": "code",
   "execution_count": null,
   "id": "fd2c8310",
   "metadata": {},
   "outputs": [],
   "source": []
  },
  {
   "cell_type": "code",
   "execution_count": null,
   "id": "34c8d286",
   "metadata": {},
   "outputs": [],
   "source": []
  },
  {
   "cell_type": "code",
   "execution_count": null,
   "id": "3ae3580d",
   "metadata": {},
   "outputs": [],
   "source": []
  },
  {
   "cell_type": "code",
   "execution_count": null,
   "id": "064d066a",
   "metadata": {},
   "outputs": [],
   "source": []
  },
  {
   "cell_type": "code",
   "execution_count": null,
   "id": "f6c98ee0",
   "metadata": {},
   "outputs": [],
   "source": []
  },
  {
   "cell_type": "code",
   "execution_count": null,
   "id": "c531b3c9",
   "metadata": {},
   "outputs": [],
   "source": []
  },
  {
   "cell_type": "code",
   "execution_count": null,
   "id": "eaa734a8",
   "metadata": {},
   "outputs": [],
   "source": []
  },
  {
   "cell_type": "code",
   "execution_count": null,
   "id": "ec2ac1aa",
   "metadata": {},
   "outputs": [],
   "source": []
  },
  {
   "cell_type": "code",
   "execution_count": null,
   "id": "2abba8cb",
   "metadata": {},
   "outputs": [],
   "source": []
  },
  {
   "cell_type": "code",
   "execution_count": null,
   "id": "63842f67",
   "metadata": {
    "ExecuteTime": {
     "end_time": "2021-11-29T14:41:39.828520Z",
     "start_time": "2021-11-29T14:41:39.828504Z"
    }
   },
   "outputs": [],
   "source": [
    "movie_dic = {}\n",
    "for i in range(5000):\n",
    "\n",
    "    movie_dic[df['title'].iloc[0:df.shape[0]][i]] = {'Actors' : df['actors'].iloc[0:df.shape[0]][i],\n",
    "                                                        'Country' : df['country'].iloc[0:df.shape[0]][i],\n",
    "                                                        'imdb_title_id' : df['imdb_title_id'].iloc[0:df.shape[0]][i],\n",
    "#                                                      'Income' : np.round(10**(df['worlwide_gross_income'].iloc[0:df.shape[0]][i]),2)\n",
    "                                                    #  'Numbers of blockbuster' : df['shifted'].iloc[0:df.shape[0]][i]\n",
    "                                                     }\n",
    "\n",
    "    # en dehors du form movie_dic['title'] = movie_dic.keys\n"
   ]
  },
  {
   "cell_type": "code",
   "execution_count": null,
   "id": "699bc39d",
   "metadata": {
    "ExecuteTime": {
     "end_time": "2021-11-29T14:41:39.830363Z",
     "start_time": "2021-11-29T14:41:39.830342Z"
    }
   },
   "outputs": [],
   "source": [
    "movie_dic['Name_of_movies'] = movie_dic"
   ]
  },
  {
   "cell_type": "code",
   "execution_count": null,
   "id": "56410ecf",
   "metadata": {
    "ExecuteTime": {
     "end_time": "2021-11-29T14:41:39.832381Z",
     "start_time": "2021-11-29T14:41:39.832365Z"
    },
    "scrolled": false
   },
   "outputs": [],
   "source": [
    "actors_dic = {\"Movies\" : df[df['actors'].str.contains('Leonardo DiCaprio')]['title'].values}"
   ]
  },
  {
   "cell_type": "code",
   "execution_count": null,
   "id": "48b93e89",
   "metadata": {
    "ExecuteTime": {
     "end_time": "2021-11-29T14:41:39.834329Z",
     "start_time": "2021-11-29T14:41:39.834313Z"
    }
   },
   "outputs": [],
   "source": [
    " movie_list = df[df['actors'].str.contains('Leonardo DiCaprio')]['title'].values"
   ]
  },
  {
   "cell_type": "code",
   "execution_count": null,
   "id": "b6dbbac6",
   "metadata": {
    "ExecuteTime": {
     "end_time": "2021-11-29T14:41:39.835781Z",
     "start_time": "2021-11-29T14:41:39.835764Z"
    }
   },
   "outputs": [],
   "source": [
    "actor_dic2 =  {}\n",
    "index = np.arange(0,len(movie_list))\n",
    "\n",
    "for movie,indexs in zip(movie_list,index):\n",
    "    \n",
    "    tmpy_dic = {}\n",
    "    tmpy_dic = {indexs : movie}\n",
    "    actor_dic2.update(tmpy_dic)\n",
    "    "
   ]
  },
  {
   "cell_type": "code",
   "execution_count": null,
   "id": "db182b2c",
   "metadata": {
    "ExecuteTime": {
     "end_time": "2021-11-29T14:41:39.837285Z",
     "start_time": "2021-11-29T14:41:39.837270Z"
    }
   },
   "outputs": [],
   "source": [
    "actor_dic2\n"
   ]
  },
  {
   "cell_type": "code",
   "execution_count": null,
   "id": "50bd9f3d",
   "metadata": {
    "ExecuteTime": {
     "end_time": "2021-11-29T14:41:39.839284Z",
     "start_time": "2021-11-29T14:41:39.839269Z"
    }
   },
   "outputs": [],
   "source": [
    "df[df['actors'].str.contains('Leonardo DiCaprio')]['title'].values.tolist()"
   ]
  },
  {
   "cell_type": "code",
   "execution_count": null,
   "id": "858e48bd",
   "metadata": {
    "ExecuteTime": {
     "end_time": "2021-11-29T14:41:39.841013Z",
     "start_time": "2021-11-29T14:41:39.840995Z"
    }
   },
   "outputs": [],
   "source": [
    "np.arange(0,len(movie_list)).tolist()"
   ]
  },
  {
   "cell_type": "code",
   "execution_count": null,
   "id": "81a4b4b1",
   "metadata": {
    "ExecuteTime": {
     "end_time": "2021-11-29T09:19:12.155626Z",
     "start_time": "2021-11-29T09:19:12.137493Z"
    }
   },
   "outputs": [],
   "source": []
  },
  {
   "cell_type": "code",
   "execution_count": null,
   "id": "9b13e4e2",
   "metadata": {
    "ExecuteTime": {
     "end_time": "2021-11-29T14:41:39.843265Z",
     "start_time": "2021-11-29T14:41:39.843241Z"
    }
   },
   "outputs": [],
   "source": [
    "search_actors('Brad Pitt')"
   ]
  },
  {
   "cell_type": "code",
   "execution_count": null,
   "id": "c2255594",
   "metadata": {
    "ExecuteTime": {
     "end_time": "2021-11-29T14:41:39.845210Z",
     "start_time": "2021-11-29T14:41:39.845186Z"
    }
   },
   "outputs": [],
   "source": [
    "from translate import Translator"
   ]
  },
  {
   "cell_type": "code",
   "execution_count": null,
   "id": "e4d485e0",
   "metadata": {
    "ExecuteTime": {
     "end_time": "2021-11-29T14:41:39.847645Z",
     "start_time": "2021-11-29T14:41:39.847616Z"
    }
   },
   "outputs": [],
   "source": [
    "translator= Translator(to_lang=\"en\", from_lang=\"ita\")\n",
    "translation = translator.translate(\"C'era una volta a... Hollywood\")\n",
    "translation"
   ]
  },
  {
   "cell_type": "code",
   "execution_count": null,
   "id": "2964b593",
   "metadata": {
    "ExecuteTime": {
     "end_time": "2021-11-29T14:41:39.850117Z",
     "start_time": "2021-11-29T14:41:39.850099Z"
    }
   },
   "outputs": [],
   "source": [
    "!pip install deep-translator"
   ]
  },
  {
   "cell_type": "code",
   "execution_count": null,
   "id": "2228958f",
   "metadata": {
    "ExecuteTime": {
     "end_time": "2021-11-29T14:41:39.851821Z",
     "start_time": "2021-11-29T14:41:39.851796Z"
    }
   },
   "outputs": [],
   "source": [
    "from deep_translator import GoogleTranslator\n"
   ]
  },
  {
   "cell_type": "code",
   "execution_count": null,
   "id": "5ba15fdb",
   "metadata": {
    "ExecuteTime": {
     "end_time": "2021-11-29T14:41:39.853526Z",
     "start_time": "2021-11-29T14:41:39.853510Z"
    }
   },
   "outputs": [],
   "source": [
    "translated = GoogleTranslator(source='auto', target='en').translate(\"\") \n",
    "translated "
   ]
  },
  {
   "cell_type": "code",
   "execution_count": null,
   "id": "7894ed4b",
   "metadata": {
    "ExecuteTime": {
     "end_time": "2021-11-29T14:41:39.855477Z",
     "start_time": "2021-11-29T14:41:39.855460Z"
    }
   },
   "outputs": [],
   "source": [
    "def search_actors(name):\n",
    "    movie_list = df[df['actors'].str.contains(name)]['title'].values\n",
    "    actor_dic2 =  {}\n",
    "    index = np.arange(0,len(movie_list))\n",
    "\n",
    "    for movie,indexs in zip(movie_list,index):\n",
    "        tmpy_dic = {}\n",
    "        tmpy_dic = {indexs : GoogleTranslator(source='auto', target='en').translate(movie)}\n",
    "        actor_dic2.update(tmpy_dic)\n",
    "    return actor_dic2"
   ]
  },
  {
   "cell_type": "code",
   "execution_count": null,
   "id": "5a3be6aa",
   "metadata": {
    "ExecuteTime": {
     "end_time": "2021-11-29T14:41:39.857151Z",
     "start_time": "2021-11-29T14:41:39.857135Z"
    }
   },
   "outputs": [],
   "source": [
    "search_actors('Brad Pitt')"
   ]
  },
  {
   "cell_type": "code",
   "execution_count": null,
   "id": "33f565d4",
   "metadata": {},
   "outputs": [],
   "source": []
  }
 ],
 "metadata": {
  "kernelspec": {
   "display_name": "Python 3 (ipykernel)",
   "language": "python",
   "name": "python3"
  },
  "language_info": {
   "codemirror_mode": {
    "name": "ipython",
    "version": 3
   },
   "file_extension": ".py",
   "mimetype": "text/x-python",
   "name": "python",
   "nbconvert_exporter": "python",
   "pygments_lexer": "ipython3",
   "version": "3.8.12"
  },
  "toc": {
   "base_numbering": 1,
   "nav_menu": {},
   "number_sections": true,
   "sideBar": true,
   "skip_h1_title": false,
   "title_cell": "Table of Contents",
   "title_sidebar": "Contents",
   "toc_cell": false,
   "toc_position": {},
   "toc_section_display": true,
   "toc_window_display": false
  },
  "varInspector": {
   "cols": {
    "lenName": 16,
    "lenType": 16,
    "lenVar": 40
   },
   "kernels_config": {
    "python": {
     "delete_cmd_postfix": "",
     "delete_cmd_prefix": "del ",
     "library": "var_list.py",
     "varRefreshCmd": "print(var_dic_list())"
    },
    "r": {
     "delete_cmd_postfix": ") ",
     "delete_cmd_prefix": "rm(",
     "library": "var_list.r",
     "varRefreshCmd": "cat(var_dic_list()) "
    }
   },
   "types_to_exclude": [
    "module",
    "function",
    "builtin_function_or_method",
    "instance",
    "_Feature"
   ],
   "window_display": false
  }
 },
 "nbformat": 4,
 "nbformat_minor": 5
}
