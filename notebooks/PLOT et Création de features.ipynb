{
 "cells": [
  {
   "cell_type": "code",
   "execution_count": 1,
   "id": "215ca31d",
   "metadata": {
    "ExecuteTime": {
     "end_time": "2021-11-26T10:03:30.735191Z",
     "start_time": "2021-11-26T10:03:30.696156Z"
    }
   },
   "outputs": [],
   "source": [
    "%load_ext autoreload\n",
    "%autoreload 2"
   ]
  },
  {
   "cell_type": "markdown",
   "id": "13090c9a",
   "metadata": {},
   "source": [
    "# Explorateur de données"
   ]
  },
  {
   "cell_type": "markdown",
   "id": "60fc8384",
   "metadata": {},
   "source": [
    "## Import libraries"
   ]
  },
  {
   "cell_type": "code",
   "execution_count": 2,
   "id": "29b31b02",
   "metadata": {
    "ExecuteTime": {
     "end_time": "2021-11-26T10:04:22.035148Z",
     "start_time": "2021-11-26T10:03:30.742936Z"
    }
   },
   "outputs": [
    {
     "name": "stderr",
     "output_type": "stream",
     "text": [
      "/home/oscartouze/.pyenv/versions/3.8.12/envs/cinepred/lib/python3.8/site-packages/cpi/__init__.py:46: StaleDataWarning: CPI data is out of date. To accurately inflate to today's dollars, you must run `cpi.update()`.\n",
      "  warnings.warn(StaleDataWarning())\n"
     ]
    }
   ],
   "source": [
    "import pandas as pd\n",
    "import matplotlib.pyplot as plt\n",
    "import seaborn as sns\n",
    "import numpy as np\n",
    "\n",
    "from CinePred.data.featuring import *\n",
    "from CinePred.data.preprocessing import *\n",
    "from CinePred.data.importing import *"
   ]
  },
  {
   "cell_type": "markdown",
   "id": "dbe34066",
   "metadata": {},
   "source": [
    "## Import le dataframe"
   ]
  },
  {
   "cell_type": "code",
   "execution_count": 3,
   "id": "e57bebda",
   "metadata": {
    "ExecuteTime": {
     "end_time": "2021-11-26T10:04:31.547126Z",
     "start_time": "2021-11-26T10:04:22.043436Z"
    }
   },
   "outputs": [
    {
     "name": "stdout",
     "output_type": "stream",
     "text": [
      "----- import Data -----\n",
      "../raw_data/IMDb movies.csv\n"
     ]
    },
    {
     "name": "stderr",
     "output_type": "stream",
     "text": [
      "/tmp/ipykernel_7239/2090781426.py:2: DtypeWarning: Columns (3) have mixed types.Specify dtype option on import or set low_memory=False.\n",
      "  df = import_data(\"../raw_data/IMDb movies.csv\")\n"
     ]
    },
    {
     "name": "stdout",
     "output_type": "stream",
     "text": [
      "----- keep columns -----\n",
      "----- remove na rows -----\n",
      "----- convert budget -----\n",
      "../raw_data/currencies.csv\n",
      "----- reduce column type -----\n",
      "----- convert income column -----\n",
      "----- convert to int -----\n",
      "----- convert to date -----\n",
      "----- reset index -----\n",
      "----- log transform -----\n",
      "----- data_shape -----\n"
     ]
    }
   ],
   "source": [
    "print('----- import Data -----')\n",
    "df = import_data(\"../raw_data/IMDb movies.csv\")\n",
    "\n",
    "print('----- keep columns -----')\n",
    "df = keep_columns(df,\n",
    "                  column_names=[\n",
    "                      'imdb_title_id', 'title', 'year', 'date_published',\n",
    "                      'genre', 'duration', 'country', 'director', 'writer',\n",
    "                      'production_company', 'actors', 'budget',\n",
    "                      'worlwide_gross_income'\n",
    "                  ])\n",
    "\n",
    "print('----- remove na rows -----')\n",
    "df = remove_na_rows(df)\n",
    "\n",
    "print('----- convert budget -----')\n",
    "df['budget'] = convert_budget_column(df[['budget']])\n",
    "\n",
    "print('----- reduce column type -----')\n",
    "df['actors'] = reduce_column_type(df[['actors']], nb_max=3)\n",
    "\n",
    "print('----- convert income column -----')\n",
    "df['worlwide_gross_income'] = convert_income(df[['worlwide_gross_income']])\n",
    "\n",
    "print('----- convert to int -----')\n",
    "df['year'] = convert_to_int(df[['year']])\n",
    "df['duration'] = convert_to_int(df[['duration']])\n",
    "\n",
    "print('----- convert to date -----')\n",
    "df['date_published'] = convert_to_date(df[['date_published']])\n",
    "\n",
    "print('----- reset index -----')\n",
    "df = reset_index(df)\n",
    "\n",
    "print('----- log transform -----')\n",
    "df['worlwide_gross_income'] = log_transformation(\n",
    "    df[['worlwide_gross_income']])\n",
    "\n",
    "print('----- data_shape -----')"
   ]
  },
  {
   "cell_type": "code",
   "execution_count": 4,
   "id": "944f6c49",
   "metadata": {
    "ExecuteTime": {
     "end_time": "2021-11-26T10:04:31.780341Z",
     "start_time": "2021-11-26T10:04:31.555355Z"
    }
   },
   "outputs": [
    {
     "name": "stdout",
     "output_type": "stream",
     "text": [
      " cat_acteur.csv\t\t\t  first_39k_to_42k_movies.csv\r\n",
      " currencies.csv\t\t\t 'IMDb movies.csv'\r\n",
      " currencies.csv:Zone.Identifier   movie_ids_11_22_2021.json\r\n",
      " DF_3_acteurs.csv\t\t  movie_ids_11_22_2021.json.gz\r\n",
      " DF_films_par_acteur.csv\t  movie_ids_11_22_2021.json.gz:Zone.Identifier\r\n",
      " DF_films_par_acteur_suite.csv\t 'preproc (1).csv:Zone.Identifier'\r\n",
      " first_15k_movies.csv\t\t  preproc.csv\r\n",
      " first_15k_to_32k_movies.csv\t  preproc.csv:Zone.Identifier\r\n",
      " first_32k_to_39k_movies.csv\r\n"
     ]
    }
   ],
   "source": [
    "!ls ../raw_data/"
   ]
  },
  {
   "cell_type": "code",
   "execution_count": 8,
   "id": "bd4cf69e",
   "metadata": {
    "ExecuteTime": {
     "end_time": "2021-11-26T10:06:06.543583Z",
     "start_time": "2021-11-26T10:06:06.498753Z"
    }
   },
   "outputs": [
    {
     "name": "stdout",
     "output_type": "stream",
     "text": [
      "../raw_data/currencies.csv\n"
     ]
    },
    {
     "data": {
      "text/html": [
       "<div>\n",
       "<style scoped>\n",
       "    .dataframe tbody tr th:only-of-type {\n",
       "        vertical-align: middle;\n",
       "    }\n",
       "\n",
       "    .dataframe tbody tr th {\n",
       "        vertical-align: top;\n",
       "    }\n",
       "\n",
       "    .dataframe thead th {\n",
       "        text-align: right;\n",
       "    }\n",
       "</style>\n",
       "<table border=\"1\" class=\"dataframe\">\n",
       "  <thead>\n",
       "    <tr style=\"text-align: right;\">\n",
       "      <th></th>\n",
       "      <th>in</th>\n",
       "      <th>out</th>\n",
       "      <th>value</th>\n",
       "    </tr>\n",
       "  </thead>\n",
       "  <tbody>\n",
       "    <tr>\n",
       "      <th>0</th>\n",
       "      <td>$</td>\n",
       "      <td>USD</td>\n",
       "      <td>1.000000</td>\n",
       "    </tr>\n",
       "    <tr>\n",
       "      <th>1</th>\n",
       "      <td>IEP</td>\n",
       "      <td>USD</td>\n",
       "      <td>1.423136</td>\n",
       "    </tr>\n",
       "    <tr>\n",
       "      <th>2</th>\n",
       "      <td>BEF</td>\n",
       "      <td>USD</td>\n",
       "      <td>0.027784</td>\n",
       "    </tr>\n",
       "    <tr>\n",
       "      <th>3</th>\n",
       "      <td>FIM</td>\n",
       "      <td>USD</td>\n",
       "      <td>0.188507</td>\n",
       "    </tr>\n",
       "    <tr>\n",
       "      <th>4</th>\n",
       "      <td>NLG</td>\n",
       "      <td>USD</td>\n",
       "      <td>0.508602</td>\n",
       "    </tr>\n",
       "    <tr>\n",
       "      <th>...</th>\n",
       "      <td>...</td>\n",
       "      <td>...</td>\n",
       "      <td>...</td>\n",
       "    </tr>\n",
       "    <tr>\n",
       "      <th>155</th>\n",
       "      <td>UYU</td>\n",
       "      <td>USD</td>\n",
       "      <td>0.022690</td>\n",
       "    </tr>\n",
       "    <tr>\n",
       "      <th>156</th>\n",
       "      <td>UZS</td>\n",
       "      <td>USD</td>\n",
       "      <td>0.000093</td>\n",
       "    </tr>\n",
       "    <tr>\n",
       "      <th>157</th>\n",
       "      <td>VND</td>\n",
       "      <td>USD</td>\n",
       "      <td>0.000044</td>\n",
       "    </tr>\n",
       "    <tr>\n",
       "      <th>158</th>\n",
       "      <td>YER</td>\n",
       "      <td>USD</td>\n",
       "      <td>0.003996</td>\n",
       "    </tr>\n",
       "    <tr>\n",
       "      <th>159</th>\n",
       "      <td>ZMW</td>\n",
       "      <td>USD</td>\n",
       "      <td>0.056368</td>\n",
       "    </tr>\n",
       "  </tbody>\n",
       "</table>\n",
       "<p>160 rows × 3 columns</p>\n",
       "</div>"
      ],
      "text/plain": [
       "      in  out     value\n",
       "0      $  USD  1.000000\n",
       "1    IEP  USD  1.423136\n",
       "2    BEF  USD  0.027784\n",
       "3    FIM  USD  0.188507\n",
       "4    NLG  USD  0.508602\n",
       "..   ...  ...       ...\n",
       "155  UYU  USD  0.022690\n",
       "156  UZS  USD  0.000093\n",
       "157  VND  USD  0.000044\n",
       "158  YER  USD  0.003996\n",
       "159  ZMW  USD  0.056368\n",
       "\n",
       "[160 rows x 3 columns]"
      ]
     },
     "execution_count": 8,
     "metadata": {},
     "output_type": "execute_result"
    }
   ],
   "source": [
    "import_data(\"../raw_data/currencies.csv\")"
   ]
  },
  {
   "cell_type": "code",
   "execution_count": 9,
   "id": "5b18cc66",
   "metadata": {
    "ExecuteTime": {
     "end_time": "2021-11-26T10:06:06.605300Z",
     "start_time": "2021-11-26T10:06:06.548580Z"
    },
    "scrolled": true
   },
   "outputs": [
    {
     "data": {
      "text/html": [
       "<div>\n",
       "<style scoped>\n",
       "    .dataframe tbody tr th:only-of-type {\n",
       "        vertical-align: middle;\n",
       "    }\n",
       "\n",
       "    .dataframe tbody tr th {\n",
       "        vertical-align: top;\n",
       "    }\n",
       "\n",
       "    .dataframe thead th {\n",
       "        text-align: right;\n",
       "    }\n",
       "</style>\n",
       "<table border=\"1\" class=\"dataframe\">\n",
       "  <thead>\n",
       "    <tr style=\"text-align: right;\">\n",
       "      <th></th>\n",
       "      <th>imdb_title_id</th>\n",
       "      <th>title</th>\n",
       "      <th>year</th>\n",
       "      <th>date_published</th>\n",
       "      <th>genre</th>\n",
       "      <th>duration</th>\n",
       "      <th>country</th>\n",
       "      <th>director</th>\n",
       "      <th>writer</th>\n",
       "      <th>production_company</th>\n",
       "      <th>actors</th>\n",
       "      <th>budget</th>\n",
       "      <th>worlwide_gross_income</th>\n",
       "    </tr>\n",
       "  </thead>\n",
       "  <tbody>\n",
       "    <tr>\n",
       "      <th>0</th>\n",
       "      <td>tt0010323</td>\n",
       "      <td>Il gabinetto del dottor Caligari</td>\n",
       "      <td>1920</td>\n",
       "      <td>1920-02-27</td>\n",
       "      <td>Fantasy, Horror, Mystery</td>\n",
       "      <td>76</td>\n",
       "      <td>Germany</td>\n",
       "      <td>Robert Wiene</td>\n",
       "      <td>Carl Mayer, Hans Janowitz</td>\n",
       "      <td>Decla-Bioscop AG</td>\n",
       "      <td>Marilyn Monroe, Tony Curtis, Jack Lemmon</td>\n",
       "      <td>18000</td>\n",
       "      <td>3.945025</td>\n",
       "    </tr>\n",
       "    <tr>\n",
       "      <th>1</th>\n",
       "      <td>tt0011440</td>\n",
       "      <td>Markens grøde</td>\n",
       "      <td>1921</td>\n",
       "      <td>1921-12-02</td>\n",
       "      <td>Drama</td>\n",
       "      <td>107</td>\n",
       "      <td>Norway</td>\n",
       "      <td>Gunnar Sommerfeldt</td>\n",
       "      <td>Knut Hamsun, Gunnar Sommerfeldt</td>\n",
       "      <td>Christiana Film</td>\n",
       "      <td>Dean Martin, Kim Novak, Ray Walston</td>\n",
       "      <td>27887</td>\n",
       "      <td>3.630631</td>\n",
       "    </tr>\n",
       "    <tr>\n",
       "      <th>2</th>\n",
       "      <td>tt0012190</td>\n",
       "      <td>I quattro cavalieri dell'Apocalisse</td>\n",
       "      <td>1921</td>\n",
       "      <td>1923-04-16</td>\n",
       "      <td>Drama, Romance, War</td>\n",
       "      <td>150</td>\n",
       "      <td>USA</td>\n",
       "      <td>Rex Ingram</td>\n",
       "      <td>Vicente Blasco Ibáñez, June Mathis</td>\n",
       "      <td>Metro Pictures Corporation</td>\n",
       "      <td>Barbara Dennek, Jacques Tati, Rita Maiden</td>\n",
       "      <td>800000</td>\n",
       "      <td>6.963016</td>\n",
       "    </tr>\n",
       "    <tr>\n",
       "      <th>3</th>\n",
       "      <td>tt0012349</td>\n",
       "      <td>Il monello</td>\n",
       "      <td>1921</td>\n",
       "      <td>1923-11-26</td>\n",
       "      <td>Comedy, Drama, Family</td>\n",
       "      <td>68</td>\n",
       "      <td>USA</td>\n",
       "      <td>Charles Chaplin</td>\n",
       "      <td>Charles Chaplin</td>\n",
       "      <td>Charles Chaplin Productions</td>\n",
       "      <td>Tony Curtis, Henry Fonda, George Kennedy</td>\n",
       "      <td>250000</td>\n",
       "      <td>4.430011</td>\n",
       "    </tr>\n",
       "    <tr>\n",
       "      <th>4</th>\n",
       "      <td>tt0014624</td>\n",
       "      <td>La donna di Parigi</td>\n",
       "      <td>1923</td>\n",
       "      <td>1927-06-06</td>\n",
       "      <td>Drama, Romance</td>\n",
       "      <td>82</td>\n",
       "      <td>USA</td>\n",
       "      <td>Charles Chaplin</td>\n",
       "      <td>Charles Chaplin</td>\n",
       "      <td>Charles Chaplin Productions</td>\n",
       "      <td>Steve McQueen, Dustin Hoffman, Victor Jory</td>\n",
       "      <td>351000</td>\n",
       "      <td>4.050496</td>\n",
       "    </tr>\n",
       "    <tr>\n",
       "      <th>...</th>\n",
       "      <td>...</td>\n",
       "      <td>...</td>\n",
       "      <td>...</td>\n",
       "      <td>...</td>\n",
       "      <td>...</td>\n",
       "      <td>...</td>\n",
       "      <td>...</td>\n",
       "      <td>...</td>\n",
       "      <td>...</td>\n",
       "      <td>...</td>\n",
       "      <td>...</td>\n",
       "      <td>...</td>\n",
       "      <td>...</td>\n",
       "    </tr>\n",
       "    <tr>\n",
       "      <th>12565</th>\n",
       "      <td>tt9878242</td>\n",
       "      <td>Subharathri</td>\n",
       "      <td>2019</td>\n",
       "      <td>2019-07-06</td>\n",
       "      <td>Drama, Romance</td>\n",
       "      <td>130</td>\n",
       "      <td>India</td>\n",
       "      <td>Vyasan K.P.</td>\n",
       "      <td>Vyasan K.P., Vyasan K.P.</td>\n",
       "      <td>Abaam Movies</td>\n",
       "      <td>NaN</td>\n",
       "      <td>402722</td>\n",
       "      <td>5.025027</td>\n",
       "    </tr>\n",
       "    <tr>\n",
       "      <th>12566</th>\n",
       "      <td>tt9886872</td>\n",
       "      <td>Munthiri Monchan</td>\n",
       "      <td>2019</td>\n",
       "      <td>2019-12-06</td>\n",
       "      <td>Comedy, Romance</td>\n",
       "      <td>130</td>\n",
       "      <td>India</td>\n",
       "      <td>Vijith Nambiar</td>\n",
       "      <td>Manu Gopal, Meharali Poilungal Ismail</td>\n",
       "      <td>Vishvas Movies</td>\n",
       "      <td>NaN</td>\n",
       "      <td>402722</td>\n",
       "      <td>3.409595</td>\n",
       "    </tr>\n",
       "    <tr>\n",
       "      <th>12567</th>\n",
       "      <td>tt9894394</td>\n",
       "      <td>Upin &amp; Ipin: Keris Siamang Tunggal</td>\n",
       "      <td>2019</td>\n",
       "      <td>2019-03-21</td>\n",
       "      <td>Animation</td>\n",
       "      <td>100</td>\n",
       "      <td>Malaysia</td>\n",
       "      <td>Adam Bin Amiruddin, Syed Nurfaiz Khalid bin Sy...</td>\n",
       "      <td>Hjh. Ainon Ariff, Nur Naquyah bt Burhanuddin</td>\n",
       "      <td>Les' Copaque Production</td>\n",
       "      <td>NaN</td>\n",
       "      <td>4729812</td>\n",
       "      <td>4.923539</td>\n",
       "    </tr>\n",
       "    <tr>\n",
       "      <th>12568</th>\n",
       "      <td>tt9900782</td>\n",
       "      <td>Kaithi</td>\n",
       "      <td>2019</td>\n",
       "      <td>2019-10-25</td>\n",
       "      <td>Action, Thriller</td>\n",
       "      <td>145</td>\n",
       "      <td>India</td>\n",
       "      <td>Lokesh Kanagaraj</td>\n",
       "      <td>Lokesh Kanagaraj, Pon Parthiban</td>\n",
       "      <td>Dream Warrior Pictures</td>\n",
       "      <td>NaN</td>\n",
       "      <td>3221779</td>\n",
       "      <td>5.719382</td>\n",
       "    </tr>\n",
       "    <tr>\n",
       "      <th>12569</th>\n",
       "      <td>tt9905412</td>\n",
       "      <td>Ottam</td>\n",
       "      <td>2019</td>\n",
       "      <td>2019-03-08</td>\n",
       "      <td>Drama</td>\n",
       "      <td>120</td>\n",
       "      <td>India</td>\n",
       "      <td>Zam</td>\n",
       "      <td>Rajesh k Narayan</td>\n",
       "      <td>Thomas Thiruvalla Films</td>\n",
       "      <td>NaN</td>\n",
       "      <td>53696</td>\n",
       "      <td>3.680426</td>\n",
       "    </tr>\n",
       "  </tbody>\n",
       "</table>\n",
       "<p>12570 rows × 13 columns</p>\n",
       "</div>"
      ],
      "text/plain": [
       "      imdb_title_id                                title  year date_published  \\\n",
       "0         tt0010323     Il gabinetto del dottor Caligari  1920     1920-02-27   \n",
       "1         tt0011440                        Markens grøde  1921     1921-12-02   \n",
       "2         tt0012190  I quattro cavalieri dell'Apocalisse  1921     1923-04-16   \n",
       "3         tt0012349                           Il monello  1921     1923-11-26   \n",
       "4         tt0014624                   La donna di Parigi  1923     1927-06-06   \n",
       "...             ...                                  ...   ...            ...   \n",
       "12565     tt9878242                          Subharathri  2019     2019-07-06   \n",
       "12566     tt9886872                     Munthiri Monchan  2019     2019-12-06   \n",
       "12567     tt9894394   Upin & Ipin: Keris Siamang Tunggal  2019     2019-03-21   \n",
       "12568     tt9900782                               Kaithi  2019     2019-10-25   \n",
       "12569     tt9905412                                Ottam  2019     2019-03-08   \n",
       "\n",
       "                          genre  duration   country  \\\n",
       "0      Fantasy, Horror, Mystery        76   Germany   \n",
       "1                         Drama       107    Norway   \n",
       "2           Drama, Romance, War       150       USA   \n",
       "3         Comedy, Drama, Family        68       USA   \n",
       "4                Drama, Romance        82       USA   \n",
       "...                         ...       ...       ...   \n",
       "12565            Drama, Romance       130     India   \n",
       "12566           Comedy, Romance       130     India   \n",
       "12567                 Animation       100  Malaysia   \n",
       "12568          Action, Thriller       145     India   \n",
       "12569                     Drama       120     India   \n",
       "\n",
       "                                                director  \\\n",
       "0                                           Robert Wiene   \n",
       "1                                     Gunnar Sommerfeldt   \n",
       "2                                             Rex Ingram   \n",
       "3                                        Charles Chaplin   \n",
       "4                                        Charles Chaplin   \n",
       "...                                                  ...   \n",
       "12565                                        Vyasan K.P.   \n",
       "12566                                     Vijith Nambiar   \n",
       "12567  Adam Bin Amiruddin, Syed Nurfaiz Khalid bin Sy...   \n",
       "12568                                   Lokesh Kanagaraj   \n",
       "12569                                                Zam   \n",
       "\n",
       "                                             writer  \\\n",
       "0                         Carl Mayer, Hans Janowitz   \n",
       "1                   Knut Hamsun, Gunnar Sommerfeldt   \n",
       "2                Vicente Blasco Ibáñez, June Mathis   \n",
       "3                                   Charles Chaplin   \n",
       "4                                   Charles Chaplin   \n",
       "...                                             ...   \n",
       "12565                      Vyasan K.P., Vyasan K.P.   \n",
       "12566         Manu Gopal, Meharali Poilungal Ismail   \n",
       "12567  Hjh. Ainon Ariff, Nur Naquyah bt Burhanuddin   \n",
       "12568               Lokesh Kanagaraj, Pon Parthiban   \n",
       "12569                              Rajesh k Narayan   \n",
       "\n",
       "                production_company  \\\n",
       "0                 Decla-Bioscop AG   \n",
       "1                  Christiana Film   \n",
       "2       Metro Pictures Corporation   \n",
       "3      Charles Chaplin Productions   \n",
       "4      Charles Chaplin Productions   \n",
       "...                            ...   \n",
       "12565                 Abaam Movies   \n",
       "12566               Vishvas Movies   \n",
       "12567      Les' Copaque Production   \n",
       "12568       Dream Warrior Pictures   \n",
       "12569      Thomas Thiruvalla Films   \n",
       "\n",
       "                                           actors   budget  \\\n",
       "0        Marilyn Monroe, Tony Curtis, Jack Lemmon    18000   \n",
       "1             Dean Martin, Kim Novak, Ray Walston    27887   \n",
       "2       Barbara Dennek, Jacques Tati, Rita Maiden   800000   \n",
       "3        Tony Curtis, Henry Fonda, George Kennedy   250000   \n",
       "4      Steve McQueen, Dustin Hoffman, Victor Jory   351000   \n",
       "...                                           ...      ...   \n",
       "12565                                         NaN   402722   \n",
       "12566                                         NaN   402722   \n",
       "12567                                         NaN  4729812   \n",
       "12568                                         NaN  3221779   \n",
       "12569                                         NaN    53696   \n",
       "\n",
       "       worlwide_gross_income  \n",
       "0                   3.945025  \n",
       "1                   3.630631  \n",
       "2                   6.963016  \n",
       "3                   4.430011  \n",
       "4                   4.050496  \n",
       "...                      ...  \n",
       "12565               5.025027  \n",
       "12566               3.409595  \n",
       "12567               4.923539  \n",
       "12568               5.719382  \n",
       "12569               3.680426  \n",
       "\n",
       "[12570 rows x 13 columns]"
      ]
     },
     "execution_count": 9,
     "metadata": {},
     "output_type": "execute_result"
    }
   ],
   "source": [
    "df"
   ]
  },
  {
   "cell_type": "code",
   "execution_count": 10,
   "id": "7b6ef871",
   "metadata": {
    "ExecuteTime": {
     "end_time": "2021-11-26T10:06:06.671622Z",
     "start_time": "2021-11-26T10:06:06.608341Z"
    }
   },
   "outputs": [
    {
     "data": {
      "text/html": [
       "<div>\n",
       "<style scoped>\n",
       "    .dataframe tbody tr th:only-of-type {\n",
       "        vertical-align: middle;\n",
       "    }\n",
       "\n",
       "    .dataframe tbody tr th {\n",
       "        vertical-align: top;\n",
       "    }\n",
       "\n",
       "    .dataframe thead th {\n",
       "        text-align: right;\n",
       "    }\n",
       "</style>\n",
       "<table border=\"1\" class=\"dataframe\">\n",
       "  <thead>\n",
       "    <tr style=\"text-align: right;\">\n",
       "      <th></th>\n",
       "      <th>imdb_title_id</th>\n",
       "      <th>title</th>\n",
       "      <th>year</th>\n",
       "      <th>date_published</th>\n",
       "      <th>genre</th>\n",
       "      <th>duration</th>\n",
       "      <th>country</th>\n",
       "      <th>director</th>\n",
       "      <th>writer</th>\n",
       "      <th>production_company</th>\n",
       "      <th>actors</th>\n",
       "      <th>budget</th>\n",
       "      <th>worlwide_gross_income</th>\n",
       "    </tr>\n",
       "  </thead>\n",
       "  <tbody>\n",
       "    <tr>\n",
       "      <th>2668</th>\n",
       "      <td>tt0120338</td>\n",
       "      <td>Titanic</td>\n",
       "      <td>1997</td>\n",
       "      <td>1998-01-16</td>\n",
       "      <td>Drama, Romance</td>\n",
       "      <td>194</td>\n",
       "      <td>USA, Mexico, Australia, Canada</td>\n",
       "      <td>James Cameron</td>\n",
       "      <td>James Cameron</td>\n",
       "      <td>Twentieth Century Fox</td>\n",
       "      <td>NaN</td>\n",
       "      <td>200000000</td>\n",
       "      <td>9.341468</td>\n",
       "    </tr>\n",
       "  </tbody>\n",
       "</table>\n",
       "</div>"
      ],
      "text/plain": [
       "     imdb_title_id    title  year date_published           genre  duration  \\\n",
       "2668     tt0120338  Titanic  1997     1998-01-16  Drama, Romance       194   \n",
       "\n",
       "                             country       director         writer  \\\n",
       "2668  USA, Mexico, Australia, Canada  James Cameron  James Cameron   \n",
       "\n",
       "         production_company actors     budget  worlwide_gross_income  \n",
       "2668  Twentieth Century Fox    NaN  200000000               9.341468  "
      ]
     },
     "execution_count": 10,
     "metadata": {},
     "output_type": "execute_result"
    }
   ],
   "source": [
    "df[df['title'].str.contains(\"Titanic\")]"
   ]
  },
  {
   "cell_type": "markdown",
   "id": "aedbcf20",
   "metadata": {},
   "source": [
    "# Plot"
   ]
  },
  {
   "cell_type": "code",
   "execution_count": 11,
   "id": "82511f20",
   "metadata": {
    "ExecuteTime": {
     "end_time": "2021-11-26T10:06:06.725085Z",
     "start_time": "2021-11-26T10:06:06.676992Z"
    }
   },
   "outputs": [
    {
     "ename": "AttributeError",
     "evalue": "'float' object has no attribute 'split'",
     "output_type": "error",
     "traceback": [
      "\u001b[0;31m---------------------------------------------------------------------------\u001b[0m",
      "\u001b[0;31mAttributeError\u001b[0m                            Traceback (most recent call last)",
      "\u001b[0;32m/tmp/ipykernel_7239/753706968.py\u001b[0m in \u001b[0;36m<module>\u001b[0;34m\u001b[0m\n\u001b[1;32m      2\u001b[0m \u001b[0mliste_complete\u001b[0m \u001b[0;34m=\u001b[0m \u001b[0;34m[\u001b[0m\u001b[0;34m]\u001b[0m\u001b[0;34m\u001b[0m\u001b[0;34m\u001b[0m\u001b[0m\n\u001b[1;32m      3\u001b[0m \u001b[0;32mfor\u001b[0m \u001b[0mi\u001b[0m \u001b[0;32min\u001b[0m \u001b[0mrange\u001b[0m\u001b[0;34m(\u001b[0m\u001b[0mdf\u001b[0m\u001b[0;34m.\u001b[0m\u001b[0mshape\u001b[0m\u001b[0;34m[\u001b[0m\u001b[0;36m0\u001b[0m\u001b[0;34m]\u001b[0m\u001b[0;34m)\u001b[0m\u001b[0;34m:\u001b[0m\u001b[0;34m\u001b[0m\u001b[0;34m\u001b[0m\u001b[0m\n\u001b[0;32m----> 4\u001b[0;31m     \u001b[0mliste_acteurs\u001b[0m\u001b[0;34m.\u001b[0m\u001b[0mappend\u001b[0m\u001b[0;34m(\u001b[0m\u001b[0;34m(\u001b[0m\u001b[0mdf\u001b[0m\u001b[0;34m[\u001b[0m\u001b[0;34m'actors'\u001b[0m\u001b[0;34m]\u001b[0m\u001b[0;34m[\u001b[0m\u001b[0mi\u001b[0m\u001b[0;34m]\u001b[0m\u001b[0;34m.\u001b[0m\u001b[0msplit\u001b[0m\u001b[0;34m(\u001b[0m\u001b[0;34m\", \"\u001b[0m\u001b[0;34m)\u001b[0m\u001b[0;34m)\u001b[0m\u001b[0;34m)\u001b[0m\u001b[0;34m\u001b[0m\u001b[0;34m\u001b[0m\u001b[0m\n\u001b[0m\u001b[1;32m      5\u001b[0m     \u001b[0;32mfor\u001b[0m \u001b[0mname\u001b[0m \u001b[0;32min\u001b[0m \u001b[0mliste_acteurs\u001b[0m\u001b[0;34m[\u001b[0m\u001b[0mi\u001b[0m\u001b[0;34m]\u001b[0m\u001b[0;34m:\u001b[0m\u001b[0;34m\u001b[0m\u001b[0;34m\u001b[0m\u001b[0m\n\u001b[1;32m      6\u001b[0m         \u001b[0mliste_complete\u001b[0m\u001b[0;34m.\u001b[0m\u001b[0mappend\u001b[0m\u001b[0;34m(\u001b[0m\u001b[0mname\u001b[0m\u001b[0;34m)\u001b[0m\u001b[0;34m\u001b[0m\u001b[0;34m\u001b[0m\u001b[0m\n",
      "\u001b[0;31mAttributeError\u001b[0m: 'float' object has no attribute 'split'"
     ]
    }
   ],
   "source": [
    "# liste_acteurs = []\n",
    "# liste_complete = []\n",
    "# for i in range(df.shape[0]):\n",
    "#     liste_acteurs.append((df['actors'][i].split(\", \")))\n",
    "#     for name in liste_acteurs[i]:\n",
    "#         liste_complete.append(name)"
   ]
  },
  {
   "cell_type": "code",
   "execution_count": 12,
   "id": "0adf946e",
   "metadata": {
    "ExecuteTime": {
     "end_time": "2021-11-26T10:06:24.261943Z",
     "start_time": "2021-11-26T10:06:24.232980Z"
    }
   },
   "outputs": [],
   "source": [
    "# actors_df = pd.DataFrame(liste_complete)"
   ]
  },
  {
   "cell_type": "code",
   "execution_count": 13,
   "id": "51944a3f",
   "metadata": {
    "ExecuteTime": {
     "end_time": "2021-11-26T10:06:28.228510Z",
     "start_time": "2021-11-26T10:06:28.203008Z"
    }
   },
   "outputs": [],
   "source": [
    "# liste_acteurs"
   ]
  },
  {
   "cell_type": "markdown",
   "id": "5f4b8143",
   "metadata": {},
   "source": [
    "## Nombre de films par acteurs"
   ]
  },
  {
   "cell_type": "code",
   "execution_count": 14,
   "id": "b59676f6",
   "metadata": {
    "ExecuteTime": {
     "end_time": "2021-11-26T10:06:28.721852Z",
     "start_time": "2021-11-26T10:06:28.684244Z"
    }
   },
   "outputs": [
    {
     "ename": "NameError",
     "evalue": "name 'actors_df' is not defined",
     "output_type": "error",
     "traceback": [
      "\u001b[0;31m---------------------------------------------------------------------------\u001b[0m",
      "\u001b[0;31mNameError\u001b[0m                                 Traceback (most recent call last)",
      "\u001b[0;32m/tmp/ipykernel_7239/3777624067.py\u001b[0m in \u001b[0;36m<module>\u001b[0;34m\u001b[0m\n\u001b[0;32m----> 1\u001b[0;31m \u001b[0mpd\u001b[0m\u001b[0;34m.\u001b[0m\u001b[0mDataFrame\u001b[0m\u001b[0;34m(\u001b[0m\u001b[0mactors_df\u001b[0m\u001b[0;34m.\u001b[0m\u001b[0mvalue_counts\u001b[0m\u001b[0;34m(\u001b[0m\u001b[0;34m)\u001b[0m\u001b[0;34m.\u001b[0m\u001b[0mhead\u001b[0m\u001b[0;34m(\u001b[0m\u001b[0;36m100\u001b[0m\u001b[0;34m)\u001b[0m\u001b[0;34m)\u001b[0m\u001b[0;34m\u001b[0m\u001b[0;34m\u001b[0m\u001b[0m\n\u001b[0m",
      "\u001b[0;31mNameError\u001b[0m: name 'actors_df' is not defined"
     ]
    }
   ],
   "source": [
    "# pd.DataFrame(actors_df.value_counts().head(100))"
   ]
  },
  {
   "cell_type": "markdown",
   "id": "08d38ece",
   "metadata": {},
   "source": [
    "### Répartition des films par acteurs (100 premiers)"
   ]
  },
  {
   "cell_type": "code",
   "execution_count": 15,
   "id": "a43c5f64",
   "metadata": {
    "ExecuteTime": {
     "end_time": "2021-11-26T10:06:44.180495Z",
     "start_time": "2021-11-26T10:06:44.155035Z"
    }
   },
   "outputs": [],
   "source": [
    "# actors_df.value_counts()"
   ]
  },
  {
   "cell_type": "markdown",
   "id": "df42d9db",
   "metadata": {},
   "source": [
    "## Budget over revenue"
   ]
  },
  {
   "cell_type": "code",
   "execution_count": 16,
   "id": "561d65b8",
   "metadata": {
    "ExecuteTime": {
     "end_time": "2021-11-26T10:06:46.423758Z",
     "start_time": "2021-11-26T10:06:44.878060Z"
    }
   },
   "outputs": [
    {
     "data": {
      "text/plain": [
       "<AxesSubplot:xlabel='budget', ylabel='worlwide_gross_income'>"
      ]
     },
     "execution_count": 16,
     "metadata": {},
     "output_type": "execute_result"
    },
    {
     "data": {
      "image/png": "[encoded data removed]",
      "text/plain": [
       "<Figure size 1152x648 with 1 Axes>"
      ]
     },
     "metadata": {
      "needs_background": "light"
     },
     "output_type": "display_data"
    }
   ],
   "source": [
    "fig = plt.figure(figsize=(16,9))\n",
    "sns.regplot(x = \"budget\", y = \"worlwide_gross_income\",data=df, line_kws={\"lw\":5, \"color\":\"red\"})"
   ]
  },
  {
   "cell_type": "markdown",
   "id": "fdb417c2",
   "metadata": {},
   "source": [
    "## Répartition par mois"
   ]
  },
  {
   "cell_type": "code",
   "execution_count": null,
   "id": "46ec2eda",
   "metadata": {},
   "outputs": [],
   "source": []
  },
  {
   "cell_type": "code",
   "execution_count": 17,
   "id": "bc7adc34",
   "metadata": {
    "ExecuteTime": {
     "end_time": "2021-11-26T10:06:46.991506Z",
     "start_time": "2021-11-26T10:06:46.946835Z"
    }
   },
   "outputs": [
    {
     "ename": "KeyError",
     "evalue": "'Month_published'",
     "output_type": "error",
     "traceback": [
      "\u001b[0;31m---------------------------------------------------------------------------\u001b[0m",
      "\u001b[0;31mKeyError\u001b[0m                                  Traceback (most recent call last)",
      "\u001b[0;32m/tmp/ipykernel_7239/3002517437.py\u001b[0m in \u001b[0;36m<module>\u001b[0;34m\u001b[0m\n\u001b[0;32m----> 1\u001b[0;31m \u001b[0mdf_revenue_per_month\u001b[0m \u001b[0;34m=\u001b[0m \u001b[0mdf\u001b[0m\u001b[0;34m.\u001b[0m\u001b[0mgroupby\u001b[0m\u001b[0;34m(\u001b[0m\u001b[0mby\u001b[0m\u001b[0;34m=\u001b[0m\u001b[0;34m\"Month_published\"\u001b[0m\u001b[0;34m)\u001b[0m\u001b[0;34m.\u001b[0m\u001b[0msum\u001b[0m\u001b[0;34m(\u001b[0m\u001b[0;34m)\u001b[0m\u001b[0;34m[\u001b[0m\u001b[0;34m[\u001b[0m\u001b[0;34m'worlwide_gross_income'\u001b[0m\u001b[0;34m]\u001b[0m\u001b[0;34m]\u001b[0m\u001b[0;34m.\u001b[0m\u001b[0mreset_index\u001b[0m\u001b[0;34m(\u001b[0m\u001b[0;34m)\u001b[0m\u001b[0;34m\u001b[0m\u001b[0;34m\u001b[0m\u001b[0m\n\u001b[0m\u001b[1;32m      2\u001b[0m \u001b[0mdf_budget_per_month\u001b[0m \u001b[0;34m=\u001b[0m \u001b[0mdf\u001b[0m\u001b[0;34m.\u001b[0m\u001b[0mgroupby\u001b[0m\u001b[0;34m(\u001b[0m\u001b[0mby\u001b[0m\u001b[0;34m=\u001b[0m\u001b[0;34m\"Month_published\"\u001b[0m\u001b[0;34m)\u001b[0m\u001b[0;34m.\u001b[0m\u001b[0msum\u001b[0m\u001b[0;34m(\u001b[0m\u001b[0;34m)\u001b[0m\u001b[0;34m[\u001b[0m\u001b[0;34m[\u001b[0m\u001b[0;34m'budget'\u001b[0m\u001b[0;34m]\u001b[0m\u001b[0;34m]\u001b[0m\u001b[0;34m.\u001b[0m\u001b[0mreset_index\u001b[0m\u001b[0;34m(\u001b[0m\u001b[0;34m)\u001b[0m\u001b[0;34m\u001b[0m\u001b[0;34m\u001b[0m\u001b[0m\n",
      "\u001b[0;32m~/.pyenv/versions/3.8.12/envs/cinepred/lib/python3.8/site-packages/pandas/core/frame.py\u001b[0m in \u001b[0;36mgroupby\u001b[0;34m(self, by, axis, level, as_index, sort, group_keys, squeeze, observed, dropna)\u001b[0m\n\u001b[1;32m   7629\u001b[0m         \u001b[0;31m# error: Argument \"squeeze\" to \"DataFrameGroupBy\" has incompatible type\u001b[0m\u001b[0;34m\u001b[0m\u001b[0;34m\u001b[0m\u001b[0;34m\u001b[0m\u001b[0m\n\u001b[1;32m   7630\u001b[0m         \u001b[0;31m# \"Union[bool, NoDefault]\"; expected \"bool\"\u001b[0m\u001b[0;34m\u001b[0m\u001b[0;34m\u001b[0m\u001b[0;34m\u001b[0m\u001b[0m\n\u001b[0;32m-> 7631\u001b[0;31m         return DataFrameGroupBy(\n\u001b[0m\u001b[1;32m   7632\u001b[0m             \u001b[0mobj\u001b[0m\u001b[0;34m=\u001b[0m\u001b[0mself\u001b[0m\u001b[0;34m,\u001b[0m\u001b[0;34m\u001b[0m\u001b[0;34m\u001b[0m\u001b[0m\n\u001b[1;32m   7633\u001b[0m             \u001b[0mkeys\u001b[0m\u001b[0;34m=\u001b[0m\u001b[0mby\u001b[0m\u001b[0;34m,\u001b[0m\u001b[0;34m\u001b[0m\u001b[0;34m\u001b[0m\u001b[0m\n",
      "\u001b[0;32m~/.pyenv/versions/3.8.12/envs/cinepred/lib/python3.8/site-packages/pandas/core/groupby/groupby.py\u001b[0m in \u001b[0;36m__init__\u001b[0;34m(self, obj, keys, axis, level, grouper, exclusions, selection, as_index, sort, group_keys, squeeze, observed, mutated, dropna)\u001b[0m\n\u001b[1;32m    887\u001b[0m             \u001b[0;32mfrom\u001b[0m \u001b[0mpandas\u001b[0m\u001b[0;34m.\u001b[0m\u001b[0mcore\u001b[0m\u001b[0;34m.\u001b[0m\u001b[0mgroupby\u001b[0m\u001b[0;34m.\u001b[0m\u001b[0mgrouper\u001b[0m \u001b[0;32mimport\u001b[0m \u001b[0mget_grouper\u001b[0m\u001b[0;34m\u001b[0m\u001b[0;34m\u001b[0m\u001b[0m\n\u001b[1;32m    888\u001b[0m \u001b[0;34m\u001b[0m\u001b[0m\n\u001b[0;32m--> 889\u001b[0;31m             grouper, exclusions, obj = get_grouper(\n\u001b[0m\u001b[1;32m    890\u001b[0m                 \u001b[0mobj\u001b[0m\u001b[0;34m,\u001b[0m\u001b[0;34m\u001b[0m\u001b[0;34m\u001b[0m\u001b[0m\n\u001b[1;32m    891\u001b[0m                 \u001b[0mkeys\u001b[0m\u001b[0;34m,\u001b[0m\u001b[0;34m\u001b[0m\u001b[0;34m\u001b[0m\u001b[0m\n",
      "\u001b[0;32m~/.pyenv/versions/3.8.12/envs/cinepred/lib/python3.8/site-packages/pandas/core/groupby/grouper.py\u001b[0m in \u001b[0;36mget_grouper\u001b[0;34m(obj, key, axis, level, sort, observed, mutated, validate, dropna)\u001b[0m\n\u001b[1;32m    860\u001b[0m                 \u001b[0min_axis\u001b[0m\u001b[0;34m,\u001b[0m \u001b[0mlevel\u001b[0m\u001b[0;34m,\u001b[0m \u001b[0mgpr\u001b[0m \u001b[0;34m=\u001b[0m \u001b[0;32mFalse\u001b[0m\u001b[0;34m,\u001b[0m \u001b[0mgpr\u001b[0m\u001b[0;34m,\u001b[0m \u001b[0;32mNone\u001b[0m\u001b[0;34m\u001b[0m\u001b[0;34m\u001b[0m\u001b[0m\n\u001b[1;32m    861\u001b[0m             \u001b[0;32melse\u001b[0m\u001b[0;34m:\u001b[0m\u001b[0;34m\u001b[0m\u001b[0;34m\u001b[0m\u001b[0m\n\u001b[0;32m--> 862\u001b[0;31m                 \u001b[0;32mraise\u001b[0m \u001b[0mKeyError\u001b[0m\u001b[0;34m(\u001b[0m\u001b[0mgpr\u001b[0m\u001b[0;34m)\u001b[0m\u001b[0;34m\u001b[0m\u001b[0;34m\u001b[0m\u001b[0m\n\u001b[0m\u001b[1;32m    863\u001b[0m         \u001b[0;32melif\u001b[0m \u001b[0misinstance\u001b[0m\u001b[0;34m(\u001b[0m\u001b[0mgpr\u001b[0m\u001b[0;34m,\u001b[0m \u001b[0mGrouper\u001b[0m\u001b[0;34m)\u001b[0m \u001b[0;32mand\u001b[0m \u001b[0mgpr\u001b[0m\u001b[0;34m.\u001b[0m\u001b[0mkey\u001b[0m \u001b[0;32mis\u001b[0m \u001b[0;32mnot\u001b[0m \u001b[0;32mNone\u001b[0m\u001b[0;34m:\u001b[0m\u001b[0;34m\u001b[0m\u001b[0;34m\u001b[0m\u001b[0m\n\u001b[1;32m    864\u001b[0m             \u001b[0;31m# Add key to exclusions\u001b[0m\u001b[0;34m\u001b[0m\u001b[0;34m\u001b[0m\u001b[0;34m\u001b[0m\u001b[0m\n",
      "\u001b[0;31mKeyError\u001b[0m: 'Month_published'"
     ]
    }
   ],
   "source": [
    "df_revenue_per_month = df.groupby(by=\"Month_published\").sum()[['worlwide_gross_income']].reset_index()\n",
    "df_budget_per_month = df.groupby(by=\"Month_published\").sum()[['budget']].reset_index()"
   ]
  },
  {
   "cell_type": "code",
   "execution_count": null,
   "id": "1475a6c2",
   "metadata": {
    "ExecuteTime": {
     "end_time": "2021-11-26T10:06:47.124004Z",
     "start_time": "2021-11-26T10:06:47.123979Z"
    }
   },
   "outputs": [],
   "source": [
    "df_budget_revenue = df_revenue_per_month.merge(right =df_budget_per_month, how='right', on =\"Month_published\")"
   ]
  },
  {
   "cell_type": "code",
   "execution_count": 18,
   "id": "1da061fd",
   "metadata": {
    "ExecuteTime": {
     "end_time": "2021-11-26T10:06:47.289174Z",
     "start_time": "2021-11-26T10:06:47.250134Z"
    }
   },
   "outputs": [
    {
     "ename": "NameError",
     "evalue": "name 'df_budget_revenue' is not defined",
     "output_type": "error",
     "traceback": [
      "\u001b[0;31m---------------------------------------------------------------------------\u001b[0m",
      "\u001b[0;31mNameError\u001b[0m                                 Traceback (most recent call last)",
      "\u001b[0;32m/tmp/ipykernel_7239/2266962696.py\u001b[0m in \u001b[0;36m<module>\u001b[0;34m\u001b[0m\n\u001b[0;32m----> 1\u001b[0;31m \u001b[0mdf_budget_revenue\u001b[0m\u001b[0;34m\u001b[0m\u001b[0;34m\u001b[0m\u001b[0m\n\u001b[0m",
      "\u001b[0;31mNameError\u001b[0m: name 'df_budget_revenue' is not defined"
     ]
    }
   ],
   "source": [
    "df_budget_revenue"
   ]
  },
  {
   "cell_type": "code",
   "execution_count": 19,
   "id": "dcb4f5b5",
   "metadata": {
    "ExecuteTime": {
     "end_time": "2021-11-26T10:06:47.463361Z",
     "start_time": "2021-11-26T10:06:47.402346Z"
    },
    "scrolled": false
   },
   "outputs": [
    {
     "ename": "NameError",
     "evalue": "name 'df_budget_revenue' is not defined",
     "output_type": "error",
     "traceback": [
      "\u001b[0;31m---------------------------------------------------------------------------\u001b[0m",
      "\u001b[0;31mNameError\u001b[0m                                 Traceback (most recent call last)",
      "\u001b[0;32m/tmp/ipykernel_7239/147315925.py\u001b[0m in \u001b[0;36m<module>\u001b[0;34m\u001b[0m\n\u001b[1;32m      1\u001b[0m \u001b[0mplt\u001b[0m\u001b[0;34m.\u001b[0m\u001b[0mfigure\u001b[0m\u001b[0;34m(\u001b[0m\u001b[0mfigsize\u001b[0m\u001b[0;34m=\u001b[0m\u001b[0;34m(\u001b[0m\u001b[0;36m16\u001b[0m\u001b[0;34m,\u001b[0m\u001b[0;36m9\u001b[0m\u001b[0;34m)\u001b[0m\u001b[0;34m)\u001b[0m\u001b[0;34m\u001b[0m\u001b[0;34m\u001b[0m\u001b[0m\n\u001b[0;32m----> 2\u001b[0;31m \u001b[0msns\u001b[0m\u001b[0;34m.\u001b[0m\u001b[0mbarplot\u001b[0m\u001b[0;34m(\u001b[0m\u001b[0mx\u001b[0m \u001b[0;34m=\u001b[0m \u001b[0mdf_budget_revenue\u001b[0m\u001b[0;34m[\u001b[0m\u001b[0;34m'Month_published'\u001b[0m\u001b[0;34m]\u001b[0m \u001b[0;34m,\u001b[0m\u001b[0my\u001b[0m \u001b[0;34m=\u001b[0m \u001b[0mdf_budget_revenue\u001b[0m\u001b[0;34m[\u001b[0m\u001b[0;34m\"worlwide_gross_income\"\u001b[0m\u001b[0;34m]\u001b[0m\u001b[0;34m)\u001b[0m\u001b[0;34m\u001b[0m\u001b[0;34m\u001b[0m\u001b[0m\n\u001b[0m",
      "\u001b[0;31mNameError\u001b[0m: name 'df_budget_revenue' is not defined"
     ]
    },
    {
     "data": {
      "text/plain": [
       "<Figure size 1152x648 with 0 Axes>"
      ]
     },
     "metadata": {},
     "output_type": "display_data"
    }
   ],
   "source": [
    "plt.figure(figsize=(16,9))\n",
    "sns.barplot(x = df_budget_revenue['Month_published'] ,y = df_budget_revenue[\"worlwide_gross_income\"])"
   ]
  },
  {
   "cell_type": "code",
   "execution_count": 20,
   "id": "0fef7a4d",
   "metadata": {
    "ExecuteTime": {
     "end_time": "2021-11-26T10:06:47.653689Z",
     "start_time": "2021-11-26T10:06:47.568564Z"
    },
    "scrolled": false
   },
   "outputs": [
    {
     "ename": "KeyError",
     "evalue": "'Month_published'",
     "output_type": "error",
     "traceback": [
      "\u001b[0;31m---------------------------------------------------------------------------\u001b[0m",
      "\u001b[0;31mKeyError\u001b[0m                                  Traceback (most recent call last)",
      "\u001b[0;32m~/.pyenv/versions/3.8.12/envs/cinepred/lib/python3.8/site-packages/pandas/core/indexes/base.py\u001b[0m in \u001b[0;36mget_loc\u001b[0;34m(self, key, method, tolerance)\u001b[0m\n\u001b[1;32m   3360\u001b[0m             \u001b[0;32mtry\u001b[0m\u001b[0;34m:\u001b[0m\u001b[0;34m\u001b[0m\u001b[0;34m\u001b[0m\u001b[0m\n\u001b[0;32m-> 3361\u001b[0;31m                 \u001b[0;32mreturn\u001b[0m \u001b[0mself\u001b[0m\u001b[0;34m.\u001b[0m\u001b[0m_engine\u001b[0m\u001b[0;34m.\u001b[0m\u001b[0mget_loc\u001b[0m\u001b[0;34m(\u001b[0m\u001b[0mcasted_key\u001b[0m\u001b[0;34m)\u001b[0m\u001b[0;34m\u001b[0m\u001b[0;34m\u001b[0m\u001b[0m\n\u001b[0m\u001b[1;32m   3362\u001b[0m             \u001b[0;32mexcept\u001b[0m \u001b[0mKeyError\u001b[0m \u001b[0;32mas\u001b[0m \u001b[0merr\u001b[0m\u001b[0;34m:\u001b[0m\u001b[0;34m\u001b[0m\u001b[0;34m\u001b[0m\u001b[0m\n",
      "\u001b[0;32m~/.pyenv/versions/3.8.12/envs/cinepred/lib/python3.8/site-packages/pandas/_libs/index.pyx\u001b[0m in \u001b[0;36mpandas._libs.index.IndexEngine.get_loc\u001b[0;34m()\u001b[0m\n",
      "\u001b[0;32m~/.pyenv/versions/3.8.12/envs/cinepred/lib/python3.8/site-packages/pandas/_libs/index.pyx\u001b[0m in \u001b[0;36mpandas._libs.index.IndexEngine.get_loc\u001b[0;34m()\u001b[0m\n",
      "\u001b[0;32mpandas/_libs/hashtable_class_helper.pxi\u001b[0m in \u001b[0;36mpandas._libs.hashtable.PyObjectHashTable.get_item\u001b[0;34m()\u001b[0m\n",
      "\u001b[0;32mpandas/_libs/hashtable_class_helper.pxi\u001b[0m in \u001b[0;36mpandas._libs.hashtable.PyObjectHashTable.get_item\u001b[0;34m()\u001b[0m\n",
      "\u001b[0;31mKeyError\u001b[0m: 'Month_published'",
      "\nThe above exception was the direct cause of the following exception:\n",
      "\u001b[0;31mKeyError\u001b[0m                                  Traceback (most recent call last)",
      "\u001b[0;32m/tmp/ipykernel_7239/694853457.py\u001b[0m in \u001b[0;36m<module>\u001b[0;34m\u001b[0m\n\u001b[1;32m      1\u001b[0m \u001b[0mplt\u001b[0m\u001b[0;34m.\u001b[0m\u001b[0mfigure\u001b[0m\u001b[0;34m(\u001b[0m\u001b[0mfigsize\u001b[0m\u001b[0;34m=\u001b[0m\u001b[0;34m(\u001b[0m\u001b[0;36m16\u001b[0m\u001b[0;34m,\u001b[0m\u001b[0;36m9\u001b[0m\u001b[0;34m)\u001b[0m\u001b[0;34m)\u001b[0m\u001b[0;34m\u001b[0m\u001b[0;34m\u001b[0m\u001b[0m\n\u001b[1;32m      2\u001b[0m \u001b[0;34m\u001b[0m\u001b[0m\n\u001b[0;32m----> 3\u001b[0;31m \u001b[0msns\u001b[0m\u001b[0;34m.\u001b[0m\u001b[0mhistplot\u001b[0m\u001b[0;34m(\u001b[0m\u001b[0mdf\u001b[0m\u001b[0;34m[\u001b[0m\u001b[0;34m'Month_published'\u001b[0m\u001b[0;34m]\u001b[0m\u001b[0;34m,\u001b[0m \u001b[0mbins\u001b[0m\u001b[0;34m=\u001b[0m\u001b[0;36m12\u001b[0m\u001b[0;34m)\u001b[0m\u001b[0;34m\u001b[0m\u001b[0;34m\u001b[0m\u001b[0m\n\u001b[0m",
      "\u001b[0;32m~/.pyenv/versions/3.8.12/envs/cinepred/lib/python3.8/site-packages/pandas/core/frame.py\u001b[0m in \u001b[0;36m__getitem__\u001b[0;34m(self, key)\u001b[0m\n\u001b[1;32m   3456\u001b[0m             \u001b[0;32mif\u001b[0m \u001b[0mself\u001b[0m\u001b[0;34m.\u001b[0m\u001b[0mcolumns\u001b[0m\u001b[0;34m.\u001b[0m\u001b[0mnlevels\u001b[0m \u001b[0;34m>\u001b[0m \u001b[0;36m1\u001b[0m\u001b[0;34m:\u001b[0m\u001b[0;34m\u001b[0m\u001b[0;34m\u001b[0m\u001b[0m\n\u001b[1;32m   3457\u001b[0m                 \u001b[0;32mreturn\u001b[0m \u001b[0mself\u001b[0m\u001b[0;34m.\u001b[0m\u001b[0m_getitem_multilevel\u001b[0m\u001b[0;34m(\u001b[0m\u001b[0mkey\u001b[0m\u001b[0;34m)\u001b[0m\u001b[0;34m\u001b[0m\u001b[0;34m\u001b[0m\u001b[0m\n\u001b[0;32m-> 3458\u001b[0;31m             \u001b[0mindexer\u001b[0m \u001b[0;34m=\u001b[0m \u001b[0mself\u001b[0m\u001b[0;34m.\u001b[0m\u001b[0mcolumns\u001b[0m\u001b[0;34m.\u001b[0m\u001b[0mget_loc\u001b[0m\u001b[0;34m(\u001b[0m\u001b[0mkey\u001b[0m\u001b[0;34m)\u001b[0m\u001b[0;34m\u001b[0m\u001b[0;34m\u001b[0m\u001b[0m\n\u001b[0m\u001b[1;32m   3459\u001b[0m             \u001b[0;32mif\u001b[0m \u001b[0mis_integer\u001b[0m\u001b[0;34m(\u001b[0m\u001b[0mindexer\u001b[0m\u001b[0;34m)\u001b[0m\u001b[0;34m:\u001b[0m\u001b[0;34m\u001b[0m\u001b[0;34m\u001b[0m\u001b[0m\n\u001b[1;32m   3460\u001b[0m                 \u001b[0mindexer\u001b[0m \u001b[0;34m=\u001b[0m \u001b[0;34m[\u001b[0m\u001b[0mindexer\u001b[0m\u001b[0;34m]\u001b[0m\u001b[0;34m\u001b[0m\u001b[0;34m\u001b[0m\u001b[0m\n",
      "\u001b[0;32m~/.pyenv/versions/3.8.12/envs/cinepred/lib/python3.8/site-packages/pandas/core/indexes/base.py\u001b[0m in \u001b[0;36mget_loc\u001b[0;34m(self, key, method, tolerance)\u001b[0m\n\u001b[1;32m   3361\u001b[0m                 \u001b[0;32mreturn\u001b[0m \u001b[0mself\u001b[0m\u001b[0;34m.\u001b[0m\u001b[0m_engine\u001b[0m\u001b[0;34m.\u001b[0m\u001b[0mget_loc\u001b[0m\u001b[0;34m(\u001b[0m\u001b[0mcasted_key\u001b[0m\u001b[0;34m)\u001b[0m\u001b[0;34m\u001b[0m\u001b[0;34m\u001b[0m\u001b[0m\n\u001b[1;32m   3362\u001b[0m             \u001b[0;32mexcept\u001b[0m \u001b[0mKeyError\u001b[0m \u001b[0;32mas\u001b[0m \u001b[0merr\u001b[0m\u001b[0;34m:\u001b[0m\u001b[0;34m\u001b[0m\u001b[0;34m\u001b[0m\u001b[0m\n\u001b[0;32m-> 3363\u001b[0;31m                 \u001b[0;32mraise\u001b[0m \u001b[0mKeyError\u001b[0m\u001b[0;34m(\u001b[0m\u001b[0mkey\u001b[0m\u001b[0;34m)\u001b[0m \u001b[0;32mfrom\u001b[0m \u001b[0merr\u001b[0m\u001b[0;34m\u001b[0m\u001b[0;34m\u001b[0m\u001b[0m\n\u001b[0m\u001b[1;32m   3364\u001b[0m \u001b[0;34m\u001b[0m\u001b[0m\n\u001b[1;32m   3365\u001b[0m         \u001b[0;32mif\u001b[0m \u001b[0mis_scalar\u001b[0m\u001b[0;34m(\u001b[0m\u001b[0mkey\u001b[0m\u001b[0;34m)\u001b[0m \u001b[0;32mand\u001b[0m \u001b[0misna\u001b[0m\u001b[0;34m(\u001b[0m\u001b[0mkey\u001b[0m\u001b[0;34m)\u001b[0m \u001b[0;32mand\u001b[0m \u001b[0;32mnot\u001b[0m \u001b[0mself\u001b[0m\u001b[0;34m.\u001b[0m\u001b[0mhasnans\u001b[0m\u001b[0;34m:\u001b[0m\u001b[0;34m\u001b[0m\u001b[0;34m\u001b[0m\u001b[0m\n",
      "\u001b[0;31mKeyError\u001b[0m: 'Month_published'"
     ]
    },
    {
     "data": {
      "text/plain": [
       "<Figure size 1152x648 with 0 Axes>"
      ]
     },
     "metadata": {},
     "output_type": "display_data"
    }
   ],
   "source": [
    "plt.figure(figsize=(16,9))\n",
    "\n",
    "sns.histplot(df['Month_published'], bins=12)"
   ]
  },
  {
   "cell_type": "markdown",
   "id": "c82a00c9",
   "metadata": {},
   "source": [
    "# Features"
   ]
  },
  {
   "cell_type": "markdown",
   "id": "155a48f9",
   "metadata": {},
   "source": [
    "## Films par acteurs"
   ]
  },
  {
   "cell_type": "code",
   "execution_count": null,
   "id": "f1de786e",
   "metadata": {
    "ExecuteTime": {
     "end_time": "2021-11-26T10:06:06.766659Z",
     "start_time": "2021-11-26T10:06:06.766617Z"
    }
   },
   "outputs": [],
   "source": [
    "len(liste_acteurs)"
   ]
  },
  {
   "cell_type": "code",
   "execution_count": null,
   "id": "4d93ae4a",
   "metadata": {
    "ExecuteTime": {
     "end_time": "2021-11-26T10:06:06.769617Z",
     "start_time": "2021-11-26T10:06:06.769583Z"
    }
   },
   "outputs": [],
   "source": [
    "liste_complete = list(dict.fromkeys(liste_complete))"
   ]
  },
  {
   "cell_type": "code",
   "execution_count": null,
   "id": "0b57abf7",
   "metadata": {
    "ExecuteTime": {
     "end_time": "2021-11-26T10:06:06.773056Z",
     "start_time": "2021-11-26T10:06:06.773028Z"
    }
   },
   "outputs": [],
   "source": [
    "df_actor_title = df[['actors','title','year','Month_published','budget','worlwide_gross_income']]\n",
    "df_actor_title['actors'].str.split(', ')"
   ]
  },
  {
   "cell_type": "markdown",
   "id": "e26d00a2",
   "metadata": {},
   "source": [
    "# Merge des deux dataframe"
   ]
  },
  {
   "cell_type": "code",
   "execution_count": null,
   "id": "abf53d85",
   "metadata": {
    "ExecuteTime": {
     "end_time": "2021-11-26T10:06:06.776167Z",
     "start_time": "2021-11-26T10:06:06.776081Z"
    }
   },
   "outputs": [],
   "source": [
    "acteurs_df = pd.read_csv('../raw_data/cat_acteur.csv')"
   ]
  },
  {
   "cell_type": "code",
   "execution_count": null,
   "id": "af2f1cfc",
   "metadata": {
    "ExecuteTime": {
     "end_time": "2021-11-26T10:06:06.779499Z",
     "start_time": "2021-11-26T10:06:06.779405Z"
    }
   },
   "outputs": [],
   "source": [
    "acteurs_df"
   ]
  },
  {
   "cell_type": "code",
   "execution_count": null,
   "id": "8f54bf4e",
   "metadata": {
    "ExecuteTime": {
     "end_time": "2021-11-26T10:06:06.782423Z",
     "start_time": "2021-11-26T10:06:06.782396Z"
    }
   },
   "outputs": [],
   "source": [
    "acteurs_df['ratio'] = acteurs_df['income']/acteurs_df['budget']"
   ]
  },
  {
   "cell_type": "code",
   "execution_count": null,
   "id": "ded7e589",
   "metadata": {
    "ExecuteTime": {
     "end_time": "2021-11-26T10:06:06.786410Z",
     "start_time": "2021-11-26T10:06:06.786382Z"
    }
   },
   "outputs": [],
   "source": [
    "acteurs_df_cat = acteurs_df.loc[(acteurs_df['ratio']>=5) & (acteurs_df['budget'] >= 100_000_000)]"
   ]
  },
  {
   "cell_type": "code",
   "execution_count": null,
   "id": "19ceb391",
   "metadata": {
    "ExecuteTime": {
     "end_time": "2021-11-26T10:06:06.789496Z",
     "start_time": "2021-11-26T10:06:06.789467Z"
    }
   },
   "outputs": [],
   "source": [
    "len(acteurs_df_cat['acteur_name'].unique())"
   ]
  },
  {
   "cell_type": "code",
   "execution_count": null,
   "id": "80621bf4",
   "metadata": {
    "ExecuteTime": {
     "end_time": "2021-11-26T10:06:06.793406Z",
     "start_time": "2021-11-26T10:06:06.793380Z"
    }
   },
   "outputs": [],
   "source": [
    "acteurs_df_cat[['acteur_name','budget']].groupby(by='acteur_name').sum().sort_values(by=\"budget\", ascending=False).head(159)"
   ]
  },
  {
   "cell_type": "code",
   "execution_count": null,
   "id": "9c7a765b",
   "metadata": {
    "ExecuteTime": {
     "end_time": "2021-11-26T10:06:06.796221Z",
     "start_time": "2021-11-26T10:06:06.796181Z"
    }
   },
   "outputs": [],
   "source": [
    "top_tier_actor_df = acteurs_df.groupby(by=\"acteur_name\").sum()[['budget']].sort_values(\"budget\", ascending=False)"
   ]
  },
  {
   "cell_type": "code",
   "execution_count": null,
   "id": "4d62d5cb",
   "metadata": {
    "ExecuteTime": {
     "end_time": "2021-11-26T10:06:06.798853Z",
     "start_time": "2021-11-26T10:06:06.798815Z"
    }
   },
   "outputs": [],
   "source": [
    "top_tier_actor_df"
   ]
  },
  {
   "cell_type": "code",
   "execution_count": null,
   "id": "004798e8",
   "metadata": {
    "ExecuteTime": {
     "end_time": "2021-11-26T10:06:06.803597Z",
     "start_time": "2021-11-26T10:06:06.803524Z"
    }
   },
   "outputs": [],
   "source": [
    "def connupaconnu(X, ratio = 3):\n",
    "    if (X['budget'] >= 100_000_000) & (X['ratio'] >= 3):\n",
    "        return 1\n",
    "    return 0"
   ]
  },
  {
   "cell_type": "code",
   "execution_count": null,
   "id": "7fc0ae85",
   "metadata": {
    "ExecuteTime": {
     "end_time": "2021-11-26T10:06:06.807947Z",
     "start_time": "2021-11-26T10:06:06.807919Z"
    }
   },
   "outputs": [],
   "source": [
    "acteurs_df.sort_values('year', ascending=True, inplace= True)"
   ]
  },
  {
   "cell_type": "code",
   "execution_count": null,
   "id": "cd7bb8ad",
   "metadata": {
    "ExecuteTime": {
     "end_time": "2021-11-26T10:06:06.809675Z",
     "start_time": "2021-11-26T10:06:06.809642Z"
    }
   },
   "outputs": [],
   "source": [
    "acteurs_df['connu'] = acteurs_df.apply(connupaconnu, axis = 1)"
   ]
  },
  {
   "cell_type": "code",
   "execution_count": null,
   "id": "bfea6c71",
   "metadata": {
    "ExecuteTime": {
     "end_time": "2021-11-26T10:06:06.813060Z",
     "start_time": "2021-11-26T10:06:06.813034Z"
    }
   },
   "outputs": [],
   "source": [
    "acteurs_df['nbsucces'] = acteurs_df['connu']"
   ]
  },
  {
   "cell_type": "code",
   "execution_count": null,
   "id": "ed664c9f",
   "metadata": {
    "ExecuteTime": {
     "end_time": "2021-11-26T10:06:06.817155Z",
     "start_time": "2021-11-26T10:06:06.817126Z"
    }
   },
   "outputs": [],
   "source": [
    "new_df = acteurs_df"
   ]
  },
  {
   "cell_type": "code",
   "execution_count": null,
   "id": "eb9bec2d",
   "metadata": {
    "ExecuteTime": {
     "end_time": "2021-11-26T10:06:06.819487Z",
     "start_time": "2021-11-26T10:06:06.819447Z"
    }
   },
   "outputs": [],
   "source": [
    "new_df['nbsuccess'] = acteurs_df.groupby(by  ='acteur_name')['connu'].cumsum(axis = 0)"
   ]
  },
  {
   "cell_type": "code",
   "execution_count": null,
   "id": "a91a8235",
   "metadata": {
    "ExecuteTime": {
     "end_time": "2021-11-26T10:06:06.823052Z",
     "start_time": "2021-11-26T10:06:06.823003Z"
    }
   },
   "outputs": [],
   "source": [
    "new_df = new_df.sort_values('year', ascending=True)"
   ]
  },
  {
   "cell_type": "code",
   "execution_count": null,
   "id": "436e3a4f",
   "metadata": {
    "ExecuteTime": {
     "end_time": "2021-11-26T10:06:06.826126Z",
     "start_time": "2021-11-26T10:06:06.826098Z"
    }
   },
   "outputs": [],
   "source": [
    "new_df.drop(columns='nbsucces', inplace = True)"
   ]
  },
  {
   "cell_type": "code",
   "execution_count": null,
   "id": "06169f7f",
   "metadata": {
    "ExecuteTime": {
     "end_time": "2021-11-26T10:06:06.829680Z",
     "start_time": "2021-11-26T10:06:06.829652Z"
    }
   },
   "outputs": [],
   "source": [
    "new_df['connu2'] = new_df['nbsuccess'].apply(lambda x : 1 if x >=1 else 0)"
   ]
  },
  {
   "cell_type": "code",
   "execution_count": null,
   "id": "c937fcfc",
   "metadata": {
    "ExecuteTime": {
     "end_time": "2021-11-26T10:06:06.832922Z",
     "start_time": "2021-11-26T10:06:06.832893Z"
    }
   },
   "outputs": [],
   "source": [
    "new_df.drop(columns=\"connu\", inplace = True)"
   ]
  },
  {
   "cell_type": "code",
   "execution_count": null,
   "id": "e6e93bd7",
   "metadata": {
    "ExecuteTime": {
     "end_time": "2021-11-26T10:06:06.837387Z",
     "start_time": "2021-11-26T10:06:06.837359Z"
    }
   },
   "outputs": [],
   "source": [
    "new_df.rename(columns={\"connu2\" : \"connu\"}, inplace=True)"
   ]
  },
  {
   "cell_type": "code",
   "execution_count": null,
   "id": "a49289b3",
   "metadata": {
    "ExecuteTime": {
     "end_time": "2021-11-26T10:06:06.841004Z",
     "start_time": "2021-11-26T10:06:06.840978Z"
    }
   },
   "outputs": [],
   "source": [
    "new_df[new_df['acteur_name'].str.contains('Chris Evans')]"
   ]
  },
  {
   "cell_type": "code",
   "execution_count": null,
   "id": "9e6a2f57",
   "metadata": {
    "ExecuteTime": {
     "end_time": "2021-11-26T10:06:06.843463Z",
     "start_time": "2021-11-26T10:06:06.843437Z"
    }
   },
   "outputs": [],
   "source": [
    "new_df['totalsuccess'] = new_df.groupby(by = 'title').cumsum()['shifted']"
   ]
  },
  {
   "cell_type": "code",
   "execution_count": null,
   "id": "09417097",
   "metadata": {
    "ExecuteTime": {
     "end_time": "2021-11-26T10:06:06.846618Z",
     "start_time": "2021-11-26T10:06:06.846576Z"
    }
   },
   "outputs": [],
   "source": [
    "new_df"
   ]
  },
  {
   "cell_type": "code",
   "execution_count": null,
   "id": "1db03fa2",
   "metadata": {
    "ExecuteTime": {
     "end_time": "2021-11-26T10:06:06.849785Z",
     "start_time": "2021-11-26T10:06:06.849742Z"
    }
   },
   "outputs": [],
   "source": [
    "total_success = pd.DataFrame(new_df.groupby(['title'], sort = False)['shifted'].max())"
   ]
  },
  {
   "cell_type": "code",
   "execution_count": null,
   "id": "9625e1ed",
   "metadata": {
    "ExecuteTime": {
     "end_time": "2021-11-26T10:06:06.853296Z",
     "start_time": "2021-11-26T10:06:06.853267Z"
    }
   },
   "outputs": [],
   "source": [
    "total_success.reset_index(inplace = True)"
   ]
  },
  {
   "cell_type": "code",
   "execution_count": null,
   "id": "553473f4",
   "metadata": {
    "ExecuteTime": {
     "end_time": "2021-11-26T10:06:06.856555Z",
     "start_time": "2021-11-26T10:06:06.856528Z"
    }
   },
   "outputs": [],
   "source": [
    "total_success"
   ]
  },
  {
   "cell_type": "code",
   "execution_count": null,
   "id": "7be577e6",
   "metadata": {
    "ExecuteTime": {
     "end_time": "2021-11-26T10:06:06.858621Z",
     "start_time": "2021-11-26T10:06:06.858594Z"
    }
   },
   "outputs": [],
   "source": [
    "df = df.merge(right=total_success, on='title', how = \"right\")"
   ]
  },
  {
   "cell_type": "code",
   "execution_count": null,
   "id": "babfe3fb",
   "metadata": {
    "ExecuteTime": {
     "end_time": "2021-11-26T10:06:06.861204Z",
     "start_time": "2021-11-26T10:06:06.861153Z"
    },
    "scrolled": true
   },
   "outputs": [],
   "source": [
    "df"
   ]
  },
  {
   "cell_type": "markdown",
   "id": "d6d52c01",
   "metadata": {},
   "source": [
    "## Recherche par titre de films"
   ]
  },
  {
   "cell_type": "code",
   "execution_count": null,
   "id": "3adf74f3",
   "metadata": {
    "ExecuteTime": {
     "end_time": "2021-11-26T10:06:06.864399Z",
     "start_time": "2021-11-26T10:06:06.864370Z"
    }
   },
   "outputs": [],
   "source": [
    "total_success[total_success['title'].str.contains('Fast')]"
   ]
  },
  {
   "cell_type": "markdown",
   "id": "0e086e09",
   "metadata": {},
   "source": [
    "## Recherche par nom d'acteur"
   ]
  },
  {
   "cell_type": "code",
   "execution_count": null,
   "id": "593df88b",
   "metadata": {
    "ExecuteTime": {
     "end_time": "2021-11-26T10:06:06.868248Z",
     "start_time": "2021-11-26T10:06:06.868211Z"
    }
   },
   "outputs": [],
   "source": [
    "df[['actors','title','shifted']][df['actors'].str.contains('Leonardo DiCaprio')]"
   ]
  },
  {
   "cell_type": "markdown",
   "id": "10bae86f",
   "metadata": {},
   "source": [
    "# testing"
   ]
  },
  {
   "cell_type": "code",
   "execution_count": null,
   "id": "92b3946a",
   "metadata": {},
   "outputs": [],
   "source": []
  }
 ],
 "metadata": {
  "kernelspec": {
   "display_name": "Python 3 (ipykernel)",
   "language": "python",
   "name": "python3"
  },
  "language_info": {
   "codemirror_mode": {
    "name": "ipython",
    "version": 3
   },
   "file_extension": ".py",
   "mimetype": "text/x-python",
   "name": "python",
   "nbconvert_exporter": "python",
   "pygments_lexer": "ipython3",
   "version": "3.8.12"
  },
  "toc": {
   "base_numbering": 1,
   "nav_menu": {},
   "number_sections": true,
   "sideBar": true,
   "skip_h1_title": false,
   "title_cell": "Table of Contents",
   "title_sidebar": "Contents",
   "toc_cell": false,
   "toc_position": {
    "height": "calc(100% - 180px)",
    "left": "10px",
    "top": "150px",
    "width": "341.333px"
   },
   "toc_section_display": true,
   "toc_window_display": true
  },
  "varInspector": {
   "cols": {
    "lenName": 16,
    "lenType": 16,
    "lenVar": 40
   },
   "kernels_config": {
    "python": {
     "delete_cmd_postfix": "",
     "delete_cmd_prefix": "del ",
     "library": "var_list.py",
     "varRefreshCmd": "print(var_dic_list())"
    },
    "r": {
     "delete_cmd_postfix": ") ",
     "delete_cmd_prefix": "rm(",
     "library": "var_list.r",
     "varRefreshCmd": "cat(var_dic_list()) "
    }
   },
   "types_to_exclude": [
    "module",
    "function",
    "builtin_function_or_method",
    "instance",
    "_Feature"
   ],
   "window_display": false
  }
 },
 "nbformat": 4,
 "nbformat_minor": 5
}
