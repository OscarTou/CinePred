{
 "cells": [
  {
   "cell_type": "code",
   "execution_count": 9,
   "id": "fb43d975",
   "metadata": {},
   "outputs": [],
   "source": [
    "import pandas as pd\n",
    "import matplotlib.pyplot as plt\n",
    "import seaborn as sns"
   ]
  },
  {
   "cell_type": "code",
   "execution_count": 34,
   "id": "ecaf858f",
   "metadata": {},
   "outputs": [
    {
     "name": "stderr",
     "output_type": "stream",
     "text": [
      "/home/pierre/.pyenv/versions/3.8.12/envs/cinepred/lib/python3.8/site-packages/IPython/core/interactiveshell.py:3444: DtypeWarning: Columns (3) have mixed types.Specify dtype option on import or set low_memory=False.\n",
      "  exec(code_obj, self.user_global_ns, self.user_ns)\n"
     ]
    }
   ],
   "source": [
    "df = pd.read_csv('../raw_data/IMDb movies.csv')\n",
    "names = pd.read_csv('../raw_data/IMDb names.csv')"
   ]
  },
  {
   "cell_type": "code",
   "execution_count": 38,
   "id": "8ec3db1b",
   "metadata": {},
   "outputs": [],
   "source": [
    "ratings = pd.read_csv('../raw_data/IMDb ratings.csv')"
   ]
  },
  {
   "cell_type": "markdown",
   "id": "632c2c15",
   "metadata": {
    "heading_collapsed": true
   },
   "source": [
    "### Exploration of movies.csv"
   ]
  },
  {
   "cell_type": "code",
   "execution_count": 19,
   "id": "eb12ebda",
   "metadata": {
    "hidden": true
   },
   "outputs": [
    {
     "data": {
      "text/plain": [
       "Index(['imdb_title_id', 'title', 'original_title', 'year', 'date_published',\n",
       "       'genre', 'duration', 'country', 'language', 'director', 'writer',\n",
       "       'production_company', 'actors', 'description', 'avg_vote', 'votes',\n",
       "       'budget', 'usa_gross_income', 'worlwide_gross_income', 'metascore',\n",
       "       'reviews_from_users', 'reviews_from_critics'],\n",
       "      dtype='object')"
      ]
     },
     "execution_count": 19,
     "metadata": {},
     "output_type": "execute_result"
    }
   ],
   "source": [
    "df.columns"
   ]
  },
  {
   "cell_type": "code",
   "execution_count": 20,
   "id": "6fe9f53b",
   "metadata": {
    "collapsed": true,
    "hidden": true
   },
   "outputs": [
    {
     "data": {
      "text/plain": [
       "imdb_title_id             object\n",
       "title                     object\n",
       "original_title            object\n",
       "year                      object\n",
       "date_published            object\n",
       "genre                     object\n",
       "duration                   int64\n",
       "country                   object\n",
       "language                  object\n",
       "director                  object\n",
       "writer                    object\n",
       "production_company        object\n",
       "actors                    object\n",
       "description               object\n",
       "avg_vote                 float64\n",
       "votes                      int64\n",
       "budget                    object\n",
       "usa_gross_income          object\n",
       "worlwide_gross_income     object\n",
       "metascore                float64\n",
       "reviews_from_users       float64\n",
       "reviews_from_critics     float64\n",
       "dtype: object"
      ]
     },
     "execution_count": 20,
     "metadata": {},
     "output_type": "execute_result"
    }
   ],
   "source": [
    "df.dtypes"
   ]
  },
  {
   "cell_type": "code",
   "execution_count": 21,
   "id": "b318c720",
   "metadata": {
    "hidden": true
   },
   "outputs": [
    {
     "data": {
      "text/plain": [
       "(85855, 22)"
      ]
     },
     "execution_count": 21,
     "metadata": {},
     "output_type": "execute_result"
    }
   ],
   "source": [
    "df.shape"
   ]
  },
  {
   "cell_type": "code",
   "execution_count": 18,
   "id": "985df7c5",
   "metadata": {
    "hidden": true
   },
   "outputs": [
    {
     "data": {
      "text/plain": [
       "0.7238367014151768"
      ]
     },
     "execution_count": 18,
     "metadata": {},
     "output_type": "execute_result"
    }
   ],
   "source": [
    "df.budget.isnull().sum() / len(df.budget)"
   ]
  },
  {
   "cell_type": "code",
   "execution_count": 30,
   "id": "34d50409",
   "metadata": {
    "hidden": true
   },
   "outputs": [
    {
     "data": {
      "text/plain": [
       "0.6387397356007222"
      ]
     },
     "execution_count": 30,
     "metadata": {},
     "output_type": "execute_result"
    }
   ],
   "source": [
    "df.worlwide_gross_income.isnull().sum() / len(df.worlwide_gross_income)"
   ]
  },
  {
   "cell_type": "code",
   "execution_count": 33,
   "id": "6f2d6960",
   "metadata": {
    "hidden": true
   },
   "outputs": [
    {
     "data": {
      "text/plain": [
       "0.8214897210412906"
      ]
     },
     "execution_count": 33,
     "metadata": {},
     "output_type": "execute_result"
    }
   ],
   "source": [
    "df.usa_gross_income.isnull().sum() / len(df.usa_gross_income)"
   ]
  },
  {
   "cell_type": "code",
   "execution_count": 25,
   "id": "e75cdbb4",
   "metadata": {
    "hidden": true
   },
   "outputs": [
    {
     "data": {
      "text/plain": [
       "4907"
      ]
     },
     "execution_count": 25,
     "metadata": {},
     "output_type": "execute_result"
    }
   ],
   "source": [
    "df.country.nunique()"
   ]
  },
  {
   "cell_type": "code",
   "execution_count": 29,
   "id": "a4c3c1b6",
   "metadata": {
    "hidden": true
   },
   "outputs": [
    {
     "data": {
      "text/plain": [
       "(28511, 22)"
      ]
     },
     "execution_count": 29,
     "metadata": {},
     "output_type": "execute_result"
    }
   ],
   "source": [
    "df[df.country == 'USA'].shape"
   ]
  },
  {
   "cell_type": "markdown",
   "id": "9aaee69f",
   "metadata": {
    "heading_collapsed": true
   },
   "source": [
    "### Exploration of names.csv"
   ]
  },
  {
   "cell_type": "code",
   "execution_count": 35,
   "id": "49465e9a",
   "metadata": {
    "hidden": true
   },
   "outputs": [
    {
     "data": {
      "text/plain": [
       "(297705, 17)"
      ]
     },
     "execution_count": 35,
     "metadata": {},
     "output_type": "execute_result"
    }
   ],
   "source": [
    "names.shape"
   ]
  },
  {
   "cell_type": "code",
   "execution_count": 36,
   "id": "654ef19f",
   "metadata": {
    "hidden": true
   },
   "outputs": [
    {
     "data": {
      "text/plain": [
       "Index(['imdb_name_id', 'name', 'birth_name', 'height', 'bio', 'birth_details',\n",
       "       'date_of_birth', 'place_of_birth', 'death_details', 'date_of_death',\n",
       "       'place_of_death', 'reason_of_death', 'spouses_string', 'spouses',\n",
       "       'divorces', 'spouses_with_children', 'children'],\n",
       "      dtype='object')"
      ]
     },
     "execution_count": 36,
     "metadata": {},
     "output_type": "execute_result"
    }
   ],
   "source": [
    "names.columns"
   ]
  },
  {
   "cell_type": "code",
   "execution_count": 37,
   "id": "84884b01",
   "metadata": {
    "hidden": true
   },
   "outputs": [
    {
     "data": {
      "text/html": [
       "<div>\n",
       "<style scoped>\n",
       "    .dataframe tbody tr th:only-of-type {\n",
       "        vertical-align: middle;\n",
       "    }\n",
       "\n",
       "    .dataframe tbody tr th {\n",
       "        vertical-align: top;\n",
       "    }\n",
       "\n",
       "    .dataframe thead th {\n",
       "        text-align: right;\n",
       "    }\n",
       "</style>\n",
       "<table border=\"1\" class=\"dataframe\">\n",
       "  <thead>\n",
       "    <tr style=\"text-align: right;\">\n",
       "      <th></th>\n",
       "      <th>imdb_name_id</th>\n",
       "      <th>name</th>\n",
       "      <th>birth_name</th>\n",
       "      <th>height</th>\n",
       "      <th>bio</th>\n",
       "      <th>birth_details</th>\n",
       "      <th>date_of_birth</th>\n",
       "      <th>place_of_birth</th>\n",
       "      <th>death_details</th>\n",
       "      <th>date_of_death</th>\n",
       "      <th>place_of_death</th>\n",
       "      <th>reason_of_death</th>\n",
       "      <th>spouses_string</th>\n",
       "      <th>spouses</th>\n",
       "      <th>divorces</th>\n",
       "      <th>spouses_with_children</th>\n",
       "      <th>children</th>\n",
       "    </tr>\n",
       "  </thead>\n",
       "  <tbody>\n",
       "    <tr>\n",
       "      <th>0</th>\n",
       "      <td>nm0000001</td>\n",
       "      <td>Fred Astaire</td>\n",
       "      <td>Frederic Austerlitz Jr.</td>\n",
       "      <td>177.0</td>\n",
       "      <td>Fred Astaire was born in Omaha, Nebraska, to J...</td>\n",
       "      <td>May 10, 1899 in Omaha, Nebraska, USA</td>\n",
       "      <td>1899-05-10</td>\n",
       "      <td>Omaha, Nebraska, USA</td>\n",
       "      <td>June 22, 1987 in Los Angeles, California, USA ...</td>\n",
       "      <td>1987-06-22</td>\n",
       "      <td>Los Angeles, California, USA</td>\n",
       "      <td>pneumonia</td>\n",
       "      <td>Robyn Smith  (27 June 1980 - 22 June 1987) (hi...</td>\n",
       "      <td>2</td>\n",
       "      <td>0</td>\n",
       "      <td>1</td>\n",
       "      <td>2</td>\n",
       "    </tr>\n",
       "    <tr>\n",
       "      <th>1</th>\n",
       "      <td>nm0000002</td>\n",
       "      <td>Lauren Bacall</td>\n",
       "      <td>Betty Joan Perske</td>\n",
       "      <td>174.0</td>\n",
       "      <td>Lauren Bacall was born Betty Joan Perske on Se...</td>\n",
       "      <td>September 16, 1924 in The Bronx, New York City...</td>\n",
       "      <td>1924-09-16</td>\n",
       "      <td>The Bronx, New York City, New York, USA</td>\n",
       "      <td>August 12, 2014 in New York City, New York, US...</td>\n",
       "      <td>2014-08-12</td>\n",
       "      <td>New York City, New York, USA</td>\n",
       "      <td>stroke</td>\n",
       "      <td>Jason Robards  (4 July 1961 - 10 September 196...</td>\n",
       "      <td>2</td>\n",
       "      <td>1</td>\n",
       "      <td>2</td>\n",
       "      <td>3</td>\n",
       "    </tr>\n",
       "    <tr>\n",
       "      <th>2</th>\n",
       "      <td>nm0000003</td>\n",
       "      <td>Brigitte Bardot</td>\n",
       "      <td>Brigitte Bardot</td>\n",
       "      <td>166.0</td>\n",
       "      <td>Brigitte Bardot was born on September 28, 1934...</td>\n",
       "      <td>September 28, 1934 in Paris, France</td>\n",
       "      <td>1934-09-28</td>\n",
       "      <td>Paris, France</td>\n",
       "      <td>NaN</td>\n",
       "      <td>NaN</td>\n",
       "      <td>NaN</td>\n",
       "      <td>NaN</td>\n",
       "      <td>Bernard d'Ormale  (16 August 1992 - present)\\n...</td>\n",
       "      <td>4</td>\n",
       "      <td>3</td>\n",
       "      <td>1</td>\n",
       "      <td>1</td>\n",
       "    </tr>\n",
       "    <tr>\n",
       "      <th>3</th>\n",
       "      <td>nm0000004</td>\n",
       "      <td>John Belushi</td>\n",
       "      <td>John Adam Belushi</td>\n",
       "      <td>170.0</td>\n",
       "      <td>John Belushi was born in Chicago, Illinois, US...</td>\n",
       "      <td>January 24, 1949 in Chicago, Illinois, USA</td>\n",
       "      <td>1949-01-24</td>\n",
       "      <td>Chicago, Illinois, USA</td>\n",
       "      <td>March 5, 1982 in Hollywood, Los Angeles, Calif...</td>\n",
       "      <td>1982-03-05</td>\n",
       "      <td>Hollywood, Los Angeles, California, USA</td>\n",
       "      <td>acute cocaine and heroin intoxication</td>\n",
       "      <td>Judith Belushi-Pisano  (31 December 1976 - 5 M...</td>\n",
       "      <td>1</td>\n",
       "      <td>0</td>\n",
       "      <td>0</td>\n",
       "      <td>0</td>\n",
       "    </tr>\n",
       "    <tr>\n",
       "      <th>4</th>\n",
       "      <td>nm0000005</td>\n",
       "      <td>Ingmar Bergman</td>\n",
       "      <td>Ernst Ingmar Bergman</td>\n",
       "      <td>179.0</td>\n",
       "      <td>Ernst Ingmar Bergman was born July 14, 1918, t...</td>\n",
       "      <td>July 14, 1918 in Uppsala, Uppsala län, Sweden</td>\n",
       "      <td>1918-07-14</td>\n",
       "      <td>Uppsala, Uppsala län, Sweden</td>\n",
       "      <td>July 30, 2007 in Fårö, Gotlands län, Sweden  (...</td>\n",
       "      <td>2007-07-30</td>\n",
       "      <td>Fårö, Gotlands län, Sweden</td>\n",
       "      <td>natural causes</td>\n",
       "      <td>Ingrid Bergman  (11 November 1971 - 20 May 199...</td>\n",
       "      <td>5</td>\n",
       "      <td>4</td>\n",
       "      <td>5</td>\n",
       "      <td>8</td>\n",
       "    </tr>\n",
       "  </tbody>\n",
       "</table>\n",
       "</div>"
      ],
      "text/plain": [
       "  imdb_name_id             name               birth_name  height  \\\n",
       "0    nm0000001     Fred Astaire  Frederic Austerlitz Jr.   177.0   \n",
       "1    nm0000002    Lauren Bacall        Betty Joan Perske   174.0   \n",
       "2    nm0000003  Brigitte Bardot          Brigitte Bardot   166.0   \n",
       "3    nm0000004     John Belushi        John Adam Belushi   170.0   \n",
       "4    nm0000005   Ingmar Bergman     Ernst Ingmar Bergman   179.0   \n",
       "\n",
       "                                                 bio  \\\n",
       "0  Fred Astaire was born in Omaha, Nebraska, to J...   \n",
       "1  Lauren Bacall was born Betty Joan Perske on Se...   \n",
       "2  Brigitte Bardot was born on September 28, 1934...   \n",
       "3  John Belushi was born in Chicago, Illinois, US...   \n",
       "4  Ernst Ingmar Bergman was born July 14, 1918, t...   \n",
       "\n",
       "                                       birth_details date_of_birth  \\\n",
       "0               May 10, 1899 in Omaha, Nebraska, USA    1899-05-10   \n",
       "1  September 16, 1924 in The Bronx, New York City...    1924-09-16   \n",
       "2                September 28, 1934 in Paris, France    1934-09-28   \n",
       "3         January 24, 1949 in Chicago, Illinois, USA    1949-01-24   \n",
       "4      July 14, 1918 in Uppsala, Uppsala län, Sweden    1918-07-14   \n",
       "\n",
       "                            place_of_birth  \\\n",
       "0                     Omaha, Nebraska, USA   \n",
       "1  The Bronx, New York City, New York, USA   \n",
       "2                            Paris, France   \n",
       "3                   Chicago, Illinois, USA   \n",
       "4             Uppsala, Uppsala län, Sweden   \n",
       "\n",
       "                                       death_details date_of_death  \\\n",
       "0  June 22, 1987 in Los Angeles, California, USA ...    1987-06-22   \n",
       "1  August 12, 2014 in New York City, New York, US...    2014-08-12   \n",
       "2                                                NaN           NaN   \n",
       "3  March 5, 1982 in Hollywood, Los Angeles, Calif...    1982-03-05   \n",
       "4  July 30, 2007 in Fårö, Gotlands län, Sweden  (...    2007-07-30   \n",
       "\n",
       "                              place_of_death  \\\n",
       "0             Los Angeles, California, USA     \n",
       "1             New York City, New York, USA     \n",
       "2                                        NaN   \n",
       "3  Hollywood, Los Angeles, California, USA     \n",
       "4               Fårö, Gotlands län, Sweden     \n",
       "\n",
       "                         reason_of_death  \\\n",
       "0                              pneumonia   \n",
       "1                                 stroke   \n",
       "2                                    NaN   \n",
       "3  acute cocaine and heroin intoxication   \n",
       "4                         natural causes   \n",
       "\n",
       "                                      spouses_string  spouses  divorces  \\\n",
       "0  Robyn Smith  (27 June 1980 - 22 June 1987) (hi...        2         0   \n",
       "1  Jason Robards  (4 July 1961 - 10 September 196...        2         1   \n",
       "2  Bernard d'Ormale  (16 August 1992 - present)\\n...        4         3   \n",
       "3  Judith Belushi-Pisano  (31 December 1976 - 5 M...        1         0   \n",
       "4  Ingrid Bergman  (11 November 1971 - 20 May 199...        5         4   \n",
       "\n",
       "   spouses_with_children  children  \n",
       "0                      1         2  \n",
       "1                      2         3  \n",
       "2                      1         1  \n",
       "3                      0         0  \n",
       "4                      5         8  "
      ]
     },
     "execution_count": 37,
     "metadata": {},
     "output_type": "execute_result"
    }
   ],
   "source": [
    "names.head()"
   ]
  },
  {
   "cell_type": "markdown",
   "id": "63663843",
   "metadata": {
    "heading_collapsed": true
   },
   "source": [
    "### ratings.csv"
   ]
  },
  {
   "cell_type": "code",
   "execution_count": 39,
   "id": "e2bc53ba",
   "metadata": {
    "hidden": true
   },
   "outputs": [
    {
     "data": {
      "text/plain": [
       "Index(['imdb_title_id', 'weighted_average_vote', 'total_votes', 'mean_vote',\n",
       "       'median_vote', 'votes_10', 'votes_9', 'votes_8', 'votes_7', 'votes_6',\n",
       "       'votes_5', 'votes_4', 'votes_3', 'votes_2', 'votes_1',\n",
       "       'allgenders_0age_avg_vote', 'allgenders_0age_votes',\n",
       "       'allgenders_18age_avg_vote', 'allgenders_18age_votes',\n",
       "       'allgenders_30age_avg_vote', 'allgenders_30age_votes',\n",
       "       'allgenders_45age_avg_vote', 'allgenders_45age_votes',\n",
       "       'males_allages_avg_vote', 'males_allages_votes', 'males_0age_avg_vote',\n",
       "       'males_0age_votes', 'males_18age_avg_vote', 'males_18age_votes',\n",
       "       'males_30age_avg_vote', 'males_30age_votes', 'males_45age_avg_vote',\n",
       "       'males_45age_votes', 'females_allages_avg_vote',\n",
       "       'females_allages_votes', 'females_0age_avg_vote', 'females_0age_votes',\n",
       "       'females_18age_avg_vote', 'females_18age_votes',\n",
       "       'females_30age_avg_vote', 'females_30age_votes',\n",
       "       'females_45age_avg_vote', 'females_45age_votes',\n",
       "       'top1000_voters_rating', 'top1000_voters_votes', 'us_voters_rating',\n",
       "       'us_voters_votes', 'non_us_voters_rating', 'non_us_voters_votes'],\n",
       "      dtype='object')"
      ]
     },
     "execution_count": 39,
     "metadata": {},
     "output_type": "execute_result"
    }
   ],
   "source": [
    "ratings.columns"
   ]
  },
  {
   "cell_type": "code",
   "execution_count": null,
   "id": "1c0e1f2e",
   "metadata": {
    "hidden": true
   },
   "outputs": [],
   "source": [
    "ratings"
   ]
  }
 ],
 "metadata": {
  "kernelspec": {
   "display_name": "Python 3 (ipykernel)",
   "language": "python",
   "name": "python3"
  },
  "language_info": {
   "codemirror_mode": {
    "name": "ipython",
    "version": 3
   },
   "file_extension": ".py",
   "mimetype": "text/x-python",
   "name": "python",
   "nbconvert_exporter": "python",
   "pygments_lexer": "ipython3",
   "version": "3.8.12"
  },
  "toc": {
   "base_numbering": 1,
   "nav_menu": {},
   "number_sections": true,
   "sideBar": true,
   "skip_h1_title": false,
   "title_cell": "Table of Contents",
   "title_sidebar": "Contents",
   "toc_cell": false,
   "toc_position": {},
   "toc_section_display": true,
   "toc_window_display": false
  }
 },
 "nbformat": 4,
 "nbformat_minor": 5
}
