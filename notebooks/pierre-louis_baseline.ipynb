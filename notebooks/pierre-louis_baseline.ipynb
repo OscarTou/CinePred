{
 "cells": [
  {
   "cell_type": "code",
   "execution_count": 150,
   "id": "047a5d1a",
   "metadata": {},
   "outputs": [
    {
     "name": "stdout",
     "output_type": "stream",
     "text": [
      "The autoreload extension is already loaded. To reload it, use:\n",
      "  %reload_ext autoreload\n"
     ]
    }
   ],
   "source": [
    "# IMPORT\n",
    "import numpy as np\n",
    "\n",
    "from sklearn.model_selection import TimeSeriesSplit\n",
    "from sklearn.metrics import mean_absolute_error\n",
    "\n",
    "from sklearn.ensemble import GradientBoostingRegressor\n",
    "from sklearn.preprocessing import RobustScaler, OneHotEncoder\n",
    "\n",
    "from currency_converter import CurrencyConverter\n",
    "from CinePred.data.utils import convert, convert_budget_column, convert_to_int, add_director_category, add_sin_features,\\\n",
    "add_cos_features, convert_to_date\n",
    "from CinePred.data.data import Data\n",
    "\n",
    "from sklearn import set_config; set_config(display='diagram') # decoration for the pipeline\n",
    "from sklearn.pipeline import make_pipeline\n",
    "from sklearn.compose import make_column_transformer\n",
    "from sklearn.pipeline import make_union\n",
    "from sklearn.preprocessing import FunctionTransformer\n",
    "\n",
    "%load_ext autoreload\n",
    "%autoreload 2"
   ]
  },
  {
   "cell_type": "code",
   "execution_count": 138,
   "id": "1755921a",
   "metadata": {},
   "outputs": [
    {
     "data": {
      "text/plain": [
       "<CinePred.data.data.Data at 0x7f9d2e516580>"
      ]
     },
     "execution_count": 138,
     "metadata": {},
     "output_type": "execute_result"
    }
   ],
   "source": [
    "# IMPORT DF\n",
    "data = Data('../raw_data/IMDb movies.csv')\n",
    "data.import_data()"
   ]
  },
  {
   "cell_type": "code",
   "execution_count": 139,
   "id": "5b9dc67b",
   "metadata": {},
   "outputs": [
    {
     "data": {
      "text/plain": [
       "<CinePred.data.data.Data at 0x7f9d2e516580>"
      ]
     },
     "execution_count": 139,
     "metadata": {},
     "output_type": "execute_result"
    }
   ],
   "source": [
    "# CLEANING\n",
    "data.remove_na_rows()\n",
    "data.convert_income(column_name='worlwide_gross_income')"
   ]
  },
  {
   "cell_type": "code",
   "execution_count": 154,
   "id": "735d5651",
   "metadata": {
    "scrolled": true
   },
   "outputs": [
    {
     "data": {
      "text/plain": [
       "((6616, 5), (6616,))"
      ]
     },
     "execution_count": 154,
     "metadata": {},
     "output_type": "execute_result"
    }
   ],
   "source": [
    "# DECLARE X & Y\n",
    "X = data.dataframe[['budget', 'genre', 'duration', 'year', 'date_published']]\n",
    "y = data.dataframe['worlwide_gross_income']\n",
    "y = np.log(y)/np.log(10)\n",
    "X.shape, y.shape"
   ]
  },
  {
   "cell_type": "code",
   "execution_count": 155,
   "id": "d507c3c0",
   "metadata": {},
   "outputs": [],
   "source": [
    "to_date_transformer = FunctionTransformer(convert_to_date)\n",
    "\n",
    "sin_transformer = FunctionTransformer(add_sin_features)\n",
    "sin_pipe = make_pipeline(to_date_transformer, sin_transformer)\n",
    "\n",
    "cos_transformer = FunctionTransformer(add_cos_features)\n",
    "cos_pipe = make_pipeline(to_date_transformer, cos_transformer)\n",
    "\n",
    "time_pipe = make_column_transformer(\n",
    "    (sin_pipe, ['date_published']),\n",
    "    (cos_pipe, ['date_published']))"
   ]
  },
  {
   "cell_type": "code",
   "execution_count": 156,
   "id": "1757d392",
   "metadata": {},
   "outputs": [
    {
     "data": {
      "text/html": [
       "<style>#sk-299bfb98-4620-464a-8fb2-b974b678ad2e {color: black;background-color: white;}#sk-299bfb98-4620-464a-8fb2-b974b678ad2e pre{padding: 0;}#sk-299bfb98-4620-464a-8fb2-b974b678ad2e div.sk-toggleable {background-color: white;}#sk-299bfb98-4620-464a-8fb2-b974b678ad2e label.sk-toggleable__label {cursor: pointer;display: block;width: 100%;margin-bottom: 0;padding: 0.3em;box-sizing: border-box;text-align: center;}#sk-299bfb98-4620-464a-8fb2-b974b678ad2e div.sk-toggleable__content {max-height: 0;max-width: 0;overflow: hidden;text-align: left;background-color: #f0f8ff;}#sk-299bfb98-4620-464a-8fb2-b974b678ad2e div.sk-toggleable__content pre {margin: 0.2em;color: black;border-radius: 0.25em;background-color: #f0f8ff;}#sk-299bfb98-4620-464a-8fb2-b974b678ad2e input.sk-toggleable__control:checked~div.sk-toggleable__content {max-height: 200px;max-width: 100%;overflow: auto;}#sk-299bfb98-4620-464a-8fb2-b974b678ad2e div.sk-estimator input.sk-toggleable__control:checked~label.sk-toggleable__label {background-color: #d4ebff;}#sk-299bfb98-4620-464a-8fb2-b974b678ad2e div.sk-label input.sk-toggleable__control:checked~label.sk-toggleable__label {background-color: #d4ebff;}#sk-299bfb98-4620-464a-8fb2-b974b678ad2e input.sk-hidden--visually {border: 0;clip: rect(1px 1px 1px 1px);clip: rect(1px, 1px, 1px, 1px);height: 1px;margin: -1px;overflow: hidden;padding: 0;position: absolute;width: 1px;}#sk-299bfb98-4620-464a-8fb2-b974b678ad2e div.sk-estimator {font-family: monospace;background-color: #f0f8ff;border: 1px dotted black;border-radius: 0.25em;box-sizing: border-box;margin-bottom: 0.5em;}#sk-299bfb98-4620-464a-8fb2-b974b678ad2e div.sk-estimator:hover {background-color: #d4ebff;}#sk-299bfb98-4620-464a-8fb2-b974b678ad2e div.sk-parallel-item::after {content: \"\";width: 100%;border-bottom: 1px solid gray;flex-grow: 1;}#sk-299bfb98-4620-464a-8fb2-b974b678ad2e div.sk-label:hover label.sk-toggleable__label {background-color: #d4ebff;}#sk-299bfb98-4620-464a-8fb2-b974b678ad2e div.sk-serial::before {content: \"\";position: absolute;border-left: 1px solid gray;box-sizing: border-box;top: 2em;bottom: 0;left: 50%;}#sk-299bfb98-4620-464a-8fb2-b974b678ad2e div.sk-serial {display: flex;flex-direction: column;align-items: center;background-color: white;padding-right: 0.2em;padding-left: 0.2em;}#sk-299bfb98-4620-464a-8fb2-b974b678ad2e div.sk-item {z-index: 1;}#sk-299bfb98-4620-464a-8fb2-b974b678ad2e div.sk-parallel {display: flex;align-items: stretch;justify-content: center;background-color: white;}#sk-299bfb98-4620-464a-8fb2-b974b678ad2e div.sk-parallel::before {content: \"\";position: absolute;border-left: 1px solid gray;box-sizing: border-box;top: 2em;bottom: 0;left: 50%;}#sk-299bfb98-4620-464a-8fb2-b974b678ad2e div.sk-parallel-item {display: flex;flex-direction: column;position: relative;background-color: white;}#sk-299bfb98-4620-464a-8fb2-b974b678ad2e div.sk-parallel-item:first-child::after {align-self: flex-end;width: 50%;}#sk-299bfb98-4620-464a-8fb2-b974b678ad2e div.sk-parallel-item:last-child::after {align-self: flex-start;width: 50%;}#sk-299bfb98-4620-464a-8fb2-b974b678ad2e div.sk-parallel-item:only-child::after {width: 0;}#sk-299bfb98-4620-464a-8fb2-b974b678ad2e div.sk-dashed-wrapped {border: 1px dashed gray;margin: 0 0.4em 0.5em 0.4em;box-sizing: border-box;padding-bottom: 0.4em;background-color: white;position: relative;}#sk-299bfb98-4620-464a-8fb2-b974b678ad2e div.sk-label label {font-family: monospace;font-weight: bold;background-color: white;display: inline-block;line-height: 1.2em;}#sk-299bfb98-4620-464a-8fb2-b974b678ad2e div.sk-label-container {position: relative;z-index: 2;text-align: center;}#sk-299bfb98-4620-464a-8fb2-b974b678ad2e div.sk-container {display: inline-block;position: relative;}</style><div id=\"sk-299bfb98-4620-464a-8fb2-b974b678ad2e\" class\"sk-top-container\"><div class=\"sk-container\"><div class=\"sk-item sk-dashed-wrapped\"><div class=\"sk-label-container\"><div class=\"sk-label sk-toggleable\"><input class=\"sk-toggleable__control sk-hidden--visually\" id=\"831b949a-2e5b-4ddf-96f6-9b85c224b259\" type=\"checkbox\" ><label class=\"sk-toggleable__label\" for=\"831b949a-2e5b-4ddf-96f6-9b85c224b259\">Pipeline</label><div class=\"sk-toggleable__content\"><pre>Pipeline(steps=[('columntransformer',\n",
       "                 ColumnTransformer(transformers=[('pipeline',\n",
       "                                                  Pipeline(steps=[('functiontransformer',\n",
       "                                                                   FunctionTransformer(func=<function convert_to_int at 0x7f9d2d6d11f0>)),\n",
       "                                                                  ('robustscaler',\n",
       "                                                                   RobustScaler())]),\n",
       "                                                  ['year', 'duration']),\n",
       "                                                 ('functiontransformer',\n",
       "                                                  FunctionTransformer(func=<function convert_budget_column at 0x7f9d2db4fc10>),\n",
       "                                                  ['budget']...\n",
       "                                                                                                    FunctionTransformer(func=<function add_sin_features at 0x7f9d2db4fca0>))]),\n",
       "                                                                                   ['date_published']),\n",
       "                                                                                  ('pipeline-2',\n",
       "                                                                                   Pipeline(steps=[('functiontransformer-1',\n",
       "                                                                                                    FunctionTransformer(func=<function convert_to_date at 0x7f9d2db4faf0>)),\n",
       "                                                                                                   ('functiontransformer-2',\n",
       "                                                                                                    FunctionTransformer(func=<function add_cos_features at 0x7f9d2db4fdc0>))]),\n",
       "                                                                                   ['date_published'])]),\n",
       "                                                  ['date_published'])])),\n",
       "                ('gradientboostingregressor', GradientBoostingRegressor())])</pre></div></div></div><div class=\"sk-serial\"><div class=\"sk-item sk-dashed-wrapped\"><div class=\"sk-label-container\"><div class=\"sk-label sk-toggleable\"><input class=\"sk-toggleable__control sk-hidden--visually\" id=\"5bc42a43-4a8e-4d74-9fef-0059be6488b3\" type=\"checkbox\" ><label class=\"sk-toggleable__label\" for=\"5bc42a43-4a8e-4d74-9fef-0059be6488b3\">columntransformer: ColumnTransformer</label><div class=\"sk-toggleable__content\"><pre>ColumnTransformer(transformers=[('pipeline',\n",
       "                                 Pipeline(steps=[('functiontransformer',\n",
       "                                                  FunctionTransformer(func=<function convert_to_int at 0x7f9d2d6d11f0>)),\n",
       "                                                 ('robustscaler',\n",
       "                                                  RobustScaler())]),\n",
       "                                 ['year', 'duration']),\n",
       "                                ('functiontransformer',\n",
       "                                 FunctionTransformer(func=<function convert_budget_column at 0x7f9d2db4fc10>),\n",
       "                                 ['budget']),\n",
       "                                ('columntransformer',\n",
       "                                 ColumnTransfor...\n",
       "                                                                                   FunctionTransformer(func=<function add_sin_features at 0x7f9d2db4fca0>))]),\n",
       "                                                                  ['date_published']),\n",
       "                                                                 ('pipeline-2',\n",
       "                                                                  Pipeline(steps=[('functiontransformer-1',\n",
       "                                                                                   FunctionTransformer(func=<function convert_to_date at 0x7f9d2db4faf0>)),\n",
       "                                                                                  ('functiontransformer-2',\n",
       "                                                                                   FunctionTransformer(func=<function add_cos_features at 0x7f9d2db4fdc0>))]),\n",
       "                                                                  ['date_published'])]),\n",
       "                                 ['date_published'])])</pre></div></div></div><div class=\"sk-parallel\"><div class=\"sk-parallel-item\"><div class=\"sk-item\"><div class=\"sk-label-container\"><div class=\"sk-label sk-toggleable\"><input class=\"sk-toggleable__control sk-hidden--visually\" id=\"47771696-e9f8-4171-8f00-44c0742980cb\" type=\"checkbox\" ><label class=\"sk-toggleable__label\" for=\"47771696-e9f8-4171-8f00-44c0742980cb\">pipeline</label><div class=\"sk-toggleable__content\"><pre>['year', 'duration']</pre></div></div></div><div class=\"sk-serial\"><div class=\"sk-item\"><div class=\"sk-serial\"><div class=\"sk-item\"><div class=\"sk-estimator sk-toggleable\"><input class=\"sk-toggleable__control sk-hidden--visually\" id=\"0d9ccf13-df3e-484a-8ed4-e14bca4c57a7\" type=\"checkbox\" ><label class=\"sk-toggleable__label\" for=\"0d9ccf13-df3e-484a-8ed4-e14bca4c57a7\">FunctionTransformer</label><div class=\"sk-toggleable__content\"><pre>FunctionTransformer(func=<function convert_to_int at 0x7f9d2d6d11f0>)</pre></div></div></div><div class=\"sk-item\"><div class=\"sk-estimator sk-toggleable\"><input class=\"sk-toggleable__control sk-hidden--visually\" id=\"af23dc2b-0f64-42c1-99e3-f7073c2273d1\" type=\"checkbox\" ><label class=\"sk-toggleable__label\" for=\"af23dc2b-0f64-42c1-99e3-f7073c2273d1\">RobustScaler</label><div class=\"sk-toggleable__content\"><pre>RobustScaler()</pre></div></div></div></div></div></div></div></div><div class=\"sk-parallel-item\"><div class=\"sk-item\"><div class=\"sk-label-container\"><div class=\"sk-label sk-toggleable\"><input class=\"sk-toggleable__control sk-hidden--visually\" id=\"c5b6a4fd-39d1-4e03-ae54-810c4b8ca05a\" type=\"checkbox\" ><label class=\"sk-toggleable__label\" for=\"c5b6a4fd-39d1-4e03-ae54-810c4b8ca05a\">functiontransformer</label><div class=\"sk-toggleable__content\"><pre>['budget']</pre></div></div></div><div class=\"sk-serial\"><div class=\"sk-item\"><div class=\"sk-estimator sk-toggleable\"><input class=\"sk-toggleable__control sk-hidden--visually\" id=\"5aaa45ea-9e2b-4902-ae18-09ce20c795ba\" type=\"checkbox\" ><label class=\"sk-toggleable__label\" for=\"5aaa45ea-9e2b-4902-ae18-09ce20c795ba\">FunctionTransformer</label><div class=\"sk-toggleable__content\"><pre>FunctionTransformer(func=<function convert_budget_column at 0x7f9d2db4fc10>)</pre></div></div></div></div></div></div><div class=\"sk-parallel-item\"><div class=\"sk-item\"><div class=\"sk-label-container\"><div class=\"sk-label sk-toggleable\"><input class=\"sk-toggleable__control sk-hidden--visually\" id=\"bcf6e707-6e27-4c93-bfe4-7d6c7238e76f\" type=\"checkbox\" ><label class=\"sk-toggleable__label\" for=\"bcf6e707-6e27-4c93-bfe4-7d6c7238e76f\">columntransformer</label><div class=\"sk-toggleable__content\"><pre>['date_published']</pre></div></div></div><div class=\"sk-serial\"><div class=\"sk-item sk-dashed-wrapped\"><div class=\"sk-parallel\"><div class=\"sk-parallel-item\"><div class=\"sk-item\"><div class=\"sk-label-container\"><div class=\"sk-label sk-toggleable\"><input class=\"sk-toggleable__control sk-hidden--visually\" id=\"78dc5aa2-d5bb-4b4d-8f7e-43b5bf14bab8\" type=\"checkbox\" ><label class=\"sk-toggleable__label\" for=\"78dc5aa2-d5bb-4b4d-8f7e-43b5bf14bab8\">pipeline-1</label><div class=\"sk-toggleable__content\"><pre>['date_published']</pre></div></div></div><div class=\"sk-serial\"><div class=\"sk-item\"><div class=\"sk-serial\"><div class=\"sk-item\"><div class=\"sk-estimator sk-toggleable\"><input class=\"sk-toggleable__control sk-hidden--visually\" id=\"deadbdd2-3173-4637-8d8b-7923ffd9d332\" type=\"checkbox\" ><label class=\"sk-toggleable__label\" for=\"deadbdd2-3173-4637-8d8b-7923ffd9d332\">FunctionTransformer</label><div class=\"sk-toggleable__content\"><pre>FunctionTransformer(func=<function convert_to_date at 0x7f9d2db4faf0>)</pre></div></div></div><div class=\"sk-item\"><div class=\"sk-estimator sk-toggleable\"><input class=\"sk-toggleable__control sk-hidden--visually\" id=\"8aca53d2-bca4-4e9e-a0e2-a6c448ec3ad5\" type=\"checkbox\" ><label class=\"sk-toggleable__label\" for=\"8aca53d2-bca4-4e9e-a0e2-a6c448ec3ad5\">FunctionTransformer</label><div class=\"sk-toggleable__content\"><pre>FunctionTransformer(func=<function add_sin_features at 0x7f9d2db4fca0>)</pre></div></div></div></div></div></div></div></div><div class=\"sk-parallel-item\"><div class=\"sk-item\"><div class=\"sk-label-container\"><div class=\"sk-label sk-toggleable\"><input class=\"sk-toggleable__control sk-hidden--visually\" id=\"0b4c3a1f-754a-4a78-96f0-33a2221cdc49\" type=\"checkbox\" ><label class=\"sk-toggleable__label\" for=\"0b4c3a1f-754a-4a78-96f0-33a2221cdc49\">pipeline-2</label><div class=\"sk-toggleable__content\"><pre>['date_published']</pre></div></div></div><div class=\"sk-serial\"><div class=\"sk-item\"><div class=\"sk-serial\"><div class=\"sk-item\"><div class=\"sk-estimator sk-toggleable\"><input class=\"sk-toggleable__control sk-hidden--visually\" id=\"10746f61-08f5-4cc7-b3dc-70dddfb30ac3\" type=\"checkbox\" ><label class=\"sk-toggleable__label\" for=\"10746f61-08f5-4cc7-b3dc-70dddfb30ac3\">FunctionTransformer</label><div class=\"sk-toggleable__content\"><pre>FunctionTransformer(func=<function convert_to_date at 0x7f9d2db4faf0>)</pre></div></div></div><div class=\"sk-item\"><div class=\"sk-estimator sk-toggleable\"><input class=\"sk-toggleable__control sk-hidden--visually\" id=\"473b9893-3be6-422f-b8bb-a83e6fbcf200\" type=\"checkbox\" ><label class=\"sk-toggleable__label\" for=\"473b9893-3be6-422f-b8bb-a83e6fbcf200\">FunctionTransformer</label><div class=\"sk-toggleable__content\"><pre>FunctionTransformer(func=<function add_cos_features at 0x7f9d2db4fdc0>)</pre></div></div></div></div></div></div></div></div></div></div></div></div></div></div></div><div class=\"sk-item\"><div class=\"sk-estimator sk-toggleable\"><input class=\"sk-toggleable__control sk-hidden--visually\" id=\"18239c31-58ba-4ed0-9f59-9a905cca16ca\" type=\"checkbox\" ><label class=\"sk-toggleable__label\" for=\"18239c31-58ba-4ed0-9f59-9a905cca16ca\">GradientBoostingRegressor</label><div class=\"sk-toggleable__content\"><pre>GradientBoostingRegressor()</pre></div></div></div></div></div></div></div>"
      ],
      "text/plain": [
       "Pipeline(steps=[('columntransformer',\n",
       "                 ColumnTransformer(transformers=[('pipeline',\n",
       "                                                  Pipeline(steps=[('functiontransformer',\n",
       "                                                                   FunctionTransformer(func=<function convert_to_int at 0x7f9d2d6d11f0>)),\n",
       "                                                                  ('robustscaler',\n",
       "                                                                   RobustScaler())]),\n",
       "                                                  ['year', 'duration']),\n",
       "                                                 ('functiontransformer',\n",
       "                                                  FunctionTransformer(func=<function convert_budget_column at 0x7f9d2db4fc10>),\n",
       "                                                  ['budget']...\n",
       "                                                                                                    FunctionTransformer(func=<function add_sin_features at 0x7f9d2db4fca0>))]),\n",
       "                                                                                   ['date_published']),\n",
       "                                                                                  ('pipeline-2',\n",
       "                                                                                   Pipeline(steps=[('functiontransformer-1',\n",
       "                                                                                                    FunctionTransformer(func=<function convert_to_date at 0x7f9d2db4faf0>)),\n",
       "                                                                                                   ('functiontransformer-2',\n",
       "                                                                                                    FunctionTransformer(func=<function add_cos_features at 0x7f9d2db4fdc0>))]),\n",
       "                                                                                   ['date_published'])]),\n",
       "                                                  ['date_published'])])),\n",
       "                ('gradientboostingregressor', GradientBoostingRegressor())])"
      ]
     },
     "execution_count": 156,
     "metadata": {},
     "output_type": "execute_result"
    }
   ],
   "source": [
    "# PIPELINE\n",
    "int_transformer = FunctionTransformer(convert_to_int)\n",
    "time_pipeline = make_pipeline(int_transformer, RobustScaler())\n",
    "\n",
    "budget_transformer = FunctionTransformer(convert_budget_column)\n",
    "# ohe_transformer = make_pipeline(OneHotEncoder(sparse=False))\n",
    "\n",
    "preproc_basic = make_column_transformer((time_pipeline, ['year', 'duration']),\n",
    "                                        (budget_transformer, ['budget']),\n",
    "                                        (time_pipe, ['date_published']))\n",
    "\n",
    "pipeline = make_pipeline(preproc_basic, GradientBoostingRegressor(n_estimators=100, learning_rate=0.1, max_depth=3))\n",
    "pipeline"
   ]
  },
  {
   "cell_type": "code",
   "execution_count": 157,
   "id": "5e3d03e6",
   "metadata": {},
   "outputs": [],
   "source": [
    "# FIT & PREDICT\n",
    "def baseline(pipeline, X, y):\n",
    "    \"\"\" Returns a list of 5 mae scores\"\"\"\n",
    "    mae = []\n",
    "    tscv = TimeSeriesSplit(n_splits=5)\n",
    "    for train_index, test_index in tscv.split(X):\n",
    "        print(\"TRAIN:\", train_index, \"TEST:\", test_index)\n",
    "        X_train, X_test = X.iloc[train_index], X.iloc[test_index]\n",
    "        y_train, y_test = y.iloc[train_index], y.iloc[test_index]\n",
    "        \n",
    "        pipeline.fit(X_train, y_train)\n",
    "        y_pred = pipeline.predict(X_test)\n",
    "        mae.append(mean_absolute_error(y_test, y_pred))\n",
    "    return mae"
   ]
  },
  {
   "cell_type": "code",
   "execution_count": 158,
   "id": "81701388",
   "metadata": {},
   "outputs": [
    {
     "name": "stdout",
     "output_type": "stream",
     "text": [
      "TRAIN: [   0    1    2 ... 1103 1104 1105] TEST: [1106 1107 1108 ... 2205 2206 2207]\n",
      "TRAIN: [   0    1    2 ... 2205 2206 2207] TEST: [2208 2209 2210 ... 3307 3308 3309]\n",
      "TRAIN: [   0    1    2 ... 3307 3308 3309] TEST: [3310 3311 3312 ... 4409 4410 4411]\n",
      "TRAIN: [   0    1    2 ... 4409 4410 4411] TEST: [4412 4413 4414 ... 5511 5512 5513]\n",
      "TRAIN: [   0    1    2 ... 5511 5512 5513] TEST: [5514 5515 5516 ... 6613 6614 6615]\n"
     ]
    },
    {
     "data": {
      "text/plain": [
       "[0.5320805391777051,\n",
       " 0.654871810355997,\n",
       " 0.5517125609602167,\n",
       " 0.5910773970443713,\n",
       " 0.6183197889437944]"
      ]
     },
     "execution_count": 158,
     "metadata": {},
     "output_type": "execute_result"
    }
   ],
   "source": [
    "baseline(pipeline, X, y)"
   ]
  }
 ],
 "metadata": {
  "kernelspec": {
   "display_name": "Python 3 (ipykernel)",
   "language": "python",
   "name": "python3"
  },
  "language_info": {
   "codemirror_mode": {
    "name": "ipython",
    "version": 3
   },
   "file_extension": ".py",
   "mimetype": "text/x-python",
   "name": "python",
   "nbconvert_exporter": "python",
   "pygments_lexer": "ipython3",
   "version": "3.8.12"
  },
  "toc": {
   "base_numbering": 1,
   "nav_menu": {},
   "number_sections": true,
   "sideBar": true,
   "skip_h1_title": false,
   "title_cell": "Table of Contents",
   "title_sidebar": "Contents",
   "toc_cell": false,
   "toc_position": {},
   "toc_section_display": true,
   "toc_window_display": false
  }
 },
 "nbformat": 4,
 "nbformat_minor": 5
}
