{
 "cells": [
  {
   "cell_type": "code",
   "execution_count": 12,
   "id": "047a5d1a",
   "metadata": {},
   "outputs": [
    {
     "name": "stdout",
     "output_type": "stream",
     "text": [
      "The autoreload extension is already loaded. To reload it, use:\n",
      "  %reload_ext autoreload\n"
     ]
    }
   ],
   "source": [
    "# IMPORT\n",
    "from sklearn.model_selection import TimeSeriesSplit\n",
    "from sklearn.metrics import mean_absolute_error\n",
    "\n",
    "from sklearn.ensemble import GradientBoostingRegressor\n",
    "from sklearn.preprocessing import RobustScaler, OneHotEncoder\n",
    "\n",
    "from currency_converter import CurrencyConverter\n",
    "from CinePred.data.utils import convert, convert_budget_column, convert_to_int, add_director_category, add_sin_features, add_cos_features\n",
    "from CinePred.data.data import Data\n",
    "\n",
    "from sklearn import set_config; set_config(display='diagram') # decoration for the pipeline\n",
    "from sklearn.pipeline import make_pipeline\n",
    "from sklearn.compose import make_column_transformer\n",
    "from sklearn.pipeline import make_union\n",
    "from sklearn.preprocessing import FunctionTransformer\n",
    "\n",
    "%load_ext autoreload\n",
    "%autoreload 2"
   ]
  },
  {
   "cell_type": "code",
   "execution_count": 13,
   "id": "1755921a",
   "metadata": {},
   "outputs": [
    {
     "data": {
      "text/plain": [
       "<CinePred.data.data.Data at 0x7f9d2a2fad30>"
      ]
     },
     "execution_count": 13,
     "metadata": {},
     "output_type": "execute_result"
    }
   ],
   "source": [
    "# IMPORT DF\n",
    "data = Data('../raw_data/IMDb movies.csv')\n",
    "data.import_data()"
   ]
  },
  {
   "cell_type": "code",
   "execution_count": 14,
   "id": "5b9dc67b",
   "metadata": {},
   "outputs": [
    {
     "data": {
      "text/plain": [
       "<CinePred.data.data.Data at 0x7f9d2a2fad30>"
      ]
     },
     "execution_count": 14,
     "metadata": {},
     "output_type": "execute_result"
    }
   ],
   "source": [
    "# CLEANING\n",
    "data.remove_na_rows()\n",
    "data.convert_income(column_name='worlwide_gross_income')"
   ]
  },
  {
   "cell_type": "code",
   "execution_count": 15,
   "id": "735d5651",
   "metadata": {
    "scrolled": true
   },
   "outputs": [
    {
     "data": {
      "text/plain": [
       "((6616, 6), (6616,))"
      ]
     },
     "execution_count": 15,
     "metadata": {},
     "output_type": "execute_result"
    }
   ],
   "source": [
    "# DECLARE X & Y\n",
    "X = data.dataframe[['budget', 'genre', 'duration', 'year', 'director', 'date_published']]\n",
    "y = data.dataframe['worlwide_gross_income']\n",
    "X.shape, y.shape"
   ]
  },
  {
   "cell_type": "code",
   "execution_count": 16,
   "id": "1757d392",
   "metadata": {},
   "outputs": [
    {
     "data": {
      "text/html": [
       "<style>#sk-c65b9379-a333-48c0-87a0-48e1c0765b1f {color: black;background-color: white;}#sk-c65b9379-a333-48c0-87a0-48e1c0765b1f pre{padding: 0;}#sk-c65b9379-a333-48c0-87a0-48e1c0765b1f div.sk-toggleable {background-color: white;}#sk-c65b9379-a333-48c0-87a0-48e1c0765b1f label.sk-toggleable__label {cursor: pointer;display: block;width: 100%;margin-bottom: 0;padding: 0.3em;box-sizing: border-box;text-align: center;}#sk-c65b9379-a333-48c0-87a0-48e1c0765b1f div.sk-toggleable__content {max-height: 0;max-width: 0;overflow: hidden;text-align: left;background-color: #f0f8ff;}#sk-c65b9379-a333-48c0-87a0-48e1c0765b1f div.sk-toggleable__content pre {margin: 0.2em;color: black;border-radius: 0.25em;background-color: #f0f8ff;}#sk-c65b9379-a333-48c0-87a0-48e1c0765b1f input.sk-toggleable__control:checked~div.sk-toggleable__content {max-height: 200px;max-width: 100%;overflow: auto;}#sk-c65b9379-a333-48c0-87a0-48e1c0765b1f div.sk-estimator input.sk-toggleable__control:checked~label.sk-toggleable__label {background-color: #d4ebff;}#sk-c65b9379-a333-48c0-87a0-48e1c0765b1f div.sk-label input.sk-toggleable__control:checked~label.sk-toggleable__label {background-color: #d4ebff;}#sk-c65b9379-a333-48c0-87a0-48e1c0765b1f input.sk-hidden--visually {border: 0;clip: rect(1px 1px 1px 1px);clip: rect(1px, 1px, 1px, 1px);height: 1px;margin: -1px;overflow: hidden;padding: 0;position: absolute;width: 1px;}#sk-c65b9379-a333-48c0-87a0-48e1c0765b1f div.sk-estimator {font-family: monospace;background-color: #f0f8ff;border: 1px dotted black;border-radius: 0.25em;box-sizing: border-box;margin-bottom: 0.5em;}#sk-c65b9379-a333-48c0-87a0-48e1c0765b1f div.sk-estimator:hover {background-color: #d4ebff;}#sk-c65b9379-a333-48c0-87a0-48e1c0765b1f div.sk-parallel-item::after {content: \"\";width: 100%;border-bottom: 1px solid gray;flex-grow: 1;}#sk-c65b9379-a333-48c0-87a0-48e1c0765b1f div.sk-label:hover label.sk-toggleable__label {background-color: #d4ebff;}#sk-c65b9379-a333-48c0-87a0-48e1c0765b1f div.sk-serial::before {content: \"\";position: absolute;border-left: 1px solid gray;box-sizing: border-box;top: 2em;bottom: 0;left: 50%;}#sk-c65b9379-a333-48c0-87a0-48e1c0765b1f div.sk-serial {display: flex;flex-direction: column;align-items: center;background-color: white;padding-right: 0.2em;padding-left: 0.2em;}#sk-c65b9379-a333-48c0-87a0-48e1c0765b1f div.sk-item {z-index: 1;}#sk-c65b9379-a333-48c0-87a0-48e1c0765b1f div.sk-parallel {display: flex;align-items: stretch;justify-content: center;background-color: white;}#sk-c65b9379-a333-48c0-87a0-48e1c0765b1f div.sk-parallel::before {content: \"\";position: absolute;border-left: 1px solid gray;box-sizing: border-box;top: 2em;bottom: 0;left: 50%;}#sk-c65b9379-a333-48c0-87a0-48e1c0765b1f div.sk-parallel-item {display: flex;flex-direction: column;position: relative;background-color: white;}#sk-c65b9379-a333-48c0-87a0-48e1c0765b1f div.sk-parallel-item:first-child::after {align-self: flex-end;width: 50%;}#sk-c65b9379-a333-48c0-87a0-48e1c0765b1f div.sk-parallel-item:last-child::after {align-self: flex-start;width: 50%;}#sk-c65b9379-a333-48c0-87a0-48e1c0765b1f div.sk-parallel-item:only-child::after {width: 0;}#sk-c65b9379-a333-48c0-87a0-48e1c0765b1f div.sk-dashed-wrapped {border: 1px dashed gray;margin: 0 0.4em 0.5em 0.4em;box-sizing: border-box;padding-bottom: 0.4em;background-color: white;position: relative;}#sk-c65b9379-a333-48c0-87a0-48e1c0765b1f div.sk-label label {font-family: monospace;font-weight: bold;background-color: white;display: inline-block;line-height: 1.2em;}#sk-c65b9379-a333-48c0-87a0-48e1c0765b1f div.sk-label-container {position: relative;z-index: 2;text-align: center;}#sk-c65b9379-a333-48c0-87a0-48e1c0765b1f div.sk-container {display: inline-block;position: relative;}</style><div id=\"sk-c65b9379-a333-48c0-87a0-48e1c0765b1f\" class\"sk-top-container\"><div class=\"sk-container\"><div class=\"sk-item sk-dashed-wrapped\"><div class=\"sk-label-container\"><div class=\"sk-label sk-toggleable\"><input class=\"sk-toggleable__control sk-hidden--visually\" id=\"d126b840-2638-4985-a1de-e7ad28ed9c34\" type=\"checkbox\" ><label class=\"sk-toggleable__label\" for=\"d126b840-2638-4985-a1de-e7ad28ed9c34\">Pipeline</label><div class=\"sk-toggleable__content\"><pre>Pipeline(steps=[('columntransformer',\n",
       "                 ColumnTransformer(transformers=[('pipeline-1',\n",
       "                                                  Pipeline(steps=[('functiontransformer',\n",
       "                                                                   FunctionTransformer(func=<function convert_to_int at 0x7f9d2f60fd30>)),\n",
       "                                                                  ('robustscaler',\n",
       "                                                                   RobustScaler())]),\n",
       "                                                  ['year', 'duration']),\n",
       "                                                 ('pipeline-2',\n",
       "                                                  Pipeline(steps=[('onehotencoder',\n",
       "                                                                   OneHotEncoder(sparse=False))]),\n",
       "                                                  ['genre']),\n",
       "                                                 ('functiontransf...\n",
       "                                                  FunctionTransformer(func=<function convert_budget_column at 0x7f9d2f60fca0>),\n",
       "                                                  ['budget']),\n",
       "                                                 ('functiontransformer-2',\n",
       "                                                  FunctionTransformer(func=<function add_sin_features at 0x7f9d2f60fb80>),\n",
       "                                                  ['date_published']),\n",
       "                                                 ('functiontransformer-3',\n",
       "                                                  FunctionTransformer(func=<function add_cos_features at 0x7f9d2f60faf0>),\n",
       "                                                  ['date_published'])])),\n",
       "                ('gradientboostingregressor', GradientBoostingRegressor())])</pre></div></div></div><div class=\"sk-serial\"><div class=\"sk-item sk-dashed-wrapped\"><div class=\"sk-label-container\"><div class=\"sk-label sk-toggleable\"><input class=\"sk-toggleable__control sk-hidden--visually\" id=\"d2fc0b31-635d-4df3-9c9d-5cd530b126b3\" type=\"checkbox\" ><label class=\"sk-toggleable__label\" for=\"d2fc0b31-635d-4df3-9c9d-5cd530b126b3\">columntransformer: ColumnTransformer</label><div class=\"sk-toggleable__content\"><pre>ColumnTransformer(transformers=[('pipeline-1',\n",
       "                                 Pipeline(steps=[('functiontransformer',\n",
       "                                                  FunctionTransformer(func=<function convert_to_int at 0x7f9d2f60fd30>)),\n",
       "                                                 ('robustscaler',\n",
       "                                                  RobustScaler())]),\n",
       "                                 ['year', 'duration']),\n",
       "                                ('pipeline-2',\n",
       "                                 Pipeline(steps=[('onehotencoder',\n",
       "                                                  OneHotEncoder(sparse=False))]),\n",
       "                                 ['genre']),\n",
       "                                ('functiontransformer-1',\n",
       "                                 FunctionTransformer(func=<function convert_budget_column at 0x7f9d2f60fca0>),\n",
       "                                 ['budget']),\n",
       "                                ('functiontransformer-2',\n",
       "                                 FunctionTransformer(func=<function add_sin_features at 0x7f9d2f60fb80>),\n",
       "                                 ['date_published']),\n",
       "                                ('functiontransformer-3',\n",
       "                                 FunctionTransformer(func=<function add_cos_features at 0x7f9d2f60faf0>),\n",
       "                                 ['date_published'])])</pre></div></div></div><div class=\"sk-parallel\"><div class=\"sk-parallel-item\"><div class=\"sk-item\"><div class=\"sk-label-container\"><div class=\"sk-label sk-toggleable\"><input class=\"sk-toggleable__control sk-hidden--visually\" id=\"f51104cc-f7e5-44c4-a191-02198af02aea\" type=\"checkbox\" ><label class=\"sk-toggleable__label\" for=\"f51104cc-f7e5-44c4-a191-02198af02aea\">pipeline-1</label><div class=\"sk-toggleable__content\"><pre>['year', 'duration']</pre></div></div></div><div class=\"sk-serial\"><div class=\"sk-item\"><div class=\"sk-serial\"><div class=\"sk-item\"><div class=\"sk-estimator sk-toggleable\"><input class=\"sk-toggleable__control sk-hidden--visually\" id=\"4a13c65b-7863-451f-8f05-3a7d57391a66\" type=\"checkbox\" ><label class=\"sk-toggleable__label\" for=\"4a13c65b-7863-451f-8f05-3a7d57391a66\">FunctionTransformer</label><div class=\"sk-toggleable__content\"><pre>FunctionTransformer(func=<function convert_to_int at 0x7f9d2f60fd30>)</pre></div></div></div><div class=\"sk-item\"><div class=\"sk-estimator sk-toggleable\"><input class=\"sk-toggleable__control sk-hidden--visually\" id=\"03edc275-76dc-4979-8fc6-b018d6aeb9df\" type=\"checkbox\" ><label class=\"sk-toggleable__label\" for=\"03edc275-76dc-4979-8fc6-b018d6aeb9df\">RobustScaler</label><div class=\"sk-toggleable__content\"><pre>RobustScaler()</pre></div></div></div></div></div></div></div></div><div class=\"sk-parallel-item\"><div class=\"sk-item\"><div class=\"sk-label-container\"><div class=\"sk-label sk-toggleable\"><input class=\"sk-toggleable__control sk-hidden--visually\" id=\"ee6c0971-f113-435f-afc7-7f7d6c5a858b\" type=\"checkbox\" ><label class=\"sk-toggleable__label\" for=\"ee6c0971-f113-435f-afc7-7f7d6c5a858b\">pipeline-2</label><div class=\"sk-toggleable__content\"><pre>['genre']</pre></div></div></div><div class=\"sk-serial\"><div class=\"sk-item\"><div class=\"sk-serial\"><div class=\"sk-item\"><div class=\"sk-estimator sk-toggleable\"><input class=\"sk-toggleable__control sk-hidden--visually\" id=\"1daefb6f-5c4c-4cad-ab0f-0d5d859e317f\" type=\"checkbox\" ><label class=\"sk-toggleable__label\" for=\"1daefb6f-5c4c-4cad-ab0f-0d5d859e317f\">OneHotEncoder</label><div class=\"sk-toggleable__content\"><pre>OneHotEncoder(sparse=False)</pre></div></div></div></div></div></div></div></div><div class=\"sk-parallel-item\"><div class=\"sk-item\"><div class=\"sk-label-container\"><div class=\"sk-label sk-toggleable\"><input class=\"sk-toggleable__control sk-hidden--visually\" id=\"3ba6c050-9a73-4514-b064-c9ce4bac2a92\" type=\"checkbox\" ><label class=\"sk-toggleable__label\" for=\"3ba6c050-9a73-4514-b064-c9ce4bac2a92\">functiontransformer-1</label><div class=\"sk-toggleable__content\"><pre>['budget']</pre></div></div></div><div class=\"sk-serial\"><div class=\"sk-item\"><div class=\"sk-estimator sk-toggleable\"><input class=\"sk-toggleable__control sk-hidden--visually\" id=\"64d87c2f-45d9-4885-b503-13514f5c8596\" type=\"checkbox\" ><label class=\"sk-toggleable__label\" for=\"64d87c2f-45d9-4885-b503-13514f5c8596\">FunctionTransformer</label><div class=\"sk-toggleable__content\"><pre>FunctionTransformer(func=<function convert_budget_column at 0x7f9d2f60fca0>)</pre></div></div></div></div></div></div><div class=\"sk-parallel-item\"><div class=\"sk-item\"><div class=\"sk-label-container\"><div class=\"sk-label sk-toggleable\"><input class=\"sk-toggleable__control sk-hidden--visually\" id=\"874a0bbb-6cfb-4b3f-8722-60139ae9d1ac\" type=\"checkbox\" ><label class=\"sk-toggleable__label\" for=\"874a0bbb-6cfb-4b3f-8722-60139ae9d1ac\">functiontransformer-2</label><div class=\"sk-toggleable__content\"><pre>['date_published']</pre></div></div></div><div class=\"sk-serial\"><div class=\"sk-item\"><div class=\"sk-estimator sk-toggleable\"><input class=\"sk-toggleable__control sk-hidden--visually\" id=\"c4e015b9-c710-4014-95ce-d3eb678004c1\" type=\"checkbox\" ><label class=\"sk-toggleable__label\" for=\"c4e015b9-c710-4014-95ce-d3eb678004c1\">FunctionTransformer</label><div class=\"sk-toggleable__content\"><pre>FunctionTransformer(func=<function add_sin_features at 0x7f9d2f60fb80>)</pre></div></div></div></div></div></div><div class=\"sk-parallel-item\"><div class=\"sk-item\"><div class=\"sk-label-container\"><div class=\"sk-label sk-toggleable\"><input class=\"sk-toggleable__control sk-hidden--visually\" id=\"f6d89737-811f-421c-b01a-577c1deba2a1\" type=\"checkbox\" ><label class=\"sk-toggleable__label\" for=\"f6d89737-811f-421c-b01a-577c1deba2a1\">functiontransformer-3</label><div class=\"sk-toggleable__content\"><pre>['date_published']</pre></div></div></div><div class=\"sk-serial\"><div class=\"sk-item\"><div class=\"sk-estimator sk-toggleable\"><input class=\"sk-toggleable__control sk-hidden--visually\" id=\"c7719ccf-1322-4167-91b0-23682c69da25\" type=\"checkbox\" ><label class=\"sk-toggleable__label\" for=\"c7719ccf-1322-4167-91b0-23682c69da25\">FunctionTransformer</label><div class=\"sk-toggleable__content\"><pre>FunctionTransformer(func=<function add_cos_features at 0x7f9d2f60faf0>)</pre></div></div></div></div></div></div></div></div><div class=\"sk-item\"><div class=\"sk-estimator sk-toggleable\"><input class=\"sk-toggleable__control sk-hidden--visually\" id=\"6e43b4ec-b48e-4e98-8bb2-2e3712e0a152\" type=\"checkbox\" ><label class=\"sk-toggleable__label\" for=\"6e43b4ec-b48e-4e98-8bb2-2e3712e0a152\">GradientBoostingRegressor</label><div class=\"sk-toggleable__content\"><pre>GradientBoostingRegressor()</pre></div></div></div></div></div></div></div>"
      ],
      "text/plain": [
       "Pipeline(steps=[('columntransformer',\n",
       "                 ColumnTransformer(transformers=[('pipeline-1',\n",
       "                                                  Pipeline(steps=[('functiontransformer',\n",
       "                                                                   FunctionTransformer(func=<function convert_to_int at 0x7f9d2f60fd30>)),\n",
       "                                                                  ('robustscaler',\n",
       "                                                                   RobustScaler())]),\n",
       "                                                  ['year', 'duration']),\n",
       "                                                 ('pipeline-2',\n",
       "                                                  Pipeline(steps=[('onehotencoder',\n",
       "                                                                   OneHotEncoder(sparse=False))]),\n",
       "                                                  ['genre']),\n",
       "                                                 ('functiontransf...\n",
       "                                                  FunctionTransformer(func=<function convert_budget_column at 0x7f9d2f60fca0>),\n",
       "                                                  ['budget']),\n",
       "                                                 ('functiontransformer-2',\n",
       "                                                  FunctionTransformer(func=<function add_sin_features at 0x7f9d2f60fb80>),\n",
       "                                                  ['date_published']),\n",
       "                                                 ('functiontransformer-3',\n",
       "                                                  FunctionTransformer(func=<function add_cos_features at 0x7f9d2f60faf0>),\n",
       "                                                  ['date_published'])])),\n",
       "                ('gradientboostingregressor', GradientBoostingRegressor())])"
      ]
     },
     "execution_count": 16,
     "metadata": {},
     "output_type": "execute_result"
    }
   ],
   "source": [
    "# PIPELINE\n",
    "int_transformer = FunctionTransformer(convert_to_int)\n",
    "time_pipeline = make_pipeline(int_transformer, RobustScaler())\n",
    "\n",
    "budget_transformer = FunctionTransformer(convert_budget_column)\n",
    "ohe_transformer = make_pipeline(OneHotEncoder(sparse=False))\n",
    "sin_transformer = FunctionTransformer(add_sin_features)\n",
    "cos_transformer = FunctionTransformer(add_cos_features)\n",
    "# ohe_transformer = FunctionTransformer(OneHotEncoder(sparse=False))\n",
    "\n",
    "preproc_basic = make_column_transformer((time_pipeline, ['year', 'duration']),\n",
    "                                        (ohe_transformer, ['genre']),\n",
    "                                        (budget_transformer, ['budget']),\n",
    "                                        (sin_transformer, ['date_published']),\n",
    "                                       (cos_transformer, ['date_published']))\n",
    "\n",
    "pipeline = make_pipeline(preproc_basic, GradientBoostingRegressor(n_estimators=100, learning_rate=0.1, max_depth=3))\n",
    "pipeline"
   ]
  },
  {
   "cell_type": "code",
   "execution_count": null,
   "id": "5e3d03e6",
   "metadata": {},
   "outputs": [],
   "source": [
    "# FIT & PREDICT\n",
    "def baseline(pipeline, X, y):\n",
    "    \"\"\" Returns a list of 5 r2 scores\"\"\"\n",
    "    r2 = []\n",
    "    tscv = TimeSeriesSplit(n_splits=5)\n",
    "    for train_index, test_index in tscv.split(X):\n",
    "        print(\"TRAIN:\", train_index, \"TEST:\", test_index)\n",
    "        X_train, X_test = X.iloc[train_index], X.iloc[test_index]\n",
    "        y_train, y_test = y.iloc[train_index], y.iloc[test_index]\n",
    "        \n",
    "        pipeline.fit(X_train, y_train)\n",
    "        pipeline.predict(X_test)\n",
    "        r2.append(pipeline.score(X_test, y_test))\n",
    "    return r2"
   ]
  },
  {
   "cell_type": "code",
   "execution_count": null,
   "id": "81701388",
   "metadata": {},
   "outputs": [],
   "source": [
    "baseline(pipeline, X, y)"
   ]
  }
 ],
 "metadata": {
  "kernelspec": {
   "display_name": "Python 3 (ipykernel)",
   "language": "python",
   "name": "python3"
  },
  "language_info": {
   "codemirror_mode": {
    "name": "ipython",
    "version": 3
   },
   "file_extension": ".py",
   "mimetype": "text/x-python",
   "name": "python",
   "nbconvert_exporter": "python",
   "pygments_lexer": "ipython3",
   "version": "3.8.12"
  },
  "toc": {
   "base_numbering": 1,
   "nav_menu": {},
   "number_sections": true,
   "sideBar": true,
   "skip_h1_title": false,
   "title_cell": "Table of Contents",
   "title_sidebar": "Contents",
   "toc_cell": false,
   "toc_position": {},
   "toc_section_display": true,
   "toc_window_display": false
  }
 },
 "nbformat": 4,
 "nbformat_minor": 5
}
