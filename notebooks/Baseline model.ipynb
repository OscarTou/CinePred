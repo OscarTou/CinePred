{
 "cells": [
  {
   "cell_type": "markdown",
   "id": "9e4fbc24",
   "metadata": {},
   "source": [
    "# Baseline model"
   ]
  },
  {
   "cell_type": "markdown",
   "id": "e01c4a17",
   "metadata": {},
   "source": [
    "## Import packages"
   ]
  },
  {
   "cell_type": "code",
   "execution_count": 2,
   "id": "25654bf3",
   "metadata": {
    "ExecuteTime": {
     "end_time": "2021-11-24T14:07:09.652270Z",
     "start_time": "2021-11-24T14:07:09.366685Z"
    }
   },
   "outputs": [
    {
     "data": {
      "text/html": [
       "<div>\n",
       "<style scoped>\n",
       "    .dataframe tbody tr th:only-of-type {\n",
       "        vertical-align: middle;\n",
       "    }\n",
       "\n",
       "    .dataframe tbody tr th {\n",
       "        vertical-align: top;\n",
       "    }\n",
       "\n",
       "    .dataframe thead th {\n",
       "        text-align: right;\n",
       "    }\n",
       "</style>\n",
       "<table border=\"1\" class=\"dataframe\">\n",
       "  <thead>\n",
       "    <tr style=\"text-align: right;\">\n",
       "      <th></th>\n",
       "      <th>Unnamed: 0</th>\n",
       "      <th>0</th>\n",
       "      <th>1</th>\n",
       "      <th>2</th>\n",
       "      <th>3</th>\n",
       "      <th>4</th>\n",
       "      <th>5</th>\n",
       "    </tr>\n",
       "  </thead>\n",
       "  <tbody>\n",
       "    <tr>\n",
       "      <th>0</th>\n",
       "      <td>0</td>\n",
       "      <td>Werner Krauss</td>\n",
       "      <td>Il gabinetto del dottor Caligari</td>\n",
       "      <td>1920</td>\n",
       "      <td>2</td>\n",
       "      <td>18000.0</td>\n",
       "      <td>8811</td>\n",
       "    </tr>\n",
       "    <tr>\n",
       "      <th>1</th>\n",
       "      <td>1</td>\n",
       "      <td>Conrad Veidt</td>\n",
       "      <td>Il gabinetto del dottor Caligari</td>\n",
       "      <td>1920</td>\n",
       "      <td>2</td>\n",
       "      <td>18000.0</td>\n",
       "      <td>8811</td>\n",
       "    </tr>\n",
       "    <tr>\n",
       "      <th>2</th>\n",
       "      <td>2</td>\n",
       "      <td>Conrad Veidt</td>\n",
       "      <td>Casablanca</td>\n",
       "      <td>1942</td>\n",
       "      <td>11</td>\n",
       "      <td>950000.0</td>\n",
       "      <td>4374761</td>\n",
       "    </tr>\n",
       "    <tr>\n",
       "      <th>3</th>\n",
       "      <td>3</td>\n",
       "      <td>Friedrich Feher</td>\n",
       "      <td>Il gabinetto del dottor Caligari</td>\n",
       "      <td>1920</td>\n",
       "      <td>2</td>\n",
       "      <td>18000.0</td>\n",
       "      <td>8811</td>\n",
       "    </tr>\n",
       "    <tr>\n",
       "      <th>4</th>\n",
       "      <td>4</td>\n",
       "      <td>Lil Dagover</td>\n",
       "      <td>Il gabinetto del dottor Caligari</td>\n",
       "      <td>1920</td>\n",
       "      <td>2</td>\n",
       "      <td>18000.0</td>\n",
       "      <td>8811</td>\n",
       "    </tr>\n",
       "    <tr>\n",
       "      <th>...</th>\n",
       "      <td>...</td>\n",
       "      <td>...</td>\n",
       "      <td>...</td>\n",
       "      <td>...</td>\n",
       "      <td>...</td>\n",
       "      <td>...</td>\n",
       "      <td>...</td>\n",
       "    </tr>\n",
       "    <tr>\n",
       "      <th>128789</th>\n",
       "      <td>128789</td>\n",
       "      <td>Penny Johnson Jerald</td>\n",
       "      <td>Il Re Leone</td>\n",
       "      <td>2019</td>\n",
       "      <td>8</td>\n",
       "      <td>260000000.0</td>\n",
       "      <td>1656963790</td>\n",
       "    </tr>\n",
       "    <tr>\n",
       "      <th>128790</th>\n",
       "      <td>128790</td>\n",
       "      <td>Eric André</td>\n",
       "      <td>Il Re Leone</td>\n",
       "      <td>2019</td>\n",
       "      <td>8</td>\n",
       "      <td>260000000.0</td>\n",
       "      <td>1656963790</td>\n",
       "    </tr>\n",
       "    <tr>\n",
       "      <th>128791</th>\n",
       "      <td>128791</td>\n",
       "      <td>Prokhor Chekhovskoy</td>\n",
       "      <td>Fiksiki: Bolshoy sekret</td>\n",
       "      <td>2017</td>\n",
       "      <td>10</td>\n",
       "      <td>6000000.0</td>\n",
       "      <td>7976551</td>\n",
       "    </tr>\n",
       "    <tr>\n",
       "      <th>128792</th>\n",
       "      <td>128792</td>\n",
       "      <td>Jodi Eichelberger</td>\n",
       "      <td>Fiksiki: Bolshoy sekret</td>\n",
       "      <td>2017</td>\n",
       "      <td>10</td>\n",
       "      <td>6000000.0</td>\n",
       "      <td>7976551</td>\n",
       "    </tr>\n",
       "    <tr>\n",
       "      <th>128793</th>\n",
       "      <td>128793</td>\n",
       "      <td>Felix Golovnin</td>\n",
       "      <td>Fiksiki: Bolshoy sekret</td>\n",
       "      <td>2017</td>\n",
       "      <td>10</td>\n",
       "      <td>6000000.0</td>\n",
       "      <td>7976551</td>\n",
       "    </tr>\n",
       "  </tbody>\n",
       "</table>\n",
       "<p>128794 rows × 7 columns</p>\n",
       "</div>"
      ],
      "text/plain": [
       "        Unnamed: 0                     0                                 1  \\\n",
       "0                0         Werner Krauss  Il gabinetto del dottor Caligari   \n",
       "1                1          Conrad Veidt  Il gabinetto del dottor Caligari   \n",
       "2                2          Conrad Veidt                        Casablanca   \n",
       "3                3       Friedrich Feher  Il gabinetto del dottor Caligari   \n",
       "4                4           Lil Dagover  Il gabinetto del dottor Caligari   \n",
       "...            ...                   ...                               ...   \n",
       "128789      128789  Penny Johnson Jerald                       Il Re Leone   \n",
       "128790      128790            Eric André                       Il Re Leone   \n",
       "128791      128791   Prokhor Chekhovskoy           Fiksiki: Bolshoy sekret   \n",
       "128792      128792     Jodi Eichelberger           Fiksiki: Bolshoy sekret   \n",
       "128793      128793        Felix Golovnin           Fiksiki: Bolshoy sekret   \n",
       "\n",
       "           2   3            4           5  \n",
       "0       1920   2      18000.0        8811  \n",
       "1       1920   2      18000.0        8811  \n",
       "2       1942  11     950000.0     4374761  \n",
       "3       1920   2      18000.0        8811  \n",
       "4       1920   2      18000.0        8811  \n",
       "...      ...  ..          ...         ...  \n",
       "128789  2019   8  260000000.0  1656963790  \n",
       "128790  2019   8  260000000.0  1656963790  \n",
       "128791  2017  10    6000000.0     7976551  \n",
       "128792  2017  10    6000000.0     7976551  \n",
       "128793  2017  10    6000000.0     7976551  \n",
       "\n",
       "[128794 rows x 7 columns]"
      ]
     },
     "execution_count": 2,
     "metadata": {},
     "output_type": "execute_result"
    }
   ],
   "source": [
    "pd.read_csv('../raw_data/DF_films_par_acteur.csv')"
   ]
  },
  {
   "cell_type": "code",
   "execution_count": 1,
   "id": "67850e2b",
   "metadata": {
    "ExecuteTime": {
     "end_time": "2021-11-24T14:06:54.943612Z",
     "start_time": "2021-11-24T14:06:49.201392Z"
    }
   },
   "outputs": [],
   "source": [
    "import pandas as pd\n",
    "import matplotlib.pyplot as plt\n",
    "import numpy as np\n",
    "\n",
    "from sklearn.model_selection import cross_validate, train_test_split, TimeSeriesSplit\n",
    "from sklearn.linear_model import LinearRegression, SGDRegressor, Lasso, ElasticNet, Ridge\n",
    "from sklearn.svm import SVR\n",
    "from sklearn.preprocessing import RobustScaler\n",
    "from sklearn.metrics import mean_absolute_error\n",
    "from CinePred.data.utils import one_hot_encode_multiple"
   ]
  },
  {
   "cell_type": "markdown",
   "id": "dda0da25",
   "metadata": {},
   "source": [
    "## X_train, y_train"
   ]
  },
  {
   "cell_type": "code",
   "execution_count": 4,
   "id": "666af444",
   "metadata": {
    "ExecuteTime": {
     "end_time": "2021-11-23T13:59:08.369980Z",
     "start_time": "2021-11-23T13:59:07.867617Z"
    }
   },
   "outputs": [
    {
     "data": {
      "text/html": [
       "<div>\n",
       "<style scoped>\n",
       "    .dataframe tbody tr th:only-of-type {\n",
       "        vertical-align: middle;\n",
       "    }\n",
       "\n",
       "    .dataframe tbody tr th {\n",
       "        vertical-align: top;\n",
       "    }\n",
       "\n",
       "    .dataframe thead th {\n",
       "        text-align: right;\n",
       "    }\n",
       "</style>\n",
       "<table border=\"1\" class=\"dataframe\">\n",
       "  <thead>\n",
       "    <tr style=\"text-align: right;\">\n",
       "      <th></th>\n",
       "      <th>Unnamed: 0</th>\n",
       "      <th>imdb_title_id</th>\n",
       "      <th>title</th>\n",
       "      <th>year</th>\n",
       "      <th>date_published</th>\n",
       "      <th>genre</th>\n",
       "      <th>duration</th>\n",
       "      <th>country</th>\n",
       "      <th>director</th>\n",
       "      <th>writer</th>\n",
       "      <th>production_company</th>\n",
       "      <th>actors</th>\n",
       "      <th>worlwide_gross_income</th>\n",
       "      <th>currency</th>\n",
       "      <th>total_budget</th>\n",
       "    </tr>\n",
       "  </thead>\n",
       "  <tbody>\n",
       "    <tr>\n",
       "      <th>0</th>\n",
       "      <td>0</td>\n",
       "      <td>tt0010323</td>\n",
       "      <td>Il gabinetto del dottor Caligari</td>\n",
       "      <td>1920</td>\n",
       "      <td>1920-02-27</td>\n",
       "      <td>Fantasy, Horror, Mystery</td>\n",
       "      <td>76</td>\n",
       "      <td>Germany</td>\n",
       "      <td>Robert Wiene</td>\n",
       "      <td>Carl Mayer, Hans Janowitz</td>\n",
       "      <td>Decla-Bioscop AG</td>\n",
       "      <td>Werner Krauss, Conrad Veidt, Friedrich Feher, ...</td>\n",
       "      <td>8811</td>\n",
       "      <td>USD</td>\n",
       "      <td>18000</td>\n",
       "    </tr>\n",
       "    <tr>\n",
       "      <th>1</th>\n",
       "      <td>1</td>\n",
       "      <td>tt0011440</td>\n",
       "      <td>Markens grøde</td>\n",
       "      <td>1921</td>\n",
       "      <td>1921-12-02</td>\n",
       "      <td>Drama</td>\n",
       "      <td>107</td>\n",
       "      <td>Norway</td>\n",
       "      <td>Gunnar Sommerfeldt</td>\n",
       "      <td>Knut Hamsun, Gunnar Sommerfeldt</td>\n",
       "      <td>Christiana Film</td>\n",
       "      <td>Amund Rydland, Karen Poulsen, Ragna Wettergree...</td>\n",
       "      <td>4272</td>\n",
       "      <td>NOK</td>\n",
       "      <td>29262</td>\n",
       "    </tr>\n",
       "    <tr>\n",
       "      <th>2</th>\n",
       "      <td>2</td>\n",
       "      <td>tt0012190</td>\n",
       "      <td>I quattro cavalieri dell'Apocalisse</td>\n",
       "      <td>1921</td>\n",
       "      <td>1923-04-16</td>\n",
       "      <td>Drama, Romance, War</td>\n",
       "      <td>150</td>\n",
       "      <td>USA</td>\n",
       "      <td>Rex Ingram</td>\n",
       "      <td>Vicente Blasco Ibáñez, June Mathis</td>\n",
       "      <td>Metro Pictures Corporation</td>\n",
       "      <td>Pomeroy Cannon, Josef Swickard, Bridgetta Clar...</td>\n",
       "      <td>9183673</td>\n",
       "      <td>USD</td>\n",
       "      <td>800000</td>\n",
       "    </tr>\n",
       "    <tr>\n",
       "      <th>3</th>\n",
       "      <td>3</td>\n",
       "      <td>tt0012349</td>\n",
       "      <td>Il monello</td>\n",
       "      <td>1921</td>\n",
       "      <td>1923-11-26</td>\n",
       "      <td>Comedy, Drama, Family</td>\n",
       "      <td>68</td>\n",
       "      <td>USA</td>\n",
       "      <td>Charles Chaplin</td>\n",
       "      <td>Charles Chaplin</td>\n",
       "      <td>Charles Chaplin Productions</td>\n",
       "      <td>Carl Miller, Edna Purviance, Jackie Coogan, Ch...</td>\n",
       "      <td>26916</td>\n",
       "      <td>USD</td>\n",
       "      <td>250000</td>\n",
       "    </tr>\n",
       "    <tr>\n",
       "      <th>4</th>\n",
       "      <td>4</td>\n",
       "      <td>tt0014624</td>\n",
       "      <td>La donna di Parigi</td>\n",
       "      <td>1923</td>\n",
       "      <td>1927-06-06</td>\n",
       "      <td>Drama, Romance</td>\n",
       "      <td>82</td>\n",
       "      <td>USA</td>\n",
       "      <td>Charles Chaplin</td>\n",
       "      <td>Charles Chaplin</td>\n",
       "      <td>Charles Chaplin Productions</td>\n",
       "      <td>Edna Purviance, Clarence Geldart, Carl Miller,...</td>\n",
       "      <td>11233</td>\n",
       "      <td>USD</td>\n",
       "      <td>351000</td>\n",
       "    </tr>\n",
       "    <tr>\n",
       "      <th>...</th>\n",
       "      <td>...</td>\n",
       "      <td>...</td>\n",
       "      <td>...</td>\n",
       "      <td>...</td>\n",
       "      <td>...</td>\n",
       "      <td>...</td>\n",
       "      <td>...</td>\n",
       "      <td>...</td>\n",
       "      <td>...</td>\n",
       "      <td>...</td>\n",
       "      <td>...</td>\n",
       "      <td>...</td>\n",
       "      <td>...</td>\n",
       "      <td>...</td>\n",
       "      <td>...</td>\n",
       "    </tr>\n",
       "    <tr>\n",
       "      <th>12019</th>\n",
       "      <td>12019</td>\n",
       "      <td>tt9877340</td>\n",
       "      <td>Nalpathiyonnu</td>\n",
       "      <td>2019</td>\n",
       "      <td>2019-11-08</td>\n",
       "      <td>Drama, Romance</td>\n",
       "      <td>134</td>\n",
       "      <td>India</td>\n",
       "      <td>Lal Jose</td>\n",
       "      <td>P.G. Prageesh</td>\n",
       "      <td>Signature Studios</td>\n",
       "      <td>Biju Menon, Sharanjith, Nimisha Sajayan, Dhany...</td>\n",
       "      <td>42104</td>\n",
       "      <td>INR</td>\n",
       "      <td>662628</td>\n",
       "    </tr>\n",
       "    <tr>\n",
       "      <th>12020</th>\n",
       "      <td>12020</td>\n",
       "      <td>tt9878242</td>\n",
       "      <td>Subharathri</td>\n",
       "      <td>2019</td>\n",
       "      <td>2019-07-06</td>\n",
       "      <td>Drama, Romance</td>\n",
       "      <td>130</td>\n",
       "      <td>India</td>\n",
       "      <td>Vyasan K.P.</td>\n",
       "      <td>Vyasan K.P., Vyasan K.P.</td>\n",
       "      <td>Abaam Movies</td>\n",
       "      <td>Dileep, Anu Sithara, Siddique, Suraj Venjaramo...</td>\n",
       "      <td>105932</td>\n",
       "      <td>INR</td>\n",
       "      <td>397577</td>\n",
       "    </tr>\n",
       "    <tr>\n",
       "      <th>12021</th>\n",
       "      <td>12021</td>\n",
       "      <td>tt9886872</td>\n",
       "      <td>Munthiri Monchan</td>\n",
       "      <td>2019</td>\n",
       "      <td>2019-12-06</td>\n",
       "      <td>Comedy, Romance</td>\n",
       "      <td>130</td>\n",
       "      <td>India</td>\n",
       "      <td>Vijith Nambiar</td>\n",
       "      <td>Manu Gopal, Meharali Poilungal Ismail</td>\n",
       "      <td>Vishvas Movies</td>\n",
       "      <td>Manesh Krishnan, Gopika Anil, Salim Kumar, Dev...</td>\n",
       "      <td>2568</td>\n",
       "      <td>INR</td>\n",
       "      <td>397577</td>\n",
       "    </tr>\n",
       "    <tr>\n",
       "      <th>12022</th>\n",
       "      <td>12022</td>\n",
       "      <td>tt9900782</td>\n",
       "      <td>Kaithi</td>\n",
       "      <td>2019</td>\n",
       "      <td>2019-10-25</td>\n",
       "      <td>Action, Thriller</td>\n",
       "      <td>145</td>\n",
       "      <td>India</td>\n",
       "      <td>Lokesh Kanagaraj</td>\n",
       "      <td>Lokesh Kanagaraj, Pon Parthiban</td>\n",
       "      <td>Dream Warrior Pictures</td>\n",
       "      <td>Karthi, Narain, Ramana, George Maryan, Harish ...</td>\n",
       "      <td>524061</td>\n",
       "      <td>INR</td>\n",
       "      <td>3180616</td>\n",
       "    </tr>\n",
       "    <tr>\n",
       "      <th>12023</th>\n",
       "      <td>12023</td>\n",
       "      <td>tt9905412</td>\n",
       "      <td>Ottam</td>\n",
       "      <td>2019</td>\n",
       "      <td>2019-03-08</td>\n",
       "      <td>Drama</td>\n",
       "      <td>120</td>\n",
       "      <td>India</td>\n",
       "      <td>Zam</td>\n",
       "      <td>Rajesh k Narayan</td>\n",
       "      <td>Thomas Thiruvalla Films</td>\n",
       "      <td>Nandu Anand, Roshan Ullas, Manikandan R. Achar...</td>\n",
       "      <td>4791</td>\n",
       "      <td>INR</td>\n",
       "      <td>53010</td>\n",
       "    </tr>\n",
       "  </tbody>\n",
       "</table>\n",
       "<p>12024 rows × 15 columns</p>\n",
       "</div>"
      ],
      "text/plain": [
       "       Unnamed: 0 imdb_title_id                                title  year  \\\n",
       "0               0     tt0010323     Il gabinetto del dottor Caligari  1920   \n",
       "1               1     tt0011440                        Markens grøde  1921   \n",
       "2               2     tt0012190  I quattro cavalieri dell'Apocalisse  1921   \n",
       "3               3     tt0012349                           Il monello  1921   \n",
       "4               4     tt0014624                   La donna di Parigi  1923   \n",
       "...           ...           ...                                  ...   ...   \n",
       "12019       12019     tt9877340                        Nalpathiyonnu  2019   \n",
       "12020       12020     tt9878242                          Subharathri  2019   \n",
       "12021       12021     tt9886872                     Munthiri Monchan  2019   \n",
       "12022       12022     tt9900782                               Kaithi  2019   \n",
       "12023       12023     tt9905412                                Ottam  2019   \n",
       "\n",
       "      date_published                     genre  duration  country  \\\n",
       "0         1920-02-27  Fantasy, Horror, Mystery        76  Germany   \n",
       "1         1921-12-02                     Drama       107   Norway   \n",
       "2         1923-04-16       Drama, Romance, War       150      USA   \n",
       "3         1923-11-26     Comedy, Drama, Family        68      USA   \n",
       "4         1927-06-06            Drama, Romance        82      USA   \n",
       "...              ...                       ...       ...      ...   \n",
       "12019     2019-11-08            Drama, Romance       134    India   \n",
       "12020     2019-07-06            Drama, Romance       130    India   \n",
       "12021     2019-12-06           Comedy, Romance       130    India   \n",
       "12022     2019-10-25          Action, Thriller       145    India   \n",
       "12023     2019-03-08                     Drama       120    India   \n",
       "\n",
       "                 director                                 writer  \\\n",
       "0            Robert Wiene              Carl Mayer, Hans Janowitz   \n",
       "1      Gunnar Sommerfeldt        Knut Hamsun, Gunnar Sommerfeldt   \n",
       "2              Rex Ingram     Vicente Blasco Ibáñez, June Mathis   \n",
       "3         Charles Chaplin                        Charles Chaplin   \n",
       "4         Charles Chaplin                        Charles Chaplin   \n",
       "...                   ...                                    ...   \n",
       "12019            Lal Jose                          P.G. Prageesh   \n",
       "12020         Vyasan K.P.               Vyasan K.P., Vyasan K.P.   \n",
       "12021      Vijith Nambiar  Manu Gopal, Meharali Poilungal Ismail   \n",
       "12022    Lokesh Kanagaraj        Lokesh Kanagaraj, Pon Parthiban   \n",
       "12023                 Zam                       Rajesh k Narayan   \n",
       "\n",
       "                production_company  \\\n",
       "0                 Decla-Bioscop AG   \n",
       "1                  Christiana Film   \n",
       "2       Metro Pictures Corporation   \n",
       "3      Charles Chaplin Productions   \n",
       "4      Charles Chaplin Productions   \n",
       "...                            ...   \n",
       "12019            Signature Studios   \n",
       "12020                 Abaam Movies   \n",
       "12021               Vishvas Movies   \n",
       "12022       Dream Warrior Pictures   \n",
       "12023      Thomas Thiruvalla Films   \n",
       "\n",
       "                                                  actors  \\\n",
       "0      Werner Krauss, Conrad Veidt, Friedrich Feher, ...   \n",
       "1      Amund Rydland, Karen Poulsen, Ragna Wettergree...   \n",
       "2      Pomeroy Cannon, Josef Swickard, Bridgetta Clar...   \n",
       "3      Carl Miller, Edna Purviance, Jackie Coogan, Ch...   \n",
       "4      Edna Purviance, Clarence Geldart, Carl Miller,...   \n",
       "...                                                  ...   \n",
       "12019  Biju Menon, Sharanjith, Nimisha Sajayan, Dhany...   \n",
       "12020  Dileep, Anu Sithara, Siddique, Suraj Venjaramo...   \n",
       "12021  Manesh Krishnan, Gopika Anil, Salim Kumar, Dev...   \n",
       "12022  Karthi, Narain, Ramana, George Maryan, Harish ...   \n",
       "12023  Nandu Anand, Roshan Ullas, Manikandan R. Achar...   \n",
       "\n",
       "       worlwide_gross_income currency  total_budget  \n",
       "0                       8811      USD         18000  \n",
       "1                       4272      NOK         29262  \n",
       "2                    9183673      USD        800000  \n",
       "3                      26916      USD        250000  \n",
       "4                      11233      USD        351000  \n",
       "...                      ...      ...           ...  \n",
       "12019                  42104      INR        662628  \n",
       "12020                 105932      INR        397577  \n",
       "12021                   2568      INR        397577  \n",
       "12022                 524061      INR       3180616  \n",
       "12023                   4791      INR         53010  \n",
       "\n",
       "[12024 rows x 15 columns]"
      ]
     },
     "execution_count": 4,
     "metadata": {},
     "output_type": "execute_result"
    }
   ],
   "source": [
    "data = pd.read_csv('../raw_data/preproc.csv')\n",
    "data"
   ]
  },
  {
   "cell_type": "code",
   "execution_count": 5,
   "id": "75157013",
   "metadata": {
    "ExecuteTime": {
     "end_time": "2021-11-23T13:59:08.392209Z",
     "start_time": "2021-11-23T13:59:08.387751Z"
    }
   },
   "outputs": [
    {
     "data": {
      "text/plain": [
       "Index(['Unnamed: 0', 'imdb_title_id', 'title', 'year', 'date_published',\n",
       "       'genre', 'duration', 'country', 'director', 'writer',\n",
       "       'production_company', 'actors', 'worlwide_gross_income', 'currency',\n",
       "       'total_budget'],\n",
       "      dtype='object')"
      ]
     },
     "execution_count": 5,
     "metadata": {},
     "output_type": "execute_result"
    }
   ],
   "source": [
    "data.columns"
   ]
  },
  {
   "cell_type": "code",
   "execution_count": null,
   "id": "1b951361",
   "metadata": {},
   "outputs": [],
   "source": []
  },
  {
   "cell_type": "code",
   "execution_count": 20,
   "id": "4da78d77",
   "metadata": {
    "ExecuteTime": {
     "end_time": "2021-11-23T14:36:12.843802Z",
     "start_time": "2021-11-23T14:36:12.813237Z"
    }
   },
   "outputs": [],
   "source": [
    "X = data[['year','duration','total_budget',\"genre\"]]\n",
    "y = data['worlwide_gross_income']"
   ]
  },
  {
   "cell_type": "code",
   "execution_count": 21,
   "id": "a331a76e",
   "metadata": {
    "ExecuteTime": {
     "end_time": "2021-11-23T14:36:38.873547Z",
     "start_time": "2021-11-23T14:36:13.099718Z"
    }
   },
   "outputs": [],
   "source": [
    "X = one_hot_encode_multiple(X,\"genre\")"
   ]
  },
  {
   "cell_type": "code",
   "execution_count": 22,
   "id": "26afdb3b",
   "metadata": {
    "ExecuteTime": {
     "end_time": "2021-11-23T14:36:41.245431Z",
     "start_time": "2021-11-23T14:36:41.218231Z"
    }
   },
   "outputs": [
    {
     "data": {
      "text/plain": [
       "(12024, 25)"
      ]
     },
     "execution_count": 22,
     "metadata": {},
     "output_type": "execute_result"
    }
   ],
   "source": [
    "X.shape"
   ]
  },
  {
   "cell_type": "code",
   "execution_count": 15,
   "id": "82b4cc16",
   "metadata": {
    "ExecuteTime": {
     "end_time": "2021-11-23T14:16:40.288584Z",
     "start_time": "2021-11-23T14:16:39.938713Z"
    }
   },
   "outputs": [
    {
     "data": {
      "text/plain": [
       "(array([  17.,   48.,  263.,  815., 1289., 1896., 2457., 3046., 1912.,\n",
       "         281.]),\n",
       " array([ 2.77258872,  4.67053979,  6.56849086,  8.46644194, 10.36439301,\n",
       "        12.26234408, 14.16029515, 16.05824622, 17.95619729, 19.85414836,\n",
       "        21.75209943]),\n",
       " <BarContainer object of 10 artists>)"
      ]
     },
     "execution_count": 15,
     "metadata": {},
     "output_type": "execute_result"
    },
    {
     "data": {
      "image/png": "[encoded data removed]",
      "text/plain": [
       "<Figure size 432x288 with 1 Axes>"
      ]
     },
     "metadata": {
      "needs_background": "light"
     },
     "output_type": "display_data"
    }
   ],
   "source": [
    "plt.hist(np.log(y))"
   ]
  },
  {
   "cell_type": "code",
   "execution_count": 16,
   "id": "03f02bd4",
   "metadata": {
    "ExecuteTime": {
     "end_time": "2021-11-23T14:24:28.043536Z",
     "start_time": "2021-11-23T14:24:27.753715Z"
    }
   },
   "outputs": [],
   "source": [
    "df1 = pd.read_csv(\"../raw_data/first_15k_movies.csv\")"
   ]
  },
  {
   "cell_type": "code",
   "execution_count": 9,
   "id": "68a2a181",
   "metadata": {
    "ExecuteTime": {
     "end_time": "2021-11-23T13:59:16.021027Z",
     "start_time": "2021-11-23T13:59:16.017509Z"
    }
   },
   "outputs": [],
   "source": [
    "tscv = TimeSeriesSplit()"
   ]
  },
  {
   "cell_type": "code",
   "execution_count": 18,
   "id": "67495639",
   "metadata": {
    "ExecuteTime": {
     "end_time": "2021-11-23T14:24:51.700717Z",
     "start_time": "2021-11-23T14:24:51.678760Z"
    }
   },
   "outputs": [
    {
     "data": {
      "text/html": [
       "<div>\n",
       "<style scoped>\n",
       "    .dataframe tbody tr th:only-of-type {\n",
       "        vertical-align: middle;\n",
       "    }\n",
       "\n",
       "    .dataframe tbody tr th {\n",
       "        vertical-align: top;\n",
       "    }\n",
       "\n",
       "    .dataframe thead th {\n",
       "        text-align: right;\n",
       "    }\n",
       "</style>\n",
       "<table border=\"1\" class=\"dataframe\">\n",
       "  <thead>\n",
       "    <tr style=\"text-align: right;\">\n",
       "      <th></th>\n",
       "      <th>budget</th>\n",
       "      <th>revenue</th>\n",
       "    </tr>\n",
       "  </thead>\n",
       "  <tbody>\n",
       "    <tr>\n",
       "      <th>0</th>\n",
       "      <td>0</td>\n",
       "      <td>0</td>\n",
       "    </tr>\n",
       "    <tr>\n",
       "      <th>1</th>\n",
       "      <td>0</td>\n",
       "      <td>0</td>\n",
       "    </tr>\n",
       "    <tr>\n",
       "      <th>2</th>\n",
       "      <td>4000000</td>\n",
       "      <td>4257354</td>\n",
       "    </tr>\n",
       "    <tr>\n",
       "      <th>3</th>\n",
       "      <td>21000000</td>\n",
       "      <td>12136938</td>\n",
       "    </tr>\n",
       "    <tr>\n",
       "      <th>4</th>\n",
       "      <td>42000</td>\n",
       "      <td>0</td>\n",
       "    </tr>\n",
       "    <tr>\n",
       "      <th>...</th>\n",
       "      <td>...</td>\n",
       "      <td>...</td>\n",
       "    </tr>\n",
       "    <tr>\n",
       "      <th>9605</th>\n",
       "      <td>0</td>\n",
       "      <td>728903</td>\n",
       "    </tr>\n",
       "    <tr>\n",
       "      <th>9606</th>\n",
       "      <td>0</td>\n",
       "      <td>0</td>\n",
       "    </tr>\n",
       "    <tr>\n",
       "      <th>9607</th>\n",
       "      <td>1000000</td>\n",
       "      <td>0</td>\n",
       "    </tr>\n",
       "    <tr>\n",
       "      <th>9608</th>\n",
       "      <td>1500000</td>\n",
       "      <td>0</td>\n",
       "    </tr>\n",
       "    <tr>\n",
       "      <th>9609</th>\n",
       "      <td>0</td>\n",
       "      <td>0</td>\n",
       "    </tr>\n",
       "  </tbody>\n",
       "</table>\n",
       "<p>9610 rows × 2 columns</p>\n",
       "</div>"
      ],
      "text/plain": [
       "        budget   revenue\n",
       "0            0         0\n",
       "1            0         0\n",
       "2      4000000   4257354\n",
       "3     21000000  12136938\n",
       "4        42000         0\n",
       "...        ...       ...\n",
       "9605         0    728903\n",
       "9606         0         0\n",
       "9607   1000000         0\n",
       "9608   1500000         0\n",
       "9609         0         0\n",
       "\n",
       "[9610 rows x 2 columns]"
      ]
     },
     "execution_count": 18,
     "metadata": {},
     "output_type": "execute_result"
    }
   ],
   "source": [
    "df1[['budget','revenue']]"
   ]
  },
  {
   "cell_type": "code",
   "execution_count": 10,
   "id": "a0506323",
   "metadata": {
    "ExecuteTime": {
     "end_time": "2021-11-23T13:59:16.045091Z",
     "start_time": "2021-11-23T13:59:16.041350Z"
    }
   },
   "outputs": [],
   "source": [
    "liste_model = [LinearRegression(),SGDRegressor(),SVR(),Lasso(),ElasticNet(),Ridge()]"
   ]
  },
  {
   "cell_type": "code",
   "execution_count": 11,
   "id": "61558ec5",
   "metadata": {
    "ExecuteTime": {
     "end_time": "2021-11-23T13:59:32.275143Z",
     "start_time": "2021-11-23T13:59:16.070132Z"
    },
    "scrolled": true
   },
   "outputs": [
    {
     "name": "stdout",
     "output_type": "stream",
     "text": [
      "Model LinearRegression() 37697614.29223293\n",
      "Model SGDRegressor() 1.638815818533528e+22\n",
      "Model SVR() 46499356.2900828\n",
      "Model Lasso() 37697609.16395375\n",
      "Model ElasticNet() 36158146.18013285\n",
      "Model Ridge() 37689796.00443379\n"
     ]
    },
    {
     "name": "stderr",
     "output_type": "stream",
     "text": [
      "/home/oscartouze/.pyenv/versions/3.8.12/envs/cinepred/lib/python3.8/site-packages/sklearn/linear_model/_ridge.py:156: LinAlgWarning: Ill-conditioned matrix (rcond=6.29878e-18): result may not be accurate.\n",
      "  return linalg.solve(A, Xy, sym_pos=True, overwrite_a=True).T\n",
      "/home/oscartouze/.pyenv/versions/3.8.12/envs/cinepred/lib/python3.8/site-packages/sklearn/linear_model/_ridge.py:156: LinAlgWarning: Ill-conditioned matrix (rcond=8.2215e-19): result may not be accurate.\n",
      "  return linalg.solve(A, Xy, sym_pos=True, overwrite_a=True).T\n",
      "/home/oscartouze/.pyenv/versions/3.8.12/envs/cinepred/lib/python3.8/site-packages/sklearn/linear_model/_ridge.py:156: LinAlgWarning: Ill-conditioned matrix (rcond=3.79934e-19): result may not be accurate.\n",
      "  return linalg.solve(A, Xy, sym_pos=True, overwrite_a=True).T\n",
      "/home/oscartouze/.pyenv/versions/3.8.12/envs/cinepred/lib/python3.8/site-packages/sklearn/linear_model/_ridge.py:156: LinAlgWarning: Ill-conditioned matrix (rcond=2.47184e-19): result may not be accurate.\n",
      "  return linalg.solve(A, Xy, sym_pos=True, overwrite_a=True).T\n",
      "/home/oscartouze/.pyenv/versions/3.8.12/envs/cinepred/lib/python3.8/site-packages/sklearn/linear_model/_ridge.py:156: LinAlgWarning: Ill-conditioned matrix (rcond=1.8828e-19): result may not be accurate.\n",
      "  return linalg.solve(A, Xy, sym_pos=True, overwrite_a=True).T\n"
     ]
    }
   ],
   "source": [
    "for mod in range(len(liste_model)) : \n",
    "    for train_index, test_index in tscv.split(X):\n",
    "        X_train, X_test = X.iloc[train_index], X.iloc[test_index]\n",
    "        y_train, y_test = y.iloc[train_index], y.iloc[test_index]\n",
    "        model = liste_model[mod]\n",
    "        model.fit(X_train,y_train)\n",
    "        y_pred = model.predict(X_test)\n",
    "    print(f\"Model {liste_model[mod]}\",mean_absolute_error(y_test,y_pred))"
   ]
  },
  {
   "cell_type": "code",
   "execution_count": null,
   "id": "0dd31d93",
   "metadata": {},
   "outputs": [],
   "source": []
  }
 ],
 "metadata": {
  "kernelspec": {
   "display_name": "Python 3 (ipykernel)",
   "language": "python",
   "name": "python3"
  },
  "language_info": {
   "codemirror_mode": {
    "name": "ipython",
    "version": 3
   },
   "file_extension": ".py",
   "mimetype": "text/x-python",
   "name": "python",
   "nbconvert_exporter": "python",
   "pygments_lexer": "ipython3",
   "version": "3.8.12"
  },
  "toc": {
   "base_numbering": 1,
   "nav_menu": {},
   "number_sections": true,
   "sideBar": true,
   "skip_h1_title": false,
   "title_cell": "Table of Contents",
   "title_sidebar": "Contents",
   "toc_cell": false,
   "toc_position": {},
   "toc_section_display": true,
   "toc_window_display": false
  },
  "varInspector": {
   "cols": {
    "lenName": 16,
    "lenType": 16,
    "lenVar": 40
   },
   "kernels_config": {
    "python": {
     "delete_cmd_postfix": "",
     "delete_cmd_prefix": "del ",
     "library": "var_list.py",
     "varRefreshCmd": "print(var_dic_list())"
    },
    "r": {
     "delete_cmd_postfix": ") ",
     "delete_cmd_prefix": "rm(",
     "library": "var_list.r",
     "varRefreshCmd": "cat(var_dic_list()) "
    }
   },
   "types_to_exclude": [
    "module",
    "function",
    "builtin_function_or_method",
    "instance",
    "_Feature"
   ],
   "window_display": false
  }
 },
 "nbformat": 4,
 "nbformat_minor": 5
}
